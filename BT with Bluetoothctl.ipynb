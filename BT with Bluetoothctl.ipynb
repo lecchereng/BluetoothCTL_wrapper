{
 "cells": [
  {
   "cell_type": "markdown",
   "id": "83826961-8696-402e-a224-91af473380a1",
   "metadata": {},
   "source": [
    "# Bluetooth with Bluetoothctl\n",
    "This wrapper is inspired by wrapper I saw based on ReachView from Egor Fedorov (egor.fedorov@emlid.com).\n",
    "I focused this version on functionality analysing the outuput of any commands: for each command sends, the output that came out is parsed to understand what happened.\n",
    "This work is inspired by \n",
    "- https://gist.github.com/egorf/66d88056a9d703928f93\n",
    "- https://gist.github.com/dmeulen/02591532170ce3b5734946452cea38a1\n",
    "- https://forums.raspberrypi.com/viewtopic.php?t=170680"
   ]
  },
  {
   "cell_type": "markdown",
   "id": "62984d5a-c62e-4e03-948b-7101be6c9ba0",
   "metadata": {},
   "source": [
    "## Environment"
   ]
  },
  {
   "cell_type": "code",
   "execution_count": 5,
   "id": "c7ef4803-7984-4576-91f3-3c7d06e0247a",
   "metadata": {},
   "outputs": [
    {
     "name": "stdout",
     "output_type": "stream",
     "text": [
      "Python 3.12.3\n"
     ]
    }
   ],
   "source": [
    "!python --version"
   ]
  },
  {
   "cell_type": "code",
   "execution_count": 6,
   "id": "03653cec-826a-47d4-b0be-b9db72cfe03e",
   "metadata": {},
   "outputs": [
    {
     "name": "stdout",
     "output_type": "stream",
     "text": [
      "bluetoothctl: 5.72\n"
     ]
    }
   ],
   "source": [
    "!bluetoothctl --version"
   ]
  },
  {
   "cell_type": "code",
   "execution_count": 10,
   "id": "d4685b17-612e-4416-ab27-573d6345648d",
   "metadata": {},
   "outputs": [
    {
     "name": "stdout",
     "output_type": "stream",
     "text": [
      "4.2.5\n"
     ]
    }
   ],
   "source": [
    "!jupyter lab --version"
   ]
  },
  {
   "cell_type": "code",
   "execution_count": 11,
   "id": "16aa5490-d0d4-40e7-b368-e5d0018f7f7f",
   "metadata": {},
   "outputs": [
    {
     "name": "stdout",
     "output_type": "stream",
     "text": [
      "7.2.2\n"
     ]
    }
   ],
   "source": [
    "!jupyter notebook --version"
   ]
  },
  {
   "cell_type": "markdown",
   "id": "d404c9da-51d7-4062-b49b-7020503dbeda",
   "metadata": {},
   "source": [
    "Installing rich package for embellish my log"
   ]
  },
  {
   "cell_type": "code",
   "execution_count": 1,
   "id": "a68f5fdf-0130-4ffc-91a7-abfca9bfd384",
   "metadata": {},
   "outputs": [
    {
     "name": "stdout",
     "output_type": "stream",
     "text": [
      "Collecting rich\n",
      "  Downloading rich-13.8.1-py3-none-any.whl.metadata (18 kB)\n",
      "Collecting markdown-it-py>=2.2.0 (from rich)\n",
      "  Downloading markdown_it_py-3.0.0-py3-none-any.whl.metadata (6.9 kB)\n",
      "Requirement already satisfied: pygments<3.0.0,>=2.13.0 in ./.jupytervenv/lib/python3.12/site-packages (from rich) (2.18.0)\n",
      "Collecting mdurl~=0.1 (from markdown-it-py>=2.2.0->rich)\n",
      "  Downloading mdurl-0.1.2-py3-none-any.whl.metadata (1.6 kB)\n",
      "Downloading rich-13.8.1-py3-none-any.whl (241 kB)\n",
      "\u001b[2K   \u001b[38;2;114;156;31m━━━━━━━━━━━━━━━━━━━━━━━━━━━━━━━━━━━━━━━━\u001b[0m \u001b[32m241.6/241.6 kB\u001b[0m \u001b[31m1.2 MB/s\u001b[0m eta \u001b[36m0:00:00\u001b[0m[31m1.2 MB/s\u001b[0m eta \u001b[36m0:00:01\u001b[0mm\n",
      "\u001b[?25hDownloading markdown_it_py-3.0.0-py3-none-any.whl (87 kB)\n",
      "\u001b[2K   \u001b[38;2;114;156;31m━━━━━━━━━━━━━━━━━━━━━━━━━━━━━━━━━━━━━━━━\u001b[0m \u001b[32m87.5/87.5 kB\u001b[0m \u001b[31m4.1 MB/s\u001b[0m eta \u001b[36m0:00:00\u001b[0m\n",
      "\u001b[?25hDownloading mdurl-0.1.2-py3-none-any.whl (10.0 kB)\n",
      "Installing collected packages: mdurl, markdown-it-py, rich\n",
      "Successfully installed markdown-it-py-3.0.0 mdurl-0.1.2 rich-13.8.1\n"
     ]
    }
   ],
   "source": [
    "!pip install rich"
   ]
  },
  {
   "cell_type": "markdown",
   "id": "13dd4e6d-8f88-4ed4-857f-ffeb1dfd56d2",
   "metadata": {},
   "source": [
    "## My making off\n",
    "Remember that I don't want to care about frivolities such as unicode interpretation of colours in bluettothctl console. I just want my code is efficient and manageing buetoothctl in what I need and most common feature used.\n",
    "Here the base class I use to understand how to work. "
   ]
  },
  {
   "cell_type": "code",
   "execution_count": 62,
   "id": "a83eccd3-1740-434a-a323-b757fbfd6818",
   "metadata": {},
   "outputs": [],
   "source": [
    "# Based on ReachView code from Egor Fedorov (egor.fedorov@emlid.com)\n",
    "# Developed and tested with Python 3.12.3 and brluetoothctl versin 5.72\n",
    "import time\n",
    "import pexpect\n",
    "import subprocess\n",
    "import sys\n",
    "import re\n",
    "import logging\n",
    "# Needed to see log in notebook\n",
    "from logging import StreamHandler\n",
    "from rich.logging import RichHandler\n",
    "\n",
    "logging.basicConfig(level=logging.DEBUG, handlers=[RichHandler()],format='%(asctime)s - %(levelname)s - %(message)s')\n",
    "handler = StreamHandler()\n",
    "formatter = logging.Formatter('%(asctime)s - %(levelname)s - %(message)s')\n",
    "handler.setFormatter(formatter)\n",
    "logger = logging.getLogger(\"Bluetoothctl\")\n",
    "logger.addHandler(handler)\n",
    "\n",
    "class Bluetoothctl:\n",
    "    \"\"\"A wrapper for bluetoothctl utility.\"\"\"\n",
    "\n",
    "    def __init__(self):\n",
    "        self.output=[]\n",
    "        subprocess.check_output(\"rfkill unblock bluetooth\", shell=True)\n",
    "        self.process = pexpect.spawnu(\"bluetoothctl\", echo=False)\n",
    "        logging.debug(\"Process created\")\n",
    "        #self.output.append(self.process.read())\n",
    "        \n",
    "            \n",
    "    def send(self, command, expected=[], pause=2):\n",
    "        self.process.send(f\"{command}\\n\")\n",
    "        time.sleep(pause)\n",
    "        # Default expected in output\n",
    "        if \"#\" not in expected:\n",
    "            expected.append(\"#\")\n",
    "        if pexpect.EOF not in expected:\n",
    "            expected.append(pexpect.EOF)\n",
    "        logging.info(f\"Sending command [{command}] with expected=[{expected}] and pause=[{pause}]\")\n",
    "        if self.process.expect(expected):\n",
    "            logging.debug(f\"Failed after {command}\")\n",
    "            raise Exception(f\"failed after {command}\")\n",
    "        else:\n",
    "            out=self.process.before\n",
    "            logging.debug(f\"Adding to output:[{out}]\")\n",
    "            self.output.append(self.process.before)\n",
    "            \n",
    "    def get_output(self, *args, **kwargs):\n",
    "        \"\"\"Run a command in bluetoothctl prompt, return output as a list of lines.\"\"\"\n",
    "        try:\n",
    "            self.send(*args, **kwargs)\n",
    "        except Exception as e:\n",
    "            raise e   \n",
    "        return self.read_last_output()\n",
    "\n",
    "    def read_last_output(self):\n",
    "        return self.output[-1]\n",
    "\n",
    "    def read_full_output(self):\n",
    "        return self.output"
   ]
  },
  {
   "cell_type": "markdown",
   "id": "478dd657-9905-477f-8466-c79d793bccb3",
   "metadata": {},
   "source": [
    "Here a function to see output as raw unicode string "
   ]
  },
  {
   "cell_type": "code",
   "execution_count": 13,
   "id": "89da734c-e210-419e-a52d-45cb3e36fb8b",
   "metadata": {},
   "outputs": [],
   "source": [
    "def printunicode(str):\n",
    "    print(\"---RAW-UNICODE-RESULT-----------------------------------\")\n",
    "    print(res.encode(\"raw_unicode_escape\"))"
   ]
  },
  {
   "cell_type": "markdown",
   "id": "34545ce4-4987-4200-9178-9f2af8fe5d08",
   "metadata": {},
   "source": [
    "Going on initializing the wrapper"
   ]
  },
  {
   "cell_type": "code",
   "execution_count": 63,
   "id": "d0dab54f-0129-4c3f-9d71-d1f0170bfa16",
   "metadata": {},
   "outputs": [
    {
     "data": {
      "text/html": [
       "<pre style=\"white-space:pre;overflow-x:auto;line-height:normal;font-family:Menlo,'DejaVu Sans Mono',consolas,'Courier New',monospace\"><span style=\"color: #7fbfbf; text-decoration-color: #7fbfbf\">[09/29/24 17:01:46] </span><span style=\"color: #008000; text-decoration-color: #008000\">DEBUG   </span> <span style=\"color: #008080; text-decoration-color: #008080; font-weight: bold\">2024</span>-<span style=\"color: #008080; text-decoration-color: #008080; font-weight: bold\">09</span>-<span style=\"color: #008080; text-decoration-color: #008080; font-weight: bold\">29</span> <span style=\"color: #00ff00; text-decoration-color: #00ff00; font-weight: bold\">17:01:46</span>,<span style=\"color: #008080; text-decoration-color: #008080; font-weight: bold\">437</span> - DEBUG - Process created                     <a href=\"file:///tmp/ipykernel_16595/4091806857.py\" target=\"_blank\"><span style=\"color: #7f7f7f; text-decoration-color: #7f7f7f\">4091806857.py</span></a><span style=\"color: #7f7f7f; text-decoration-color: #7f7f7f\">:</span><a href=\"file:///tmp/ipykernel_16595/4091806857.py#27\" target=\"_blank\"><span style=\"color: #7f7f7f; text-decoration-color: #7f7f7f\">27</span></a>\n",
       "</pre>\n"
      ],
      "text/plain": [
       "\u001b[2;36m[09/29/24 17:01:46]\u001b[0m\u001b[2;36m \u001b[0m\u001b[32mDEBUG   \u001b[0m \u001b[1;36m2024\u001b[0m-\u001b[1;36m09\u001b[0m-\u001b[1;36m29\u001b[0m \u001b[1;92m17:01:46\u001b[0m,\u001b[1;36m437\u001b[0m - DEBUG - Process created                     \u001b]8;id=239426;file:///tmp/ipykernel_16595/4091806857.py\u001b\\\u001b[2m4091806857.py\u001b[0m\u001b]8;;\u001b\\\u001b[2m:\u001b[0m\u001b]8;id=931576;file:///tmp/ipykernel_16595/4091806857.py#27\u001b\\\u001b[2m27\u001b[0m\u001b]8;;\u001b\\\n"
      ]
     },
     "metadata": {},
     "output_type": "display_data"
    }
   ],
   "source": [
    "btctl=Bluetoothctl()"
   ]
  },
  {
   "cell_type": "markdown",
   "id": "825cb130-161c-4cf9-8a24-790dd77ad17c",
   "metadata": {},
   "source": [
    "Let's try with help command, first you'll see how debug print output..."
   ]
  },
  {
   "cell_type": "code",
   "execution_count": 22,
   "id": "5a0c64a5-7ffd-4e0d-89f0-717843c3dcaf",
   "metadata": {},
   "outputs": [
    {
     "data": {
      "text/html": [
       "<pre style=\"white-space:pre;overflow-x:auto;line-height:normal;font-family:Menlo,'DejaVu Sans Mono',consolas,'Courier New',monospace\"><span style=\"color: #7fbfbf; text-decoration-color: #7fbfbf\">[09/29/24 15:58:18] </span><span style=\"color: #000080; text-decoration-color: #000080\">INFO    </span> <span style=\"color: #008080; text-decoration-color: #008080; font-weight: bold\">2024</span>-<span style=\"color: #008080; text-decoration-color: #008080; font-weight: bold\">09</span>-<span style=\"color: #008080; text-decoration-color: #008080; font-weight: bold\">29</span> <span style=\"color: #00ff00; text-decoration-color: #00ff00; font-weight: bold\">15:58:18</span>,<span style=\"color: #008080; text-decoration-color: #008080; font-weight: bold\">457</span> - INFO - Sending command <span style=\"font-weight: bold\">[</span>help<span style=\"font-weight: bold\">]</span> with           <a href=\"file:///tmp/ipykernel_16595/508631921.py\" target=\"_blank\"><span style=\"color: #7f7f7f; text-decoration-color: #7f7f7f\">508631921.py</span></a><span style=\"color: #7f7f7f; text-decoration-color: #7f7f7f\">:</span><a href=\"file:///tmp/ipykernel_16595/508631921.py#37\" target=\"_blank\"><span style=\"color: #7f7f7f; text-decoration-color: #7f7f7f\">37</span></a>\n",
       "<span style=\"color: #7fbfbf; text-decoration-color: #7fbfbf\">                    </span>         <span style=\"color: #808000; text-decoration-color: #808000\">expected</span>=<span style=\"font-weight: bold\">[[</span><span style=\"color: #008000; text-decoration-color: #008000\">'#'</span>, <span style=\"font-weight: bold\">&lt;</span><span style=\"color: #ff00ff; text-decoration-color: #ff00ff; font-weight: bold\">class</span><span style=\"color: #000000; text-decoration-color: #000000\"> </span><span style=\"color: #008000; text-decoration-color: #008000\">'pexpect.exceptions.EOF'</span><span style=\"color: #000000; text-decoration-color: #000000\">&gt;, </span><span style=\"color: #008000; text-decoration-color: #008000\">'#'</span><span style=\"color: #000000; text-decoration-color: #000000\">, &lt;class </span>         <span style=\"color: #7f7f7f; text-decoration-color: #7f7f7f\">               </span>\n",
       "<span style=\"color: #7fbfbf; text-decoration-color: #7fbfbf\">                    </span>         <span style=\"color: #008000; text-decoration-color: #008000\">'pexpect.exceptions.EOF'</span><span style=\"color: #000000; text-decoration-color: #000000\">&gt;, </span><span style=\"color: #008000; text-decoration-color: #008000\">'#'</span><span style=\"color: #000000; text-decoration-color: #000000\">, &lt;class </span><span style=\"color: #008000; text-decoration-color: #008000\">'pexpect.exceptions.EOF'</span><span style=\"color: #000000; text-decoration-color: #000000\">&gt;, </span><span style=\"color: #008000; text-decoration-color: #008000\">'#'</span><span style=\"color: #000000; text-decoration-color: #000000\">,</span> <span style=\"color: #7f7f7f; text-decoration-color: #7f7f7f\">               </span>\n",
       "<span style=\"color: #7fbfbf; text-decoration-color: #7fbfbf\">                    </span>         <span style=\"color: #000000; text-decoration-color: #000000\">&lt;class </span><span style=\"color: #008000; text-decoration-color: #008000\">'pexpect.exceptions.EOF'</span><span style=\"color: #000000; text-decoration-color: #000000\">&gt;, </span><span style=\"color: #008000; text-decoration-color: #008000\">'#'</span><span style=\"color: #000000; text-decoration-color: #000000\">, &lt;class </span>                         <span style=\"color: #7f7f7f; text-decoration-color: #7f7f7f\">               </span>\n",
       "<span style=\"color: #7fbfbf; text-decoration-color: #7fbfbf\">                    </span>         <span style=\"color: #008000; text-decoration-color: #008000\">'pexpect.exceptions.EOF'</span><span style=\"font-weight: bold\">&gt;]]</span> and <span style=\"color: #808000; text-decoration-color: #808000\">pause</span>=<span style=\"font-weight: bold\">[</span><span style=\"color: #008080; text-decoration-color: #008080; font-weight: bold\">3</span><span style=\"font-weight: bold\">]</span>                              <span style=\"color: #7f7f7f; text-decoration-color: #7f7f7f\">               </span>\n",
       "</pre>\n"
      ],
      "text/plain": [
       "\u001b[2;36m[09/29/24 15:58:18]\u001b[0m\u001b[2;36m \u001b[0m\u001b[34mINFO    \u001b[0m \u001b[1;36m2024\u001b[0m-\u001b[1;36m09\u001b[0m-\u001b[1;36m29\u001b[0m \u001b[1;92m15:58:18\u001b[0m,\u001b[1;36m457\u001b[0m - INFO - Sending command \u001b[1m[\u001b[0mhelp\u001b[1m]\u001b[0m with           \u001b]8;id=108312;file:///tmp/ipykernel_16595/508631921.py\u001b\\\u001b[2m508631921.py\u001b[0m\u001b]8;;\u001b\\\u001b[2m:\u001b[0m\u001b]8;id=68282;file:///tmp/ipykernel_16595/508631921.py#37\u001b\\\u001b[2m37\u001b[0m\u001b]8;;\u001b\\\n",
       "\u001b[2;36m                    \u001b[0m         \u001b[33mexpected\u001b[0m=\u001b[1m[\u001b[0m\u001b[1m[\u001b[0m\u001b[32m'#'\u001b[0m, \u001b[1m<\u001b[0m\u001b[1;95mclass\u001b[0m\u001b[39m \u001b[0m\u001b[32m'pexpect.exceptions.EOF'\u001b[0m\u001b[39m>, \u001b[0m\u001b[32m'#'\u001b[0m\u001b[39m, <class \u001b[0m         \u001b[2m               \u001b[0m\n",
       "\u001b[2;36m                    \u001b[0m         \u001b[32m'pexpect.exceptions.EOF'\u001b[0m\u001b[39m>, \u001b[0m\u001b[32m'#'\u001b[0m\u001b[39m, <class \u001b[0m\u001b[32m'pexpect.exceptions.EOF'\u001b[0m\u001b[39m>, \u001b[0m\u001b[32m'#'\u001b[0m\u001b[39m,\u001b[0m \u001b[2m               \u001b[0m\n",
       "\u001b[2;36m                    \u001b[0m         \u001b[39m<class \u001b[0m\u001b[32m'pexpect.exceptions.EOF'\u001b[0m\u001b[39m>, \u001b[0m\u001b[32m'#'\u001b[0m\u001b[39m, <class \u001b[0m                         \u001b[2m               \u001b[0m\n",
       "\u001b[2;36m                    \u001b[0m         \u001b[32m'pexpect.exceptions.EOF'\u001b[0m\u001b[1m>\u001b[0m\u001b[1m]\u001b[0m\u001b[1m]\u001b[0m and \u001b[33mpause\u001b[0m=\u001b[1m[\u001b[0m\u001b[1;36m3\u001b[0m\u001b[1m]\u001b[0m                              \u001b[2m               \u001b[0m\n"
      ]
     },
     "metadata": {},
     "output_type": "display_data"
    },
    {
     "data": {
      "text/html": [
       "<pre style=\"white-space:pre;overflow-x:auto;line-height:normal;font-family:Menlo,'DejaVu Sans Mono',consolas,'Courier New',monospace\"><span style=\"color: #7fbfbf; text-decoration-color: #7fbfbf\">                    </span><span style=\"color: #008000; text-decoration-color: #008000\">DEBUG   </span> <span style=\"color: #008080; text-decoration-color: #008080; font-weight: bold\">2024</span>-<span style=\"color: #008080; text-decoration-color: #008080; font-weight: bold\">09</span>-<span style=\"color: #008080; text-decoration-color: #008080; font-weight: bold\">29</span> <span style=\"color: #00ff00; text-decoration-color: #00ff00; font-weight: bold\">15:58:18</span>,<span style=\"color: #008080; text-decoration-color: #008080; font-weight: bold\">463</span> - DEBUG - Adding to output:<span style=\"font-weight: bold\">[</span> \u001b<span style=\"font-weight: bold\">[</span>?2004l           <a href=\"file:///tmp/ipykernel_16595/508631921.py\" target=\"_blank\"><span style=\"color: #7f7f7f; text-decoration-color: #7f7f7f\">508631921.py</span></a><span style=\"color: #7f7f7f; text-decoration-color: #7f7f7f\">:</span><a href=\"file:///tmp/ipykernel_16595/508631921.py#43\" target=\"_blank\"><span style=\"color: #7f7f7f; text-decoration-color: #7f7f7f\">43</span></a>\n",
       "<span style=\"color: #7fbfbf; text-decoration-color: #7fbfbf\">                    </span>         \u001b<span style=\"font-weight: bold\">[</span><span style=\"color: #008080; text-decoration-color: #008080; font-weight: bold\">1</span>;39mMenu main:\u001b<span style=\"font-weight: bold\">[</span>0m                                                    <span style=\"color: #7f7f7f; text-decoration-color: #7f7f7f\">               </span>\n",
       "<span style=\"color: #7fbfbf; text-decoration-color: #7fbfbf\">                    </span>         \u001b<span style=\"font-weight: bold\">[</span><span style=\"color: #008080; text-decoration-color: #008080; font-weight: bold\">1</span>;39mAvailable commands:\u001b<span style=\"font-weight: bold\">[</span>0m                                           <span style=\"color: #7f7f7f; text-decoration-color: #7f7f7f\">               </span>\n",
       "<span style=\"color: #7fbfbf; text-decoration-color: #7fbfbf\">                    </span>         \u001b<span style=\"font-weight: bold\">[</span><span style=\"color: #008080; text-decoration-color: #008080; font-weight: bold\">1</span>;39m-------------------\u001b<span style=\"font-weight: bold\">[</span>0m                                           <span style=\"color: #7f7f7f; text-decoration-color: #7f7f7f\">               </span>\n",
       "<span style=\"color: #7fbfbf; text-decoration-color: #7fbfbf\">                    </span>         \u001b<span style=\"font-weight: bold\">[</span><span style=\"color: #008080; text-decoration-color: #008080; font-weight: bold\">0</span>;94madvertise                                         \u001b<span style=\"font-weight: bold\">[</span>0mAdvertise   <span style=\"color: #7f7f7f; text-decoration-color: #7f7f7f\">               </span>\n",
       "<span style=\"color: #7fbfbf; text-decoration-color: #7fbfbf\">                    </span>         Options Submenu                                                        <span style=\"color: #7f7f7f; text-decoration-color: #7f7f7f\">               </span>\n",
       "<span style=\"color: #7fbfbf; text-decoration-color: #7fbfbf\">                    </span>         \u001b<span style=\"font-weight: bold\">[</span><span style=\"color: #008080; text-decoration-color: #008080; font-weight: bold\">0</span>;94mmonitor                                                          <span style=\"color: #7f7f7f; text-decoration-color: #7f7f7f\">               </span>\n",
       "<span style=\"color: #7fbfbf; text-decoration-color: #7fbfbf\">                    </span>         \u001b<span style=\"font-weight: bold\">[</span>0mAdvertisement Monitor Options Submenu                               <span style=\"color: #7f7f7f; text-decoration-color: #7f7f7f\">               </span>\n",
       "<span style=\"color: #7fbfbf; text-decoration-color: #7fbfbf\">                    </span>         \u001b<span style=\"font-weight: bold\">[</span><span style=\"color: #008080; text-decoration-color: #008080; font-weight: bold\">0</span>;94mscan                                              \u001b<span style=\"font-weight: bold\">[</span>0mScan        <span style=\"color: #7f7f7f; text-decoration-color: #7f7f7f\">               </span>\n",
       "<span style=\"color: #7fbfbf; text-decoration-color: #7fbfbf\">                    </span>         Options Submenu                                                        <span style=\"color: #7f7f7f; text-decoration-color: #7f7f7f\">               </span>\n",
       "<span style=\"color: #7fbfbf; text-decoration-color: #7fbfbf\">                    </span>         \u001b<span style=\"font-weight: bold\">[</span><span style=\"color: #008080; text-decoration-color: #008080; font-weight: bold\">0</span>;94mgatt                                              \u001b<span style=\"font-weight: bold\">[</span>0mGeneric     <span style=\"color: #7f7f7f; text-decoration-color: #7f7f7f\">               </span>\n",
       "<span style=\"color: #7fbfbf; text-decoration-color: #7fbfbf\">                    </span>         Attribute Submenu                                                      <span style=\"color: #7f7f7f; text-decoration-color: #7f7f7f\">               </span>\n",
       "<span style=\"color: #7fbfbf; text-decoration-color: #7fbfbf\">                    </span>         \u001b<span style=\"font-weight: bold\">[</span><span style=\"color: #008080; text-decoration-color: #008080; font-weight: bold\">0</span>;94madmin                                             \u001b<span style=\"font-weight: bold\">[</span>0mAdmin       <span style=\"color: #7f7f7f; text-decoration-color: #7f7f7f\">               </span>\n",
       "<span style=\"color: #7fbfbf; text-decoration-color: #7fbfbf\">                    </span>         Policy Submenu                                                         <span style=\"color: #7f7f7f; text-decoration-color: #7f7f7f\">               </span>\n",
       "<span style=\"color: #7fbfbf; text-decoration-color: #7fbfbf\">                    </span>         \u001b<span style=\"font-weight: bold\">[</span><span style=\"color: #008080; text-decoration-color: #008080; font-weight: bold\">0</span>;94mplayer                                            \u001b<span style=\"font-weight: bold\">[</span>0mMedia       <span style=\"color: #7f7f7f; text-decoration-color: #7f7f7f\">               </span>\n",
       "<span style=\"color: #7fbfbf; text-decoration-color: #7fbfbf\">                    </span>         Player Submenu                                                         <span style=\"color: #7f7f7f; text-decoration-color: #7f7f7f\">               </span>\n",
       "<span style=\"color: #7fbfbf; text-decoration-color: #7fbfbf\">                    </span>         \u001b<span style=\"font-weight: bold\">[</span><span style=\"color: #008080; text-decoration-color: #008080; font-weight: bold\">0</span>;94mendpoint                                          \u001b<span style=\"font-weight: bold\">[</span>0mMedia       <span style=\"color: #7f7f7f; text-decoration-color: #7f7f7f\">               </span>\n",
       "<span style=\"color: #7fbfbf; text-decoration-color: #7fbfbf\">                    </span>         Endpoint Submenu                                                       <span style=\"color: #7f7f7f; text-decoration-color: #7f7f7f\">               </span>\n",
       "<span style=\"color: #7fbfbf; text-decoration-color: #7fbfbf\">                    </span>         \u001b<span style=\"font-weight: bold\">[</span><span style=\"color: #008080; text-decoration-color: #008080; font-weight: bold\">0</span>;94mtransport                                         \u001b<span style=\"font-weight: bold\">[</span>0mMedia       <span style=\"color: #7f7f7f; text-decoration-color: #7f7f7f\">               </span>\n",
       "<span style=\"color: #7fbfbf; text-decoration-color: #7fbfbf\">                    </span>         Transport Submenu                                                      <span style=\"color: #7f7f7f; text-decoration-color: #7f7f7f\">               </span>\n",
       "<span style=\"color: #7fbfbf; text-decoration-color: #7fbfbf\">                    </span>         \u001b<span style=\"font-weight: bold\">[</span><span style=\"color: #008080; text-decoration-color: #008080; font-weight: bold\">0</span>;94mmgmt                                              \u001b<span style=\"font-weight: bold\">[</span>0mManagement  <span style=\"color: #7f7f7f; text-decoration-color: #7f7f7f\">               </span>\n",
       "<span style=\"color: #7fbfbf; text-decoration-color: #7fbfbf\">                    </span>         Submenu                                                                <span style=\"color: #7f7f7f; text-decoration-color: #7f7f7f\">               </span>\n",
       "<span style=\"color: #7fbfbf; text-decoration-color: #7fbfbf\">                    </span>         \u001b<span style=\"font-weight: bold\">[</span><span style=\"color: #008080; text-decoration-color: #008080; font-weight: bold\">0</span>;94mmonitor                                                          <span style=\"color: #7f7f7f; text-decoration-color: #7f7f7f\">               </span>\n",
       "<span style=\"color: #7fbfbf; text-decoration-color: #7fbfbf\">                    </span>         \u001b<span style=\"font-weight: bold\">[</span>0mAdvertisement Monitor Submenu                                       <span style=\"color: #7f7f7f; text-decoration-color: #7f7f7f\">               </span>\n",
       "<span style=\"color: #7fbfbf; text-decoration-color: #7fbfbf\">                    </span>         \u001b<span style=\"font-weight: bold\">[</span><span style=\"color: #008080; text-decoration-color: #008080; font-weight: bold\">1</span>;39mlist                                              \u001b<span style=\"font-weight: bold\">[</span>0mList        <span style=\"color: #7f7f7f; text-decoration-color: #7f7f7f\">               </span>\n",
       "<span style=\"color: #7fbfbf; text-decoration-color: #7fbfbf\">                    </span>         available controllers                                                  <span style=\"color: #7f7f7f; text-decoration-color: #7f7f7f\">               </span>\n",
       "<span style=\"color: #7fbfbf; text-decoration-color: #7fbfbf\">                    </span>         \u001b<span style=\"font-weight: bold\">[</span><span style=\"color: #008080; text-decoration-color: #008080; font-weight: bold\">1</span>;39mshow <span style=\"font-weight: bold\">[</span>ctrl<span style=\"font-weight: bold\">]</span>                                       \u001b<span style=\"font-weight: bold\">[</span>0mController  <span style=\"color: #7f7f7f; text-decoration-color: #7f7f7f\">               </span>\n",
       "<span style=\"color: #7fbfbf; text-decoration-color: #7fbfbf\">                    </span>         information                                                            <span style=\"color: #7f7f7f; text-decoration-color: #7f7f7f\">               </span>\n",
       "<span style=\"color: #7fbfbf; text-decoration-color: #7fbfbf\">                    </span>         \u001b<span style=\"font-weight: bold\">[</span><span style=\"color: #008080; text-decoration-color: #008080; font-weight: bold\">1</span>;39mselect <span style=\"font-weight: bold\">&lt;</span><span style=\"color: #ff00ff; text-decoration-color: #ff00ff; font-weight: bold\">ctrl</span><span style=\"color: #000000; text-decoration-color: #000000\">&gt;                                     \u001b</span><span style=\"color: #000000; text-decoration-color: #000000; font-weight: bold\">[</span><span style=\"color: #000000; text-decoration-color: #000000\">0mSelect </span>     <span style=\"color: #7f7f7f; text-decoration-color: #7f7f7f\">               </span>\n",
       "<span style=\"color: #7fbfbf; text-decoration-color: #7fbfbf\">                    </span>         <span style=\"color: #000000; text-decoration-color: #000000\">default controller</span>                                                     <span style=\"color: #7f7f7f; text-decoration-color: #7f7f7f\">               </span>\n",
       "<span style=\"color: #7fbfbf; text-decoration-color: #7fbfbf\">                    </span>         <span style=\"color: #000000; text-decoration-color: #000000\">\u001b</span><span style=\"color: #000000; text-decoration-color: #000000; font-weight: bold\">[</span><span style=\"color: #008080; text-decoration-color: #008080; font-weight: bold\">1</span><span style=\"color: #000000; text-decoration-color: #000000\">;39mdevices </span><span style=\"color: #000000; text-decoration-color: #000000; font-weight: bold\">[</span><span style=\"color: #000000; text-decoration-color: #000000\">Paired/Bonded/Trusted/Connected</span><span style=\"color: #000000; text-decoration-color: #000000; font-weight: bold\">]</span><span style=\"color: #000000; text-decoration-color: #000000\">         \u001b</span><span style=\"color: #000000; text-decoration-color: #000000; font-weight: bold\">[</span><span style=\"color: #000000; text-decoration-color: #000000\">0mList </span>       <span style=\"color: #7f7f7f; text-decoration-color: #7f7f7f\">               </span>\n",
       "<span style=\"color: #7fbfbf; text-decoration-color: #7fbfbf\">                    </span>         <span style=\"color: #000000; text-decoration-color: #000000\">available devices, with an optional property as the filter</span>             <span style=\"color: #7f7f7f; text-decoration-color: #7f7f7f\">               </span>\n",
       "<span style=\"color: #7fbfbf; text-decoration-color: #7fbfbf\">                    </span>         <span style=\"color: #000000; text-decoration-color: #000000\">\u001b</span><span style=\"color: #000000; text-decoration-color: #000000; font-weight: bold\">[</span><span style=\"color: #008080; text-decoration-color: #008080; font-weight: bold\">1</span><span style=\"color: #000000; text-decoration-color: #000000\">;39msystem-alias &lt;name&gt;                               \u001b</span><span style=\"color: #000000; text-decoration-color: #000000; font-weight: bold\">[</span><span style=\"color: #000000; text-decoration-color: #000000\">0mSet </span>        <span style=\"color: #7f7f7f; text-decoration-color: #7f7f7f\">               </span>\n",
       "<span style=\"color: #7fbfbf; text-decoration-color: #7fbfbf\">                    </span>         <span style=\"color: #000000; text-decoration-color: #000000\">controller alias</span>                                                       <span style=\"color: #7f7f7f; text-decoration-color: #7f7f7f\">               </span>\n",
       "<span style=\"color: #7fbfbf; text-decoration-color: #7fbfbf\">                    </span>         <span style=\"color: #000000; text-decoration-color: #000000\">\u001b</span><span style=\"color: #000000; text-decoration-color: #000000; font-weight: bold\">[</span><span style=\"color: #008080; text-decoration-color: #008080; font-weight: bold\">1</span><span style=\"color: #000000; text-decoration-color: #000000\">;39mreset-alias                                       \u001b</span><span style=\"color: #000000; text-decoration-color: #000000; font-weight: bold\">[</span><span style=\"color: #000000; text-decoration-color: #000000\">0mReset </span>      <span style=\"color: #7f7f7f; text-decoration-color: #7f7f7f\">               </span>\n",
       "<span style=\"color: #7fbfbf; text-decoration-color: #7fbfbf\">                    </span>         <span style=\"color: #000000; text-decoration-color: #000000\">controller alias</span>                                                       <span style=\"color: #7f7f7f; text-decoration-color: #7f7f7f\">               </span>\n",
       "<span style=\"color: #7fbfbf; text-decoration-color: #7fbfbf\">                    </span>         <span style=\"color: #000000; text-decoration-color: #000000\">\u001b</span><span style=\"color: #000000; text-decoration-color: #000000; font-weight: bold\">[</span><span style=\"color: #008080; text-decoration-color: #008080; font-weight: bold\">1</span><span style=\"color: #000000; text-decoration-color: #000000\">;39mpower &lt;on/off&gt;                                    \u001b</span><span style=\"color: #000000; text-decoration-color: #000000; font-weight: bold\">[</span><span style=\"color: #000000; text-decoration-color: #000000\">0mSet </span>        <span style=\"color: #7f7f7f; text-decoration-color: #7f7f7f\">               </span>\n",
       "<span style=\"color: #7fbfbf; text-decoration-color: #7fbfbf\">                    </span>         <span style=\"color: #000000; text-decoration-color: #000000\">controller power</span>                                                       <span style=\"color: #7f7f7f; text-decoration-color: #7f7f7f\">               </span>\n",
       "<span style=\"color: #7fbfbf; text-decoration-color: #7fbfbf\">                    </span>         <span style=\"color: #000000; text-decoration-color: #000000\">\u001b</span><span style=\"color: #000000; text-decoration-color: #000000; font-weight: bold\">[</span><span style=\"color: #008080; text-decoration-color: #008080; font-weight: bold\">1</span><span style=\"color: #000000; text-decoration-color: #000000\">;39mpairable &lt;on/off&gt;                                 \u001b</span><span style=\"color: #000000; text-decoration-color: #000000; font-weight: bold\">[</span><span style=\"color: #000000; text-decoration-color: #000000\">0mSet </span>        <span style=\"color: #7f7f7f; text-decoration-color: #7f7f7f\">               </span>\n",
       "<span style=\"color: #7fbfbf; text-decoration-color: #7fbfbf\">                    </span>         <span style=\"color: #000000; text-decoration-color: #000000\">controller pairable mode</span>                                               <span style=\"color: #7f7f7f; text-decoration-color: #7f7f7f\">               </span>\n",
       "<span style=\"color: #7fbfbf; text-decoration-color: #7fbfbf\">                    </span>         <span style=\"color: #000000; text-decoration-color: #000000\">\u001b</span><span style=\"color: #000000; text-decoration-color: #000000; font-weight: bold\">[</span><span style=\"color: #008080; text-decoration-color: #008080; font-weight: bold\">1</span><span style=\"color: #000000; text-decoration-color: #000000\">;39mdiscoverable &lt;on/off&gt;                             \u001b</span><span style=\"color: #000000; text-decoration-color: #000000; font-weight: bold\">[</span><span style=\"color: #000000; text-decoration-color: #000000\">0mSet </span>        <span style=\"color: #7f7f7f; text-decoration-color: #7f7f7f\">               </span>\n",
       "<span style=\"color: #7fbfbf; text-decoration-color: #7fbfbf\">                    </span>         <span style=\"color: #000000; text-decoration-color: #000000\">controller discoverable mode</span>                                           <span style=\"color: #7f7f7f; text-decoration-color: #7f7f7f\">               </span>\n",
       "<span style=\"color: #7fbfbf; text-decoration-color: #7fbfbf\">                    </span>         <span style=\"color: #000000; text-decoration-color: #000000\">\u001b</span><span style=\"color: #000000; text-decoration-color: #000000; font-weight: bold\">[</span><span style=\"color: #008080; text-decoration-color: #008080; font-weight: bold\">1</span><span style=\"color: #000000; text-decoration-color: #000000\">;39mdiscoverable-timeout </span><span style=\"color: #000000; text-decoration-color: #000000; font-weight: bold\">[</span><span style=\"color: #000000; text-decoration-color: #000000\">value</span><span style=\"color: #000000; text-decoration-color: #000000; font-weight: bold\">]</span><span style=\"color: #000000; text-decoration-color: #000000\">                      \u001b</span><span style=\"color: #000000; text-decoration-color: #000000; font-weight: bold\">[</span><span style=\"color: #000000; text-decoration-color: #000000\">0mSet </span>        <span style=\"color: #7f7f7f; text-decoration-color: #7f7f7f\">               </span>\n",
       "<span style=\"color: #7fbfbf; text-decoration-color: #7fbfbf\">                    </span>         <span style=\"color: #000000; text-decoration-color: #000000\">discoverable timeout</span>                                                   <span style=\"color: #7f7f7f; text-decoration-color: #7f7f7f\">               </span>\n",
       "<span style=\"color: #7fbfbf; text-decoration-color: #7fbfbf\">                    </span>         <span style=\"color: #000000; text-decoration-color: #000000\">\u001b</span><span style=\"color: #000000; text-decoration-color: #000000; font-weight: bold\">[</span><span style=\"color: #008080; text-decoration-color: #008080; font-weight: bold\">1</span><span style=\"color: #000000; text-decoration-color: #000000\">;39magent &lt;on/off/auto/capability&gt;                    </span>               <span style=\"color: #7f7f7f; text-decoration-color: #7f7f7f\">               </span>\n",
       "<span style=\"color: #7fbfbf; text-decoration-color: #7fbfbf\">                    </span>         <span style=\"color: #000000; text-decoration-color: #000000\">\u001b</span><span style=\"color: #000000; text-decoration-color: #000000; font-weight: bold\">[</span><span style=\"color: #000000; text-decoration-color: #000000\">0mEnable/disable agent with given capability</span>                          <span style=\"color: #7f7f7f; text-decoration-color: #7f7f7f\">               </span>\n",
       "<span style=\"color: #7fbfbf; text-decoration-color: #7fbfbf\">                    </span>         <span style=\"color: #000000; text-decoration-color: #000000\">\u001b</span><span style=\"color: #000000; text-decoration-color: #000000; font-weight: bold\">[</span><span style=\"color: #008080; text-decoration-color: #008080; font-weight: bold\">1</span><span style=\"color: #000000; text-decoration-color: #000000\">;39mdefault-agent                                     \u001b</span><span style=\"color: #000000; text-decoration-color: #000000; font-weight: bold\">[</span><span style=\"color: #000000; text-decoration-color: #000000\">0mSet agent</span>   <span style=\"color: #7f7f7f; text-decoration-color: #7f7f7f\">               </span>\n",
       "<span style=\"color: #7fbfbf; text-decoration-color: #7fbfbf\">                    </span>         <span style=\"color: #000000; text-decoration-color: #000000\">as the default one</span>                                                     <span style=\"color: #7f7f7f; text-decoration-color: #7f7f7f\">               </span>\n",
       "<span style=\"color: #7fbfbf; text-decoration-color: #7fbfbf\">                    </span>         <span style=\"color: #000000; text-decoration-color: #000000\">\u001b</span><span style=\"color: #000000; text-decoration-color: #000000; font-weight: bold\">[</span><span style=\"color: #008080; text-decoration-color: #008080; font-weight: bold\">1</span><span style=\"color: #000000; text-decoration-color: #000000\">;39madvertise &lt;on/off/type&gt;                           </span>               <span style=\"color: #7f7f7f; text-decoration-color: #7f7f7f\">               </span>\n",
       "<span style=\"color: #7fbfbf; text-decoration-color: #7fbfbf\">                    </span>         <span style=\"color: #000000; text-decoration-color: #000000\">\u001b</span><span style=\"color: #000000; text-decoration-color: #000000; font-weight: bold\">[</span><span style=\"color: #000000; text-decoration-color: #000000\">0mEnable/disable advertising with given type</span>                          <span style=\"color: #7f7f7f; text-decoration-color: #7f7f7f\">               </span>\n",
       "<span style=\"color: #7fbfbf; text-decoration-color: #7fbfbf\">                    </span>         <span style=\"color: #000000; text-decoration-color: #000000\">\u001b</span><span style=\"color: #000000; text-decoration-color: #000000; font-weight: bold\">[</span><span style=\"color: #008080; text-decoration-color: #008080; font-weight: bold\">1</span><span style=\"color: #000000; text-decoration-color: #000000\">;39mset-alias &lt;alias&gt;                                 \u001b</span><span style=\"color: #000000; text-decoration-color: #000000; font-weight: bold\">[</span><span style=\"color: #000000; text-decoration-color: #000000\">0mSet device</span>  <span style=\"color: #7f7f7f; text-decoration-color: #7f7f7f\">               </span>\n",
       "<span style=\"color: #7fbfbf; text-decoration-color: #7fbfbf\">                    </span>         <span style=\"color: #000000; text-decoration-color: #000000\">alias</span>                                                                  <span style=\"color: #7f7f7f; text-decoration-color: #7f7f7f\">               </span>\n",
       "<span style=\"color: #7fbfbf; text-decoration-color: #7fbfbf\">                    </span>         <span style=\"color: #000000; text-decoration-color: #000000\">\u001b</span><span style=\"color: #000000; text-decoration-color: #000000; font-weight: bold\">[</span><span style=\"color: #008080; text-decoration-color: #008080; font-weight: bold\">1</span><span style=\"color: #000000; text-decoration-color: #000000\">;39mscan &lt;on/off/bredr/le&gt;                            \u001b</span><span style=\"color: #000000; text-decoration-color: #000000; font-weight: bold\">[</span><span style=\"color: #000000; text-decoration-color: #000000\">0mScan for </span>   <span style=\"color: #7f7f7f; text-decoration-color: #7f7f7f\">               </span>\n",
       "<span style=\"color: #7fbfbf; text-decoration-color: #7fbfbf\">                    </span>         <span style=\"color: #000000; text-decoration-color: #000000\">devices</span>                                                                <span style=\"color: #7f7f7f; text-decoration-color: #7f7f7f\">               </span>\n",
       "<span style=\"color: #7fbfbf; text-decoration-color: #7fbfbf\">                    </span>         <span style=\"color: #000000; text-decoration-color: #000000\">\u001b</span><span style=\"color: #000000; text-decoration-color: #000000; font-weight: bold\">[</span><span style=\"color: #008080; text-decoration-color: #008080; font-weight: bold\">1</span><span style=\"color: #000000; text-decoration-color: #000000\">;39minfo </span><span style=\"color: #000000; text-decoration-color: #000000; font-weight: bold\">[</span><span style=\"color: #000000; text-decoration-color: #000000\">dev/set</span><span style=\"color: #000000; text-decoration-color: #000000; font-weight: bold\">]</span><span style=\"color: #000000; text-decoration-color: #000000\">                                    \u001b</span><span style=\"color: #000000; text-decoration-color: #000000; font-weight: bold\">[</span><span style=\"color: #000000; text-decoration-color: #000000\">0mDevice/Set</span>  <span style=\"color: #7f7f7f; text-decoration-color: #7f7f7f\">               </span>\n",
       "<span style=\"color: #7fbfbf; text-decoration-color: #7fbfbf\">                    </span>         <span style=\"color: #000000; text-decoration-color: #000000\">information</span>                                                            <span style=\"color: #7f7f7f; text-decoration-color: #7f7f7f\">               </span>\n",
       "<span style=\"color: #7fbfbf; text-decoration-color: #7fbfbf\">                    </span>         <span style=\"color: #000000; text-decoration-color: #000000\">\u001b</span><span style=\"color: #000000; text-decoration-color: #000000; font-weight: bold\">[</span><span style=\"color: #008080; text-decoration-color: #008080; font-weight: bold\">1</span><span style=\"color: #000000; text-decoration-color: #000000\">;39mpair </span><span style=\"color: #000000; text-decoration-color: #000000; font-weight: bold\">[</span><span style=\"color: #000000; text-decoration-color: #000000\">dev</span><span style=\"color: #000000; text-decoration-color: #000000; font-weight: bold\">]</span><span style=\"color: #000000; text-decoration-color: #000000\">                                        \u001b</span><span style=\"color: #000000; text-decoration-color: #000000; font-weight: bold\">[</span><span style=\"color: #000000; text-decoration-color: #000000\">0mPair with</span>   <span style=\"color: #7f7f7f; text-decoration-color: #7f7f7f\">               </span>\n",
       "<span style=\"color: #7fbfbf; text-decoration-color: #7fbfbf\">                    </span>         <span style=\"color: #000000; text-decoration-color: #000000\">device</span>                                                                 <span style=\"color: #7f7f7f; text-decoration-color: #7f7f7f\">               </span>\n",
       "<span style=\"color: #7fbfbf; text-decoration-color: #7fbfbf\">                    </span>         <span style=\"color: #000000; text-decoration-color: #000000\">\u001b</span><span style=\"color: #000000; text-decoration-color: #000000; font-weight: bold\">[</span><span style=\"color: #008080; text-decoration-color: #008080; font-weight: bold\">1</span><span style=\"color: #000000; text-decoration-color: #000000\">;39mcancel-pairing </span><span style=\"color: #000000; text-decoration-color: #000000; font-weight: bold\">[</span><span style=\"color: #000000; text-decoration-color: #000000\">dev</span><span style=\"color: #000000; text-decoration-color: #000000; font-weight: bold\">]</span><span style=\"color: #000000; text-decoration-color: #000000\">                              \u001b</span><span style=\"color: #000000; text-decoration-color: #000000; font-weight: bold\">[</span><span style=\"color: #000000; text-decoration-color: #000000\">0mCancel </span>     <span style=\"color: #7f7f7f; text-decoration-color: #7f7f7f\">               </span>\n",
       "<span style=\"color: #7fbfbf; text-decoration-color: #7fbfbf\">                    </span>         <span style=\"color: #000000; text-decoration-color: #000000\">pairing with device</span>                                                    <span style=\"color: #7f7f7f; text-decoration-color: #7f7f7f\">               </span>\n",
       "<span style=\"color: #7fbfbf; text-decoration-color: #7fbfbf\">                    </span>         <span style=\"color: #000000; text-decoration-color: #000000\">\u001b</span><span style=\"color: #000000; text-decoration-color: #000000; font-weight: bold\">[</span><span style=\"color: #008080; text-decoration-color: #008080; font-weight: bold\">1</span><span style=\"color: #000000; text-decoration-color: #000000\">;39mtrust </span><span style=\"color: #000000; text-decoration-color: #000000; font-weight: bold\">[</span><span style=\"color: #000000; text-decoration-color: #000000\">dev</span><span style=\"color: #000000; text-decoration-color: #000000; font-weight: bold\">]</span><span style=\"color: #000000; text-decoration-color: #000000\">                                       \u001b</span><span style=\"color: #000000; text-decoration-color: #000000; font-weight: bold\">[</span><span style=\"color: #000000; text-decoration-color: #000000\">0mTrust </span>      <span style=\"color: #7f7f7f; text-decoration-color: #7f7f7f\">               </span>\n",
       "<span style=\"color: #7fbfbf; text-decoration-color: #7fbfbf\">                    </span>         <span style=\"color: #000000; text-decoration-color: #000000\">device</span>                                                                 <span style=\"color: #7f7f7f; text-decoration-color: #7f7f7f\">               </span>\n",
       "<span style=\"color: #7fbfbf; text-decoration-color: #7fbfbf\">                    </span>         <span style=\"color: #000000; text-decoration-color: #000000\">\u001b</span><span style=\"color: #000000; text-decoration-color: #000000; font-weight: bold\">[</span><span style=\"color: #008080; text-decoration-color: #008080; font-weight: bold\">1</span><span style=\"color: #000000; text-decoration-color: #000000\">;39muntrust </span><span style=\"color: #000000; text-decoration-color: #000000; font-weight: bold\">[</span><span style=\"color: #000000; text-decoration-color: #000000\">dev</span><span style=\"color: #000000; text-decoration-color: #000000; font-weight: bold\">]</span><span style=\"color: #000000; text-decoration-color: #000000\">                                     \u001b</span><span style=\"color: #000000; text-decoration-color: #000000; font-weight: bold\">[</span><span style=\"color: #000000; text-decoration-color: #000000\">0mUntrust </span>    <span style=\"color: #7f7f7f; text-decoration-color: #7f7f7f\">               </span>\n",
       "<span style=\"color: #7fbfbf; text-decoration-color: #7fbfbf\">                    </span>         <span style=\"color: #000000; text-decoration-color: #000000\">device</span>                                                                 <span style=\"color: #7f7f7f; text-decoration-color: #7f7f7f\">               </span>\n",
       "<span style=\"color: #7fbfbf; text-decoration-color: #7fbfbf\">                    </span>         <span style=\"color: #000000; text-decoration-color: #000000\">\u001b</span><span style=\"color: #000000; text-decoration-color: #000000; font-weight: bold\">[</span><span style=\"color: #008080; text-decoration-color: #008080; font-weight: bold\">1</span><span style=\"color: #000000; text-decoration-color: #000000\">;39mblock </span><span style=\"color: #000000; text-decoration-color: #000000; font-weight: bold\">[</span><span style=\"color: #000000; text-decoration-color: #000000\">dev</span><span style=\"color: #000000; text-decoration-color: #000000; font-weight: bold\">]</span><span style=\"color: #000000; text-decoration-color: #000000\">                                       \u001b</span><span style=\"color: #000000; text-decoration-color: #000000; font-weight: bold\">[</span><span style=\"color: #000000; text-decoration-color: #000000\">0mBlock </span>      <span style=\"color: #7f7f7f; text-decoration-color: #7f7f7f\">               </span>\n",
       "<span style=\"color: #7fbfbf; text-decoration-color: #7fbfbf\">                    </span>         <span style=\"color: #000000; text-decoration-color: #000000\">device</span>                                                                 <span style=\"color: #7f7f7f; text-decoration-color: #7f7f7f\">               </span>\n",
       "<span style=\"color: #7fbfbf; text-decoration-color: #7fbfbf\">                    </span>         <span style=\"color: #000000; text-decoration-color: #000000\">\u001b</span><span style=\"color: #000000; text-decoration-color: #000000; font-weight: bold\">[</span><span style=\"color: #008080; text-decoration-color: #008080; font-weight: bold\">1</span><span style=\"color: #000000; text-decoration-color: #000000\">;39munblock </span><span style=\"color: #000000; text-decoration-color: #000000; font-weight: bold\">[</span><span style=\"color: #000000; text-decoration-color: #000000\">dev</span><span style=\"color: #000000; text-decoration-color: #000000; font-weight: bold\">]</span><span style=\"color: #000000; text-decoration-color: #000000\">                                     \u001b</span><span style=\"color: #000000; text-decoration-color: #000000; font-weight: bold\">[</span><span style=\"color: #000000; text-decoration-color: #000000\">0mUnblock </span>    <span style=\"color: #7f7f7f; text-decoration-color: #7f7f7f\">               </span>\n",
       "<span style=\"color: #7fbfbf; text-decoration-color: #7fbfbf\">                    </span>         <span style=\"color: #000000; text-decoration-color: #000000\">device</span>                                                                 <span style=\"color: #7f7f7f; text-decoration-color: #7f7f7f\">               </span>\n",
       "<span style=\"color: #7fbfbf; text-decoration-color: #7fbfbf\">                    </span>         <span style=\"color: #000000; text-decoration-color: #000000\">\u001b</span><span style=\"color: #000000; text-decoration-color: #000000; font-weight: bold\">[</span><span style=\"color: #008080; text-decoration-color: #008080; font-weight: bold\">1</span><span style=\"color: #000000; text-decoration-color: #000000\">;39mremove &lt;dev&gt;                                      \u001b</span><span style=\"color: #000000; text-decoration-color: #000000; font-weight: bold\">[</span><span style=\"color: #000000; text-decoration-color: #000000\">0mRemove </span>     <span style=\"color: #7f7f7f; text-decoration-color: #7f7f7f\">               </span>\n",
       "<span style=\"color: #7fbfbf; text-decoration-color: #7fbfbf\">                    </span>         <span style=\"color: #000000; text-decoration-color: #000000\">device</span>                                                                 <span style=\"color: #7f7f7f; text-decoration-color: #7f7f7f\">               </span>\n",
       "<span style=\"color: #7fbfbf; text-decoration-color: #7fbfbf\">                    </span>         <span style=\"color: #000000; text-decoration-color: #000000\">\u001b</span><span style=\"color: #000000; text-decoration-color: #000000; font-weight: bold\">[</span><span style=\"color: #008080; text-decoration-color: #008080; font-weight: bold\">1</span><span style=\"color: #000000; text-decoration-color: #000000\">;39mconnect &lt;dev&gt;                                     \u001b</span><span style=\"color: #000000; text-decoration-color: #000000; font-weight: bold\">[</span><span style=\"color: #000000; text-decoration-color: #000000\">0mConnect </span>    <span style=\"color: #7f7f7f; text-decoration-color: #7f7f7f\">               </span>\n",
       "<span style=\"color: #7fbfbf; text-decoration-color: #7fbfbf\">                    </span>         <span style=\"color: #000000; text-decoration-color: #000000\">device</span>                                                                 <span style=\"color: #7f7f7f; text-decoration-color: #7f7f7f\">               </span>\n",
       "<span style=\"color: #7fbfbf; text-decoration-color: #7fbfbf\">                    </span>         <span style=\"color: #000000; text-decoration-color: #000000\">\u001b</span><span style=\"color: #000000; text-decoration-color: #000000; font-weight: bold\">[</span><span style=\"color: #008080; text-decoration-color: #008080; font-weight: bold\">1</span><span style=\"color: #000000; text-decoration-color: #000000\">;39mdisconnect </span><span style=\"color: #000000; text-decoration-color: #000000; font-weight: bold\">[</span><span style=\"color: #000000; text-decoration-color: #000000\">dev</span><span style=\"color: #000000; text-decoration-color: #000000; font-weight: bold\">]</span><span style=\"color: #000000; text-decoration-color: #000000\">                                  \u001b</span><span style=\"color: #000000; text-decoration-color: #000000; font-weight: bold\">[</span><span style=\"color: #000000; text-decoration-color: #000000\">0mDisconnect</span>  <span style=\"color: #7f7f7f; text-decoration-color: #7f7f7f\">               </span>\n",
       "<span style=\"color: #7fbfbf; text-decoration-color: #7fbfbf\">                    </span>         <span style=\"color: #000000; text-decoration-color: #000000\">device</span>                                                                 <span style=\"color: #7f7f7f; text-decoration-color: #7f7f7f\">               </span>\n",
       "<span style=\"color: #7fbfbf; text-decoration-color: #7fbfbf\">                    </span>         <span style=\"color: #000000; text-decoration-color: #000000\">\u001b</span><span style=\"color: #000000; text-decoration-color: #000000; font-weight: bold\">[</span><span style=\"color: #008080; text-decoration-color: #008080; font-weight: bold\">1</span><span style=\"color: #000000; text-decoration-color: #000000\">;39mmenu &lt;name</span><span style=\"font-weight: bold\">&gt;</span>                                       \u001b<span style=\"font-weight: bold\">[</span>0mSelect      <span style=\"color: #7f7f7f; text-decoration-color: #7f7f7f\">               </span>\n",
       "<span style=\"color: #7fbfbf; text-decoration-color: #7fbfbf\">                    </span>         submenu                                                                <span style=\"color: #7f7f7f; text-decoration-color: #7f7f7f\">               </span>\n",
       "<span style=\"color: #7fbfbf; text-decoration-color: #7fbfbf\">                    </span>         \u001b<span style=\"font-weight: bold\">[</span><span style=\"color: #008080; text-decoration-color: #008080; font-weight: bold\">1</span>;39mversion                                           \u001b<span style=\"font-weight: bold\">[</span>0mDisplay     <span style=\"color: #7f7f7f; text-decoration-color: #7f7f7f\">               </span>\n",
       "<span style=\"color: #7fbfbf; text-decoration-color: #7fbfbf\">                    </span>         version                                                                <span style=\"color: #7f7f7f; text-decoration-color: #7f7f7f\">               </span>\n",
       "<span style=\"color: #7fbfbf; text-decoration-color: #7fbfbf\">                    </span>         \u001b<span style=\"font-weight: bold\">[</span><span style=\"color: #008080; text-decoration-color: #008080; font-weight: bold\">1</span>;39mquit                                              \u001b<span style=\"font-weight: bold\">[</span>0mQuit        <span style=\"color: #7f7f7f; text-decoration-color: #7f7f7f\">               </span>\n",
       "<span style=\"color: #7fbfbf; text-decoration-color: #7fbfbf\">                    </span>         program                                                                <span style=\"color: #7f7f7f; text-decoration-color: #7f7f7f\">               </span>\n",
       "<span style=\"color: #7fbfbf; text-decoration-color: #7fbfbf\">                    </span>         \u001b<span style=\"font-weight: bold\">[</span><span style=\"color: #008080; text-decoration-color: #008080; font-weight: bold\">1</span>;39mexit                                              \u001b<span style=\"font-weight: bold\">[</span>0mQuit        <span style=\"color: #7f7f7f; text-decoration-color: #7f7f7f\">               </span>\n",
       "<span style=\"color: #7fbfbf; text-decoration-color: #7fbfbf\">                    </span>         program                                                                <span style=\"color: #7f7f7f; text-decoration-color: #7f7f7f\">               </span>\n",
       "<span style=\"color: #7fbfbf; text-decoration-color: #7fbfbf\">                    </span>         \u001b<span style=\"font-weight: bold\">[</span><span style=\"color: #008080; text-decoration-color: #008080; font-weight: bold\">1</span>;39mhelp                                              \u001b<span style=\"font-weight: bold\">[</span>0mDisplay     <span style=\"color: #7f7f7f; text-decoration-color: #7f7f7f\">               </span>\n",
       "<span style=\"color: #7fbfbf; text-decoration-color: #7fbfbf\">                    </span>         help about this program                                                <span style=\"color: #7f7f7f; text-decoration-color: #7f7f7f\">               </span>\n",
       "<span style=\"color: #7fbfbf; text-decoration-color: #7fbfbf\">                    </span>         \u001b<span style=\"font-weight: bold\">[</span><span style=\"color: #008080; text-decoration-color: #008080; font-weight: bold\">1</span>;39mexport                                            \u001b<span style=\"font-weight: bold\">[</span>0mPrint       <span style=\"color: #7f7f7f; text-decoration-color: #7f7f7f\">               </span>\n",
       "<span style=\"color: #7fbfbf; text-decoration-color: #7fbfbf\">                    </span>         environment variables                                                  <span style=\"color: #7f7f7f; text-decoration-color: #7f7f7f\">               </span>\n",
       "<span style=\"color: #7fbfbf; text-decoration-color: #7fbfbf\">                    </span>         \u001b<span style=\"font-weight: bold\">[</span>?2004h\u001b<span style=\"font-weight: bold\">[</span><span style=\"color: #008080; text-decoration-color: #008080; font-weight: bold\">0</span>;94m<span style=\"font-weight: bold\">[</span>ZX-K22 BT5.<span style=\"color: #008080; text-decoration-color: #008080; font-weight: bold\">1</span><span style=\"font-weight: bold\">]</span>\u001b<span style=\"font-weight: bold\">[</span>0m<span style=\"font-weight: bold\">]</span>                                        <span style=\"color: #7f7f7f; text-decoration-color: #7f7f7f\">               </span>\n",
       "</pre>\n"
      ],
      "text/plain": [
       "\u001b[2;36m                   \u001b[0m\u001b[2;36m \u001b[0m\u001b[32mDEBUG   \u001b[0m \u001b[1;36m2024\u001b[0m-\u001b[1;36m09\u001b[0m-\u001b[1;36m29\u001b[0m \u001b[1;92m15:58:18\u001b[0m,\u001b[1;36m463\u001b[0m - DEBUG - Adding to output:\u001b[1m[\u001b[0m \u001b\u001b[1m[\u001b[0m?2004l           \u001b]8;id=331762;file:///tmp/ipykernel_16595/508631921.py\u001b\\\u001b[2m508631921.py\u001b[0m\u001b]8;;\u001b\\\u001b[2m:\u001b[0m\u001b]8;id=322994;file:///tmp/ipykernel_16595/508631921.py#43\u001b\\\u001b[2m43\u001b[0m\u001b]8;;\u001b\\\n",
       "\u001b[2;36m                    \u001b[0m         \u001b\u001b[1m[\u001b[0m\u001b[1;36m1\u001b[0m;39mMenu main:\u001b\u001b[1m[\u001b[0m0m                                                    \u001b[2m               \u001b[0m\n",
       "\u001b[2;36m                    \u001b[0m         \u001b\u001b[1m[\u001b[0m\u001b[1;36m1\u001b[0m;39mAvailable commands:\u001b\u001b[1m[\u001b[0m0m                                           \u001b[2m               \u001b[0m\n",
       "\u001b[2;36m                    \u001b[0m         \u001b\u001b[1m[\u001b[0m\u001b[1;36m1\u001b[0m;39m-------------------\u001b\u001b[1m[\u001b[0m0m                                           \u001b[2m               \u001b[0m\n",
       "\u001b[2;36m                    \u001b[0m         \u001b\u001b[1m[\u001b[0m\u001b[1;36m0\u001b[0m;94madvertise                                         \u001b\u001b[1m[\u001b[0m0mAdvertise   \u001b[2m               \u001b[0m\n",
       "\u001b[2;36m                    \u001b[0m         Options Submenu                                                        \u001b[2m               \u001b[0m\n",
       "\u001b[2;36m                    \u001b[0m         \u001b\u001b[1m[\u001b[0m\u001b[1;36m0\u001b[0m;94mmonitor                                                          \u001b[2m               \u001b[0m\n",
       "\u001b[2;36m                    \u001b[0m         \u001b\u001b[1m[\u001b[0m0mAdvertisement Monitor Options Submenu                               \u001b[2m               \u001b[0m\n",
       "\u001b[2;36m                    \u001b[0m         \u001b\u001b[1m[\u001b[0m\u001b[1;36m0\u001b[0m;94mscan                                              \u001b\u001b[1m[\u001b[0m0mScan        \u001b[2m               \u001b[0m\n",
       "\u001b[2;36m                    \u001b[0m         Options Submenu                                                        \u001b[2m               \u001b[0m\n",
       "\u001b[2;36m                    \u001b[0m         \u001b\u001b[1m[\u001b[0m\u001b[1;36m0\u001b[0m;94mgatt                                              \u001b\u001b[1m[\u001b[0m0mGeneric     \u001b[2m               \u001b[0m\n",
       "\u001b[2;36m                    \u001b[0m         Attribute Submenu                                                      \u001b[2m               \u001b[0m\n",
       "\u001b[2;36m                    \u001b[0m         \u001b\u001b[1m[\u001b[0m\u001b[1;36m0\u001b[0m;94madmin                                             \u001b\u001b[1m[\u001b[0m0mAdmin       \u001b[2m               \u001b[0m\n",
       "\u001b[2;36m                    \u001b[0m         Policy Submenu                                                         \u001b[2m               \u001b[0m\n",
       "\u001b[2;36m                    \u001b[0m         \u001b\u001b[1m[\u001b[0m\u001b[1;36m0\u001b[0m;94mplayer                                            \u001b\u001b[1m[\u001b[0m0mMedia       \u001b[2m               \u001b[0m\n",
       "\u001b[2;36m                    \u001b[0m         Player Submenu                                                         \u001b[2m               \u001b[0m\n",
       "\u001b[2;36m                    \u001b[0m         \u001b\u001b[1m[\u001b[0m\u001b[1;36m0\u001b[0m;94mendpoint                                          \u001b\u001b[1m[\u001b[0m0mMedia       \u001b[2m               \u001b[0m\n",
       "\u001b[2;36m                    \u001b[0m         Endpoint Submenu                                                       \u001b[2m               \u001b[0m\n",
       "\u001b[2;36m                    \u001b[0m         \u001b\u001b[1m[\u001b[0m\u001b[1;36m0\u001b[0m;94mtransport                                         \u001b\u001b[1m[\u001b[0m0mMedia       \u001b[2m               \u001b[0m\n",
       "\u001b[2;36m                    \u001b[0m         Transport Submenu                                                      \u001b[2m               \u001b[0m\n",
       "\u001b[2;36m                    \u001b[0m         \u001b\u001b[1m[\u001b[0m\u001b[1;36m0\u001b[0m;94mmgmt                                              \u001b\u001b[1m[\u001b[0m0mManagement  \u001b[2m               \u001b[0m\n",
       "\u001b[2;36m                    \u001b[0m         Submenu                                                                \u001b[2m               \u001b[0m\n",
       "\u001b[2;36m                    \u001b[0m         \u001b\u001b[1m[\u001b[0m\u001b[1;36m0\u001b[0m;94mmonitor                                                          \u001b[2m               \u001b[0m\n",
       "\u001b[2;36m                    \u001b[0m         \u001b\u001b[1m[\u001b[0m0mAdvertisement Monitor Submenu                                       \u001b[2m               \u001b[0m\n",
       "\u001b[2;36m                    \u001b[0m         \u001b\u001b[1m[\u001b[0m\u001b[1;36m1\u001b[0m;39mlist                                              \u001b\u001b[1m[\u001b[0m0mList        \u001b[2m               \u001b[0m\n",
       "\u001b[2;36m                    \u001b[0m         available controllers                                                  \u001b[2m               \u001b[0m\n",
       "\u001b[2;36m                    \u001b[0m         \u001b\u001b[1m[\u001b[0m\u001b[1;36m1\u001b[0m;39mshow \u001b[1m[\u001b[0mctrl\u001b[1m]\u001b[0m                                       \u001b\u001b[1m[\u001b[0m0mController  \u001b[2m               \u001b[0m\n",
       "\u001b[2;36m                    \u001b[0m         information                                                            \u001b[2m               \u001b[0m\n",
       "\u001b[2;36m                    \u001b[0m         \u001b\u001b[1m[\u001b[0m\u001b[1;36m1\u001b[0m;39mselect \u001b[1m<\u001b[0m\u001b[1;95mctrl\u001b[0m\u001b[39m>                                     \u001b\u001b[0m\u001b[1;39m[\u001b[0m\u001b[39m0mSelect \u001b[0m     \u001b[2m               \u001b[0m\n",
       "\u001b[2;36m                    \u001b[0m         \u001b[39mdefault controller\u001b[0m                                                     \u001b[2m               \u001b[0m\n",
       "\u001b[2;36m                    \u001b[0m         \u001b[39m\u001b\u001b[0m\u001b[1;39m[\u001b[0m\u001b[1;36m1\u001b[0m\u001b[39m;39mdevices \u001b[0m\u001b[1;39m[\u001b[0m\u001b[39mPaired/Bonded/Trusted/Connected\u001b[0m\u001b[1;39m]\u001b[0m\u001b[39m         \u001b\u001b[0m\u001b[1;39m[\u001b[0m\u001b[39m0mList \u001b[0m       \u001b[2m               \u001b[0m\n",
       "\u001b[2;36m                    \u001b[0m         \u001b[39mavailable devices, with an optional property as the filter\u001b[0m             \u001b[2m               \u001b[0m\n",
       "\u001b[2;36m                    \u001b[0m         \u001b[39m\u001b\u001b[0m\u001b[1;39m[\u001b[0m\u001b[1;36m1\u001b[0m\u001b[39m;39msystem-alias <name>                               \u001b\u001b[0m\u001b[1;39m[\u001b[0m\u001b[39m0mSet \u001b[0m        \u001b[2m               \u001b[0m\n",
       "\u001b[2;36m                    \u001b[0m         \u001b[39mcontroller alias\u001b[0m                                                       \u001b[2m               \u001b[0m\n",
       "\u001b[2;36m                    \u001b[0m         \u001b[39m\u001b\u001b[0m\u001b[1;39m[\u001b[0m\u001b[1;36m1\u001b[0m\u001b[39m;39mreset-alias                                       \u001b\u001b[0m\u001b[1;39m[\u001b[0m\u001b[39m0mReset \u001b[0m      \u001b[2m               \u001b[0m\n",
       "\u001b[2;36m                    \u001b[0m         \u001b[39mcontroller alias\u001b[0m                                                       \u001b[2m               \u001b[0m\n",
       "\u001b[2;36m                    \u001b[0m         \u001b[39m\u001b\u001b[0m\u001b[1;39m[\u001b[0m\u001b[1;36m1\u001b[0m\u001b[39m;39mpower <on/off>                                    \u001b\u001b[0m\u001b[1;39m[\u001b[0m\u001b[39m0mSet \u001b[0m        \u001b[2m               \u001b[0m\n",
       "\u001b[2;36m                    \u001b[0m         \u001b[39mcontroller power\u001b[0m                                                       \u001b[2m               \u001b[0m\n",
       "\u001b[2;36m                    \u001b[0m         \u001b[39m\u001b\u001b[0m\u001b[1;39m[\u001b[0m\u001b[1;36m1\u001b[0m\u001b[39m;39mpairable <on/off>                                 \u001b\u001b[0m\u001b[1;39m[\u001b[0m\u001b[39m0mSet \u001b[0m        \u001b[2m               \u001b[0m\n",
       "\u001b[2;36m                    \u001b[0m         \u001b[39mcontroller pairable mode\u001b[0m                                               \u001b[2m               \u001b[0m\n",
       "\u001b[2;36m                    \u001b[0m         \u001b[39m\u001b\u001b[0m\u001b[1;39m[\u001b[0m\u001b[1;36m1\u001b[0m\u001b[39m;39mdiscoverable <on/off>                             \u001b\u001b[0m\u001b[1;39m[\u001b[0m\u001b[39m0mSet \u001b[0m        \u001b[2m               \u001b[0m\n",
       "\u001b[2;36m                    \u001b[0m         \u001b[39mcontroller discoverable mode\u001b[0m                                           \u001b[2m               \u001b[0m\n",
       "\u001b[2;36m                    \u001b[0m         \u001b[39m\u001b\u001b[0m\u001b[1;39m[\u001b[0m\u001b[1;36m1\u001b[0m\u001b[39m;39mdiscoverable-timeout \u001b[0m\u001b[1;39m[\u001b[0m\u001b[39mvalue\u001b[0m\u001b[1;39m]\u001b[0m\u001b[39m                      \u001b\u001b[0m\u001b[1;39m[\u001b[0m\u001b[39m0mSet \u001b[0m        \u001b[2m               \u001b[0m\n",
       "\u001b[2;36m                    \u001b[0m         \u001b[39mdiscoverable timeout\u001b[0m                                                   \u001b[2m               \u001b[0m\n",
       "\u001b[2;36m                    \u001b[0m         \u001b[39m\u001b\u001b[0m\u001b[1;39m[\u001b[0m\u001b[1;36m1\u001b[0m\u001b[39m;39magent <on/off/auto/capability>                    \u001b[0m               \u001b[2m               \u001b[0m\n",
       "\u001b[2;36m                    \u001b[0m         \u001b[39m\u001b\u001b[0m\u001b[1;39m[\u001b[0m\u001b[39m0mEnable/disable agent with given capability\u001b[0m                          \u001b[2m               \u001b[0m\n",
       "\u001b[2;36m                    \u001b[0m         \u001b[39m\u001b\u001b[0m\u001b[1;39m[\u001b[0m\u001b[1;36m1\u001b[0m\u001b[39m;39mdefault-agent                                     \u001b\u001b[0m\u001b[1;39m[\u001b[0m\u001b[39m0mSet agent\u001b[0m   \u001b[2m               \u001b[0m\n",
       "\u001b[2;36m                    \u001b[0m         \u001b[39mas the default one\u001b[0m                                                     \u001b[2m               \u001b[0m\n",
       "\u001b[2;36m                    \u001b[0m         \u001b[39m\u001b\u001b[0m\u001b[1;39m[\u001b[0m\u001b[1;36m1\u001b[0m\u001b[39m;39madvertise <on/off/type>                           \u001b[0m               \u001b[2m               \u001b[0m\n",
       "\u001b[2;36m                    \u001b[0m         \u001b[39m\u001b\u001b[0m\u001b[1;39m[\u001b[0m\u001b[39m0mEnable/disable advertising with given type\u001b[0m                          \u001b[2m               \u001b[0m\n",
       "\u001b[2;36m                    \u001b[0m         \u001b[39m\u001b\u001b[0m\u001b[1;39m[\u001b[0m\u001b[1;36m1\u001b[0m\u001b[39m;39mset-alias <alias>                                 \u001b\u001b[0m\u001b[1;39m[\u001b[0m\u001b[39m0mSet device\u001b[0m  \u001b[2m               \u001b[0m\n",
       "\u001b[2;36m                    \u001b[0m         \u001b[39malias\u001b[0m                                                                  \u001b[2m               \u001b[0m\n",
       "\u001b[2;36m                    \u001b[0m         \u001b[39m\u001b\u001b[0m\u001b[1;39m[\u001b[0m\u001b[1;36m1\u001b[0m\u001b[39m;39mscan <on/off/bredr/le>                            \u001b\u001b[0m\u001b[1;39m[\u001b[0m\u001b[39m0mScan for \u001b[0m   \u001b[2m               \u001b[0m\n",
       "\u001b[2;36m                    \u001b[0m         \u001b[39mdevices\u001b[0m                                                                \u001b[2m               \u001b[0m\n",
       "\u001b[2;36m                    \u001b[0m         \u001b[39m\u001b\u001b[0m\u001b[1;39m[\u001b[0m\u001b[1;36m1\u001b[0m\u001b[39m;39minfo \u001b[0m\u001b[1;39m[\u001b[0m\u001b[39mdev/set\u001b[0m\u001b[1;39m]\u001b[0m\u001b[39m                                    \u001b\u001b[0m\u001b[1;39m[\u001b[0m\u001b[39m0mDevice/Set\u001b[0m  \u001b[2m               \u001b[0m\n",
       "\u001b[2;36m                    \u001b[0m         \u001b[39minformation\u001b[0m                                                            \u001b[2m               \u001b[0m\n",
       "\u001b[2;36m                    \u001b[0m         \u001b[39m\u001b\u001b[0m\u001b[1;39m[\u001b[0m\u001b[1;36m1\u001b[0m\u001b[39m;39mpair \u001b[0m\u001b[1;39m[\u001b[0m\u001b[39mdev\u001b[0m\u001b[1;39m]\u001b[0m\u001b[39m                                        \u001b\u001b[0m\u001b[1;39m[\u001b[0m\u001b[39m0mPair with\u001b[0m   \u001b[2m               \u001b[0m\n",
       "\u001b[2;36m                    \u001b[0m         \u001b[39mdevice\u001b[0m                                                                 \u001b[2m               \u001b[0m\n",
       "\u001b[2;36m                    \u001b[0m         \u001b[39m\u001b\u001b[0m\u001b[1;39m[\u001b[0m\u001b[1;36m1\u001b[0m\u001b[39m;39mcancel-pairing \u001b[0m\u001b[1;39m[\u001b[0m\u001b[39mdev\u001b[0m\u001b[1;39m]\u001b[0m\u001b[39m                              \u001b\u001b[0m\u001b[1;39m[\u001b[0m\u001b[39m0mCancel \u001b[0m     \u001b[2m               \u001b[0m\n",
       "\u001b[2;36m                    \u001b[0m         \u001b[39mpairing with device\u001b[0m                                                    \u001b[2m               \u001b[0m\n",
       "\u001b[2;36m                    \u001b[0m         \u001b[39m\u001b\u001b[0m\u001b[1;39m[\u001b[0m\u001b[1;36m1\u001b[0m\u001b[39m;39mtrust \u001b[0m\u001b[1;39m[\u001b[0m\u001b[39mdev\u001b[0m\u001b[1;39m]\u001b[0m\u001b[39m                                       \u001b\u001b[0m\u001b[1;39m[\u001b[0m\u001b[39m0mTrust \u001b[0m      \u001b[2m               \u001b[0m\n",
       "\u001b[2;36m                    \u001b[0m         \u001b[39mdevice\u001b[0m                                                                 \u001b[2m               \u001b[0m\n",
       "\u001b[2;36m                    \u001b[0m         \u001b[39m\u001b\u001b[0m\u001b[1;39m[\u001b[0m\u001b[1;36m1\u001b[0m\u001b[39m;39muntrust \u001b[0m\u001b[1;39m[\u001b[0m\u001b[39mdev\u001b[0m\u001b[1;39m]\u001b[0m\u001b[39m                                     \u001b\u001b[0m\u001b[1;39m[\u001b[0m\u001b[39m0mUntrust \u001b[0m    \u001b[2m               \u001b[0m\n",
       "\u001b[2;36m                    \u001b[0m         \u001b[39mdevice\u001b[0m                                                                 \u001b[2m               \u001b[0m\n",
       "\u001b[2;36m                    \u001b[0m         \u001b[39m\u001b\u001b[0m\u001b[1;39m[\u001b[0m\u001b[1;36m1\u001b[0m\u001b[39m;39mblock \u001b[0m\u001b[1;39m[\u001b[0m\u001b[39mdev\u001b[0m\u001b[1;39m]\u001b[0m\u001b[39m                                       \u001b\u001b[0m\u001b[1;39m[\u001b[0m\u001b[39m0mBlock \u001b[0m      \u001b[2m               \u001b[0m\n",
       "\u001b[2;36m                    \u001b[0m         \u001b[39mdevice\u001b[0m                                                                 \u001b[2m               \u001b[0m\n",
       "\u001b[2;36m                    \u001b[0m         \u001b[39m\u001b\u001b[0m\u001b[1;39m[\u001b[0m\u001b[1;36m1\u001b[0m\u001b[39m;39munblock \u001b[0m\u001b[1;39m[\u001b[0m\u001b[39mdev\u001b[0m\u001b[1;39m]\u001b[0m\u001b[39m                                     \u001b\u001b[0m\u001b[1;39m[\u001b[0m\u001b[39m0mUnblock \u001b[0m    \u001b[2m               \u001b[0m\n",
       "\u001b[2;36m                    \u001b[0m         \u001b[39mdevice\u001b[0m                                                                 \u001b[2m               \u001b[0m\n",
       "\u001b[2;36m                    \u001b[0m         \u001b[39m\u001b\u001b[0m\u001b[1;39m[\u001b[0m\u001b[1;36m1\u001b[0m\u001b[39m;39mremove <dev>                                      \u001b\u001b[0m\u001b[1;39m[\u001b[0m\u001b[39m0mRemove \u001b[0m     \u001b[2m               \u001b[0m\n",
       "\u001b[2;36m                    \u001b[0m         \u001b[39mdevice\u001b[0m                                                                 \u001b[2m               \u001b[0m\n",
       "\u001b[2;36m                    \u001b[0m         \u001b[39m\u001b\u001b[0m\u001b[1;39m[\u001b[0m\u001b[1;36m1\u001b[0m\u001b[39m;39mconnect <dev>                                     \u001b\u001b[0m\u001b[1;39m[\u001b[0m\u001b[39m0mConnect \u001b[0m    \u001b[2m               \u001b[0m\n",
       "\u001b[2;36m                    \u001b[0m         \u001b[39mdevice\u001b[0m                                                                 \u001b[2m               \u001b[0m\n",
       "\u001b[2;36m                    \u001b[0m         \u001b[39m\u001b\u001b[0m\u001b[1;39m[\u001b[0m\u001b[1;36m1\u001b[0m\u001b[39m;39mdisconnect \u001b[0m\u001b[1;39m[\u001b[0m\u001b[39mdev\u001b[0m\u001b[1;39m]\u001b[0m\u001b[39m                                  \u001b\u001b[0m\u001b[1;39m[\u001b[0m\u001b[39m0mDisconnect\u001b[0m  \u001b[2m               \u001b[0m\n",
       "\u001b[2;36m                    \u001b[0m         \u001b[39mdevice\u001b[0m                                                                 \u001b[2m               \u001b[0m\n",
       "\u001b[2;36m                    \u001b[0m         \u001b[39m\u001b\u001b[0m\u001b[1;39m[\u001b[0m\u001b[1;36m1\u001b[0m\u001b[39m;39mmenu <name\u001b[0m\u001b[1m>\u001b[0m                                       \u001b\u001b[1m[\u001b[0m0mSelect      \u001b[2m               \u001b[0m\n",
       "\u001b[2;36m                    \u001b[0m         submenu                                                                \u001b[2m               \u001b[0m\n",
       "\u001b[2;36m                    \u001b[0m         \u001b\u001b[1m[\u001b[0m\u001b[1;36m1\u001b[0m;39mversion                                           \u001b\u001b[1m[\u001b[0m0mDisplay     \u001b[2m               \u001b[0m\n",
       "\u001b[2;36m                    \u001b[0m         version                                                                \u001b[2m               \u001b[0m\n",
       "\u001b[2;36m                    \u001b[0m         \u001b\u001b[1m[\u001b[0m\u001b[1;36m1\u001b[0m;39mquit                                              \u001b\u001b[1m[\u001b[0m0mQuit        \u001b[2m               \u001b[0m\n",
       "\u001b[2;36m                    \u001b[0m         program                                                                \u001b[2m               \u001b[0m\n",
       "\u001b[2;36m                    \u001b[0m         \u001b\u001b[1m[\u001b[0m\u001b[1;36m1\u001b[0m;39mexit                                              \u001b\u001b[1m[\u001b[0m0mQuit        \u001b[2m               \u001b[0m\n",
       "\u001b[2;36m                    \u001b[0m         program                                                                \u001b[2m               \u001b[0m\n",
       "\u001b[2;36m                    \u001b[0m         \u001b\u001b[1m[\u001b[0m\u001b[1;36m1\u001b[0m;39mhelp                                              \u001b\u001b[1m[\u001b[0m0mDisplay     \u001b[2m               \u001b[0m\n",
       "\u001b[2;36m                    \u001b[0m         help about this program                                                \u001b[2m               \u001b[0m\n",
       "\u001b[2;36m                    \u001b[0m         \u001b\u001b[1m[\u001b[0m\u001b[1;36m1\u001b[0m;39mexport                                            \u001b\u001b[1m[\u001b[0m0mPrint       \u001b[2m               \u001b[0m\n",
       "\u001b[2;36m                    \u001b[0m         environment variables                                                  \u001b[2m               \u001b[0m\n",
       "\u001b[2;36m                    \u001b[0m         \u001b\u001b[1m[\u001b[0m?2004h\u001b\u001b[1m[\u001b[0m\u001b[1;36m0\u001b[0m;94m\u001b[1m[\u001b[0mZX-K22 BT5.\u001b[1;36m1\u001b[0m\u001b[1m]\u001b[0m\u001b\u001b[1m[\u001b[0m0m\u001b[1m]\u001b[0m                                        \u001b[2m               \u001b[0m\n"
      ]
     },
     "metadata": {},
     "output_type": "display_data"
    }
   ],
   "source": [
    "# get help\n",
    "res=btctl.get_output(\"help\",pause=3)"
   ]
  },
  {
   "cell_type": "markdown",
   "id": "b8f6bcc8-e930-4550-87f1-65b6e6486ac2",
   "metadata": {},
   "source": [
    "Now how output is returned by method as interpretated unicode"
   ]
  },
  {
   "cell_type": "code",
   "execution_count": 23,
   "id": "c1c9188c-0434-413a-b38c-165d3e2358b8",
   "metadata": {},
   "outputs": [
    {
     "name": "stdout",
     "output_type": "stream",
     "text": [
      " \u001b[?2004l\n",
      "\u001b[1;39mMenu main:\u001b[0m\n",
      "\u001b[1;39mAvailable commands:\u001b[0m\n",
      "\u001b[1;39m-------------------\u001b[0m\n",
      "\u001b[0;94madvertise                                         \u001b[0mAdvertise Options Submenu\n",
      "\u001b[0;94mmonitor                                           \u001b[0mAdvertisement Monitor Options Submenu\n",
      "\u001b[0;94mscan                                              \u001b[0mScan Options Submenu\n",
      "\u001b[0;94mgatt                                              \u001b[0mGeneric Attribute Submenu\n",
      "\u001b[0;94madmin                                             \u001b[0mAdmin Policy Submenu\n",
      "\u001b[0;94mplayer                                            \u001b[0mMedia Player Submenu\n",
      "\u001b[0;94mendpoint                                          \u001b[0mMedia Endpoint Submenu\n",
      "\u001b[0;94mtransport                                         \u001b[0mMedia Transport Submenu\n",
      "\u001b[0;94mmgmt                                              \u001b[0mManagement Submenu\n",
      "\u001b[0;94mmonitor                                           \u001b[0mAdvertisement Monitor Submenu\n",
      "\u001b[1;39mlist                                              \u001b[0mList available controllers\n",
      "\u001b[1;39mshow [ctrl]                                       \u001b[0mController information\n",
      "\u001b[1;39mselect <ctrl>                                     \u001b[0mSelect default controller\n",
      "\u001b[1;39mdevices [Paired/Bonded/Trusted/Connected]         \u001b[0mList available devices, with an optional property as the filter\n",
      "\u001b[1;39msystem-alias <name>                               \u001b[0mSet controller alias\n",
      "\u001b[1;39mreset-alias                                       \u001b[0mReset controller alias\n",
      "\u001b[1;39mpower <on/off>                                    \u001b[0mSet controller power\n",
      "\u001b[1;39mpairable <on/off>                                 \u001b[0mSet controller pairable mode\n",
      "\u001b[1;39mdiscoverable <on/off>                             \u001b[0mSet controller discoverable mode\n",
      "\u001b[1;39mdiscoverable-timeout [value]                      \u001b[0mSet discoverable timeout\n",
      "\u001b[1;39magent <on/off/auto/capability>                    \u001b[0mEnable/disable agent with given capability\n",
      "\u001b[1;39mdefault-agent                                     \u001b[0mSet agent as the default one\n",
      "\u001b[1;39madvertise <on/off/type>                           \u001b[0mEnable/disable advertising with given type\n",
      "\u001b[1;39mset-alias <alias>                                 \u001b[0mSet device alias\n",
      "\u001b[1;39mscan <on/off/bredr/le>                            \u001b[0mScan for devices\n",
      "\u001b[1;39minfo [dev/set]                                    \u001b[0mDevice/Set information\n",
      "\u001b[1;39mpair [dev]                                        \u001b[0mPair with device\n",
      "\u001b[1;39mcancel-pairing [dev]                              \u001b[0mCancel pairing with device\n",
      "\u001b[1;39mtrust [dev]                                       \u001b[0mTrust device\n",
      "\u001b[1;39muntrust [dev]                                     \u001b[0mUntrust device\n",
      "\u001b[1;39mblock [dev]                                       \u001b[0mBlock device\n",
      "\u001b[1;39munblock [dev]                                     \u001b[0mUnblock device\n",
      "\u001b[1;39mremove <dev>                                      \u001b[0mRemove device\n",
      "\u001b[1;39mconnect <dev>                                     \u001b[0mConnect device\n",
      "\u001b[1;39mdisconnect [dev]                                  \u001b[0mDisconnect device\n",
      "\u001b[1;39mmenu <name>                                       \u001b[0mSelect submenu\n",
      "\u001b[1;39mversion                                           \u001b[0mDisplay version\n",
      "\u001b[1;39mquit                                              \u001b[0mQuit program\n",
      "\u001b[1;39mexit                                              \u001b[0mQuit program\n",
      "\u001b[1;39mhelp                                              \u001b[0mDisplay help about this program\n",
      "\u001b[1;39mexport                                            \u001b[0mPrint environment variables\n",
      "\u001b[?2004h\u001b[0;94m[ZX-K22 BT5.1]\u001b[0m\n"
     ]
    }
   ],
   "source": [
    "print(res)"
   ]
  },
  {
   "cell_type": "markdown",
   "id": "1b21dac2-1e35-44b5-87d8-112dfc76c7b2",
   "metadata": {},
   "source": [
    "An then as it appears in unicode"
   ]
  },
  {
   "cell_type": "code",
   "execution_count": 24,
   "id": "a78865ae-bfdc-4e16-8d2c-7b04e1c1f55d",
   "metadata": {},
   "outputs": [
    {
     "name": "stdout",
     "output_type": "stream",
     "text": [
      "---RAW-UNICODE-RESULT-----------------------------------\n",
      "b' \\x1b[?2004l\\r\\r\\n\\x1b[1;39mMenu main:\\x1b[0m\\r\\n\\x1b[1;39mAvailable commands:\\x1b[0m\\r\\n\\x1b[1;39m-------------------\\x1b[0m\\r\\n\\x1b[0;94madvertise                                         \\x1b[0mAdvertise Options Submenu\\r\\n\\x1b[0;94mmonitor                                           \\x1b[0mAdvertisement Monitor Options Submenu\\r\\n\\x1b[0;94mscan                                              \\x1b[0mScan Options Submenu\\r\\n\\x1b[0;94mgatt                                              \\x1b[0mGeneric Attribute Submenu\\r\\n\\x1b[0;94madmin                                             \\x1b[0mAdmin Policy Submenu\\r\\n\\x1b[0;94mplayer                                            \\x1b[0mMedia Player Submenu\\r\\n\\x1b[0;94mendpoint                                          \\x1b[0mMedia Endpoint Submenu\\r\\n\\x1b[0;94mtransport                                         \\x1b[0mMedia Transport Submenu\\r\\n\\x1b[0;94mmgmt                                              \\x1b[0mManagement Submenu\\r\\n\\x1b[0;94mmonitor                                           \\x1b[0mAdvertisement Monitor Submenu\\r\\n\\x1b[1;39mlist                                              \\x1b[0mList available controllers\\r\\n\\x1b[1;39mshow [ctrl]                                       \\x1b[0mController information\\r\\n\\x1b[1;39mselect <ctrl>                                     \\x1b[0mSelect default controller\\r\\n\\x1b[1;39mdevices [Paired/Bonded/Trusted/Connected]         \\x1b[0mList available devices, with an optional property as the filter\\r\\n\\x1b[1;39msystem-alias <name>                               \\x1b[0mSet controller alias\\r\\n\\x1b[1;39mreset-alias                                       \\x1b[0mReset controller alias\\r\\n\\x1b[1;39mpower <on/off>                                    \\x1b[0mSet controller power\\r\\n\\x1b[1;39mpairable <on/off>                                 \\x1b[0mSet controller pairable mode\\r\\n\\x1b[1;39mdiscoverable <on/off>                             \\x1b[0mSet controller discoverable mode\\r\\n\\x1b[1;39mdiscoverable-timeout [value]                      \\x1b[0mSet discoverable timeout\\r\\n\\x1b[1;39magent <on/off/auto/capability>                    \\x1b[0mEnable/disable agent with given capability\\r\\n\\x1b[1;39mdefault-agent                                     \\x1b[0mSet agent as the default one\\r\\n\\x1b[1;39madvertise <on/off/type>                           \\x1b[0mEnable/disable advertising with given type\\r\\n\\x1b[1;39mset-alias <alias>                                 \\x1b[0mSet device alias\\r\\n\\x1b[1;39mscan <on/off/bredr/le>                            \\x1b[0mScan for devices\\r\\n\\x1b[1;39minfo [dev/set]                                    \\x1b[0mDevice/Set information\\r\\n\\x1b[1;39mpair [dev]                                        \\x1b[0mPair with device\\r\\n\\x1b[1;39mcancel-pairing [dev]                              \\x1b[0mCancel pairing with device\\r\\n\\x1b[1;39mtrust [dev]                                       \\x1b[0mTrust device\\r\\n\\x1b[1;39muntrust [dev]                                     \\x1b[0mUntrust device\\r\\n\\x1b[1;39mblock [dev]                                       \\x1b[0mBlock device\\r\\n\\x1b[1;39munblock [dev]                                     \\x1b[0mUnblock device\\r\\n\\x1b[1;39mremove <dev>                                      \\x1b[0mRemove device\\r\\n\\x1b[1;39mconnect <dev>                                     \\x1b[0mConnect device\\r\\n\\x1b[1;39mdisconnect [dev]                                  \\x1b[0mDisconnect device\\r\\n\\x1b[1;39mmenu <name>                                       \\x1b[0mSelect submenu\\r\\n\\x1b[1;39mversion                                           \\x1b[0mDisplay version\\r\\n\\x1b[1;39mquit                                              \\x1b[0mQuit program\\r\\n\\x1b[1;39mexit                                              \\x1b[0mQuit program\\r\\n\\x1b[1;39mhelp                                              \\x1b[0mDisplay help about this program\\r\\n\\x1b[1;39mexport                                            \\x1b[0mPrint environment variables\\r\\n\\x1b[?2004h\\x1b[0;94m[ZX-K22 BT5.1]\\x1b[0m'\n"
     ]
    }
   ],
   "source": [
    "printunicode(res)"
   ]
  },
  {
   "cell_type": "markdown",
   "id": "81c257a4-65be-4f08-970f-7780b2d982db",
   "metadata": {},
   "source": [
    "Going on with list of controller in each format"
   ]
  },
  {
   "cell_type": "code",
   "execution_count": 64,
   "id": "b016ba8e-d49d-4ed2-a26f-54944121eabc",
   "metadata": {},
   "outputs": [
    {
     "data": {
      "text/html": [
       "<pre style=\"white-space:pre;overflow-x:auto;line-height:normal;font-family:Menlo,'DejaVu Sans Mono',consolas,'Courier New',monospace\"><span style=\"color: #7fbfbf; text-decoration-color: #7fbfbf\">[09/29/24 17:01:57] </span><span style=\"color: #000080; text-decoration-color: #000080\">INFO    </span> <span style=\"color: #008080; text-decoration-color: #008080; font-weight: bold\">2024</span>-<span style=\"color: #008080; text-decoration-color: #008080; font-weight: bold\">09</span>-<span style=\"color: #008080; text-decoration-color: #008080; font-weight: bold\">29</span> <span style=\"color: #00ff00; text-decoration-color: #00ff00; font-weight: bold\">17:01:57</span>,<span style=\"color: #008080; text-decoration-color: #008080; font-weight: bold\">969</span> - INFO - Sending command <span style=\"font-weight: bold\">[</span>list<span style=\"font-weight: bold\">]</span> with          <a href=\"file:///tmp/ipykernel_16595/4091806857.py\" target=\"_blank\"><span style=\"color: #7f7f7f; text-decoration-color: #7f7f7f\">4091806857.py</span></a><span style=\"color: #7f7f7f; text-decoration-color: #7f7f7f\">:</span><a href=\"file:///tmp/ipykernel_16595/4091806857.py#39\" target=\"_blank\"><span style=\"color: #7f7f7f; text-decoration-color: #7f7f7f\">39</span></a>\n",
       "<span style=\"color: #7fbfbf; text-decoration-color: #7fbfbf\">                    </span>         <span style=\"color: #808000; text-decoration-color: #808000\">expected</span>=<span style=\"font-weight: bold\">[[</span><span style=\"color: #008000; text-decoration-color: #008000\">'#'</span>, <span style=\"font-weight: bold\">&lt;</span><span style=\"color: #ff00ff; text-decoration-color: #ff00ff; font-weight: bold\">class</span><span style=\"color: #000000; text-decoration-color: #000000\"> </span><span style=\"color: #008000; text-decoration-color: #008000\">'pexpect.exceptions.EOF'</span><span style=\"font-weight: bold\">&gt;]]</span> and <span style=\"color: #808000; text-decoration-color: #808000\">pause</span>=<span style=\"font-weight: bold\">[</span><span style=\"color: #008080; text-decoration-color: #008080; font-weight: bold\">2</span><span style=\"font-weight: bold\">]</span>      <span style=\"color: #7f7f7f; text-decoration-color: #7f7f7f\">                </span>\n",
       "</pre>\n"
      ],
      "text/plain": [
       "\u001b[2;36m[09/29/24 17:01:57]\u001b[0m\u001b[2;36m \u001b[0m\u001b[34mINFO    \u001b[0m \u001b[1;36m2024\u001b[0m-\u001b[1;36m09\u001b[0m-\u001b[1;36m29\u001b[0m \u001b[1;92m17:01:57\u001b[0m,\u001b[1;36m969\u001b[0m - INFO - Sending command \u001b[1m[\u001b[0mlist\u001b[1m]\u001b[0m with          \u001b]8;id=830125;file:///tmp/ipykernel_16595/4091806857.py\u001b\\\u001b[2m4091806857.py\u001b[0m\u001b]8;;\u001b\\\u001b[2m:\u001b[0m\u001b]8;id=72596;file:///tmp/ipykernel_16595/4091806857.py#39\u001b\\\u001b[2m39\u001b[0m\u001b]8;;\u001b\\\n",
       "\u001b[2;36m                    \u001b[0m         \u001b[33mexpected\u001b[0m=\u001b[1m[\u001b[0m\u001b[1m[\u001b[0m\u001b[32m'#'\u001b[0m, \u001b[1m<\u001b[0m\u001b[1;95mclass\u001b[0m\u001b[39m \u001b[0m\u001b[32m'pexpect.exceptions.EOF'\u001b[0m\u001b[1m>\u001b[0m\u001b[1m]\u001b[0m\u001b[1m]\u001b[0m and \u001b[33mpause\u001b[0m=\u001b[1m[\u001b[0m\u001b[1;36m2\u001b[0m\u001b[1m]\u001b[0m      \u001b[2m                \u001b[0m\n"
      ]
     },
     "metadata": {},
     "output_type": "display_data"
    },
    {
     "data": {
      "text/html": [
       "<pre style=\"white-space:pre;overflow-x:auto;line-height:normal;font-family:Menlo,'DejaVu Sans Mono',consolas,'Courier New',monospace\"><span style=\"color: #7fbfbf; text-decoration-color: #7fbfbf\">                    </span><span style=\"color: #008000; text-decoration-color: #008000\">DEBUG   </span> <span style=\"color: #008080; text-decoration-color: #008080; font-weight: bold\">2024</span>-<span style=\"color: #008080; text-decoration-color: #008080; font-weight: bold\">09</span>-<span style=\"color: #008080; text-decoration-color: #008080; font-weight: bold\">29</span> <span style=\"color: #00ff00; text-decoration-color: #00ff00; font-weight: bold\">17:01:57</span>,<span style=\"color: #008080; text-decoration-color: #008080; font-weight: bold\">976</span> - DEBUG - Adding to output:<span style=\"font-weight: bold\">[</span>\u001b<span style=\"font-weight: bold\">[</span>?2004hAgent      <a href=\"file:///tmp/ipykernel_16595/4091806857.py\" target=\"_blank\"><span style=\"color: #7f7f7f; text-decoration-color: #7f7f7f\">4091806857.py</span></a><span style=\"color: #7f7f7f; text-decoration-color: #7f7f7f\">:</span><a href=\"file:///tmp/ipykernel_16595/4091806857.py#45\" target=\"_blank\"><span style=\"color: #7f7f7f; text-decoration-color: #7f7f7f\">45</span></a>\n",
       "<span style=\"color: #7fbfbf; text-decoration-color: #7fbfbf\">                    </span>         registered                                                            <span style=\"color: #7f7f7f; text-decoration-color: #7f7f7f\">                </span>\n",
       "<span style=\"color: #7fbfbf; text-decoration-color: #7fbfbf\">                    </span>         \u001b<span style=\"font-weight: bold\">[</span>?2004l                                                               <span style=\"color: #7f7f7f; text-decoration-color: #7f7f7f\">                </span>\n",
       "<span style=\"color: #7fbfbf; text-decoration-color: #7fbfbf\">                    </span>         Controller <span style=\"color: #00ff00; text-decoration-color: #00ff00; font-weight: bold\">4C:49:6C:0C:6B:4B</span> linuxlite <span style=\"font-weight: bold\">[</span>default<span style=\"font-weight: bold\">]</span>                      <span style=\"color: #7f7f7f; text-decoration-color: #7f7f7f\">                </span>\n",
       "<span style=\"color: #7fbfbf; text-decoration-color: #7fbfbf\">                    </span>         \u001b<span style=\"font-weight: bold\">[</span>?2004h\u001b<span style=\"font-weight: bold\">[</span><span style=\"color: #008080; text-decoration-color: #008080; font-weight: bold\">0</span>;94m<span style=\"font-weight: bold\">[</span>ZX-K22 BT5.<span style=\"color: #008080; text-decoration-color: #008080; font-weight: bold\">1</span><span style=\"font-weight: bold\">]</span>\u001b<span style=\"font-weight: bold\">[</span>0m<span style=\"font-weight: bold\">]</span>                                       <span style=\"color: #7f7f7f; text-decoration-color: #7f7f7f\">                </span>\n",
       "</pre>\n"
      ],
      "text/plain": [
       "\u001b[2;36m                   \u001b[0m\u001b[2;36m \u001b[0m\u001b[32mDEBUG   \u001b[0m \u001b[1;36m2024\u001b[0m-\u001b[1;36m09\u001b[0m-\u001b[1;36m29\u001b[0m \u001b[1;92m17:01:57\u001b[0m,\u001b[1;36m976\u001b[0m - DEBUG - Adding to output:\u001b[1m[\u001b[0m\u001b\u001b[1m[\u001b[0m?2004hAgent      \u001b]8;id=839689;file:///tmp/ipykernel_16595/4091806857.py\u001b\\\u001b[2m4091806857.py\u001b[0m\u001b]8;;\u001b\\\u001b[2m:\u001b[0m\u001b]8;id=82103;file:///tmp/ipykernel_16595/4091806857.py#45\u001b\\\u001b[2m45\u001b[0m\u001b]8;;\u001b\\\n",
       "\u001b[2;36m                    \u001b[0m         registered                                                            \u001b[2m                \u001b[0m\n",
       "\u001b[2;36m                    \u001b[0m         \u001b\u001b[1m[\u001b[0m?2004l                                                               \u001b[2m                \u001b[0m\n",
       "\u001b[2;36m                    \u001b[0m         Controller \u001b[1;92m4C:49:6C:0C:6B:4B\u001b[0m linuxlite \u001b[1m[\u001b[0mdefault\u001b[1m]\u001b[0m                      \u001b[2m                \u001b[0m\n",
       "\u001b[2;36m                    \u001b[0m         \u001b\u001b[1m[\u001b[0m?2004h\u001b\u001b[1m[\u001b[0m\u001b[1;36m0\u001b[0m;94m\u001b[1m[\u001b[0mZX-K22 BT5.\u001b[1;36m1\u001b[0m\u001b[1m]\u001b[0m\u001b\u001b[1m[\u001b[0m0m\u001b[1m]\u001b[0m                                       \u001b[2m                \u001b[0m\n"
      ]
     },
     "metadata": {},
     "output_type": "display_data"
    },
    {
     "name": "stdout",
     "output_type": "stream",
     "text": [
      "\u001b[?2004hAgent registered\n",
      "\u001b[?2004l\n",
      "Controller 4C:49:6C:0C:6B:4B linuxlite [default]\n",
      "\u001b[?2004h\u001b[0;94m[ZX-K22 BT5.1]\u001b[0m\n",
      "---RAW-UNICODE-RESULT-----------------------------------\n",
      "b'\\x1b[?2004hAgent registered\\r\\n\\x1b[?2004l\\r\\r\\nController 4C:49:6C:0C:6B:4B linuxlite [default]\\r\\n\\x1b[?2004h\\x1b[0;94m[ZX-K22 BT5.1]\\x1b[0m'\n"
     ]
    }
   ],
   "source": [
    "# get list of controllers\n",
    "#btctl=Bluetoothctl()\n",
    "res=btctl.get_output(\"list\")\n",
    "print(res)\n",
    "printunicode(res)"
   ]
  },
  {
   "cell_type": "markdown",
   "id": "42b89715-b3bc-48a9-9959-12ca1d7a85b1",
   "metadata": {},
   "source": [
    "Let's see wich devices are connected"
   ]
  },
  {
   "cell_type": "code",
   "execution_count": 65,
   "id": "5564796b-d131-42e9-899d-f0ea91317dee",
   "metadata": {},
   "outputs": [
    {
     "data": {
      "text/html": [
       "<pre style=\"white-space:pre;overflow-x:auto;line-height:normal;font-family:Menlo,'DejaVu Sans Mono',consolas,'Courier New',monospace\"><span style=\"color: #7fbfbf; text-decoration-color: #7fbfbf\">[09/29/24 17:02:05] </span><span style=\"color: #000080; text-decoration-color: #000080\">INFO    </span> <span style=\"color: #008080; text-decoration-color: #008080; font-weight: bold\">2024</span>-<span style=\"color: #008080; text-decoration-color: #008080; font-weight: bold\">09</span>-<span style=\"color: #008080; text-decoration-color: #008080; font-weight: bold\">29</span> <span style=\"color: #00ff00; text-decoration-color: #00ff00; font-weight: bold\">17:02:05</span>,<span style=\"color: #008080; text-decoration-color: #008080; font-weight: bold\">331</span> - INFO - Sending command <span style=\"font-weight: bold\">[</span>devices Connected<span style=\"font-weight: bold\">]</span>  <a href=\"file:///tmp/ipykernel_16595/4091806857.py\" target=\"_blank\"><span style=\"color: #7f7f7f; text-decoration-color: #7f7f7f\">4091806857.py</span></a><span style=\"color: #7f7f7f; text-decoration-color: #7f7f7f\">:</span><a href=\"file:///tmp/ipykernel_16595/4091806857.py#39\" target=\"_blank\"><span style=\"color: #7f7f7f; text-decoration-color: #7f7f7f\">39</span></a>\n",
       "<span style=\"color: #7fbfbf; text-decoration-color: #7fbfbf\">                    </span>         with <span style=\"color: #808000; text-decoration-color: #808000\">expected</span>=<span style=\"font-weight: bold\">[[</span><span style=\"color: #008000; text-decoration-color: #008000\">'#'</span>, <span style=\"font-weight: bold\">&lt;</span><span style=\"color: #ff00ff; text-decoration-color: #ff00ff; font-weight: bold\">class</span><span style=\"color: #000000; text-decoration-color: #000000\"> </span><span style=\"color: #008000; text-decoration-color: #008000\">'pexpect.exceptions.EOF'</span><span style=\"font-weight: bold\">&gt;]]</span> and <span style=\"color: #808000; text-decoration-color: #808000\">pause</span>=<span style=\"font-weight: bold\">[</span><span style=\"color: #008080; text-decoration-color: #008080; font-weight: bold\">2</span><span style=\"font-weight: bold\">]</span> <span style=\"color: #7f7f7f; text-decoration-color: #7f7f7f\">                </span>\n",
       "</pre>\n"
      ],
      "text/plain": [
       "\u001b[2;36m[09/29/24 17:02:05]\u001b[0m\u001b[2;36m \u001b[0m\u001b[34mINFO    \u001b[0m \u001b[1;36m2024\u001b[0m-\u001b[1;36m09\u001b[0m-\u001b[1;36m29\u001b[0m \u001b[1;92m17:02:05\u001b[0m,\u001b[1;36m331\u001b[0m - INFO - Sending command \u001b[1m[\u001b[0mdevices Connected\u001b[1m]\u001b[0m  \u001b]8;id=942674;file:///tmp/ipykernel_16595/4091806857.py\u001b\\\u001b[2m4091806857.py\u001b[0m\u001b]8;;\u001b\\\u001b[2m:\u001b[0m\u001b]8;id=224852;file:///tmp/ipykernel_16595/4091806857.py#39\u001b\\\u001b[2m39\u001b[0m\u001b]8;;\u001b\\\n",
       "\u001b[2;36m                    \u001b[0m         with \u001b[33mexpected\u001b[0m=\u001b[1m[\u001b[0m\u001b[1m[\u001b[0m\u001b[32m'#'\u001b[0m, \u001b[1m<\u001b[0m\u001b[1;95mclass\u001b[0m\u001b[39m \u001b[0m\u001b[32m'pexpect.exceptions.EOF'\u001b[0m\u001b[1m>\u001b[0m\u001b[1m]\u001b[0m\u001b[1m]\u001b[0m and \u001b[33mpause\u001b[0m=\u001b[1m[\u001b[0m\u001b[1;36m2\u001b[0m\u001b[1m]\u001b[0m \u001b[2m                \u001b[0m\n"
      ]
     },
     "metadata": {},
     "output_type": "display_data"
    },
    {
     "data": {
      "text/html": [
       "<pre style=\"white-space:pre;overflow-x:auto;line-height:normal;font-family:Menlo,'DejaVu Sans Mono',consolas,'Courier New',monospace\"><span style=\"color: #7fbfbf; text-decoration-color: #7fbfbf\">                    </span><span style=\"color: #008000; text-decoration-color: #008000\">DEBUG   </span> <span style=\"color: #008080; text-decoration-color: #008080; font-weight: bold\">2024</span>-<span style=\"color: #008080; text-decoration-color: #008080; font-weight: bold\">09</span>-<span style=\"color: #008080; text-decoration-color: #008080; font-weight: bold\">29</span> <span style=\"color: #00ff00; text-decoration-color: #00ff00; font-weight: bold\">17:02:05</span>,<span style=\"color: #008080; text-decoration-color: #008080; font-weight: bold\">339</span> - DEBUG - Adding to output:<span style=\"font-weight: bold\">[</span> \u001b<span style=\"font-weight: bold\">[</span>?2004l          <a href=\"file:///tmp/ipykernel_16595/4091806857.py\" target=\"_blank\"><span style=\"color: #7f7f7f; text-decoration-color: #7f7f7f\">4091806857.py</span></a><span style=\"color: #7f7f7f; text-decoration-color: #7f7f7f\">:</span><a href=\"file:///tmp/ipykernel_16595/4091806857.py#45\" target=\"_blank\"><span style=\"color: #7f7f7f; text-decoration-color: #7f7f7f\">45</span></a>\n",
       "<span style=\"color: #7fbfbf; text-decoration-color: #7fbfbf\">                    </span>         Device <span style=\"color: #00ff00; text-decoration-color: #00ff00; font-weight: bold\">E4:D7:00:02:73:8C</span> ZX-K22 BT5.<span style=\"color: #008080; text-decoration-color: #008080; font-weight: bold\">1</span>                                 <span style=\"color: #7f7f7f; text-decoration-color: #7f7f7f\">                </span>\n",
       "<span style=\"color: #7fbfbf; text-decoration-color: #7fbfbf\">                    </span>         \u001b<span style=\"font-weight: bold\">[</span>?2004h\u001b<span style=\"font-weight: bold\">[</span><span style=\"color: #008080; text-decoration-color: #008080; font-weight: bold\">0</span>;94m<span style=\"font-weight: bold\">[</span>ZX-K22 BT5.<span style=\"color: #008080; text-decoration-color: #008080; font-weight: bold\">1</span><span style=\"font-weight: bold\">]</span>\u001b<span style=\"font-weight: bold\">[</span>0m<span style=\"font-weight: bold\">]</span>                                       <span style=\"color: #7f7f7f; text-decoration-color: #7f7f7f\">                </span>\n",
       "</pre>\n"
      ],
      "text/plain": [
       "\u001b[2;36m                   \u001b[0m\u001b[2;36m \u001b[0m\u001b[32mDEBUG   \u001b[0m \u001b[1;36m2024\u001b[0m-\u001b[1;36m09\u001b[0m-\u001b[1;36m29\u001b[0m \u001b[1;92m17:02:05\u001b[0m,\u001b[1;36m339\u001b[0m - DEBUG - Adding to output:\u001b[1m[\u001b[0m \u001b\u001b[1m[\u001b[0m?2004l          \u001b]8;id=668174;file:///tmp/ipykernel_16595/4091806857.py\u001b\\\u001b[2m4091806857.py\u001b[0m\u001b]8;;\u001b\\\u001b[2m:\u001b[0m\u001b]8;id=882196;file:///tmp/ipykernel_16595/4091806857.py#45\u001b\\\u001b[2m45\u001b[0m\u001b]8;;\u001b\\\n",
       "\u001b[2;36m                    \u001b[0m         Device \u001b[1;92mE4:D7:00:02:73:8C\u001b[0m ZX-K22 BT5.\u001b[1;36m1\u001b[0m                                 \u001b[2m                \u001b[0m\n",
       "\u001b[2;36m                    \u001b[0m         \u001b\u001b[1m[\u001b[0m?2004h\u001b\u001b[1m[\u001b[0m\u001b[1;36m0\u001b[0m;94m\u001b[1m[\u001b[0mZX-K22 BT5.\u001b[1;36m1\u001b[0m\u001b[1m]\u001b[0m\u001b\u001b[1m[\u001b[0m0m\u001b[1m]\u001b[0m                                       \u001b[2m                \u001b[0m\n"
      ]
     },
     "metadata": {},
     "output_type": "display_data"
    },
    {
     "name": "stdout",
     "output_type": "stream",
     "text": [
      " \u001b[?2004l\n",
      "Device E4:D7:00:02:73:8C ZX-K22 BT5.1\n",
      "\u001b[?2004h\u001b[0;94m[ZX-K22 BT5.1]\u001b[0m\n"
     ]
    }
   ],
   "source": [
    "# get device connected\n",
    "#btctl = Bluetoothctl()\n",
    "res=btctl.get_output(\"devices Connected\")\n",
    "print(res)"
   ]
  },
  {
   "cell_type": "markdown",
   "id": "001ccd52-28d5-4145-acf3-d7d091b7e869",
   "metadata": {},
   "source": [
    "Now trusted devices"
   ]
  },
  {
   "cell_type": "code",
   "execution_count": 66,
   "id": "c3f0c90e-3d6e-4108-b9a8-e446c7f5d31d",
   "metadata": {},
   "outputs": [
    {
     "data": {
      "text/html": [
       "<pre style=\"white-space:pre;overflow-x:auto;line-height:normal;font-family:Menlo,'DejaVu Sans Mono',consolas,'Courier New',monospace\"><span style=\"color: #7fbfbf; text-decoration-color: #7fbfbf\">[09/29/24 17:02:13] </span><span style=\"color: #000080; text-decoration-color: #000080\">INFO    </span> <span style=\"color: #008080; text-decoration-color: #008080; font-weight: bold\">2024</span>-<span style=\"color: #008080; text-decoration-color: #008080; font-weight: bold\">09</span>-<span style=\"color: #008080; text-decoration-color: #008080; font-weight: bold\">29</span> <span style=\"color: #00ff00; text-decoration-color: #00ff00; font-weight: bold\">17:02:13</span>,<span style=\"color: #008080; text-decoration-color: #008080; font-weight: bold\">184</span> - INFO - Sending command <span style=\"font-weight: bold\">[</span>devices Trusted<span style=\"font-weight: bold\">]</span>    <a href=\"file:///tmp/ipykernel_16595/4091806857.py\" target=\"_blank\"><span style=\"color: #7f7f7f; text-decoration-color: #7f7f7f\">4091806857.py</span></a><span style=\"color: #7f7f7f; text-decoration-color: #7f7f7f\">:</span><a href=\"file:///tmp/ipykernel_16595/4091806857.py#39\" target=\"_blank\"><span style=\"color: #7f7f7f; text-decoration-color: #7f7f7f\">39</span></a>\n",
       "<span style=\"color: #7fbfbf; text-decoration-color: #7fbfbf\">                    </span>         with <span style=\"color: #808000; text-decoration-color: #808000\">expected</span>=<span style=\"font-weight: bold\">[[</span><span style=\"color: #008000; text-decoration-color: #008000\">'#'</span>, <span style=\"font-weight: bold\">&lt;</span><span style=\"color: #ff00ff; text-decoration-color: #ff00ff; font-weight: bold\">class</span><span style=\"color: #000000; text-decoration-color: #000000\"> </span><span style=\"color: #008000; text-decoration-color: #008000\">'pexpect.exceptions.EOF'</span><span style=\"font-weight: bold\">&gt;]]</span> and <span style=\"color: #808000; text-decoration-color: #808000\">pause</span>=<span style=\"font-weight: bold\">[</span><span style=\"color: #008080; text-decoration-color: #008080; font-weight: bold\">2</span><span style=\"font-weight: bold\">]</span> <span style=\"color: #7f7f7f; text-decoration-color: #7f7f7f\">                </span>\n",
       "</pre>\n"
      ],
      "text/plain": [
       "\u001b[2;36m[09/29/24 17:02:13]\u001b[0m\u001b[2;36m \u001b[0m\u001b[34mINFO    \u001b[0m \u001b[1;36m2024\u001b[0m-\u001b[1;36m09\u001b[0m-\u001b[1;36m29\u001b[0m \u001b[1;92m17:02:13\u001b[0m,\u001b[1;36m184\u001b[0m - INFO - Sending command \u001b[1m[\u001b[0mdevices Trusted\u001b[1m]\u001b[0m    \u001b]8;id=31108;file:///tmp/ipykernel_16595/4091806857.py\u001b\\\u001b[2m4091806857.py\u001b[0m\u001b]8;;\u001b\\\u001b[2m:\u001b[0m\u001b]8;id=931710;file:///tmp/ipykernel_16595/4091806857.py#39\u001b\\\u001b[2m39\u001b[0m\u001b]8;;\u001b\\\n",
       "\u001b[2;36m                    \u001b[0m         with \u001b[33mexpected\u001b[0m=\u001b[1m[\u001b[0m\u001b[1m[\u001b[0m\u001b[32m'#'\u001b[0m, \u001b[1m<\u001b[0m\u001b[1;95mclass\u001b[0m\u001b[39m \u001b[0m\u001b[32m'pexpect.exceptions.EOF'\u001b[0m\u001b[1m>\u001b[0m\u001b[1m]\u001b[0m\u001b[1m]\u001b[0m and \u001b[33mpause\u001b[0m=\u001b[1m[\u001b[0m\u001b[1;36m2\u001b[0m\u001b[1m]\u001b[0m \u001b[2m                \u001b[0m\n"
      ]
     },
     "metadata": {},
     "output_type": "display_data"
    },
    {
     "data": {
      "text/html": [
       "<pre style=\"white-space:pre;overflow-x:auto;line-height:normal;font-family:Menlo,'DejaVu Sans Mono',consolas,'Courier New',monospace\"><span style=\"color: #7fbfbf; text-decoration-color: #7fbfbf\">                    </span><span style=\"color: #008000; text-decoration-color: #008000\">DEBUG   </span> <span style=\"color: #008080; text-decoration-color: #008080; font-weight: bold\">2024</span>-<span style=\"color: #008080; text-decoration-color: #008080; font-weight: bold\">09</span>-<span style=\"color: #008080; text-decoration-color: #008080; font-weight: bold\">29</span> <span style=\"color: #00ff00; text-decoration-color: #00ff00; font-weight: bold\">17:02:13</span>,<span style=\"color: #008080; text-decoration-color: #008080; font-weight: bold\">191</span> - DEBUG - Adding to output:<span style=\"font-weight: bold\">[</span> \u001b<span style=\"font-weight: bold\">[</span>?2004l          <a href=\"file:///tmp/ipykernel_16595/4091806857.py\" target=\"_blank\"><span style=\"color: #7f7f7f; text-decoration-color: #7f7f7f\">4091806857.py</span></a><span style=\"color: #7f7f7f; text-decoration-color: #7f7f7f\">:</span><a href=\"file:///tmp/ipykernel_16595/4091806857.py#45\" target=\"_blank\"><span style=\"color: #7f7f7f; text-decoration-color: #7f7f7f\">45</span></a>\n",
       "<span style=\"color: #7fbfbf; text-decoration-color: #7fbfbf\">                    </span>         Device <span style=\"color: #00ff00; text-decoration-color: #00ff00; font-weight: bold\">E4:D7:00:02:73:8C</span> ZX-K22 BT5.<span style=\"color: #008080; text-decoration-color: #008080; font-weight: bold\">1</span>                                 <span style=\"color: #7f7f7f; text-decoration-color: #7f7f7f\">                </span>\n",
       "<span style=\"color: #7fbfbf; text-decoration-color: #7fbfbf\">                    </span>         \u001b<span style=\"font-weight: bold\">[</span>?2004h\u001b<span style=\"font-weight: bold\">[</span><span style=\"color: #008080; text-decoration-color: #008080; font-weight: bold\">0</span>;94m<span style=\"font-weight: bold\">[</span>ZX-K22 BT5.<span style=\"color: #008080; text-decoration-color: #008080; font-weight: bold\">1</span><span style=\"font-weight: bold\">]</span>\u001b<span style=\"font-weight: bold\">[</span>0m<span style=\"font-weight: bold\">]</span>                                       <span style=\"color: #7f7f7f; text-decoration-color: #7f7f7f\">                </span>\n",
       "</pre>\n"
      ],
      "text/plain": [
       "\u001b[2;36m                   \u001b[0m\u001b[2;36m \u001b[0m\u001b[32mDEBUG   \u001b[0m \u001b[1;36m2024\u001b[0m-\u001b[1;36m09\u001b[0m-\u001b[1;36m29\u001b[0m \u001b[1;92m17:02:13\u001b[0m,\u001b[1;36m191\u001b[0m - DEBUG - Adding to output:\u001b[1m[\u001b[0m \u001b\u001b[1m[\u001b[0m?2004l          \u001b]8;id=560211;file:///tmp/ipykernel_16595/4091806857.py\u001b\\\u001b[2m4091806857.py\u001b[0m\u001b]8;;\u001b\\\u001b[2m:\u001b[0m\u001b]8;id=937265;file:///tmp/ipykernel_16595/4091806857.py#45\u001b\\\u001b[2m45\u001b[0m\u001b]8;;\u001b\\\n",
       "\u001b[2;36m                    \u001b[0m         Device \u001b[1;92mE4:D7:00:02:73:8C\u001b[0m ZX-K22 BT5.\u001b[1;36m1\u001b[0m                                 \u001b[2m                \u001b[0m\n",
       "\u001b[2;36m                    \u001b[0m         \u001b\u001b[1m[\u001b[0m?2004h\u001b\u001b[1m[\u001b[0m\u001b[1;36m0\u001b[0m;94m\u001b[1m[\u001b[0mZX-K22 BT5.\u001b[1;36m1\u001b[0m\u001b[1m]\u001b[0m\u001b\u001b[1m[\u001b[0m0m\u001b[1m]\u001b[0m                                       \u001b[2m                \u001b[0m\n"
      ]
     },
     "metadata": {},
     "output_type": "display_data"
    },
    {
     "name": "stdout",
     "output_type": "stream",
     "text": [
      " \u001b[?2004l\n",
      "Device E4:D7:00:02:73:8C ZX-K22 BT5.1\n",
      "\u001b[?2004h\u001b[0;94m[ZX-K22 BT5.1]\u001b[0m\n"
     ]
    }
   ],
   "source": [
    "# get device truested\n",
    "#btctl = Bluetoothctl()\n",
    "res=btctl.get_output(\"devices Trusted\")\n",
    "print(res)"
   ]
  },
  {
   "cell_type": "markdown",
   "id": "6a33772e-9b23-47b8-bef0-f317fd560de3",
   "metadata": {},
   "source": [
    "And now paired devices"
   ]
  },
  {
   "cell_type": "code",
   "execution_count": 67,
   "id": "13167664-8b93-4b8d-976c-c2653ab192f5",
   "metadata": {},
   "outputs": [
    {
     "data": {
      "text/html": [
       "<pre style=\"white-space:pre;overflow-x:auto;line-height:normal;font-family:Menlo,'DejaVu Sans Mono',consolas,'Courier New',monospace\"><span style=\"color: #7fbfbf; text-decoration-color: #7fbfbf\">[09/29/24 17:02:42] </span><span style=\"color: #000080; text-decoration-color: #000080\">INFO    </span> <span style=\"color: #008080; text-decoration-color: #008080; font-weight: bold\">2024</span>-<span style=\"color: #008080; text-decoration-color: #008080; font-weight: bold\">09</span>-<span style=\"color: #008080; text-decoration-color: #008080; font-weight: bold\">29</span> <span style=\"color: #00ff00; text-decoration-color: #00ff00; font-weight: bold\">17:02:42</span>,<span style=\"color: #008080; text-decoration-color: #008080; font-weight: bold\">704</span> - INFO - Sending command <span style=\"font-weight: bold\">[</span>devices Paired<span style=\"font-weight: bold\">]</span>     <a href=\"file:///tmp/ipykernel_16595/4091806857.py\" target=\"_blank\"><span style=\"color: #7f7f7f; text-decoration-color: #7f7f7f\">4091806857.py</span></a><span style=\"color: #7f7f7f; text-decoration-color: #7f7f7f\">:</span><a href=\"file:///tmp/ipykernel_16595/4091806857.py#39\" target=\"_blank\"><span style=\"color: #7f7f7f; text-decoration-color: #7f7f7f\">39</span></a>\n",
       "<span style=\"color: #7fbfbf; text-decoration-color: #7fbfbf\">                    </span>         with <span style=\"color: #808000; text-decoration-color: #808000\">expected</span>=<span style=\"font-weight: bold\">[[</span><span style=\"color: #008000; text-decoration-color: #008000\">'#'</span>, <span style=\"font-weight: bold\">&lt;</span><span style=\"color: #ff00ff; text-decoration-color: #ff00ff; font-weight: bold\">class</span><span style=\"color: #000000; text-decoration-color: #000000\"> </span><span style=\"color: #008000; text-decoration-color: #008000\">'pexpect.exceptions.EOF'</span><span style=\"font-weight: bold\">&gt;]]</span> and <span style=\"color: #808000; text-decoration-color: #808000\">pause</span>=<span style=\"font-weight: bold\">[</span><span style=\"color: #008080; text-decoration-color: #008080; font-weight: bold\">2</span><span style=\"font-weight: bold\">]</span> <span style=\"color: #7f7f7f; text-decoration-color: #7f7f7f\">                </span>\n",
       "</pre>\n"
      ],
      "text/plain": [
       "\u001b[2;36m[09/29/24 17:02:42]\u001b[0m\u001b[2;36m \u001b[0m\u001b[34mINFO    \u001b[0m \u001b[1;36m2024\u001b[0m-\u001b[1;36m09\u001b[0m-\u001b[1;36m29\u001b[0m \u001b[1;92m17:02:42\u001b[0m,\u001b[1;36m704\u001b[0m - INFO - Sending command \u001b[1m[\u001b[0mdevices Paired\u001b[1m]\u001b[0m     \u001b]8;id=841304;file:///tmp/ipykernel_16595/4091806857.py\u001b\\\u001b[2m4091806857.py\u001b[0m\u001b]8;;\u001b\\\u001b[2m:\u001b[0m\u001b]8;id=660008;file:///tmp/ipykernel_16595/4091806857.py#39\u001b\\\u001b[2m39\u001b[0m\u001b]8;;\u001b\\\n",
       "\u001b[2;36m                    \u001b[0m         with \u001b[33mexpected\u001b[0m=\u001b[1m[\u001b[0m\u001b[1m[\u001b[0m\u001b[32m'#'\u001b[0m, \u001b[1m<\u001b[0m\u001b[1;95mclass\u001b[0m\u001b[39m \u001b[0m\u001b[32m'pexpect.exceptions.EOF'\u001b[0m\u001b[1m>\u001b[0m\u001b[1m]\u001b[0m\u001b[1m]\u001b[0m and \u001b[33mpause\u001b[0m=\u001b[1m[\u001b[0m\u001b[1;36m2\u001b[0m\u001b[1m]\u001b[0m \u001b[2m                \u001b[0m\n"
      ]
     },
     "metadata": {},
     "output_type": "display_data"
    },
    {
     "data": {
      "text/html": [
       "<pre style=\"white-space:pre;overflow-x:auto;line-height:normal;font-family:Menlo,'DejaVu Sans Mono',consolas,'Courier New',monospace\"><span style=\"color: #7fbfbf; text-decoration-color: #7fbfbf\">                    </span><span style=\"color: #008000; text-decoration-color: #008000\">DEBUG   </span> <span style=\"color: #008080; text-decoration-color: #008080; font-weight: bold\">2024</span>-<span style=\"color: #008080; text-decoration-color: #008080; font-weight: bold\">09</span>-<span style=\"color: #008080; text-decoration-color: #008080; font-weight: bold\">29</span> <span style=\"color: #00ff00; text-decoration-color: #00ff00; font-weight: bold\">17:02:42</span>,<span style=\"color: #008080; text-decoration-color: #008080; font-weight: bold\">709</span> - DEBUG - Adding to output:<span style=\"font-weight: bold\">[</span> \u001b<span style=\"font-weight: bold\">[</span>?2004l          <a href=\"file:///tmp/ipykernel_16595/4091806857.py\" target=\"_blank\"><span style=\"color: #7f7f7f; text-decoration-color: #7f7f7f\">4091806857.py</span></a><span style=\"color: #7f7f7f; text-decoration-color: #7f7f7f\">:</span><a href=\"file:///tmp/ipykernel_16595/4091806857.py#45\" target=\"_blank\"><span style=\"color: #7f7f7f; text-decoration-color: #7f7f7f\">45</span></a>\n",
       "<span style=\"color: #7fbfbf; text-decoration-color: #7fbfbf\">                    </span>         Device <span style=\"color: #00ff00; text-decoration-color: #00ff00; font-weight: bold\">E5:1C:60:76:25:4B</span> BT5.<span style=\"color: #008080; text-decoration-color: #008080; font-weight: bold\">1</span> Mouse                                  <span style=\"color: #7f7f7f; text-decoration-color: #7f7f7f\">                </span>\n",
       "<span style=\"color: #7fbfbf; text-decoration-color: #7fbfbf\">                    </span>         Device <span style=\"color: #00ff00; text-decoration-color: #00ff00; font-weight: bold\">98:D3:31:00:0A:F6</span> Philips TAH4205                              <span style=\"color: #7f7f7f; text-decoration-color: #7f7f7f\">                </span>\n",
       "<span style=\"color: #7fbfbf; text-decoration-color: #7fbfbf\">                    </span>         Device <span style=\"color: #00ff00; text-decoration-color: #00ff00; font-weight: bold\">E4:D7:00:02:73:8C</span> ZX-K22 BT5.<span style=\"color: #008080; text-decoration-color: #008080; font-weight: bold\">1</span>                                 <span style=\"color: #7f7f7f; text-decoration-color: #7f7f7f\">                </span>\n",
       "<span style=\"color: #7fbfbf; text-decoration-color: #7fbfbf\">                    </span>         \u001b<span style=\"font-weight: bold\">[</span>?2004h\u001b<span style=\"font-weight: bold\">[</span><span style=\"color: #008080; text-decoration-color: #008080; font-weight: bold\">0</span>;94m<span style=\"font-weight: bold\">[</span>ZX-K22 BT5.<span style=\"color: #008080; text-decoration-color: #008080; font-weight: bold\">1</span><span style=\"font-weight: bold\">]</span>\u001b<span style=\"font-weight: bold\">[</span>0m<span style=\"font-weight: bold\">]</span>                                       <span style=\"color: #7f7f7f; text-decoration-color: #7f7f7f\">                </span>\n",
       "</pre>\n"
      ],
      "text/plain": [
       "\u001b[2;36m                   \u001b[0m\u001b[2;36m \u001b[0m\u001b[32mDEBUG   \u001b[0m \u001b[1;36m2024\u001b[0m-\u001b[1;36m09\u001b[0m-\u001b[1;36m29\u001b[0m \u001b[1;92m17:02:42\u001b[0m,\u001b[1;36m709\u001b[0m - DEBUG - Adding to output:\u001b[1m[\u001b[0m \u001b\u001b[1m[\u001b[0m?2004l          \u001b]8;id=504893;file:///tmp/ipykernel_16595/4091806857.py\u001b\\\u001b[2m4091806857.py\u001b[0m\u001b]8;;\u001b\\\u001b[2m:\u001b[0m\u001b]8;id=765370;file:///tmp/ipykernel_16595/4091806857.py#45\u001b\\\u001b[2m45\u001b[0m\u001b]8;;\u001b\\\n",
       "\u001b[2;36m                    \u001b[0m         Device \u001b[1;92mE5:1C:60:76:25:4B\u001b[0m BT5.\u001b[1;36m1\u001b[0m Mouse                                  \u001b[2m                \u001b[0m\n",
       "\u001b[2;36m                    \u001b[0m         Device \u001b[1;92m98:D3:31:00:0A:F6\u001b[0m Philips TAH4205                              \u001b[2m                \u001b[0m\n",
       "\u001b[2;36m                    \u001b[0m         Device \u001b[1;92mE4:D7:00:02:73:8C\u001b[0m ZX-K22 BT5.\u001b[1;36m1\u001b[0m                                 \u001b[2m                \u001b[0m\n",
       "\u001b[2;36m                    \u001b[0m         \u001b\u001b[1m[\u001b[0m?2004h\u001b\u001b[1m[\u001b[0m\u001b[1;36m0\u001b[0m;94m\u001b[1m[\u001b[0mZX-K22 BT5.\u001b[1;36m1\u001b[0m\u001b[1m]\u001b[0m\u001b\u001b[1m[\u001b[0m0m\u001b[1m]\u001b[0m                                       \u001b[2m                \u001b[0m\n"
      ]
     },
     "metadata": {},
     "output_type": "display_data"
    },
    {
     "name": "stdout",
     "output_type": "stream",
     "text": [
      " \u001b[?2004l\n",
      "Device E5:1C:60:76:25:4B BT5.1 Mouse\n",
      "Device 98:D3:31:00:0A:F6 Philips TAH4205\n",
      "Device E4:D7:00:02:73:8C ZX-K22 BT5.1\n",
      "\u001b[?2004h\u001b[0;94m[ZX-K22 BT5.1]\u001b[0m\n"
     ]
    }
   ],
   "source": [
    "# get device paired\n",
    "#btctl = Bluetoothctl()\n",
    "res=btctl.get_output(\"devices Paired\")\n",
    "print(res)"
   ]
  },
  {
   "cell_type": "markdown",
   "id": "c37300f4-7b43-44c8-b6cd-85d47f7a90db",
   "metadata": {},
   "source": [
    "But what if we passed an unknown command?"
   ]
  },
  {
   "cell_type": "code",
   "execution_count": 36,
   "id": "74bd0b08-e3bf-4a05-a388-f7a6e4cd2eec",
   "metadata": {},
   "outputs": [
    {
     "data": {
      "text/html": [
       "<pre style=\"white-space:pre;overflow-x:auto;line-height:normal;font-family:Menlo,'DejaVu Sans Mono',consolas,'Courier New',monospace\"><span style=\"color: #7fbfbf; text-decoration-color: #7fbfbf\">[09/29/24 16:14:34] </span><span style=\"color: #000080; text-decoration-color: #000080\">INFO    </span> <span style=\"color: #008080; text-decoration-color: #008080; font-weight: bold\">2024</span>-<span style=\"color: #008080; text-decoration-color: #008080; font-weight: bold\">09</span>-<span style=\"color: #008080; text-decoration-color: #008080; font-weight: bold\">29</span> <span style=\"color: #00ff00; text-decoration-color: #00ff00; font-weight: bold\">16:14:34</span>,<span style=\"color: #008080; text-decoration-color: #008080; font-weight: bold\">304</span> - INFO - Sending command <span style=\"font-weight: bold\">[</span>ciao<span style=\"font-weight: bold\">]</span> with          <a href=\"file:///tmp/ipykernel_16595/4091806857.py\" target=\"_blank\"><span style=\"color: #7f7f7f; text-decoration-color: #7f7f7f\">4091806857.py</span></a><span style=\"color: #7f7f7f; text-decoration-color: #7f7f7f\">:</span><a href=\"file:///tmp/ipykernel_16595/4091806857.py#39\" target=\"_blank\"><span style=\"color: #7f7f7f; text-decoration-color: #7f7f7f\">39</span></a>\n",
       "<span style=\"color: #7fbfbf; text-decoration-color: #7fbfbf\">                    </span>         <span style=\"color: #808000; text-decoration-color: #808000\">expected</span>=<span style=\"font-weight: bold\">[[</span><span style=\"color: #008000; text-decoration-color: #008000\">'#'</span>, <span style=\"font-weight: bold\">&lt;</span><span style=\"color: #ff00ff; text-decoration-color: #ff00ff; font-weight: bold\">class</span><span style=\"color: #000000; text-decoration-color: #000000\"> </span><span style=\"color: #008000; text-decoration-color: #008000\">'pexpect.exceptions.EOF'</span><span style=\"font-weight: bold\">&gt;]]</span> and <span style=\"color: #808000; text-decoration-color: #808000\">pause</span>=<span style=\"font-weight: bold\">[</span><span style=\"color: #008080; text-decoration-color: #008080; font-weight: bold\">2</span><span style=\"font-weight: bold\">]</span>      <span style=\"color: #7f7f7f; text-decoration-color: #7f7f7f\">                </span>\n",
       "</pre>\n"
      ],
      "text/plain": [
       "\u001b[2;36m[09/29/24 16:14:34]\u001b[0m\u001b[2;36m \u001b[0m\u001b[34mINFO    \u001b[0m \u001b[1;36m2024\u001b[0m-\u001b[1;36m09\u001b[0m-\u001b[1;36m29\u001b[0m \u001b[1;92m16:14:34\u001b[0m,\u001b[1;36m304\u001b[0m - INFO - Sending command \u001b[1m[\u001b[0mciao\u001b[1m]\u001b[0m with          \u001b]8;id=57869;file:///tmp/ipykernel_16595/4091806857.py\u001b\\\u001b[2m4091806857.py\u001b[0m\u001b]8;;\u001b\\\u001b[2m:\u001b[0m\u001b]8;id=101890;file:///tmp/ipykernel_16595/4091806857.py#39\u001b\\\u001b[2m39\u001b[0m\u001b]8;;\u001b\\\n",
       "\u001b[2;36m                    \u001b[0m         \u001b[33mexpected\u001b[0m=\u001b[1m[\u001b[0m\u001b[1m[\u001b[0m\u001b[32m'#'\u001b[0m, \u001b[1m<\u001b[0m\u001b[1;95mclass\u001b[0m\u001b[39m \u001b[0m\u001b[32m'pexpect.exceptions.EOF'\u001b[0m\u001b[1m>\u001b[0m\u001b[1m]\u001b[0m\u001b[1m]\u001b[0m and \u001b[33mpause\u001b[0m=\u001b[1m[\u001b[0m\u001b[1;36m2\u001b[0m\u001b[1m]\u001b[0m      \u001b[2m                \u001b[0m\n"
      ]
     },
     "metadata": {},
     "output_type": "display_data"
    },
    {
     "data": {
      "text/html": [
       "<pre style=\"white-space:pre;overflow-x:auto;line-height:normal;font-family:Menlo,'DejaVu Sans Mono',consolas,'Courier New',monospace\"><span style=\"color: #7fbfbf; text-decoration-color: #7fbfbf\">                    </span><span style=\"color: #008000; text-decoration-color: #008000\">DEBUG   </span> <span style=\"color: #008080; text-decoration-color: #008080; font-weight: bold\">2024</span>-<span style=\"color: #008080; text-decoration-color: #008080; font-weight: bold\">09</span>-<span style=\"color: #008080; text-decoration-color: #008080; font-weight: bold\">29</span> <span style=\"color: #00ff00; text-decoration-color: #00ff00; font-weight: bold\">16:14:34</span>,<span style=\"color: #008080; text-decoration-color: #008080; font-weight: bold\">309</span> - DEBUG - Adding to output:<span style=\"font-weight: bold\">[</span> \u001b<span style=\"font-weight: bold\">[</span>?2004l          <a href=\"file:///tmp/ipykernel_16595/4091806857.py\" target=\"_blank\"><span style=\"color: #7f7f7f; text-decoration-color: #7f7f7f\">4091806857.py</span></a><span style=\"color: #7f7f7f; text-decoration-color: #7f7f7f\">:</span><a href=\"file:///tmp/ipykernel_16595/4091806857.py#45\" target=\"_blank\"><span style=\"color: #7f7f7f; text-decoration-color: #7f7f7f\">45</span></a>\n",
       "<span style=\"color: #7fbfbf; text-decoration-color: #7fbfbf\">                    </span>         \u001b<span style=\"font-weight: bold\">[</span><span style=\"color: #008080; text-decoration-color: #008080; font-weight: bold\">1</span>;39mInvalid command in menu main: ciao\u001b<span style=\"font-weight: bold\">[</span>0m                           <span style=\"color: #7f7f7f; text-decoration-color: #7f7f7f\">                </span>\n",
       "<span style=\"color: #7fbfbf; text-decoration-color: #7fbfbf\">                    </span>         \u001b<span style=\"font-weight: bold\">[</span><span style=\"color: #008080; text-decoration-color: #008080; font-weight: bold\">1</span>;39m                                                                <span style=\"color: #7f7f7f; text-decoration-color: #7f7f7f\">                </span>\n",
       "<span style=\"color: #7fbfbf; text-decoration-color: #7fbfbf\">                    </span>         Use <span style=\"color: #008000; text-decoration-color: #008000\">\"help\"</span> for a list of available commands in a menu.                <span style=\"color: #7f7f7f; text-decoration-color: #7f7f7f\">                </span>\n",
       "<span style=\"color: #7fbfbf; text-decoration-color: #7fbfbf\">                    </span>         Use <span style=\"color: #008000; text-decoration-color: #008000\">\"menu &lt;submenu&gt;\"</span> if you want to enter any submenu.                <span style=\"color: #7f7f7f; text-decoration-color: #7f7f7f\">                </span>\n",
       "<span style=\"color: #7fbfbf; text-decoration-color: #7fbfbf\">                    </span>         Use <span style=\"color: #008000; text-decoration-color: #008000\">\"back\"</span> if you want to return to menu main.\u001b<span style=\"font-weight: bold\">[</span>0m                     <span style=\"color: #7f7f7f; text-decoration-color: #7f7f7f\">                </span>\n",
       "<span style=\"color: #7fbfbf; text-decoration-color: #7fbfbf\">                    </span>         \u001b<span style=\"font-weight: bold\">[</span>?2004h\u001b<span style=\"font-weight: bold\">[</span><span style=\"color: #008080; text-decoration-color: #008080; font-weight: bold\">0</span>;94m<span style=\"font-weight: bold\">[</span>ZX-K22 BT5.<span style=\"color: #008080; text-decoration-color: #008080; font-weight: bold\">1</span><span style=\"font-weight: bold\">]</span>\u001b<span style=\"font-weight: bold\">[</span>0m<span style=\"font-weight: bold\">]</span>                                       <span style=\"color: #7f7f7f; text-decoration-color: #7f7f7f\">                </span>\n",
       "</pre>\n"
      ],
      "text/plain": [
       "\u001b[2;36m                   \u001b[0m\u001b[2;36m \u001b[0m\u001b[32mDEBUG   \u001b[0m \u001b[1;36m2024\u001b[0m-\u001b[1;36m09\u001b[0m-\u001b[1;36m29\u001b[0m \u001b[1;92m16:14:34\u001b[0m,\u001b[1;36m309\u001b[0m - DEBUG - Adding to output:\u001b[1m[\u001b[0m \u001b\u001b[1m[\u001b[0m?2004l          \u001b]8;id=214855;file:///tmp/ipykernel_16595/4091806857.py\u001b\\\u001b[2m4091806857.py\u001b[0m\u001b]8;;\u001b\\\u001b[2m:\u001b[0m\u001b]8;id=889940;file:///tmp/ipykernel_16595/4091806857.py#45\u001b\\\u001b[2m45\u001b[0m\u001b]8;;\u001b\\\n",
       "\u001b[2;36m                    \u001b[0m         \u001b\u001b[1m[\u001b[0m\u001b[1;36m1\u001b[0m;39mInvalid command in menu main: ciao\u001b\u001b[1m[\u001b[0m0m                           \u001b[2m                \u001b[0m\n",
       "\u001b[2;36m                    \u001b[0m         \u001b\u001b[1m[\u001b[0m\u001b[1;36m1\u001b[0m;39m                                                                \u001b[2m                \u001b[0m\n",
       "\u001b[2;36m                    \u001b[0m         Use \u001b[32m\"help\"\u001b[0m for a list of available commands in a menu.                \u001b[2m                \u001b[0m\n",
       "\u001b[2;36m                    \u001b[0m         Use \u001b[32m\"menu \u001b[0m\u001b[32m<\u001b[0m\u001b[32msubmenu\u001b[0m\u001b[32m>\u001b[0m\u001b[32m\"\u001b[0m if you want to enter any submenu.                \u001b[2m                \u001b[0m\n",
       "\u001b[2;36m                    \u001b[0m         Use \u001b[32m\"back\"\u001b[0m if you want to return to menu main.\u001b\u001b[1m[\u001b[0m0m                     \u001b[2m                \u001b[0m\n",
       "\u001b[2;36m                    \u001b[0m         \u001b\u001b[1m[\u001b[0m?2004h\u001b\u001b[1m[\u001b[0m\u001b[1;36m0\u001b[0m;94m\u001b[1m[\u001b[0mZX-K22 BT5.\u001b[1;36m1\u001b[0m\u001b[1m]\u001b[0m\u001b\u001b[1m[\u001b[0m0m\u001b[1m]\u001b[0m                                       \u001b[2m                \u001b[0m\n"
      ]
     },
     "metadata": {},
     "output_type": "display_data"
    },
    {
     "name": "stdout",
     "output_type": "stream",
     "text": [
      " \u001b[?2004l\n",
      "\u001b[1;39mInvalid command in menu main: ciao\u001b[0m\n",
      "\u001b[1;39m\n",
      "Use \"help\" for a list of available commands in a menu.\n",
      "Use \"menu <submenu>\" if you want to enter any submenu.\n",
      "Use \"back\" if you want to return to menu main.\u001b[0m\n",
      "\u001b[?2004h\u001b[0;94m[ZX-K22 BT5.1]\u001b[0m\n"
     ]
    },
    {
     "data": {
      "text/html": [
       "<pre style=\"white-space:pre;overflow-x:auto;line-height:normal;font-family:Menlo,'DejaVu Sans Mono',consolas,'Courier New',monospace\"><span style=\"color: #7fbfbf; text-decoration-color: #7fbfbf\">[09/29/24 16:14:36] </span><span style=\"color: #000080; text-decoration-color: #000080\">INFO    </span> <span style=\"color: #008080; text-decoration-color: #008080; font-weight: bold\">2024</span>-<span style=\"color: #008080; text-decoration-color: #008080; font-weight: bold\">09</span>-<span style=\"color: #008080; text-decoration-color: #008080; font-weight: bold\">29</span> <span style=\"color: #00ff00; text-decoration-color: #00ff00; font-weight: bold\">16:14:36</span>,<span style=\"color: #008080; text-decoration-color: #008080; font-weight: bold\">365</span> - INFO - Sending command <span style=\"font-weight: bold\">[</span>ciao ciao<span style=\"font-weight: bold\">]</span> with     <a href=\"file:///tmp/ipykernel_16595/4091806857.py\" target=\"_blank\"><span style=\"color: #7f7f7f; text-decoration-color: #7f7f7f\">4091806857.py</span></a><span style=\"color: #7f7f7f; text-decoration-color: #7f7f7f\">:</span><a href=\"file:///tmp/ipykernel_16595/4091806857.py#39\" target=\"_blank\"><span style=\"color: #7f7f7f; text-decoration-color: #7f7f7f\">39</span></a>\n",
       "<span style=\"color: #7fbfbf; text-decoration-color: #7fbfbf\">                    </span>         <span style=\"color: #808000; text-decoration-color: #808000\">expected</span>=<span style=\"font-weight: bold\">[[</span><span style=\"color: #008000; text-decoration-color: #008000\">'#'</span>, <span style=\"font-weight: bold\">&lt;</span><span style=\"color: #ff00ff; text-decoration-color: #ff00ff; font-weight: bold\">class</span><span style=\"color: #000000; text-decoration-color: #000000\"> </span><span style=\"color: #008000; text-decoration-color: #008000\">'pexpect.exceptions.EOF'</span><span style=\"font-weight: bold\">&gt;]]</span> and <span style=\"color: #808000; text-decoration-color: #808000\">pause</span>=<span style=\"font-weight: bold\">[</span><span style=\"color: #008080; text-decoration-color: #008080; font-weight: bold\">2</span><span style=\"font-weight: bold\">]</span>      <span style=\"color: #7f7f7f; text-decoration-color: #7f7f7f\">                </span>\n",
       "</pre>\n"
      ],
      "text/plain": [
       "\u001b[2;36m[09/29/24 16:14:36]\u001b[0m\u001b[2;36m \u001b[0m\u001b[34mINFO    \u001b[0m \u001b[1;36m2024\u001b[0m-\u001b[1;36m09\u001b[0m-\u001b[1;36m29\u001b[0m \u001b[1;92m16:14:36\u001b[0m,\u001b[1;36m365\u001b[0m - INFO - Sending command \u001b[1m[\u001b[0mciao ciao\u001b[1m]\u001b[0m with     \u001b]8;id=793964;file:///tmp/ipykernel_16595/4091806857.py\u001b\\\u001b[2m4091806857.py\u001b[0m\u001b]8;;\u001b\\\u001b[2m:\u001b[0m\u001b]8;id=178951;file:///tmp/ipykernel_16595/4091806857.py#39\u001b\\\u001b[2m39\u001b[0m\u001b]8;;\u001b\\\n",
       "\u001b[2;36m                    \u001b[0m         \u001b[33mexpected\u001b[0m=\u001b[1m[\u001b[0m\u001b[1m[\u001b[0m\u001b[32m'#'\u001b[0m, \u001b[1m<\u001b[0m\u001b[1;95mclass\u001b[0m\u001b[39m \u001b[0m\u001b[32m'pexpect.exceptions.EOF'\u001b[0m\u001b[1m>\u001b[0m\u001b[1m]\u001b[0m\u001b[1m]\u001b[0m and \u001b[33mpause\u001b[0m=\u001b[1m[\u001b[0m\u001b[1;36m2\u001b[0m\u001b[1m]\u001b[0m      \u001b[2m                \u001b[0m\n"
      ]
     },
     "metadata": {},
     "output_type": "display_data"
    },
    {
     "data": {
      "text/html": [
       "<pre style=\"white-space:pre;overflow-x:auto;line-height:normal;font-family:Menlo,'DejaVu Sans Mono',consolas,'Courier New',monospace\"><span style=\"color: #7fbfbf; text-decoration-color: #7fbfbf\">                    </span><span style=\"color: #008000; text-decoration-color: #008000\">DEBUG   </span> <span style=\"color: #008080; text-decoration-color: #008080; font-weight: bold\">2024</span>-<span style=\"color: #008080; text-decoration-color: #008080; font-weight: bold\">09</span>-<span style=\"color: #008080; text-decoration-color: #008080; font-weight: bold\">29</span> <span style=\"color: #00ff00; text-decoration-color: #00ff00; font-weight: bold\">16:14:36</span>,<span style=\"color: #008080; text-decoration-color: #008080; font-weight: bold\">370</span> - DEBUG - Adding to output:<span style=\"font-weight: bold\">[</span> \u001b<span style=\"font-weight: bold\">[</span>?2004l          <a href=\"file:///tmp/ipykernel_16595/4091806857.py\" target=\"_blank\"><span style=\"color: #7f7f7f; text-decoration-color: #7f7f7f\">4091806857.py</span></a><span style=\"color: #7f7f7f; text-decoration-color: #7f7f7f\">:</span><a href=\"file:///tmp/ipykernel_16595/4091806857.py#45\" target=\"_blank\"><span style=\"color: #7f7f7f; text-decoration-color: #7f7f7f\">45</span></a>\n",
       "<span style=\"color: #7fbfbf; text-decoration-color: #7fbfbf\">                    </span>         \u001b<span style=\"font-weight: bold\">[</span><span style=\"color: #008080; text-decoration-color: #008080; font-weight: bold\">1</span>;39mInvalid command in menu main: ciao\u001b<span style=\"font-weight: bold\">[</span>0m                           <span style=\"color: #7f7f7f; text-decoration-color: #7f7f7f\">                </span>\n",
       "<span style=\"color: #7fbfbf; text-decoration-color: #7fbfbf\">                    </span>         \u001b<span style=\"font-weight: bold\">[</span><span style=\"color: #008080; text-decoration-color: #008080; font-weight: bold\">1</span>;39m                                                                <span style=\"color: #7f7f7f; text-decoration-color: #7f7f7f\">                </span>\n",
       "<span style=\"color: #7fbfbf; text-decoration-color: #7fbfbf\">                    </span>         Use <span style=\"color: #008000; text-decoration-color: #008000\">\"help\"</span> for a list of available commands in a menu.                <span style=\"color: #7f7f7f; text-decoration-color: #7f7f7f\">                </span>\n",
       "<span style=\"color: #7fbfbf; text-decoration-color: #7fbfbf\">                    </span>         Use <span style=\"color: #008000; text-decoration-color: #008000\">\"menu &lt;submenu&gt;\"</span> if you want to enter any submenu.                <span style=\"color: #7f7f7f; text-decoration-color: #7f7f7f\">                </span>\n",
       "<span style=\"color: #7fbfbf; text-decoration-color: #7fbfbf\">                    </span>         Use <span style=\"color: #008000; text-decoration-color: #008000\">\"back\"</span> if you want to return to menu main.\u001b<span style=\"font-weight: bold\">[</span>0m                     <span style=\"color: #7f7f7f; text-decoration-color: #7f7f7f\">                </span>\n",
       "<span style=\"color: #7fbfbf; text-decoration-color: #7fbfbf\">                    </span>         \u001b<span style=\"font-weight: bold\">[</span>?2004h\u001b<span style=\"font-weight: bold\">[</span><span style=\"color: #008080; text-decoration-color: #008080; font-weight: bold\">0</span>;94m<span style=\"font-weight: bold\">[</span>ZX-K22 BT5.<span style=\"color: #008080; text-decoration-color: #008080; font-weight: bold\">1</span><span style=\"font-weight: bold\">]</span>\u001b<span style=\"font-weight: bold\">[</span>0m<span style=\"font-weight: bold\">]</span>                                       <span style=\"color: #7f7f7f; text-decoration-color: #7f7f7f\">                </span>\n",
       "</pre>\n"
      ],
      "text/plain": [
       "\u001b[2;36m                   \u001b[0m\u001b[2;36m \u001b[0m\u001b[32mDEBUG   \u001b[0m \u001b[1;36m2024\u001b[0m-\u001b[1;36m09\u001b[0m-\u001b[1;36m29\u001b[0m \u001b[1;92m16:14:36\u001b[0m,\u001b[1;36m370\u001b[0m - DEBUG - Adding to output:\u001b[1m[\u001b[0m \u001b\u001b[1m[\u001b[0m?2004l          \u001b]8;id=186402;file:///tmp/ipykernel_16595/4091806857.py\u001b\\\u001b[2m4091806857.py\u001b[0m\u001b]8;;\u001b\\\u001b[2m:\u001b[0m\u001b]8;id=381379;file:///tmp/ipykernel_16595/4091806857.py#45\u001b\\\u001b[2m45\u001b[0m\u001b]8;;\u001b\\\n",
       "\u001b[2;36m                    \u001b[0m         \u001b\u001b[1m[\u001b[0m\u001b[1;36m1\u001b[0m;39mInvalid command in menu main: ciao\u001b\u001b[1m[\u001b[0m0m                           \u001b[2m                \u001b[0m\n",
       "\u001b[2;36m                    \u001b[0m         \u001b\u001b[1m[\u001b[0m\u001b[1;36m1\u001b[0m;39m                                                                \u001b[2m                \u001b[0m\n",
       "\u001b[2;36m                    \u001b[0m         Use \u001b[32m\"help\"\u001b[0m for a list of available commands in a menu.                \u001b[2m                \u001b[0m\n",
       "\u001b[2;36m                    \u001b[0m         Use \u001b[32m\"menu \u001b[0m\u001b[32m<\u001b[0m\u001b[32msubmenu\u001b[0m\u001b[32m>\u001b[0m\u001b[32m\"\u001b[0m if you want to enter any submenu.                \u001b[2m                \u001b[0m\n",
       "\u001b[2;36m                    \u001b[0m         Use \u001b[32m\"back\"\u001b[0m if you want to return to menu main.\u001b\u001b[1m[\u001b[0m0m                     \u001b[2m                \u001b[0m\n",
       "\u001b[2;36m                    \u001b[0m         \u001b\u001b[1m[\u001b[0m?2004h\u001b\u001b[1m[\u001b[0m\u001b[1;36m0\u001b[0m;94m\u001b[1m[\u001b[0mZX-K22 BT5.\u001b[1;36m1\u001b[0m\u001b[1m]\u001b[0m\u001b\u001b[1m[\u001b[0m0m\u001b[1m]\u001b[0m                                       \u001b[2m                \u001b[0m\n"
      ]
     },
     "metadata": {},
     "output_type": "display_data"
    },
    {
     "name": "stdout",
     "output_type": "stream",
     "text": [
      " \u001b[?2004l\n",
      "\u001b[1;39mInvalid command in menu main: ciao\u001b[0m\n",
      "\u001b[1;39m\n",
      "Use \"help\" for a list of available commands in a menu.\n",
      "Use \"menu <submenu>\" if you want to enter any submenu.\n",
      "Use \"back\" if you want to return to menu main.\u001b[0m\n",
      "\u001b[?2004h\u001b[0;94m[ZX-K22 BT5.1]\u001b[0m\n"
     ]
    },
    {
     "data": {
      "text/html": [
       "<pre style=\"white-space:pre;overflow-x:auto;line-height:normal;font-family:Menlo,'DejaVu Sans Mono',consolas,'Courier New',monospace\"><span style=\"color: #7fbfbf; text-decoration-color: #7fbfbf\">[09/29/24 16:14:38] </span><span style=\"color: #000080; text-decoration-color: #000080\">INFO    </span> <span style=\"color: #008080; text-decoration-color: #008080; font-weight: bold\">2024</span>-<span style=\"color: #008080; text-decoration-color: #008080; font-weight: bold\">09</span>-<span style=\"color: #008080; text-decoration-color: #008080; font-weight: bold\">29</span> <span style=\"color: #00ff00; text-decoration-color: #00ff00; font-weight: bold\">16:14:38</span>,<span style=\"color: #008080; text-decoration-color: #008080; font-weight: bold\">423</span> - INFO - Sending command <span style=\"font-weight: bold\">[</span>devices ciao<span style=\"font-weight: bold\">]</span> with  <a href=\"file:///tmp/ipykernel_16595/4091806857.py\" target=\"_blank\"><span style=\"color: #7f7f7f; text-decoration-color: #7f7f7f\">4091806857.py</span></a><span style=\"color: #7f7f7f; text-decoration-color: #7f7f7f\">:</span><a href=\"file:///tmp/ipykernel_16595/4091806857.py#39\" target=\"_blank\"><span style=\"color: #7f7f7f; text-decoration-color: #7f7f7f\">39</span></a>\n",
       "<span style=\"color: #7fbfbf; text-decoration-color: #7fbfbf\">                    </span>         <span style=\"color: #808000; text-decoration-color: #808000\">expected</span>=<span style=\"font-weight: bold\">[[</span><span style=\"color: #008000; text-decoration-color: #008000\">'#'</span>, <span style=\"font-weight: bold\">&lt;</span><span style=\"color: #ff00ff; text-decoration-color: #ff00ff; font-weight: bold\">class</span><span style=\"color: #000000; text-decoration-color: #000000\"> </span><span style=\"color: #008000; text-decoration-color: #008000\">'pexpect.exceptions.EOF'</span><span style=\"font-weight: bold\">&gt;]]</span> and <span style=\"color: #808000; text-decoration-color: #808000\">pause</span>=<span style=\"font-weight: bold\">[</span><span style=\"color: #008080; text-decoration-color: #008080; font-weight: bold\">2</span><span style=\"font-weight: bold\">]</span>      <span style=\"color: #7f7f7f; text-decoration-color: #7f7f7f\">                </span>\n",
       "</pre>\n"
      ],
      "text/plain": [
       "\u001b[2;36m[09/29/24 16:14:38]\u001b[0m\u001b[2;36m \u001b[0m\u001b[34mINFO    \u001b[0m \u001b[1;36m2024\u001b[0m-\u001b[1;36m09\u001b[0m-\u001b[1;36m29\u001b[0m \u001b[1;92m16:14:38\u001b[0m,\u001b[1;36m423\u001b[0m - INFO - Sending command \u001b[1m[\u001b[0mdevices ciao\u001b[1m]\u001b[0m with  \u001b]8;id=482426;file:///tmp/ipykernel_16595/4091806857.py\u001b\\\u001b[2m4091806857.py\u001b[0m\u001b]8;;\u001b\\\u001b[2m:\u001b[0m\u001b]8;id=53901;file:///tmp/ipykernel_16595/4091806857.py#39\u001b\\\u001b[2m39\u001b[0m\u001b]8;;\u001b\\\n",
       "\u001b[2;36m                    \u001b[0m         \u001b[33mexpected\u001b[0m=\u001b[1m[\u001b[0m\u001b[1m[\u001b[0m\u001b[32m'#'\u001b[0m, \u001b[1m<\u001b[0m\u001b[1;95mclass\u001b[0m\u001b[39m \u001b[0m\u001b[32m'pexpect.exceptions.EOF'\u001b[0m\u001b[1m>\u001b[0m\u001b[1m]\u001b[0m\u001b[1m]\u001b[0m and \u001b[33mpause\u001b[0m=\u001b[1m[\u001b[0m\u001b[1;36m2\u001b[0m\u001b[1m]\u001b[0m      \u001b[2m                \u001b[0m\n"
      ]
     },
     "metadata": {},
     "output_type": "display_data"
    },
    {
     "data": {
      "text/html": [
       "<pre style=\"white-space:pre;overflow-x:auto;line-height:normal;font-family:Menlo,'DejaVu Sans Mono',consolas,'Courier New',monospace\"><span style=\"color: #7fbfbf; text-decoration-color: #7fbfbf\">                    </span><span style=\"color: #008000; text-decoration-color: #008000\">DEBUG   </span> <span style=\"color: #008080; text-decoration-color: #008080; font-weight: bold\">2024</span>-<span style=\"color: #008080; text-decoration-color: #008080; font-weight: bold\">09</span>-<span style=\"color: #008080; text-decoration-color: #008080; font-weight: bold\">29</span> <span style=\"color: #00ff00; text-decoration-color: #00ff00; font-weight: bold\">16:14:38</span>,<span style=\"color: #008080; text-decoration-color: #008080; font-weight: bold\">429</span> - DEBUG - Adding to output:<span style=\"font-weight: bold\">[</span> \u001b<span style=\"font-weight: bold\">[</span>?2004l          <a href=\"file:///tmp/ipykernel_16595/4091806857.py\" target=\"_blank\"><span style=\"color: #7f7f7f; text-decoration-color: #7f7f7f\">4091806857.py</span></a><span style=\"color: #7f7f7f; text-decoration-color: #7f7f7f\">:</span><a href=\"file:///tmp/ipykernel_16595/4091806857.py#45\" target=\"_blank\"><span style=\"color: #7f7f7f; text-decoration-color: #7f7f7f\">45</span></a>\n",
       "<span style=\"color: #7fbfbf; text-decoration-color: #7fbfbf\">                    </span>         Invalid argument ciao                                                 <span style=\"color: #7f7f7f; text-decoration-color: #7f7f7f\">                </span>\n",
       "<span style=\"color: #7fbfbf; text-decoration-color: #7fbfbf\">                    </span>         \u001b<span style=\"font-weight: bold\">[</span>?2004h\u001b<span style=\"font-weight: bold\">[</span><span style=\"color: #008080; text-decoration-color: #008080; font-weight: bold\">0</span>;94m<span style=\"font-weight: bold\">[</span>ZX-K22 BT5.<span style=\"color: #008080; text-decoration-color: #008080; font-weight: bold\">1</span><span style=\"font-weight: bold\">]</span>\u001b<span style=\"font-weight: bold\">[</span>0m<span style=\"font-weight: bold\">]</span>                                       <span style=\"color: #7f7f7f; text-decoration-color: #7f7f7f\">                </span>\n",
       "</pre>\n"
      ],
      "text/plain": [
       "\u001b[2;36m                   \u001b[0m\u001b[2;36m \u001b[0m\u001b[32mDEBUG   \u001b[0m \u001b[1;36m2024\u001b[0m-\u001b[1;36m09\u001b[0m-\u001b[1;36m29\u001b[0m \u001b[1;92m16:14:38\u001b[0m,\u001b[1;36m429\u001b[0m - DEBUG - Adding to output:\u001b[1m[\u001b[0m \u001b\u001b[1m[\u001b[0m?2004l          \u001b]8;id=752261;file:///tmp/ipykernel_16595/4091806857.py\u001b\\\u001b[2m4091806857.py\u001b[0m\u001b]8;;\u001b\\\u001b[2m:\u001b[0m\u001b]8;id=469638;file:///tmp/ipykernel_16595/4091806857.py#45\u001b\\\u001b[2m45\u001b[0m\u001b]8;;\u001b\\\n",
       "\u001b[2;36m                    \u001b[0m         Invalid argument ciao                                                 \u001b[2m                \u001b[0m\n",
       "\u001b[2;36m                    \u001b[0m         \u001b\u001b[1m[\u001b[0m?2004h\u001b\u001b[1m[\u001b[0m\u001b[1;36m0\u001b[0m;94m\u001b[1m[\u001b[0mZX-K22 BT5.\u001b[1;36m1\u001b[0m\u001b[1m]\u001b[0m\u001b\u001b[1m[\u001b[0m0m\u001b[1m]\u001b[0m                                       \u001b[2m                \u001b[0m\n"
      ]
     },
     "metadata": {},
     "output_type": "display_data"
    },
    {
     "name": "stdout",
     "output_type": "stream",
     "text": [
      " \u001b[?2004l\n",
      "Invalid argument ciao\n",
      "\u001b[?2004h\u001b[0;94m[ZX-K22 BT5.1]\u001b[0m\n"
     ]
    }
   ],
   "source": [
    "#Trying with unkown commands\n",
    "# get device paired\n",
    "#btctl = Bluetoothctl()\n",
    "res=btctl.get_output(\"ciao\")\n",
    "print(res)\n",
    "res=btctl.get_output(\"ciao ciao\")\n",
    "print(res)\n",
    "res=btctl.get_output(\"devices ciao\")\n",
    "print(res)\n"
   ]
  },
  {
   "cell_type": "markdown",
   "id": "5bc7570b-3940-487d-9eaf-9691c18da76b",
   "metadata": {},
   "source": [
    "We note that if main command is unknown the outut is \"Invalid command ...\" and if argument is unkown output is \"Invalid argument ...\".\n",
    "We have to change code in our class to manage this situations. For example we add thes to command specific expected string and remember wich one matched output"
   ]
  },
  {
   "cell_type": "markdown",
   "id": "584c7723-20d0-406d-9920-2dc4807b8c96",
   "metadata": {},
   "source": [
    "## Updating the core functions of my class"
   ]
  },
  {
   "cell_type": "code",
   "execution_count": 101,
   "id": "5c524120-f1d2-4994-a291-922f05330bbe",
   "metadata": {},
   "outputs": [],
   "source": [
    "class Bluetoothctl:\n",
    "    \"\"\"A wrapper for bluetoothctl utility.\"\"\"\n",
    "    expected_common=[\"Invalid argument\",\"Invalid command\",\"#\",pexpect.EOF]\n",
    "    expected_matched=None\n",
    "    def __init__(self):\n",
    "        self.output=[]\n",
    "        subprocess.check_output(\"rfkill unblock bluetooth\", shell=True)\n",
    "        self.process = pexpect.spawnu(\"bluetoothctl\", echo=False)\n",
    "        logger.debug(\"Process created\")\n",
    "        expected=[\"Agent registered\"]+self.expected_common\n",
    "        expected_index=self.process.expect(expected)\n",
    "         \n",
    "    def send(self, command, expected=[], pause=3):\n",
    "        \"\"\" This method is the core of the class. It sends command to the bluetoothctl process and undetand when an answer arrived \"\"\"\n",
    "        self.expected_matched=None\n",
    "        self.process.send(f\"{command}\\n\")\n",
    "        time.sleep(pause)\n",
    "        # Default expected in output, I don't want repetetion\n",
    "        for common_ex in self.expected_common:\n",
    "            if common_ex not in expected:\n",
    "                expected.append(common_ex)\n",
    "        logging.info(f\"Sending command [{command}] with expected=[{expected}] and pause=[{pause}]\")\n",
    "        expected_index=self.process.expect(expected)\n",
    "        logging.debug(f\"expected_index={expected_index}\")\n",
    "        if expected_index<0:\n",
    "            logging.warn(f\"Failed after {command}\",e)\n",
    "            raise Exception(f\"failed after {command}\")\n",
    "        else:\n",
    "            out=self.process.before\n",
    "            logging.debug(f\"Adding to output:[{out}]\")\n",
    "            self.expected_matched=expected[expected_index]\n",
    "            self.output.append(self.process.before)\n",
    "            \n",
    "    def get_output(self, *args, **kwargs):\n",
    "        \"\"\"Run a command in bluetoothctl prompt, return output as a list of lines.\"\"\"\n",
    "        try:\n",
    "            self.send(*args, **kwargs)\n",
    "        except Exception as e:\n",
    "            raise e   \n",
    "        return self.process.before #self.read_last_output()\n",
    "\n",
    "    def read_last_output(self):\n",
    "        return self.output[-1]\n",
    "\n",
    "    def read_full_output(self):\n",
    "        return self.output\n"
   ]
  },
  {
   "cell_type": "markdown",
   "id": "7b8753bb-5a7b-484b-8976-652d816d1e52",
   "metadata": {},
   "source": [
    "If we know the mac address of our device we can operate with it. For example we can check if it is in connected devices, in truste devices or in paired devices to remove it (removin diconnect, untrust and unpair device)"
   ]
  },
  {
   "cell_type": "code",
   "execution_count": 102,
   "id": "266c104e-ed2e-4bc9-8d2d-2158c3860893",
   "metadata": {},
   "outputs": [
    {
     "name": "stderr",
     "output_type": "stream",
     "text": [
      "2024-09-29 17:38:25,229 - DEBUG - Process created\n",
      "2024-09-29 17:38:25,229 - DEBUG - Process created\n",
      "2024-09-29 17:38:25,229 - DEBUG - Process created\n",
      "2024-09-29 17:38:25,229 - DEBUG - Process created\n",
      "2024-09-29 17:38:25,229 - DEBUG - Process created\n"
     ]
    },
    {
     "data": {
      "text/html": [
       "<pre style=\"white-space:pre;overflow-x:auto;line-height:normal;font-family:Menlo,'DejaVu Sans Mono',consolas,'Courier New',monospace\"><span style=\"color: #7fbfbf; text-decoration-color: #7fbfbf\">[09/29/24 17:38:25] </span><span style=\"color: #008000; text-decoration-color: #008000\">DEBUG   </span> <span style=\"color: #008080; text-decoration-color: #008080; font-weight: bold\">2024</span>-<span style=\"color: #008080; text-decoration-color: #008080; font-weight: bold\">09</span>-<span style=\"color: #008080; text-decoration-color: #008080; font-weight: bold\">29</span> <span style=\"color: #00ff00; text-decoration-color: #00ff00; font-weight: bold\">17:38:25</span>,<span style=\"color: #008080; text-decoration-color: #008080; font-weight: bold\">229</span> - DEBUG - Process created                      <a href=\"file:///tmp/ipykernel_16595/1292906133.py\" target=\"_blank\"><span style=\"color: #7f7f7f; text-decoration-color: #7f7f7f\">1292906133.py</span></a><span style=\"color: #7f7f7f; text-decoration-color: #7f7f7f\">:</span><a href=\"file:///tmp/ipykernel_16595/1292906133.py#9\" target=\"_blank\"><span style=\"color: #7f7f7f; text-decoration-color: #7f7f7f\">9</span></a>\n",
       "</pre>\n"
      ],
      "text/plain": [
       "\u001b[2;36m[09/29/24 17:38:25]\u001b[0m\u001b[2;36m \u001b[0m\u001b[32mDEBUG   \u001b[0m \u001b[1;36m2024\u001b[0m-\u001b[1;36m09\u001b[0m-\u001b[1;36m29\u001b[0m \u001b[1;92m17:38:25\u001b[0m,\u001b[1;36m229\u001b[0m - DEBUG - Process created                      \u001b]8;id=913858;file:///tmp/ipykernel_16595/1292906133.py\u001b\\\u001b[2m1292906133.py\u001b[0m\u001b]8;;\u001b\\\u001b[2m:\u001b[0m\u001b]8;id=282959;file:///tmp/ipykernel_16595/1292906133.py#9\u001b\\\u001b[2m9\u001b[0m\u001b]8;;\u001b\\\n"
      ]
     },
     "metadata": {},
     "output_type": "display_data"
    },
    {
     "data": {
      "text/html": [
       "<pre style=\"white-space:pre;overflow-x:auto;line-height:normal;font-family:Menlo,'DejaVu Sans Mono',consolas,'Courier New',monospace\"><span style=\"color: #7fbfbf; text-decoration-color: #7fbfbf\">[09/29/24 17:38:28] </span><span style=\"color: #000080; text-decoration-color: #000080\">INFO    </span> <span style=\"color: #008080; text-decoration-color: #008080; font-weight: bold\">2024</span>-<span style=\"color: #008080; text-decoration-color: #008080; font-weight: bold\">09</span>-<span style=\"color: #008080; text-decoration-color: #008080; font-weight: bold\">29</span> <span style=\"color: #00ff00; text-decoration-color: #00ff00; font-weight: bold\">17:38:28</span>,<span style=\"color: #008080; text-decoration-color: #008080; font-weight: bold\">387</span> - INFO - Sending command <span style=\"font-weight: bold\">[</span>devices Connected<span style=\"font-weight: bold\">]</span>  <a href=\"file:///tmp/ipykernel_16595/1292906133.py\" target=\"_blank\"><span style=\"color: #7f7f7f; text-decoration-color: #7f7f7f\">1292906133.py</span></a><span style=\"color: #7f7f7f; text-decoration-color: #7f7f7f\">:</span><a href=\"file:///tmp/ipykernel_16595/1292906133.py#22\" target=\"_blank\"><span style=\"color: #7f7f7f; text-decoration-color: #7f7f7f\">22</span></a>\n",
       "<span style=\"color: #7fbfbf; text-decoration-color: #7fbfbf\">                    </span>         with <span style=\"color: #808000; text-decoration-color: #808000\">expected</span>=<span style=\"font-weight: bold\">[[</span><span style=\"color: #008000; text-decoration-color: #008000\">'Invalid argument'</span>, <span style=\"color: #008000; text-decoration-color: #008000\">'Invalid command'</span>, <span style=\"color: #008000; text-decoration-color: #008000\">'#'</span>, <span style=\"font-weight: bold\">&lt;</span><span style=\"color: #ff00ff; text-decoration-color: #ff00ff; font-weight: bold\">class</span><span style=\"color: #000000; text-decoration-color: #000000\"> </span>   <span style=\"color: #7f7f7f; text-decoration-color: #7f7f7f\">                </span>\n",
       "<span style=\"color: #7fbfbf; text-decoration-color: #7fbfbf\">                    </span>         <span style=\"color: #008000; text-decoration-color: #008000\">'pexpect.exceptions.EOF'</span><span style=\"font-weight: bold\">&gt;]]</span> and <span style=\"color: #808000; text-decoration-color: #808000\">pause</span>=<span style=\"font-weight: bold\">[</span><span style=\"color: #008080; text-decoration-color: #008080; font-weight: bold\">3</span><span style=\"font-weight: bold\">]</span>                             <span style=\"color: #7f7f7f; text-decoration-color: #7f7f7f\">                </span>\n",
       "</pre>\n"
      ],
      "text/plain": [
       "\u001b[2;36m[09/29/24 17:38:28]\u001b[0m\u001b[2;36m \u001b[0m\u001b[34mINFO    \u001b[0m \u001b[1;36m2024\u001b[0m-\u001b[1;36m09\u001b[0m-\u001b[1;36m29\u001b[0m \u001b[1;92m17:38:28\u001b[0m,\u001b[1;36m387\u001b[0m - INFO - Sending command \u001b[1m[\u001b[0mdevices Connected\u001b[1m]\u001b[0m  \u001b]8;id=351957;file:///tmp/ipykernel_16595/1292906133.py\u001b\\\u001b[2m1292906133.py\u001b[0m\u001b]8;;\u001b\\\u001b[2m:\u001b[0m\u001b]8;id=452084;file:///tmp/ipykernel_16595/1292906133.py#22\u001b\\\u001b[2m22\u001b[0m\u001b]8;;\u001b\\\n",
       "\u001b[2;36m                    \u001b[0m         with \u001b[33mexpected\u001b[0m=\u001b[1m[\u001b[0m\u001b[1m[\u001b[0m\u001b[32m'Invalid argument'\u001b[0m, \u001b[32m'Invalid command'\u001b[0m, \u001b[32m'#'\u001b[0m, \u001b[1m<\u001b[0m\u001b[1;95mclass\u001b[0m\u001b[39m \u001b[0m   \u001b[2m                \u001b[0m\n",
       "\u001b[2;36m                    \u001b[0m         \u001b[32m'pexpect.exceptions.EOF'\u001b[0m\u001b[1m>\u001b[0m\u001b[1m]\u001b[0m\u001b[1m]\u001b[0m and \u001b[33mpause\u001b[0m=\u001b[1m[\u001b[0m\u001b[1;36m3\u001b[0m\u001b[1m]\u001b[0m                             \u001b[2m                \u001b[0m\n"
      ]
     },
     "metadata": {},
     "output_type": "display_data"
    },
    {
     "data": {
      "text/html": [
       "<pre style=\"white-space:pre;overflow-x:auto;line-height:normal;font-family:Menlo,'DejaVu Sans Mono',consolas,'Courier New',monospace\"><span style=\"color: #7fbfbf; text-decoration-color: #7fbfbf\">                    </span><span style=\"color: #008000; text-decoration-color: #008000\">DEBUG   </span> <span style=\"color: #008080; text-decoration-color: #008080; font-weight: bold\">2024</span>-<span style=\"color: #008080; text-decoration-color: #008080; font-weight: bold\">09</span>-<span style=\"color: #008080; text-decoration-color: #008080; font-weight: bold\">29</span> <span style=\"color: #00ff00; text-decoration-color: #00ff00; font-weight: bold\">17:38:28</span>,<span style=\"color: #008080; text-decoration-color: #008080; font-weight: bold\">396</span> - DEBUG - <span style=\"color: #808000; text-decoration-color: #808000\">expected_index</span>=<span style=\"color: #008080; text-decoration-color: #008080; font-weight: bold\">2</span>                    <a href=\"file:///tmp/ipykernel_16595/1292906133.py\" target=\"_blank\"><span style=\"color: #7f7f7f; text-decoration-color: #7f7f7f\">1292906133.py</span></a><span style=\"color: #7f7f7f; text-decoration-color: #7f7f7f\">:</span><a href=\"file:///tmp/ipykernel_16595/1292906133.py#24\" target=\"_blank\"><span style=\"color: #7f7f7f; text-decoration-color: #7f7f7f\">24</span></a>\n",
       "</pre>\n"
      ],
      "text/plain": [
       "\u001b[2;36m                   \u001b[0m\u001b[2;36m \u001b[0m\u001b[32mDEBUG   \u001b[0m \u001b[1;36m2024\u001b[0m-\u001b[1;36m09\u001b[0m-\u001b[1;36m29\u001b[0m \u001b[1;92m17:38:28\u001b[0m,\u001b[1;36m396\u001b[0m - DEBUG - \u001b[33mexpected_index\u001b[0m=\u001b[1;36m2\u001b[0m                    \u001b]8;id=265512;file:///tmp/ipykernel_16595/1292906133.py\u001b\\\u001b[2m1292906133.py\u001b[0m\u001b]8;;\u001b\\\u001b[2m:\u001b[0m\u001b]8;id=504485;file:///tmp/ipykernel_16595/1292906133.py#24\u001b\\\u001b[2m24\u001b[0m\u001b]8;;\u001b\\\n"
      ]
     },
     "metadata": {},
     "output_type": "display_data"
    },
    {
     "data": {
      "text/html": [
       "<pre style=\"white-space:pre;overflow-x:auto;line-height:normal;font-family:Menlo,'DejaVu Sans Mono',consolas,'Courier New',monospace\"><span style=\"color: #7fbfbf; text-decoration-color: #7fbfbf\">                    </span><span style=\"color: #008000; text-decoration-color: #008000\">DEBUG   </span> <span style=\"color: #008080; text-decoration-color: #008080; font-weight: bold\">2024</span>-<span style=\"color: #008080; text-decoration-color: #008080; font-weight: bold\">09</span>-<span style=\"color: #008080; text-decoration-color: #008080; font-weight: bold\">29</span> <span style=\"color: #00ff00; text-decoration-color: #00ff00; font-weight: bold\">17:38:28</span>,<span style=\"color: #008080; text-decoration-color: #008080; font-weight: bold\">400</span> - DEBUG - Adding to output:<span style=\"font-weight: bold\">[</span>                  <a href=\"file:///tmp/ipykernel_16595/1292906133.py\" target=\"_blank\"><span style=\"color: #7f7f7f; text-decoration-color: #7f7f7f\">1292906133.py</span></a><span style=\"color: #7f7f7f; text-decoration-color: #7f7f7f\">:</span><a href=\"file:///tmp/ipykernel_16595/1292906133.py#30\" target=\"_blank\"><span style=\"color: #7f7f7f; text-decoration-color: #7f7f7f\">30</span></a>\n",
       "<span style=\"color: #7fbfbf; text-decoration-color: #7fbfbf\">                    </span>         <span style=\"font-weight: bold\">[</span>\u001b<span style=\"font-weight: bold\">[</span><span style=\"color: #008080; text-decoration-color: #008080; font-weight: bold\">0</span>;93mCHG\u001b<span style=\"font-weight: bold\">[</span>0m<span style=\"font-weight: bold\">]</span> Controller <span style=\"color: #00ff00; text-decoration-color: #00ff00; font-weight: bold\">4C:49:6C:0C:6B:4B</span> Discovering: no           <span style=\"color: #7f7f7f; text-decoration-color: #7f7f7f\">                </span>\n",
       "<span style=\"color: #7fbfbf; text-decoration-color: #7fbfbf\">                    </span>         \u001b<span style=\"font-weight: bold\">[</span>?2004l                                                               <span style=\"color: #7f7f7f; text-decoration-color: #7f7f7f\">                </span>\n",
       "<span style=\"color: #7fbfbf; text-decoration-color: #7fbfbf\">                    </span>         Device <span style=\"color: #00ff00; text-decoration-color: #00ff00; font-weight: bold\">98:D3:31:00:0A:F6</span> Philips TAH4205                              <span style=\"color: #7f7f7f; text-decoration-color: #7f7f7f\">                </span>\n",
       "<span style=\"color: #7fbfbf; text-decoration-color: #7fbfbf\">                    </span>         Device <span style=\"color: #00ff00; text-decoration-color: #00ff00; font-weight: bold\">E4:D7:00:02:73:8C</span> ZX-K22 BT5.<span style=\"color: #008080; text-decoration-color: #008080; font-weight: bold\">1</span>                                 <span style=\"color: #7f7f7f; text-decoration-color: #7f7f7f\">                </span>\n",
       "<span style=\"color: #7fbfbf; text-decoration-color: #7fbfbf\">                    </span>         \u001b<span style=\"font-weight: bold\">[</span>?2004h\u001b<span style=\"font-weight: bold\">[</span><span style=\"color: #008080; text-decoration-color: #008080; font-weight: bold\">0</span>;94m<span style=\"font-weight: bold\">[</span>Philips TAH4205<span style=\"font-weight: bold\">]</span>\u001b<span style=\"font-weight: bold\">[</span>0m<span style=\"font-weight: bold\">]</span>                                    <span style=\"color: #7f7f7f; text-decoration-color: #7f7f7f\">                </span>\n",
       "</pre>\n"
      ],
      "text/plain": [
       "\u001b[2;36m                   \u001b[0m\u001b[2;36m \u001b[0m\u001b[32mDEBUG   \u001b[0m \u001b[1;36m2024\u001b[0m-\u001b[1;36m09\u001b[0m-\u001b[1;36m29\u001b[0m \u001b[1;92m17:38:28\u001b[0m,\u001b[1;36m400\u001b[0m - DEBUG - Adding to output:\u001b[1m[\u001b[0m                  \u001b]8;id=50386;file:///tmp/ipykernel_16595/1292906133.py\u001b\\\u001b[2m1292906133.py\u001b[0m\u001b]8;;\u001b\\\u001b[2m:\u001b[0m\u001b]8;id=584447;file:///tmp/ipykernel_16595/1292906133.py#30\u001b\\\u001b[2m30\u001b[0m\u001b]8;;\u001b\\\n",
       "\u001b[2;36m                    \u001b[0m         \u001b[1m[\u001b[0m\u001b\u001b[1m[\u001b[0m\u001b[1;36m0\u001b[0m;93mCHG\u001b\u001b[1m[\u001b[0m0m\u001b[1m]\u001b[0m Controller \u001b[1;92m4C:49:6C:0C:6B:4B\u001b[0m Discovering: no           \u001b[2m                \u001b[0m\n",
       "\u001b[2;36m                    \u001b[0m         \u001b\u001b[1m[\u001b[0m?2004l                                                               \u001b[2m                \u001b[0m\n",
       "\u001b[2;36m                    \u001b[0m         Device \u001b[1;92m98:D3:31:00:0A:F6\u001b[0m Philips TAH4205                              \u001b[2m                \u001b[0m\n",
       "\u001b[2;36m                    \u001b[0m         Device \u001b[1;92mE4:D7:00:02:73:8C\u001b[0m ZX-K22 BT5.\u001b[1;36m1\u001b[0m                                 \u001b[2m                \u001b[0m\n",
       "\u001b[2;36m                    \u001b[0m         \u001b\u001b[1m[\u001b[0m?2004h\u001b\u001b[1m[\u001b[0m\u001b[1;36m0\u001b[0m;94m\u001b[1m[\u001b[0mPhilips TAH4205\u001b[1m]\u001b[0m\u001b\u001b[1m[\u001b[0m0m\u001b[1m]\u001b[0m                                    \u001b[2m                \u001b[0m\n"
      ]
     },
     "metadata": {},
     "output_type": "display_data"
    },
    {
     "name": "stdout",
     "output_type": "stream",
     "text": [
      "\n",
      "[\u001b[0;93mCHG\u001b[0m] Controller 4C:49:6C:0C:6B:4B Discovering: no\n",
      "\u001b[?2004l\n",
      "Device 98:D3:31:00:0A:F6 Philips TAH4205\n",
      "Device E4:D7:00:02:73:8C ZX-K22 BT5.1\n",
      "\u001b[?2004h\u001b[0;94m[Philips TAH4205]\u001b[0m\n"
     ]
    },
    {
     "data": {
      "text/html": [
       "<pre style=\"white-space:pre;overflow-x:auto;line-height:normal;font-family:Menlo,'DejaVu Sans Mono',consolas,'Courier New',monospace\"><span style=\"color: #7fbfbf; text-decoration-color: #7fbfbf\">[09/29/24 17:38:31] </span><span style=\"color: #000080; text-decoration-color: #000080\">INFO    </span> <span style=\"color: #008080; text-decoration-color: #008080; font-weight: bold\">2024</span>-<span style=\"color: #008080; text-decoration-color: #008080; font-weight: bold\">09</span>-<span style=\"color: #008080; text-decoration-color: #008080; font-weight: bold\">29</span> <span style=\"color: #00ff00; text-decoration-color: #00ff00; font-weight: bold\">17:38:31</span>,<span style=\"color: #008080; text-decoration-color: #008080; font-weight: bold\">457</span> - INFO - Sending command <span style=\"font-weight: bold\">[</span>devices Trusted<span style=\"font-weight: bold\">]</span>    <a href=\"file:///tmp/ipykernel_16595/1292906133.py\" target=\"_blank\"><span style=\"color: #7f7f7f; text-decoration-color: #7f7f7f\">1292906133.py</span></a><span style=\"color: #7f7f7f; text-decoration-color: #7f7f7f\">:</span><a href=\"file:///tmp/ipykernel_16595/1292906133.py#22\" target=\"_blank\"><span style=\"color: #7f7f7f; text-decoration-color: #7f7f7f\">22</span></a>\n",
       "<span style=\"color: #7fbfbf; text-decoration-color: #7fbfbf\">                    </span>         with <span style=\"color: #808000; text-decoration-color: #808000\">expected</span>=<span style=\"font-weight: bold\">[[</span><span style=\"color: #008000; text-decoration-color: #008000\">'Invalid argument'</span>, <span style=\"color: #008000; text-decoration-color: #008000\">'Invalid command'</span>, <span style=\"color: #008000; text-decoration-color: #008000\">'#'</span>, <span style=\"font-weight: bold\">&lt;</span><span style=\"color: #ff00ff; text-decoration-color: #ff00ff; font-weight: bold\">class</span><span style=\"color: #000000; text-decoration-color: #000000\"> </span>   <span style=\"color: #7f7f7f; text-decoration-color: #7f7f7f\">                </span>\n",
       "<span style=\"color: #7fbfbf; text-decoration-color: #7fbfbf\">                    </span>         <span style=\"color: #008000; text-decoration-color: #008000\">'pexpect.exceptions.EOF'</span><span style=\"font-weight: bold\">&gt;]]</span> and <span style=\"color: #808000; text-decoration-color: #808000\">pause</span>=<span style=\"font-weight: bold\">[</span><span style=\"color: #008080; text-decoration-color: #008080; font-weight: bold\">3</span><span style=\"font-weight: bold\">]</span>                             <span style=\"color: #7f7f7f; text-decoration-color: #7f7f7f\">                </span>\n",
       "</pre>\n"
      ],
      "text/plain": [
       "\u001b[2;36m[09/29/24 17:38:31]\u001b[0m\u001b[2;36m \u001b[0m\u001b[34mINFO    \u001b[0m \u001b[1;36m2024\u001b[0m-\u001b[1;36m09\u001b[0m-\u001b[1;36m29\u001b[0m \u001b[1;92m17:38:31\u001b[0m,\u001b[1;36m457\u001b[0m - INFO - Sending command \u001b[1m[\u001b[0mdevices Trusted\u001b[1m]\u001b[0m    \u001b]8;id=256963;file:///tmp/ipykernel_16595/1292906133.py\u001b\\\u001b[2m1292906133.py\u001b[0m\u001b]8;;\u001b\\\u001b[2m:\u001b[0m\u001b]8;id=673372;file:///tmp/ipykernel_16595/1292906133.py#22\u001b\\\u001b[2m22\u001b[0m\u001b]8;;\u001b\\\n",
       "\u001b[2;36m                    \u001b[0m         with \u001b[33mexpected\u001b[0m=\u001b[1m[\u001b[0m\u001b[1m[\u001b[0m\u001b[32m'Invalid argument'\u001b[0m, \u001b[32m'Invalid command'\u001b[0m, \u001b[32m'#'\u001b[0m, \u001b[1m<\u001b[0m\u001b[1;95mclass\u001b[0m\u001b[39m \u001b[0m   \u001b[2m                \u001b[0m\n",
       "\u001b[2;36m                    \u001b[0m         \u001b[32m'pexpect.exceptions.EOF'\u001b[0m\u001b[1m>\u001b[0m\u001b[1m]\u001b[0m\u001b[1m]\u001b[0m and \u001b[33mpause\u001b[0m=\u001b[1m[\u001b[0m\u001b[1;36m3\u001b[0m\u001b[1m]\u001b[0m                             \u001b[2m                \u001b[0m\n"
      ]
     },
     "metadata": {},
     "output_type": "display_data"
    },
    {
     "data": {
      "text/html": [
       "<pre style=\"white-space:pre;overflow-x:auto;line-height:normal;font-family:Menlo,'DejaVu Sans Mono',consolas,'Courier New',monospace\"><span style=\"color: #7fbfbf; text-decoration-color: #7fbfbf\">                    </span><span style=\"color: #008000; text-decoration-color: #008000\">DEBUG   </span> <span style=\"color: #008080; text-decoration-color: #008080; font-weight: bold\">2024</span>-<span style=\"color: #008080; text-decoration-color: #008080; font-weight: bold\">09</span>-<span style=\"color: #008080; text-decoration-color: #008080; font-weight: bold\">29</span> <span style=\"color: #00ff00; text-decoration-color: #00ff00; font-weight: bold\">17:38:31</span>,<span style=\"color: #008080; text-decoration-color: #008080; font-weight: bold\">464</span> - DEBUG - <span style=\"color: #808000; text-decoration-color: #808000\">expected_index</span>=<span style=\"color: #008080; text-decoration-color: #008080; font-weight: bold\">2</span>                    <a href=\"file:///tmp/ipykernel_16595/1292906133.py\" target=\"_blank\"><span style=\"color: #7f7f7f; text-decoration-color: #7f7f7f\">1292906133.py</span></a><span style=\"color: #7f7f7f; text-decoration-color: #7f7f7f\">:</span><a href=\"file:///tmp/ipykernel_16595/1292906133.py#24\" target=\"_blank\"><span style=\"color: #7f7f7f; text-decoration-color: #7f7f7f\">24</span></a>\n",
       "</pre>\n"
      ],
      "text/plain": [
       "\u001b[2;36m                   \u001b[0m\u001b[2;36m \u001b[0m\u001b[32mDEBUG   \u001b[0m \u001b[1;36m2024\u001b[0m-\u001b[1;36m09\u001b[0m-\u001b[1;36m29\u001b[0m \u001b[1;92m17:38:31\u001b[0m,\u001b[1;36m464\u001b[0m - DEBUG - \u001b[33mexpected_index\u001b[0m=\u001b[1;36m2\u001b[0m                    \u001b]8;id=650643;file:///tmp/ipykernel_16595/1292906133.py\u001b\\\u001b[2m1292906133.py\u001b[0m\u001b]8;;\u001b\\\u001b[2m:\u001b[0m\u001b]8;id=131991;file:///tmp/ipykernel_16595/1292906133.py#24\u001b\\\u001b[2m24\u001b[0m\u001b]8;;\u001b\\\n"
      ]
     },
     "metadata": {},
     "output_type": "display_data"
    },
    {
     "data": {
      "text/html": [
       "<pre style=\"white-space:pre;overflow-x:auto;line-height:normal;font-family:Menlo,'DejaVu Sans Mono',consolas,'Courier New',monospace\"><span style=\"color: #7fbfbf; text-decoration-color: #7fbfbf\">                    </span><span style=\"color: #008000; text-decoration-color: #008000\">DEBUG   </span> <span style=\"color: #008080; text-decoration-color: #008080; font-weight: bold\">2024</span>-<span style=\"color: #008080; text-decoration-color: #008080; font-weight: bold\">09</span>-<span style=\"color: #008080; text-decoration-color: #008080; font-weight: bold\">29</span> <span style=\"color: #00ff00; text-decoration-color: #00ff00; font-weight: bold\">17:38:31</span>,<span style=\"color: #008080; text-decoration-color: #008080; font-weight: bold\">466</span> - DEBUG - Adding to output:<span style=\"font-weight: bold\">[</span> \u001b<span style=\"font-weight: bold\">[</span>?2004l          <a href=\"file:///tmp/ipykernel_16595/1292906133.py\" target=\"_blank\"><span style=\"color: #7f7f7f; text-decoration-color: #7f7f7f\">1292906133.py</span></a><span style=\"color: #7f7f7f; text-decoration-color: #7f7f7f\">:</span><a href=\"file:///tmp/ipykernel_16595/1292906133.py#30\" target=\"_blank\"><span style=\"color: #7f7f7f; text-decoration-color: #7f7f7f\">30</span></a>\n",
       "<span style=\"color: #7fbfbf; text-decoration-color: #7fbfbf\">                    </span>         Device <span style=\"color: #00ff00; text-decoration-color: #00ff00; font-weight: bold\">E4:D7:00:02:73:8C</span> ZX-K22 BT5.<span style=\"color: #008080; text-decoration-color: #008080; font-weight: bold\">1</span>                                 <span style=\"color: #7f7f7f; text-decoration-color: #7f7f7f\">                </span>\n",
       "<span style=\"color: #7fbfbf; text-decoration-color: #7fbfbf\">                    </span>         \u001b<span style=\"font-weight: bold\">[</span>?2004h\u001b<span style=\"font-weight: bold\">[</span><span style=\"color: #008080; text-decoration-color: #008080; font-weight: bold\">0</span>;94m<span style=\"font-weight: bold\">[</span>Philips TAH4205<span style=\"font-weight: bold\">]</span>\u001b<span style=\"font-weight: bold\">[</span>0m<span style=\"font-weight: bold\">]</span>                                    <span style=\"color: #7f7f7f; text-decoration-color: #7f7f7f\">                </span>\n",
       "</pre>\n"
      ],
      "text/plain": [
       "\u001b[2;36m                   \u001b[0m\u001b[2;36m \u001b[0m\u001b[32mDEBUG   \u001b[0m \u001b[1;36m2024\u001b[0m-\u001b[1;36m09\u001b[0m-\u001b[1;36m29\u001b[0m \u001b[1;92m17:38:31\u001b[0m,\u001b[1;36m466\u001b[0m - DEBUG - Adding to output:\u001b[1m[\u001b[0m \u001b\u001b[1m[\u001b[0m?2004l          \u001b]8;id=246118;file:///tmp/ipykernel_16595/1292906133.py\u001b\\\u001b[2m1292906133.py\u001b[0m\u001b]8;;\u001b\\\u001b[2m:\u001b[0m\u001b]8;id=954645;file:///tmp/ipykernel_16595/1292906133.py#30\u001b\\\u001b[2m30\u001b[0m\u001b]8;;\u001b\\\n",
       "\u001b[2;36m                    \u001b[0m         Device \u001b[1;92mE4:D7:00:02:73:8C\u001b[0m ZX-K22 BT5.\u001b[1;36m1\u001b[0m                                 \u001b[2m                \u001b[0m\n",
       "\u001b[2;36m                    \u001b[0m         \u001b\u001b[1m[\u001b[0m?2004h\u001b\u001b[1m[\u001b[0m\u001b[1;36m0\u001b[0m;94m\u001b[1m[\u001b[0mPhilips TAH4205\u001b[1m]\u001b[0m\u001b\u001b[1m[\u001b[0m0m\u001b[1m]\u001b[0m                                    \u001b[2m                \u001b[0m\n"
      ]
     },
     "metadata": {},
     "output_type": "display_data"
    },
    {
     "name": "stdout",
     "output_type": "stream",
     "text": [
      " \u001b[?2004l\n",
      "Device E4:D7:00:02:73:8C ZX-K22 BT5.1\n",
      "\u001b[?2004h\u001b[0;94m[Philips TAH4205]\u001b[0m\n"
     ]
    },
    {
     "data": {
      "text/html": [
       "<pre style=\"white-space:pre;overflow-x:auto;line-height:normal;font-family:Menlo,'DejaVu Sans Mono',consolas,'Courier New',monospace\"><span style=\"color: #7fbfbf; text-decoration-color: #7fbfbf\">[09/29/24 17:38:34] </span><span style=\"color: #000080; text-decoration-color: #000080\">INFO    </span> <span style=\"color: #008080; text-decoration-color: #008080; font-weight: bold\">2024</span>-<span style=\"color: #008080; text-decoration-color: #008080; font-weight: bold\">09</span>-<span style=\"color: #008080; text-decoration-color: #008080; font-weight: bold\">29</span> <span style=\"color: #00ff00; text-decoration-color: #00ff00; font-weight: bold\">17:38:34</span>,<span style=\"color: #008080; text-decoration-color: #008080; font-weight: bold\">521</span> - INFO - Sending command <span style=\"font-weight: bold\">[</span>devices Paired<span style=\"font-weight: bold\">]</span>     <a href=\"file:///tmp/ipykernel_16595/1292906133.py\" target=\"_blank\"><span style=\"color: #7f7f7f; text-decoration-color: #7f7f7f\">1292906133.py</span></a><span style=\"color: #7f7f7f; text-decoration-color: #7f7f7f\">:</span><a href=\"file:///tmp/ipykernel_16595/1292906133.py#22\" target=\"_blank\"><span style=\"color: #7f7f7f; text-decoration-color: #7f7f7f\">22</span></a>\n",
       "<span style=\"color: #7fbfbf; text-decoration-color: #7fbfbf\">                    </span>         with <span style=\"color: #808000; text-decoration-color: #808000\">expected</span>=<span style=\"font-weight: bold\">[[</span><span style=\"color: #008000; text-decoration-color: #008000\">'Invalid argument'</span>, <span style=\"color: #008000; text-decoration-color: #008000\">'Invalid command'</span>, <span style=\"color: #008000; text-decoration-color: #008000\">'#'</span>, <span style=\"font-weight: bold\">&lt;</span><span style=\"color: #ff00ff; text-decoration-color: #ff00ff; font-weight: bold\">class</span><span style=\"color: #000000; text-decoration-color: #000000\"> </span>   <span style=\"color: #7f7f7f; text-decoration-color: #7f7f7f\">                </span>\n",
       "<span style=\"color: #7fbfbf; text-decoration-color: #7fbfbf\">                    </span>         <span style=\"color: #008000; text-decoration-color: #008000\">'pexpect.exceptions.EOF'</span><span style=\"font-weight: bold\">&gt;]]</span> and <span style=\"color: #808000; text-decoration-color: #808000\">pause</span>=<span style=\"font-weight: bold\">[</span><span style=\"color: #008080; text-decoration-color: #008080; font-weight: bold\">3</span><span style=\"font-weight: bold\">]</span>                             <span style=\"color: #7f7f7f; text-decoration-color: #7f7f7f\">                </span>\n",
       "</pre>\n"
      ],
      "text/plain": [
       "\u001b[2;36m[09/29/24 17:38:34]\u001b[0m\u001b[2;36m \u001b[0m\u001b[34mINFO    \u001b[0m \u001b[1;36m2024\u001b[0m-\u001b[1;36m09\u001b[0m-\u001b[1;36m29\u001b[0m \u001b[1;92m17:38:34\u001b[0m,\u001b[1;36m521\u001b[0m - INFO - Sending command \u001b[1m[\u001b[0mdevices Paired\u001b[1m]\u001b[0m     \u001b]8;id=882501;file:///tmp/ipykernel_16595/1292906133.py\u001b\\\u001b[2m1292906133.py\u001b[0m\u001b]8;;\u001b\\\u001b[2m:\u001b[0m\u001b]8;id=684918;file:///tmp/ipykernel_16595/1292906133.py#22\u001b\\\u001b[2m22\u001b[0m\u001b]8;;\u001b\\\n",
       "\u001b[2;36m                    \u001b[0m         with \u001b[33mexpected\u001b[0m=\u001b[1m[\u001b[0m\u001b[1m[\u001b[0m\u001b[32m'Invalid argument'\u001b[0m, \u001b[32m'Invalid command'\u001b[0m, \u001b[32m'#'\u001b[0m, \u001b[1m<\u001b[0m\u001b[1;95mclass\u001b[0m\u001b[39m \u001b[0m   \u001b[2m                \u001b[0m\n",
       "\u001b[2;36m                    \u001b[0m         \u001b[32m'pexpect.exceptions.EOF'\u001b[0m\u001b[1m>\u001b[0m\u001b[1m]\u001b[0m\u001b[1m]\u001b[0m and \u001b[33mpause\u001b[0m=\u001b[1m[\u001b[0m\u001b[1;36m3\u001b[0m\u001b[1m]\u001b[0m                             \u001b[2m                \u001b[0m\n"
      ]
     },
     "metadata": {},
     "output_type": "display_data"
    },
    {
     "data": {
      "text/html": [
       "<pre style=\"white-space:pre;overflow-x:auto;line-height:normal;font-family:Menlo,'DejaVu Sans Mono',consolas,'Courier New',monospace\"><span style=\"color: #7fbfbf; text-decoration-color: #7fbfbf\">                    </span><span style=\"color: #008000; text-decoration-color: #008000\">DEBUG   </span> <span style=\"color: #008080; text-decoration-color: #008080; font-weight: bold\">2024</span>-<span style=\"color: #008080; text-decoration-color: #008080; font-weight: bold\">09</span>-<span style=\"color: #008080; text-decoration-color: #008080; font-weight: bold\">29</span> <span style=\"color: #00ff00; text-decoration-color: #00ff00; font-weight: bold\">17:38:34</span>,<span style=\"color: #008080; text-decoration-color: #008080; font-weight: bold\">528</span> - DEBUG - <span style=\"color: #808000; text-decoration-color: #808000\">expected_index</span>=<span style=\"color: #008080; text-decoration-color: #008080; font-weight: bold\">2</span>                    <a href=\"file:///tmp/ipykernel_16595/1292906133.py\" target=\"_blank\"><span style=\"color: #7f7f7f; text-decoration-color: #7f7f7f\">1292906133.py</span></a><span style=\"color: #7f7f7f; text-decoration-color: #7f7f7f\">:</span><a href=\"file:///tmp/ipykernel_16595/1292906133.py#24\" target=\"_blank\"><span style=\"color: #7f7f7f; text-decoration-color: #7f7f7f\">24</span></a>\n",
       "</pre>\n"
      ],
      "text/plain": [
       "\u001b[2;36m                   \u001b[0m\u001b[2;36m \u001b[0m\u001b[32mDEBUG   \u001b[0m \u001b[1;36m2024\u001b[0m-\u001b[1;36m09\u001b[0m-\u001b[1;36m29\u001b[0m \u001b[1;92m17:38:34\u001b[0m,\u001b[1;36m528\u001b[0m - DEBUG - \u001b[33mexpected_index\u001b[0m=\u001b[1;36m2\u001b[0m                    \u001b]8;id=503792;file:///tmp/ipykernel_16595/1292906133.py\u001b\\\u001b[2m1292906133.py\u001b[0m\u001b]8;;\u001b\\\u001b[2m:\u001b[0m\u001b]8;id=655650;file:///tmp/ipykernel_16595/1292906133.py#24\u001b\\\u001b[2m24\u001b[0m\u001b]8;;\u001b\\\n"
      ]
     },
     "metadata": {},
     "output_type": "display_data"
    },
    {
     "data": {
      "text/html": [
       "<pre style=\"white-space:pre;overflow-x:auto;line-height:normal;font-family:Menlo,'DejaVu Sans Mono',consolas,'Courier New',monospace\"><span style=\"color: #7fbfbf; text-decoration-color: #7fbfbf\">                    </span><span style=\"color: #008000; text-decoration-color: #008000\">DEBUG   </span> <span style=\"color: #008080; text-decoration-color: #008080; font-weight: bold\">2024</span>-<span style=\"color: #008080; text-decoration-color: #008080; font-weight: bold\">09</span>-<span style=\"color: #008080; text-decoration-color: #008080; font-weight: bold\">29</span> <span style=\"color: #00ff00; text-decoration-color: #00ff00; font-weight: bold\">17:38:34</span>,<span style=\"color: #008080; text-decoration-color: #008080; font-weight: bold\">532</span> - DEBUG - Adding to output:<span style=\"font-weight: bold\">[</span> \u001b<span style=\"font-weight: bold\">[</span>?2004l          <a href=\"file:///tmp/ipykernel_16595/1292906133.py\" target=\"_blank\"><span style=\"color: #7f7f7f; text-decoration-color: #7f7f7f\">1292906133.py</span></a><span style=\"color: #7f7f7f; text-decoration-color: #7f7f7f\">:</span><a href=\"file:///tmp/ipykernel_16595/1292906133.py#30\" target=\"_blank\"><span style=\"color: #7f7f7f; text-decoration-color: #7f7f7f\">30</span></a>\n",
       "<span style=\"color: #7fbfbf; text-decoration-color: #7fbfbf\">                    </span>         Device <span style=\"color: #00ff00; text-decoration-color: #00ff00; font-weight: bold\">98:D3:31:00:0A:F6</span> Philips TAH4205                              <span style=\"color: #7f7f7f; text-decoration-color: #7f7f7f\">                </span>\n",
       "<span style=\"color: #7fbfbf; text-decoration-color: #7fbfbf\">                    </span>         Device <span style=\"color: #00ff00; text-decoration-color: #00ff00; font-weight: bold\">E5:1C:60:76:25:4B</span> BT5.<span style=\"color: #008080; text-decoration-color: #008080; font-weight: bold\">1</span> Mouse                                  <span style=\"color: #7f7f7f; text-decoration-color: #7f7f7f\">                </span>\n",
       "<span style=\"color: #7fbfbf; text-decoration-color: #7fbfbf\">                    </span>         Device <span style=\"color: #00ff00; text-decoration-color: #00ff00; font-weight: bold\">E4:D7:00:02:73:8C</span> ZX-K22 BT5.<span style=\"color: #008080; text-decoration-color: #008080; font-weight: bold\">1</span>                                 <span style=\"color: #7f7f7f; text-decoration-color: #7f7f7f\">                </span>\n",
       "<span style=\"color: #7fbfbf; text-decoration-color: #7fbfbf\">                    </span>         \u001b<span style=\"font-weight: bold\">[</span>?2004h\u001b<span style=\"font-weight: bold\">[</span><span style=\"color: #008080; text-decoration-color: #008080; font-weight: bold\">0</span>;94m<span style=\"font-weight: bold\">[</span>Philips TAH4205<span style=\"font-weight: bold\">]</span>\u001b<span style=\"font-weight: bold\">[</span>0m<span style=\"font-weight: bold\">]</span>                                    <span style=\"color: #7f7f7f; text-decoration-color: #7f7f7f\">                </span>\n",
       "</pre>\n"
      ],
      "text/plain": [
       "\u001b[2;36m                   \u001b[0m\u001b[2;36m \u001b[0m\u001b[32mDEBUG   \u001b[0m \u001b[1;36m2024\u001b[0m-\u001b[1;36m09\u001b[0m-\u001b[1;36m29\u001b[0m \u001b[1;92m17:38:34\u001b[0m,\u001b[1;36m532\u001b[0m - DEBUG - Adding to output:\u001b[1m[\u001b[0m \u001b\u001b[1m[\u001b[0m?2004l          \u001b]8;id=500656;file:///tmp/ipykernel_16595/1292906133.py\u001b\\\u001b[2m1292906133.py\u001b[0m\u001b]8;;\u001b\\\u001b[2m:\u001b[0m\u001b]8;id=931172;file:///tmp/ipykernel_16595/1292906133.py#30\u001b\\\u001b[2m30\u001b[0m\u001b]8;;\u001b\\\n",
       "\u001b[2;36m                    \u001b[0m         Device \u001b[1;92m98:D3:31:00:0A:F6\u001b[0m Philips TAH4205                              \u001b[2m                \u001b[0m\n",
       "\u001b[2;36m                    \u001b[0m         Device \u001b[1;92mE5:1C:60:76:25:4B\u001b[0m BT5.\u001b[1;36m1\u001b[0m Mouse                                  \u001b[2m                \u001b[0m\n",
       "\u001b[2;36m                    \u001b[0m         Device \u001b[1;92mE4:D7:00:02:73:8C\u001b[0m ZX-K22 BT5.\u001b[1;36m1\u001b[0m                                 \u001b[2m                \u001b[0m\n",
       "\u001b[2;36m                    \u001b[0m         \u001b\u001b[1m[\u001b[0m?2004h\u001b\u001b[1m[\u001b[0m\u001b[1;36m0\u001b[0m;94m\u001b[1m[\u001b[0mPhilips TAH4205\u001b[1m]\u001b[0m\u001b\u001b[1m[\u001b[0m0m\u001b[1m]\u001b[0m                                    \u001b[2m                \u001b[0m\n"
      ]
     },
     "metadata": {},
     "output_type": "display_data"
    },
    {
     "name": "stdout",
     "output_type": "stream",
     "text": [
      " \u001b[?2004l\n",
      "Device 98:D3:31:00:0A:F6 Philips TAH4205\n",
      "Device E5:1C:60:76:25:4B BT5.1 Mouse\n",
      "Device E4:D7:00:02:73:8C ZX-K22 BT5.1\n",
      "\u001b[?2004h\u001b[0;94m[Philips TAH4205]\u001b[0m\n",
      "Device is connected=True,is trusted=False, is paired=True\n"
     ]
    }
   ],
   "source": [
    "btctl=Bluetoothctl()\n",
    "dev_mac=\"98:D3:31:00:0A:F6\"\n",
    "dev_connected=False\n",
    "dev_trusted=False\n",
    "dev_paired=False\n",
    "\n",
    "res=btctl.get_output(\"devices Connected\")\n",
    "print(res)\n",
    "if re.search(dev_mac,res):\n",
    "    dev_connected=True\n",
    "\n",
    "res=btctl.get_output(\"devices Trusted\")\n",
    "print(res)\n",
    "if re.search(dev_mac,res):\n",
    "    dev_trusted=True\n",
    "\n",
    "res=btctl.get_output(\"devices Paired\")\n",
    "print(res)\n",
    "if re.search(dev_mac,res):\n",
    "    dev_paired=True\n",
    "print(f\"Device is connected={dev_connected},is trusted={dev_trusted}, is paired={dev_paired}\")"
   ]
  },
  {
   "cell_type": "markdown",
   "id": "387b9d28-7d23-4cd2-bd45-d607f2e2ffb2",
   "metadata": {},
   "source": [
    "Let's try to remove it if it is known by bluetoothctl"
   ]
  },
  {
   "cell_type": "code",
   "execution_count": 93,
   "id": "397080c8-1b9d-445d-a886-ea26267af0e0",
   "metadata": {},
   "outputs": [
    {
     "data": {
      "text/html": [
       "<pre style=\"white-space:pre;overflow-x:auto;line-height:normal;font-family:Menlo,'DejaVu Sans Mono',consolas,'Courier New',monospace\"><span style=\"color: #7fbfbf; text-decoration-color: #7fbfbf\">[09/29/24 17:25:15] </span><span style=\"color: #000080; text-decoration-color: #000080\">INFO    </span> <span style=\"color: #008080; text-decoration-color: #008080; font-weight: bold\">2024</span>-<span style=\"color: #008080; text-decoration-color: #008080; font-weight: bold\">09</span>-<span style=\"color: #008080; text-decoration-color: #008080; font-weight: bold\">29</span> <span style=\"color: #00ff00; text-decoration-color: #00ff00; font-weight: bold\">17:25:15</span>,<span style=\"color: #008080; text-decoration-color: #008080; font-weight: bold\">655</span> - INFO - Sending command <span style=\"font-weight: bold\">[</span>remove               <a href=\"file:///tmp/ipykernel_16595/415227010.py\" target=\"_blank\"><span style=\"color: #7f7f7f; text-decoration-color: #7f7f7f\">415227010.py</span></a><span style=\"color: #7f7f7f; text-decoration-color: #7f7f7f\">:</span><a href=\"file:///tmp/ipykernel_16595/415227010.py#23\" target=\"_blank\"><span style=\"color: #7f7f7f; text-decoration-color: #7f7f7f\">23</span></a>\n",
       "<span style=\"color: #7fbfbf; text-decoration-color: #7fbfbf\">                    </span>         <span style=\"color: #00ff00; text-decoration-color: #00ff00; font-weight: bold\">98:D3:31:00:0A:F6</span><span style=\"font-weight: bold\">]</span> with <span style=\"color: #808000; text-decoration-color: #808000\">expected</span>=<span style=\"font-weight: bold\">[[</span><span style=\"color: #008000; text-decoration-color: #008000\">'Device has been removed'</span>, <span style=\"color: #008000; text-decoration-color: #008000\">'Device </span> <span style=\"color: #7f7f7f; text-decoration-color: #7f7f7f\">               </span>\n",
       "<span style=\"color: #7fbfbf; text-decoration-color: #7fbfbf\">                    </span>         <span style=\"color: #008000; text-decoration-color: #008000\">98:D3:31:00:0A:F6 not available'</span>, <span style=\"color: #008000; text-decoration-color: #008000\">'Invalid argument'</span>, <span style=\"color: #008000; text-decoration-color: #008000\">'Invalid </span>        <span style=\"color: #7f7f7f; text-decoration-color: #7f7f7f\">               </span>\n",
       "<span style=\"color: #7fbfbf; text-decoration-color: #7fbfbf\">                    </span>         <span style=\"color: #008000; text-decoration-color: #008000\">command'</span>, <span style=\"color: #008000; text-decoration-color: #008000\">'#'</span>, <span style=\"font-weight: bold\">&lt;</span><span style=\"color: #ff00ff; text-decoration-color: #ff00ff; font-weight: bold\">class</span><span style=\"color: #000000; text-decoration-color: #000000\"> </span><span style=\"color: #008000; text-decoration-color: #008000\">'pexpect.exceptions.EOF'</span><span style=\"font-weight: bold\">&gt;]]</span> and <span style=\"color: #808000; text-decoration-color: #808000\">pause</span>=<span style=\"font-weight: bold\">[</span><span style=\"color: #008080; text-decoration-color: #008080; font-weight: bold\">3</span><span style=\"font-weight: bold\">]</span>        <span style=\"color: #7f7f7f; text-decoration-color: #7f7f7f\">               </span>\n",
       "</pre>\n"
      ],
      "text/plain": [
       "\u001b[2;36m[09/29/24 17:25:15]\u001b[0m\u001b[2;36m \u001b[0m\u001b[34mINFO    \u001b[0m \u001b[1;36m2024\u001b[0m-\u001b[1;36m09\u001b[0m-\u001b[1;36m29\u001b[0m \u001b[1;92m17:25:15\u001b[0m,\u001b[1;36m655\u001b[0m - INFO - Sending command \u001b[1m[\u001b[0mremove               \u001b]8;id=293825;file:///tmp/ipykernel_16595/415227010.py\u001b\\\u001b[2m415227010.py\u001b[0m\u001b]8;;\u001b\\\u001b[2m:\u001b[0m\u001b]8;id=468488;file:///tmp/ipykernel_16595/415227010.py#23\u001b\\\u001b[2m23\u001b[0m\u001b]8;;\u001b\\\n",
       "\u001b[2;36m                    \u001b[0m         \u001b[1;92m98:D3:31:00:0A:F6\u001b[0m\u001b[1m]\u001b[0m with \u001b[33mexpected\u001b[0m=\u001b[1m[\u001b[0m\u001b[1m[\u001b[0m\u001b[32m'Device has been removed'\u001b[0m, \u001b[32m'Device \u001b[0m \u001b[2m               \u001b[0m\n",
       "\u001b[2;36m                    \u001b[0m         \u001b[32m98:D3:31:00:0A:F6 not available'\u001b[0m, \u001b[32m'Invalid argument'\u001b[0m, \u001b[32m'Invalid \u001b[0m        \u001b[2m               \u001b[0m\n",
       "\u001b[2;36m                    \u001b[0m         \u001b[32mcommand'\u001b[0m, \u001b[32m'#'\u001b[0m, \u001b[1m<\u001b[0m\u001b[1;95mclass\u001b[0m\u001b[39m \u001b[0m\u001b[32m'pexpect.exceptions.EOF'\u001b[0m\u001b[1m>\u001b[0m\u001b[1m]\u001b[0m\u001b[1m]\u001b[0m and \u001b[33mpause\u001b[0m=\u001b[1m[\u001b[0m\u001b[1;36m3\u001b[0m\u001b[1m]\u001b[0m        \u001b[2m               \u001b[0m\n"
      ]
     },
     "metadata": {},
     "output_type": "display_data"
    },
    {
     "data": {
      "text/html": [
       "<pre style=\"white-space:pre;overflow-x:auto;line-height:normal;font-family:Menlo,'DejaVu Sans Mono',consolas,'Courier New',monospace\"><span style=\"color: #7fbfbf; text-decoration-color: #7fbfbf\">                    </span><span style=\"color: #008000; text-decoration-color: #008000\">DEBUG   </span> <span style=\"color: #008080; text-decoration-color: #008080; font-weight: bold\">2024</span>-<span style=\"color: #008080; text-decoration-color: #008080; font-weight: bold\">09</span>-<span style=\"color: #008080; text-decoration-color: #008080; font-weight: bold\">29</span> <span style=\"color: #00ff00; text-decoration-color: #00ff00; font-weight: bold\">17:25:15</span>,<span style=\"color: #008080; text-decoration-color: #008080; font-weight: bold\">662</span> - DEBUG - <span style=\"color: #808000; text-decoration-color: #808000\">expected_index</span>=<span style=\"color: #008080; text-decoration-color: #008080; font-weight: bold\">1</span>                     <a href=\"file:///tmp/ipykernel_16595/415227010.py\" target=\"_blank\"><span style=\"color: #7f7f7f; text-decoration-color: #7f7f7f\">415227010.py</span></a><span style=\"color: #7f7f7f; text-decoration-color: #7f7f7f\">:</span><a href=\"file:///tmp/ipykernel_16595/415227010.py#25\" target=\"_blank\"><span style=\"color: #7f7f7f; text-decoration-color: #7f7f7f\">25</span></a>\n",
       "</pre>\n"
      ],
      "text/plain": [
       "\u001b[2;36m                   \u001b[0m\u001b[2;36m \u001b[0m\u001b[32mDEBUG   \u001b[0m \u001b[1;36m2024\u001b[0m-\u001b[1;36m09\u001b[0m-\u001b[1;36m29\u001b[0m \u001b[1;92m17:25:15\u001b[0m,\u001b[1;36m662\u001b[0m - DEBUG - \u001b[33mexpected_index\u001b[0m=\u001b[1;36m1\u001b[0m                     \u001b]8;id=778403;file:///tmp/ipykernel_16595/415227010.py\u001b\\\u001b[2m415227010.py\u001b[0m\u001b]8;;\u001b\\\u001b[2m:\u001b[0m\u001b]8;id=878930;file:///tmp/ipykernel_16595/415227010.py#25\u001b\\\u001b[2m25\u001b[0m\u001b]8;;\u001b\\\n"
      ]
     },
     "metadata": {},
     "output_type": "display_data"
    },
    {
     "data": {
      "text/html": [
       "<pre style=\"white-space:pre;overflow-x:auto;line-height:normal;font-family:Menlo,'DejaVu Sans Mono',consolas,'Courier New',monospace\"><span style=\"color: #7fbfbf; text-decoration-color: #7fbfbf\">                    </span><span style=\"color: #008000; text-decoration-color: #008000\">DEBUG   </span> <span style=\"color: #008080; text-decoration-color: #008080; font-weight: bold\">2024</span>-<span style=\"color: #008080; text-decoration-color: #008080; font-weight: bold\">09</span>-<span style=\"color: #008080; text-decoration-color: #008080; font-weight: bold\">29</span> <span style=\"color: #00ff00; text-decoration-color: #00ff00; font-weight: bold\">17:25:15</span>,<span style=\"color: #008080; text-decoration-color: #008080; font-weight: bold\">665</span> - DEBUG - Adding to output:<span style=\"font-weight: bold\">[</span> \u001b<span style=\"font-weight: bold\">[</span>?2004l           <a href=\"file:///tmp/ipykernel_16595/415227010.py\" target=\"_blank\"><span style=\"color: #7f7f7f; text-decoration-color: #7f7f7f\">415227010.py</span></a><span style=\"color: #7f7f7f; text-decoration-color: #7f7f7f\">:</span><a href=\"file:///tmp/ipykernel_16595/415227010.py#31\" target=\"_blank\"><span style=\"color: #7f7f7f; text-decoration-color: #7f7f7f\">31</span></a>\n",
       "<span style=\"color: #7fbfbf; text-decoration-color: #7fbfbf\">                    </span>         <span style=\"font-weight: bold\">]</span>                                                                      <span style=\"color: #7f7f7f; text-decoration-color: #7f7f7f\">               </span>\n",
       "</pre>\n"
      ],
      "text/plain": [
       "\u001b[2;36m                   \u001b[0m\u001b[2;36m \u001b[0m\u001b[32mDEBUG   \u001b[0m \u001b[1;36m2024\u001b[0m-\u001b[1;36m09\u001b[0m-\u001b[1;36m29\u001b[0m \u001b[1;92m17:25:15\u001b[0m,\u001b[1;36m665\u001b[0m - DEBUG - Adding to output:\u001b[1m[\u001b[0m \u001b\u001b[1m[\u001b[0m?2004l           \u001b]8;id=763970;file:///tmp/ipykernel_16595/415227010.py\u001b\\\u001b[2m415227010.py\u001b[0m\u001b]8;;\u001b\\\u001b[2m:\u001b[0m\u001b]8;id=407559;file:///tmp/ipykernel_16595/415227010.py#31\u001b\\\u001b[2m31\u001b[0m\u001b]8;;\u001b\\\n",
       "\u001b[2;36m                    \u001b[0m         \u001b[1m]\u001b[0m                                                                      \u001b[2m               \u001b[0m\n"
      ]
     },
     "metadata": {},
     "output_type": "display_data"
    },
    {
     "name": "stdout",
     "output_type": "stream",
     "text": [
      " \u001b[?2004l\n",
      "\n"
     ]
    }
   ],
   "source": [
    "res=btctl.get_output(\"devices Paired\")\n",
    "print(res)\n",
    "found=re.search(dev_mac,res)\n",
    "if(dev_connected or dev_trusted or dev_paired):\n",
    "    print(\"Device Found\")\n",
    "    # Let's removing it\n",
    "    res=btctl.get_output(f\"remove {dev_mac}\",[\"Device has been removed\",f\"Device {dev_mac} not available\"])\n",
    "    print(res)\n",
    "else:\n",
    "    print(\"Device not found\")"
   ]
  },
  {
   "cell_type": "code",
   "execution_count": 92,
   "id": "e3708185-7dc3-42da-a98a-83c3f7e39657",
   "metadata": {},
   "outputs": [
    {
     "data": {
      "text/html": [
       "<pre style=\"white-space:pre;overflow-x:auto;line-height:normal;font-family:Menlo,'DejaVu Sans Mono',consolas,'Courier New',monospace\"><span style=\"color: #7fbfbf; text-decoration-color: #7fbfbf\">[09/29/24 17:24:33] </span><span style=\"color: #000080; text-decoration-color: #000080\">INFO    </span> <span style=\"color: #008080; text-decoration-color: #008080; font-weight: bold\">2024</span>-<span style=\"color: #008080; text-decoration-color: #008080; font-weight: bold\">09</span>-<span style=\"color: #008080; text-decoration-color: #008080; font-weight: bold\">29</span> <span style=\"color: #00ff00; text-decoration-color: #00ff00; font-weight: bold\">17:24:33</span>,<span style=\"color: #008080; text-decoration-color: #008080; font-weight: bold\">016</span> - INFO - Sending command <span style=\"font-weight: bold\">[</span>devices Paired<span style=\"font-weight: bold\">]</span> with <a href=\"file:///tmp/ipykernel_16595/415227010.py\" target=\"_blank\"><span style=\"color: #7f7f7f; text-decoration-color: #7f7f7f\">415227010.py</span></a><span style=\"color: #7f7f7f; text-decoration-color: #7f7f7f\">:</span><a href=\"file:///tmp/ipykernel_16595/415227010.py#23\" target=\"_blank\"><span style=\"color: #7f7f7f; text-decoration-color: #7f7f7f\">23</span></a>\n",
       "<span style=\"color: #7fbfbf; text-decoration-color: #7fbfbf\">                    </span>         <span style=\"color: #808000; text-decoration-color: #808000\">expected</span>=<span style=\"font-weight: bold\">[[</span><span style=\"color: #008000; text-decoration-color: #008000\">'Invalid argument'</span>, <span style=\"color: #008000; text-decoration-color: #008000\">'Invalid command'</span>, <span style=\"color: #008000; text-decoration-color: #008000\">'#'</span>, <span style=\"font-weight: bold\">&lt;</span><span style=\"color: #ff00ff; text-decoration-color: #ff00ff; font-weight: bold\">class</span><span style=\"color: #000000; text-decoration-color: #000000\"> </span>         <span style=\"color: #7f7f7f; text-decoration-color: #7f7f7f\">               </span>\n",
       "<span style=\"color: #7fbfbf; text-decoration-color: #7fbfbf\">                    </span>         <span style=\"color: #008000; text-decoration-color: #008000\">'pexpect.exceptions.EOF'</span><span style=\"font-weight: bold\">&gt;]]</span> and <span style=\"color: #808000; text-decoration-color: #808000\">pause</span>=<span style=\"font-weight: bold\">[</span><span style=\"color: #008080; text-decoration-color: #008080; font-weight: bold\">3</span><span style=\"font-weight: bold\">]</span>                              <span style=\"color: #7f7f7f; text-decoration-color: #7f7f7f\">               </span>\n",
       "</pre>\n"
      ],
      "text/plain": [
       "\u001b[2;36m[09/29/24 17:24:33]\u001b[0m\u001b[2;36m \u001b[0m\u001b[34mINFO    \u001b[0m \u001b[1;36m2024\u001b[0m-\u001b[1;36m09\u001b[0m-\u001b[1;36m29\u001b[0m \u001b[1;92m17:24:33\u001b[0m,\u001b[1;36m016\u001b[0m - INFO - Sending command \u001b[1m[\u001b[0mdevices Paired\u001b[1m]\u001b[0m with \u001b]8;id=438725;file:///tmp/ipykernel_16595/415227010.py\u001b\\\u001b[2m415227010.py\u001b[0m\u001b]8;;\u001b\\\u001b[2m:\u001b[0m\u001b]8;id=895636;file:///tmp/ipykernel_16595/415227010.py#23\u001b\\\u001b[2m23\u001b[0m\u001b]8;;\u001b\\\n",
       "\u001b[2;36m                    \u001b[0m         \u001b[33mexpected\u001b[0m=\u001b[1m[\u001b[0m\u001b[1m[\u001b[0m\u001b[32m'Invalid argument'\u001b[0m, \u001b[32m'Invalid command'\u001b[0m, \u001b[32m'#'\u001b[0m, \u001b[1m<\u001b[0m\u001b[1;95mclass\u001b[0m\u001b[39m \u001b[0m         \u001b[2m               \u001b[0m\n",
       "\u001b[2;36m                    \u001b[0m         \u001b[32m'pexpect.exceptions.EOF'\u001b[0m\u001b[1m>\u001b[0m\u001b[1m]\u001b[0m\u001b[1m]\u001b[0m and \u001b[33mpause\u001b[0m=\u001b[1m[\u001b[0m\u001b[1;36m3\u001b[0m\u001b[1m]\u001b[0m                              \u001b[2m               \u001b[0m\n"
      ]
     },
     "metadata": {},
     "output_type": "display_data"
    },
    {
     "data": {
      "text/html": [
       "<pre style=\"white-space:pre;overflow-x:auto;line-height:normal;font-family:Menlo,'DejaVu Sans Mono',consolas,'Courier New',monospace\"><span style=\"color: #7fbfbf; text-decoration-color: #7fbfbf\">                    </span><span style=\"color: #008000; text-decoration-color: #008000\">DEBUG   </span> <span style=\"color: #008080; text-decoration-color: #008080; font-weight: bold\">2024</span>-<span style=\"color: #008080; text-decoration-color: #008080; font-weight: bold\">09</span>-<span style=\"color: #008080; text-decoration-color: #008080; font-weight: bold\">29</span> <span style=\"color: #00ff00; text-decoration-color: #00ff00; font-weight: bold\">17:24:33</span>,<span style=\"color: #008080; text-decoration-color: #008080; font-weight: bold\">022</span> - DEBUG - <span style=\"color: #808000; text-decoration-color: #808000\">expected_index</span>=<span style=\"color: #008080; text-decoration-color: #008080; font-weight: bold\">2</span>                     <a href=\"file:///tmp/ipykernel_16595/415227010.py\" target=\"_blank\"><span style=\"color: #7f7f7f; text-decoration-color: #7f7f7f\">415227010.py</span></a><span style=\"color: #7f7f7f; text-decoration-color: #7f7f7f\">:</span><a href=\"file:///tmp/ipykernel_16595/415227010.py#25\" target=\"_blank\"><span style=\"color: #7f7f7f; text-decoration-color: #7f7f7f\">25</span></a>\n",
       "</pre>\n"
      ],
      "text/plain": [
       "\u001b[2;36m                   \u001b[0m\u001b[2;36m \u001b[0m\u001b[32mDEBUG   \u001b[0m \u001b[1;36m2024\u001b[0m-\u001b[1;36m09\u001b[0m-\u001b[1;36m29\u001b[0m \u001b[1;92m17:24:33\u001b[0m,\u001b[1;36m022\u001b[0m - DEBUG - \u001b[33mexpected_index\u001b[0m=\u001b[1;36m2\u001b[0m                     \u001b]8;id=940009;file:///tmp/ipykernel_16595/415227010.py\u001b\\\u001b[2m415227010.py\u001b[0m\u001b]8;;\u001b\\\u001b[2m:\u001b[0m\u001b]8;id=422292;file:///tmp/ipykernel_16595/415227010.py#25\u001b\\\u001b[2m25\u001b[0m\u001b]8;;\u001b\\\n"
      ]
     },
     "metadata": {},
     "output_type": "display_data"
    },
    {
     "data": {
      "text/html": [
       "<pre style=\"white-space:pre;overflow-x:auto;line-height:normal;font-family:Menlo,'DejaVu Sans Mono',consolas,'Courier New',monospace\"><span style=\"color: #7fbfbf; text-decoration-color: #7fbfbf\">                    </span><span style=\"color: #008000; text-decoration-color: #008000\">DEBUG   </span> <span style=\"color: #008080; text-decoration-color: #008080; font-weight: bold\">2024</span>-<span style=\"color: #008080; text-decoration-color: #008080; font-weight: bold\">09</span>-<span style=\"color: #008080; text-decoration-color: #008080; font-weight: bold\">29</span> <span style=\"color: #00ff00; text-decoration-color: #00ff00; font-weight: bold\">17:24:33</span>,<span style=\"color: #008080; text-decoration-color: #008080; font-weight: bold\">024</span> - DEBUG - Adding to output:<span style=\"font-weight: bold\">[</span> \u001b<span style=\"font-weight: bold\">[</span>?2004l           <a href=\"file:///tmp/ipykernel_16595/415227010.py\" target=\"_blank\"><span style=\"color: #7f7f7f; text-decoration-color: #7f7f7f\">415227010.py</span></a><span style=\"color: #7f7f7f; text-decoration-color: #7f7f7f\">:</span><a href=\"file:///tmp/ipykernel_16595/415227010.py#31\" target=\"_blank\"><span style=\"color: #7f7f7f; text-decoration-color: #7f7f7f\">31</span></a>\n",
       "<span style=\"color: #7fbfbf; text-decoration-color: #7fbfbf\">                    </span>         Device <span style=\"color: #00ff00; text-decoration-color: #00ff00; font-weight: bold\">E5:1C:60:76:25:4B</span> BT5.<span style=\"color: #008080; text-decoration-color: #008080; font-weight: bold\">1</span> Mouse                                   <span style=\"color: #7f7f7f; text-decoration-color: #7f7f7f\">               </span>\n",
       "<span style=\"color: #7fbfbf; text-decoration-color: #7fbfbf\">                    </span>         Device <span style=\"color: #00ff00; text-decoration-color: #00ff00; font-weight: bold\">E4:D7:00:02:73:8C</span> ZX-K22 BT5.<span style=\"color: #008080; text-decoration-color: #008080; font-weight: bold\">1</span>                                  <span style=\"color: #7f7f7f; text-decoration-color: #7f7f7f\">               </span>\n",
       "<span style=\"color: #7fbfbf; text-decoration-color: #7fbfbf\">                    </span>         \u001b<span style=\"font-weight: bold\">[</span>?2004h\u001b<span style=\"font-weight: bold\">[</span><span style=\"color: #008080; text-decoration-color: #008080; font-weight: bold\">0</span>;94m<span style=\"font-weight: bold\">[</span>ZX-K22 BT5.<span style=\"color: #008080; text-decoration-color: #008080; font-weight: bold\">1</span><span style=\"font-weight: bold\">]</span>\u001b<span style=\"font-weight: bold\">[</span>0m<span style=\"font-weight: bold\">]</span>                                        <span style=\"color: #7f7f7f; text-decoration-color: #7f7f7f\">               </span>\n",
       "</pre>\n"
      ],
      "text/plain": [
       "\u001b[2;36m                   \u001b[0m\u001b[2;36m \u001b[0m\u001b[32mDEBUG   \u001b[0m \u001b[1;36m2024\u001b[0m-\u001b[1;36m09\u001b[0m-\u001b[1;36m29\u001b[0m \u001b[1;92m17:24:33\u001b[0m,\u001b[1;36m024\u001b[0m - DEBUG - Adding to output:\u001b[1m[\u001b[0m \u001b\u001b[1m[\u001b[0m?2004l           \u001b]8;id=25231;file:///tmp/ipykernel_16595/415227010.py\u001b\\\u001b[2m415227010.py\u001b[0m\u001b]8;;\u001b\\\u001b[2m:\u001b[0m\u001b]8;id=537390;file:///tmp/ipykernel_16595/415227010.py#31\u001b\\\u001b[2m31\u001b[0m\u001b]8;;\u001b\\\n",
       "\u001b[2;36m                    \u001b[0m         Device \u001b[1;92mE5:1C:60:76:25:4B\u001b[0m BT5.\u001b[1;36m1\u001b[0m Mouse                                   \u001b[2m               \u001b[0m\n",
       "\u001b[2;36m                    \u001b[0m         Device \u001b[1;92mE4:D7:00:02:73:8C\u001b[0m ZX-K22 BT5.\u001b[1;36m1\u001b[0m                                  \u001b[2m               \u001b[0m\n",
       "\u001b[2;36m                    \u001b[0m         \u001b\u001b[1m[\u001b[0m?2004h\u001b\u001b[1m[\u001b[0m\u001b[1;36m0\u001b[0m;94m\u001b[1m[\u001b[0mZX-K22 BT5.\u001b[1;36m1\u001b[0m\u001b[1m]\u001b[0m\u001b\u001b[1m[\u001b[0m0m\u001b[1m]\u001b[0m                                        \u001b[2m               \u001b[0m\n"
      ]
     },
     "metadata": {},
     "output_type": "display_data"
    },
    {
     "name": "stdout",
     "output_type": "stream",
     "text": [
      " \u001b[?2004l\n",
      "Device E5:1C:60:76:25:4B BT5.1 Mouse\n",
      "Device E4:D7:00:02:73:8C ZX-K22 BT5.1\n",
      "\u001b[?2004h\u001b[0;94m[ZX-K22 BT5.1]\u001b[0m\n",
      "Device not found\n"
     ]
    }
   ],
   "source": []
  },
  {
   "cell_type": "markdown",
   "id": "d004ba23-f5d0-4b2d-868c-141902686c62",
   "metadata": {},
   "source": [
    "Ensuring scan is off"
   ]
  },
  {
   "cell_type": "code",
   "execution_count": 94,
   "id": "d905d243-8bf1-424e-9880-289ad2628882",
   "metadata": {},
   "outputs": [
    {
     "data": {
      "text/html": [
       "<pre style=\"white-space:pre;overflow-x:auto;line-height:normal;font-family:Menlo,'DejaVu Sans Mono',consolas,'Courier New',monospace\"><span style=\"color: #7fbfbf; text-decoration-color: #7fbfbf\">[09/29/24 17:26:50] </span><span style=\"color: #000080; text-decoration-color: #000080\">INFO    </span> <span style=\"color: #008080; text-decoration-color: #008080; font-weight: bold\">2024</span>-<span style=\"color: #008080; text-decoration-color: #008080; font-weight: bold\">09</span>-<span style=\"color: #008080; text-decoration-color: #008080; font-weight: bold\">29</span> <span style=\"color: #00ff00; text-decoration-color: #00ff00; font-weight: bold\">17:26:50</span>,<span style=\"color: #008080; text-decoration-color: #008080; font-weight: bold\">920</span> - INFO - Sending command <span style=\"font-weight: bold\">[</span>scan off<span style=\"font-weight: bold\">]</span> with       <a href=\"file:///tmp/ipykernel_16595/415227010.py\" target=\"_blank\"><span style=\"color: #7f7f7f; text-decoration-color: #7f7f7f\">415227010.py</span></a><span style=\"color: #7f7f7f; text-decoration-color: #7f7f7f\">:</span><a href=\"file:///tmp/ipykernel_16595/415227010.py#23\" target=\"_blank\"><span style=\"color: #7f7f7f; text-decoration-color: #7f7f7f\">23</span></a>\n",
       "<span style=\"color: #7fbfbf; text-decoration-color: #7fbfbf\">                    </span>         <span style=\"color: #808000; text-decoration-color: #808000\">expected</span>=<span style=\"font-weight: bold\">[[</span><span style=\"color: #008000; text-decoration-color: #008000\">'Discovery stopped'</span>, <span style=\"color: #008000; text-decoration-color: #008000\">'Invalid argument'</span>, <span style=\"color: #008000; text-decoration-color: #008000\">'Invalid command'</span>, <span style=\"color: #7f7f7f; text-decoration-color: #7f7f7f\">               </span>\n",
       "<span style=\"color: #7fbfbf; text-decoration-color: #7fbfbf\">                    </span>         <span style=\"color: #008000; text-decoration-color: #008000\">'#'</span>, <span style=\"font-weight: bold\">&lt;</span><span style=\"color: #ff00ff; text-decoration-color: #ff00ff; font-weight: bold\">class</span><span style=\"color: #000000; text-decoration-color: #000000\"> </span><span style=\"color: #008000; text-decoration-color: #008000\">'pexpect.exceptions.EOF'</span><span style=\"font-weight: bold\">&gt;]]</span> and <span style=\"color: #808000; text-decoration-color: #808000\">pause</span>=<span style=\"font-weight: bold\">[</span><span style=\"color: #008080; text-decoration-color: #008080; font-weight: bold\">3</span><span style=\"font-weight: bold\">]</span>                  <span style=\"color: #7f7f7f; text-decoration-color: #7f7f7f\">               </span>\n",
       "</pre>\n"
      ],
      "text/plain": [
       "\u001b[2;36m[09/29/24 17:26:50]\u001b[0m\u001b[2;36m \u001b[0m\u001b[34mINFO    \u001b[0m \u001b[1;36m2024\u001b[0m-\u001b[1;36m09\u001b[0m-\u001b[1;36m29\u001b[0m \u001b[1;92m17:26:50\u001b[0m,\u001b[1;36m920\u001b[0m - INFO - Sending command \u001b[1m[\u001b[0mscan off\u001b[1m]\u001b[0m with       \u001b]8;id=597436;file:///tmp/ipykernel_16595/415227010.py\u001b\\\u001b[2m415227010.py\u001b[0m\u001b]8;;\u001b\\\u001b[2m:\u001b[0m\u001b]8;id=395762;file:///tmp/ipykernel_16595/415227010.py#23\u001b\\\u001b[2m23\u001b[0m\u001b]8;;\u001b\\\n",
       "\u001b[2;36m                    \u001b[0m         \u001b[33mexpected\u001b[0m=\u001b[1m[\u001b[0m\u001b[1m[\u001b[0m\u001b[32m'Discovery stopped'\u001b[0m, \u001b[32m'Invalid argument'\u001b[0m, \u001b[32m'Invalid command'\u001b[0m, \u001b[2m               \u001b[0m\n",
       "\u001b[2;36m                    \u001b[0m         \u001b[32m'#'\u001b[0m, \u001b[1m<\u001b[0m\u001b[1;95mclass\u001b[0m\u001b[39m \u001b[0m\u001b[32m'pexpect.exceptions.EOF'\u001b[0m\u001b[1m>\u001b[0m\u001b[1m]\u001b[0m\u001b[1m]\u001b[0m and \u001b[33mpause\u001b[0m=\u001b[1m[\u001b[0m\u001b[1;36m3\u001b[0m\u001b[1m]\u001b[0m                  \u001b[2m               \u001b[0m\n"
      ]
     },
     "metadata": {},
     "output_type": "display_data"
    },
    {
     "data": {
      "text/html": [
       "<pre style=\"white-space:pre;overflow-x:auto;line-height:normal;font-family:Menlo,'DejaVu Sans Mono',consolas,'Courier New',monospace\"><span style=\"color: #7fbfbf; text-decoration-color: #7fbfbf\">                    </span><span style=\"color: #008000; text-decoration-color: #008000\">DEBUG   </span> <span style=\"color: #008080; text-decoration-color: #008080; font-weight: bold\">2024</span>-<span style=\"color: #008080; text-decoration-color: #008080; font-weight: bold\">09</span>-<span style=\"color: #008080; text-decoration-color: #008080; font-weight: bold\">29</span> <span style=\"color: #00ff00; text-decoration-color: #00ff00; font-weight: bold\">17:26:50</span>,<span style=\"color: #008080; text-decoration-color: #008080; font-weight: bold\">926</span> - DEBUG - <span style=\"color: #808000; text-decoration-color: #808000\">expected_index</span>=<span style=\"color: #008080; text-decoration-color: #008080; font-weight: bold\">3</span>                     <a href=\"file:///tmp/ipykernel_16595/415227010.py\" target=\"_blank\"><span style=\"color: #7f7f7f; text-decoration-color: #7f7f7f\">415227010.py</span></a><span style=\"color: #7f7f7f; text-decoration-color: #7f7f7f\">:</span><a href=\"file:///tmp/ipykernel_16595/415227010.py#25\" target=\"_blank\"><span style=\"color: #7f7f7f; text-decoration-color: #7f7f7f\">25</span></a>\n",
       "</pre>\n"
      ],
      "text/plain": [
       "\u001b[2;36m                   \u001b[0m\u001b[2;36m \u001b[0m\u001b[32mDEBUG   \u001b[0m \u001b[1;36m2024\u001b[0m-\u001b[1;36m09\u001b[0m-\u001b[1;36m29\u001b[0m \u001b[1;92m17:26:50\u001b[0m,\u001b[1;36m926\u001b[0m - DEBUG - \u001b[33mexpected_index\u001b[0m=\u001b[1;36m3\u001b[0m                     \u001b]8;id=677683;file:///tmp/ipykernel_16595/415227010.py\u001b\\\u001b[2m415227010.py\u001b[0m\u001b]8;;\u001b\\\u001b[2m:\u001b[0m\u001b]8;id=557264;file:///tmp/ipykernel_16595/415227010.py#25\u001b\\\u001b[2m25\u001b[0m\u001b]8;;\u001b\\\n"
      ]
     },
     "metadata": {},
     "output_type": "display_data"
    },
    {
     "data": {
      "text/html": [
       "<pre style=\"white-space:pre;overflow-x:auto;line-height:normal;font-family:Menlo,'DejaVu Sans Mono',consolas,'Courier New',monospace\"><span style=\"color: #7fbfbf; text-decoration-color: #7fbfbf\">                    </span><span style=\"color: #008000; text-decoration-color: #008000\">DEBUG   </span> <span style=\"color: #008080; text-decoration-color: #008080; font-weight: bold\">2024</span>-<span style=\"color: #008080; text-decoration-color: #008080; font-weight: bold\">09</span>-<span style=\"color: #008080; text-decoration-color: #008080; font-weight: bold\">29</span> <span style=\"color: #00ff00; text-decoration-color: #00ff00; font-weight: bold\">17:26:50</span>,<span style=\"color: #008080; text-decoration-color: #008080; font-weight: bold\">930</span> - DEBUG - Adding to output:<span style=\"font-weight: bold\">[</span>                   <a href=\"file:///tmp/ipykernel_16595/415227010.py\" target=\"_blank\"><span style=\"color: #7f7f7f; text-decoration-color: #7f7f7f\">415227010.py</span></a><span style=\"color: #7f7f7f; text-decoration-color: #7f7f7f\">:</span><a href=\"file:///tmp/ipykernel_16595/415227010.py#31\" target=\"_blank\"><span style=\"color: #7f7f7f; text-decoration-color: #7f7f7f\">31</span></a>\n",
       "<span style=\"color: #7fbfbf; text-decoration-color: #7fbfbf\">                    </span>         \u001b<span style=\"font-weight: bold\">[</span>?2004h\u001b<span style=\"font-weight: bold\">[</span><span style=\"color: #008080; text-decoration-color: #008080; font-weight: bold\">0</span>;94m<span style=\"font-weight: bold\">[</span>ZX-K22 BT5.<span style=\"color: #008080; text-decoration-color: #008080; font-weight: bold\">1</span><span style=\"font-weight: bold\">]</span>\u001b<span style=\"font-weight: bold\">[</span>0m<span style=\"font-weight: bold\">]</span>                                        <span style=\"color: #7f7f7f; text-decoration-color: #7f7f7f\">               </span>\n",
       "</pre>\n"
      ],
      "text/plain": [
       "\u001b[2;36m                   \u001b[0m\u001b[2;36m \u001b[0m\u001b[32mDEBUG   \u001b[0m \u001b[1;36m2024\u001b[0m-\u001b[1;36m09\u001b[0m-\u001b[1;36m29\u001b[0m \u001b[1;92m17:26:50\u001b[0m,\u001b[1;36m930\u001b[0m - DEBUG - Adding to output:\u001b[1m[\u001b[0m                   \u001b]8;id=207254;file:///tmp/ipykernel_16595/415227010.py\u001b\\\u001b[2m415227010.py\u001b[0m\u001b]8;;\u001b\\\u001b[2m:\u001b[0m\u001b]8;id=501405;file:///tmp/ipykernel_16595/415227010.py#31\u001b\\\u001b[2m31\u001b[0m\u001b]8;;\u001b\\\n",
       "\u001b[2;36m                    \u001b[0m         \u001b\u001b[1m[\u001b[0m?2004h\u001b\u001b[1m[\u001b[0m\u001b[1;36m0\u001b[0m;94m\u001b[1m[\u001b[0mZX-K22 BT5.\u001b[1;36m1\u001b[0m\u001b[1m]\u001b[0m\u001b\u001b[1m[\u001b[0m0m\u001b[1m]\u001b[0m                                        \u001b[2m               \u001b[0m\n"
      ]
     },
     "metadata": {},
     "output_type": "display_data"
    },
    {
     "name": "stdout",
     "output_type": "stream",
     "text": [
      "\n",
      "\u001b[?2004h\u001b[0;94m[ZX-K22 BT5.1]\u001b[0m\n"
     ]
    }
   ],
   "source": [
    "try:\n",
    "    res=btctl.get_output(\"scan off\",[\"Discovery stopped\"])\n",
    "    print(res)\n",
    "except Exception as e:\n",
    "    print(\"It did not scan\")\n"
   ]
  },
  {
   "cell_type": "markdown",
   "id": "b62f347a-8f83-47e8-b8a9-49e7591e3d8a",
   "metadata": {},
   "source": [
    "Now start scanning around searchin for some new devices."
   ]
  },
  {
   "cell_type": "code",
   "execution_count": 95,
   "id": "f234bd6d-6d15-4928-bc98-81cf27f9f9b4",
   "metadata": {
    "scrolled": true
   },
   "outputs": [
    {
     "data": {
      "text/html": [
       "<pre style=\"white-space:pre;overflow-x:auto;line-height:normal;font-family:Menlo,'DejaVu Sans Mono',consolas,'Courier New',monospace\"><span style=\"color: #7fbfbf; text-decoration-color: #7fbfbf\">[09/29/24 17:28:40] </span><span style=\"color: #000080; text-decoration-color: #000080\">INFO    </span> <span style=\"color: #008080; text-decoration-color: #008080; font-weight: bold\">2024</span>-<span style=\"color: #008080; text-decoration-color: #008080; font-weight: bold\">09</span>-<span style=\"color: #008080; text-decoration-color: #008080; font-weight: bold\">29</span> <span style=\"color: #00ff00; text-decoration-color: #00ff00; font-weight: bold\">17:28:40</span>,<span style=\"color: #008080; text-decoration-color: #008080; font-weight: bold\">404</span> - INFO - Sending command <span style=\"font-weight: bold\">[</span>scan on<span style=\"font-weight: bold\">]</span> with        <a href=\"file:///tmp/ipykernel_16595/415227010.py\" target=\"_blank\"><span style=\"color: #7f7f7f; text-decoration-color: #7f7f7f\">415227010.py</span></a><span style=\"color: #7f7f7f; text-decoration-color: #7f7f7f\">:</span><a href=\"file:///tmp/ipykernel_16595/415227010.py#23\" target=\"_blank\"><span style=\"color: #7f7f7f; text-decoration-color: #7f7f7f\">23</span></a>\n",
       "<span style=\"color: #7fbfbf; text-decoration-color: #7fbfbf\">                    </span>         <span style=\"color: #808000; text-decoration-color: #808000\">expected</span>=<span style=\"font-weight: bold\">[[</span><span style=\"color: #008000; text-decoration-color: #008000\">'98:D3:31:00:0A:F6'</span>, <span style=\"color: #008000; text-decoration-color: #008000\">'Discovery started'</span>, <span style=\"color: #008000; text-decoration-color: #008000\">'Invalid </span>         <span style=\"color: #7f7f7f; text-decoration-color: #7f7f7f\">               </span>\n",
       "<span style=\"color: #7fbfbf; text-decoration-color: #7fbfbf\">                    </span>         <span style=\"color: #008000; text-decoration-color: #008000\">argument'</span>, <span style=\"color: #008000; text-decoration-color: #008000\">'Invalid command'</span>, <span style=\"color: #008000; text-decoration-color: #008000\">'#'</span>, <span style=\"font-weight: bold\">&lt;</span><span style=\"color: #ff00ff; text-decoration-color: #ff00ff; font-weight: bold\">class</span><span style=\"color: #000000; text-decoration-color: #000000\"> </span><span style=\"color: #008000; text-decoration-color: #008000\">'pexpect.exceptions.EOF'</span><span style=\"font-weight: bold\">&gt;]]</span>  <span style=\"color: #7f7f7f; text-decoration-color: #7f7f7f\">               </span>\n",
       "<span style=\"color: #7fbfbf; text-decoration-color: #7fbfbf\">                    </span>         and <span style=\"color: #808000; text-decoration-color: #808000\">pause</span>=<span style=\"font-weight: bold\">[</span><span style=\"color: #008080; text-decoration-color: #008080; font-weight: bold\">3</span><span style=\"font-weight: bold\">]</span>                                                          <span style=\"color: #7f7f7f; text-decoration-color: #7f7f7f\">               </span>\n",
       "</pre>\n"
      ],
      "text/plain": [
       "\u001b[2;36m[09/29/24 17:28:40]\u001b[0m\u001b[2;36m \u001b[0m\u001b[34mINFO    \u001b[0m \u001b[1;36m2024\u001b[0m-\u001b[1;36m09\u001b[0m-\u001b[1;36m29\u001b[0m \u001b[1;92m17:28:40\u001b[0m,\u001b[1;36m404\u001b[0m - INFO - Sending command \u001b[1m[\u001b[0mscan on\u001b[1m]\u001b[0m with        \u001b]8;id=208677;file:///tmp/ipykernel_16595/415227010.py\u001b\\\u001b[2m415227010.py\u001b[0m\u001b]8;;\u001b\\\u001b[2m:\u001b[0m\u001b]8;id=296344;file:///tmp/ipykernel_16595/415227010.py#23\u001b\\\u001b[2m23\u001b[0m\u001b]8;;\u001b\\\n",
       "\u001b[2;36m                    \u001b[0m         \u001b[33mexpected\u001b[0m=\u001b[1m[\u001b[0m\u001b[1m[\u001b[0m\u001b[32m'98:D3:31:00:0A:F6'\u001b[0m, \u001b[32m'Discovery started'\u001b[0m, \u001b[32m'Invalid \u001b[0m         \u001b[2m               \u001b[0m\n",
       "\u001b[2;36m                    \u001b[0m         \u001b[32margument'\u001b[0m, \u001b[32m'Invalid command'\u001b[0m, \u001b[32m'#'\u001b[0m, \u001b[1m<\u001b[0m\u001b[1;95mclass\u001b[0m\u001b[39m \u001b[0m\u001b[32m'pexpect.exceptions.EOF'\u001b[0m\u001b[1m>\u001b[0m\u001b[1m]\u001b[0m\u001b[1m]\u001b[0m  \u001b[2m               \u001b[0m\n",
       "\u001b[2;36m                    \u001b[0m         and \u001b[33mpause\u001b[0m=\u001b[1m[\u001b[0m\u001b[1;36m3\u001b[0m\u001b[1m]\u001b[0m                                                          \u001b[2m               \u001b[0m\n"
      ]
     },
     "metadata": {},
     "output_type": "display_data"
    },
    {
     "data": {
      "text/html": [
       "<pre style=\"white-space:pre;overflow-x:auto;line-height:normal;font-family:Menlo,'DejaVu Sans Mono',consolas,'Courier New',monospace\"><span style=\"color: #7fbfbf; text-decoration-color: #7fbfbf\">                    </span><span style=\"color: #008000; text-decoration-color: #008000\">DEBUG   </span> <span style=\"color: #008080; text-decoration-color: #008080; font-weight: bold\">2024</span>-<span style=\"color: #008080; text-decoration-color: #008080; font-weight: bold\">09</span>-<span style=\"color: #008080; text-decoration-color: #008080; font-weight: bold\">29</span> <span style=\"color: #00ff00; text-decoration-color: #00ff00; font-weight: bold\">17:28:40</span>,<span style=\"color: #008080; text-decoration-color: #008080; font-weight: bold\">411</span> - DEBUG - <span style=\"color: #808000; text-decoration-color: #808000\">expected_index</span>=<span style=\"color: #008080; text-decoration-color: #008080; font-weight: bold\">4</span>                     <a href=\"file:///tmp/ipykernel_16595/415227010.py\" target=\"_blank\"><span style=\"color: #7f7f7f; text-decoration-color: #7f7f7f\">415227010.py</span></a><span style=\"color: #7f7f7f; text-decoration-color: #7f7f7f\">:</span><a href=\"file:///tmp/ipykernel_16595/415227010.py#25\" target=\"_blank\"><span style=\"color: #7f7f7f; text-decoration-color: #7f7f7f\">25</span></a>\n",
       "</pre>\n"
      ],
      "text/plain": [
       "\u001b[2;36m                   \u001b[0m\u001b[2;36m \u001b[0m\u001b[32mDEBUG   \u001b[0m \u001b[1;36m2024\u001b[0m-\u001b[1;36m09\u001b[0m-\u001b[1;36m29\u001b[0m \u001b[1;92m17:28:40\u001b[0m,\u001b[1;36m411\u001b[0m - DEBUG - \u001b[33mexpected_index\u001b[0m=\u001b[1;36m4\u001b[0m                     \u001b]8;id=42416;file:///tmp/ipykernel_16595/415227010.py\u001b\\\u001b[2m415227010.py\u001b[0m\u001b]8;;\u001b\\\u001b[2m:\u001b[0m\u001b]8;id=867106;file:///tmp/ipykernel_16595/415227010.py#25\u001b\\\u001b[2m25\u001b[0m\u001b]8;;\u001b\\\n"
      ]
     },
     "metadata": {},
     "output_type": "display_data"
    },
    {
     "data": {
      "text/html": [
       "<pre style=\"white-space:pre;overflow-x:auto;line-height:normal;font-family:Menlo,'DejaVu Sans Mono',consolas,'Courier New',monospace\"><span style=\"color: #7fbfbf; text-decoration-color: #7fbfbf\">                    </span><span style=\"color: #008000; text-decoration-color: #008000\">DEBUG   </span> <span style=\"color: #008080; text-decoration-color: #008080; font-weight: bold\">2024</span>-<span style=\"color: #008080; text-decoration-color: #008080; font-weight: bold\">09</span>-<span style=\"color: #008080; text-decoration-color: #008080; font-weight: bold\">29</span> <span style=\"color: #00ff00; text-decoration-color: #00ff00; font-weight: bold\">17:28:40</span>,<span style=\"color: #008080; text-decoration-color: #008080; font-weight: bold\">415</span> - DEBUG - Adding to output:<span style=\"font-weight: bold\">[</span> \u001b<span style=\"font-weight: bold\">[</span>?2004l           <a href=\"file:///tmp/ipykernel_16595/415227010.py\" target=\"_blank\"><span style=\"color: #7f7f7f; text-decoration-color: #7f7f7f\">415227010.py</span></a><span style=\"color: #7f7f7f; text-decoration-color: #7f7f7f\">:</span><a href=\"file:///tmp/ipykernel_16595/415227010.py#31\" target=\"_blank\"><span style=\"color: #7f7f7f; text-decoration-color: #7f7f7f\">31</span></a>\n",
       "<span style=\"color: #7fbfbf; text-decoration-color: #7fbfbf\">                    </span>         \u001b<span style=\"font-weight: bold\">[</span>?2004h\u001b<span style=\"font-weight: bold\">[</span><span style=\"color: #008080; text-decoration-color: #008080; font-weight: bold\">0</span>;94m<span style=\"font-weight: bold\">[</span>ZX-K22 BT5.<span style=\"color: #008080; text-decoration-color: #008080; font-weight: bold\">1</span><span style=\"font-weight: bold\">]</span>\u001b<span style=\"font-weight: bold\">[</span>0m<span style=\"font-weight: bold\">]</span>                                        <span style=\"color: #7f7f7f; text-decoration-color: #7f7f7f\">               </span>\n",
       "</pre>\n"
      ],
      "text/plain": [
       "\u001b[2;36m                   \u001b[0m\u001b[2;36m \u001b[0m\u001b[32mDEBUG   \u001b[0m \u001b[1;36m2024\u001b[0m-\u001b[1;36m09\u001b[0m-\u001b[1;36m29\u001b[0m \u001b[1;92m17:28:40\u001b[0m,\u001b[1;36m415\u001b[0m - DEBUG - Adding to output:\u001b[1m[\u001b[0m \u001b\u001b[1m[\u001b[0m?2004l           \u001b]8;id=116372;file:///tmp/ipykernel_16595/415227010.py\u001b\\\u001b[2m415227010.py\u001b[0m\u001b]8;;\u001b\\\u001b[2m:\u001b[0m\u001b]8;id=66964;file:///tmp/ipykernel_16595/415227010.py#31\u001b\\\u001b[2m31\u001b[0m\u001b]8;;\u001b\\\n",
       "\u001b[2;36m                    \u001b[0m         \u001b\u001b[1m[\u001b[0m?2004h\u001b\u001b[1m[\u001b[0m\u001b[1;36m0\u001b[0m;94m\u001b[1m[\u001b[0mZX-K22 BT5.\u001b[1;36m1\u001b[0m\u001b[1m]\u001b[0m\u001b\u001b[1m[\u001b[0m0m\u001b[1m]\u001b[0m                                        \u001b[2m               \u001b[0m\n"
      ]
     },
     "metadata": {},
     "output_type": "display_data"
    },
    {
     "name": "stdout",
     "output_type": "stream",
     "text": [
      " \u001b[?2004l\n",
      "\u001b[?2004h\u001b[0;94m[ZX-K22 BT5.1]\u001b[0m\n"
     ]
    }
   ],
   "source": [
    "res=btctl.get_output(\"scan on\",[dev_mac,\"Discovery started\"])\n",
    "# Even I don0t care about output now\n",
    "print(res)"
   ]
  },
  {
   "cell_type": "markdown",
   "id": "bad388b7-e201-4ed5-91b1-a8837a82dd12",
   "metadata": {},
   "source": [
    "Tring to re-pairing the device. REMEMBER, DEVICE MUST BE IN PAIRING MODE AND VISIBLE TO CONTROLLER."
   ]
  },
  {
   "cell_type": "code",
   "execution_count": 97,
   "id": "110fc067-655e-42ba-b0b4-ee83287b343d",
   "metadata": {},
   "outputs": [
    {
     "data": {
      "text/html": [
       "<pre style=\"white-space:pre;overflow-x:auto;line-height:normal;font-family:Menlo,'DejaVu Sans Mono',consolas,'Courier New',monospace\"><span style=\"color: #7fbfbf; text-decoration-color: #7fbfbf\">[09/29/24 17:29:44] </span><span style=\"color: #000080; text-decoration-color: #000080\">INFO    </span> <span style=\"color: #008080; text-decoration-color: #008080; font-weight: bold\">2024</span>-<span style=\"color: #008080; text-decoration-color: #008080; font-weight: bold\">09</span>-<span style=\"color: #008080; text-decoration-color: #008080; font-weight: bold\">29</span> <span style=\"color: #00ff00; text-decoration-color: #00ff00; font-weight: bold\">17:29:44</span>,<span style=\"color: #008080; text-decoration-color: #008080; font-weight: bold\">147</span> - INFO - Sending command <span style=\"font-weight: bold\">[</span>pair                 <a href=\"file:///tmp/ipykernel_16595/415227010.py\" target=\"_blank\"><span style=\"color: #7f7f7f; text-decoration-color: #7f7f7f\">415227010.py</span></a><span style=\"color: #7f7f7f; text-decoration-color: #7f7f7f\">:</span><a href=\"file:///tmp/ipykernel_16595/415227010.py#23\" target=\"_blank\"><span style=\"color: #7f7f7f; text-decoration-color: #7f7f7f\">23</span></a>\n",
       "<span style=\"color: #7fbfbf; text-decoration-color: #7fbfbf\">                    </span>         <span style=\"color: #00ff00; text-decoration-color: #00ff00; font-weight: bold\">98:D3:31:00:0A:F6</span><span style=\"font-weight: bold\">]</span> with <span style=\"color: #808000; text-decoration-color: #808000\">expected</span>=<span style=\"font-weight: bold\">[[</span><span style=\"color: #008000; text-decoration-color: #008000\">'Invalid argument'</span>, <span style=\"color: #008000; text-decoration-color: #008000\">'Invalid </span>       <span style=\"color: #7f7f7f; text-decoration-color: #7f7f7f\">               </span>\n",
       "<span style=\"color: #7fbfbf; text-decoration-color: #7fbfbf\">                    </span>         <span style=\"color: #008000; text-decoration-color: #008000\">command'</span>, <span style=\"color: #008000; text-decoration-color: #008000\">'#'</span>, <span style=\"font-weight: bold\">&lt;</span><span style=\"color: #ff00ff; text-decoration-color: #ff00ff; font-weight: bold\">class</span><span style=\"color: #000000; text-decoration-color: #000000\"> </span><span style=\"color: #008000; text-decoration-color: #008000\">'pexpect.exceptions.EOF'</span><span style=\"font-weight: bold\">&gt;]]</span> and <span style=\"color: #808000; text-decoration-color: #808000\">pause</span>=<span style=\"font-weight: bold\">[</span><span style=\"color: #008080; text-decoration-color: #008080; font-weight: bold\">3</span><span style=\"font-weight: bold\">]</span>        <span style=\"color: #7f7f7f; text-decoration-color: #7f7f7f\">               </span>\n",
       "</pre>\n"
      ],
      "text/plain": [
       "\u001b[2;36m[09/29/24 17:29:44]\u001b[0m\u001b[2;36m \u001b[0m\u001b[34mINFO    \u001b[0m \u001b[1;36m2024\u001b[0m-\u001b[1;36m09\u001b[0m-\u001b[1;36m29\u001b[0m \u001b[1;92m17:29:44\u001b[0m,\u001b[1;36m147\u001b[0m - INFO - Sending command \u001b[1m[\u001b[0mpair                 \u001b]8;id=718973;file:///tmp/ipykernel_16595/415227010.py\u001b\\\u001b[2m415227010.py\u001b[0m\u001b]8;;\u001b\\\u001b[2m:\u001b[0m\u001b]8;id=848019;file:///tmp/ipykernel_16595/415227010.py#23\u001b\\\u001b[2m23\u001b[0m\u001b]8;;\u001b\\\n",
       "\u001b[2;36m                    \u001b[0m         \u001b[1;92m98:D3:31:00:0A:F6\u001b[0m\u001b[1m]\u001b[0m with \u001b[33mexpected\u001b[0m=\u001b[1m[\u001b[0m\u001b[1m[\u001b[0m\u001b[32m'Invalid argument'\u001b[0m, \u001b[32m'Invalid \u001b[0m       \u001b[2m               \u001b[0m\n",
       "\u001b[2;36m                    \u001b[0m         \u001b[32mcommand'\u001b[0m, \u001b[32m'#'\u001b[0m, \u001b[1m<\u001b[0m\u001b[1;95mclass\u001b[0m\u001b[39m \u001b[0m\u001b[32m'pexpect.exceptions.EOF'\u001b[0m\u001b[1m>\u001b[0m\u001b[1m]\u001b[0m\u001b[1m]\u001b[0m and \u001b[33mpause\u001b[0m=\u001b[1m[\u001b[0m\u001b[1;36m3\u001b[0m\u001b[1m]\u001b[0m        \u001b[2m               \u001b[0m\n"
      ]
     },
     "metadata": {},
     "output_type": "display_data"
    },
    {
     "data": {
      "text/html": [
       "<pre style=\"white-space:pre;overflow-x:auto;line-height:normal;font-family:Menlo,'DejaVu Sans Mono',consolas,'Courier New',monospace\"><span style=\"color: #7fbfbf; text-decoration-color: #7fbfbf\">                    </span><span style=\"color: #008000; text-decoration-color: #008000\">DEBUG   </span> <span style=\"color: #008080; text-decoration-color: #008080; font-weight: bold\">2024</span>-<span style=\"color: #008080; text-decoration-color: #008080; font-weight: bold\">09</span>-<span style=\"color: #008080; text-decoration-color: #008080; font-weight: bold\">29</span> <span style=\"color: #00ff00; text-decoration-color: #00ff00; font-weight: bold\">17:29:44</span>,<span style=\"color: #008080; text-decoration-color: #008080; font-weight: bold\">153</span> - DEBUG - <span style=\"color: #808000; text-decoration-color: #808000\">expected_index</span>=<span style=\"color: #008080; text-decoration-color: #008080; font-weight: bold\">2</span>                     <a href=\"file:///tmp/ipykernel_16595/415227010.py\" target=\"_blank\"><span style=\"color: #7f7f7f; text-decoration-color: #7f7f7f\">415227010.py</span></a><span style=\"color: #7f7f7f; text-decoration-color: #7f7f7f\">:</span><a href=\"file:///tmp/ipykernel_16595/415227010.py#25\" target=\"_blank\"><span style=\"color: #7f7f7f; text-decoration-color: #7f7f7f\">25</span></a>\n",
       "</pre>\n"
      ],
      "text/plain": [
       "\u001b[2;36m                   \u001b[0m\u001b[2;36m \u001b[0m\u001b[32mDEBUG   \u001b[0m \u001b[1;36m2024\u001b[0m-\u001b[1;36m09\u001b[0m-\u001b[1;36m29\u001b[0m \u001b[1;92m17:29:44\u001b[0m,\u001b[1;36m153\u001b[0m - DEBUG - \u001b[33mexpected_index\u001b[0m=\u001b[1;36m2\u001b[0m                     \u001b]8;id=258274;file:///tmp/ipykernel_16595/415227010.py\u001b\\\u001b[2m415227010.py\u001b[0m\u001b]8;;\u001b\\\u001b[2m:\u001b[0m\u001b]8;id=443551;file:///tmp/ipykernel_16595/415227010.py#25\u001b\\\u001b[2m25\u001b[0m\u001b]8;;\u001b\\\n"
      ]
     },
     "metadata": {},
     "output_type": "display_data"
    },
    {
     "data": {
      "text/html": [
       "<pre style=\"white-space:pre;overflow-x:auto;line-height:normal;font-family:Menlo,'DejaVu Sans Mono',consolas,'Courier New',monospace\"><span style=\"color: #7fbfbf; text-decoration-color: #7fbfbf\">                    </span><span style=\"color: #008000; text-decoration-color: #008000\">DEBUG   </span> <span style=\"color: #008080; text-decoration-color: #008080; font-weight: bold\">2024</span>-<span style=\"color: #008080; text-decoration-color: #008080; font-weight: bold\">09</span>-<span style=\"color: #008080; text-decoration-color: #008080; font-weight: bold\">29</span> <span style=\"color: #00ff00; text-decoration-color: #00ff00; font-weight: bold\">17:29:44</span>,<span style=\"color: #008080; text-decoration-color: #008080; font-weight: bold\">155</span> - DEBUG - Adding to output:<span style=\"font-weight: bold\">[</span>                   <a href=\"file:///tmp/ipykernel_16595/415227010.py\" target=\"_blank\"><span style=\"color: #7f7f7f; text-decoration-color: #7f7f7f\">415227010.py</span></a><span style=\"color: #7f7f7f; text-decoration-color: #7f7f7f\">:</span><a href=\"file:///tmp/ipykernel_16595/415227010.py#31\" target=\"_blank\"><span style=\"color: #7f7f7f; text-decoration-color: #7f7f7f\">31</span></a>\n",
       "<span style=\"color: #7fbfbf; text-decoration-color: #7fbfbf\">                    </span>         SetDiscoveryFilter success                                             <span style=\"color: #7f7f7f; text-decoration-color: #7f7f7f\">               </span>\n",
       "<span style=\"color: #7fbfbf; text-decoration-color: #7fbfbf\">                    </span>         Discovery started                                                      <span style=\"color: #7f7f7f; text-decoration-color: #7f7f7f\">               </span>\n",
       "<span style=\"color: #7fbfbf; text-decoration-color: #7fbfbf\">                    </span>         <span style=\"font-weight: bold\">[</span>\u001b<span style=\"font-weight: bold\">[</span><span style=\"color: #008080; text-decoration-color: #008080; font-weight: bold\">0</span>;93mCHG\u001b<span style=\"font-weight: bold\">[</span>0m<span style=\"font-weight: bold\">]</span> Controller <span style=\"color: #00ff00; text-decoration-color: #00ff00; font-weight: bold\">4C:49:6C:0C:6B:4B</span> Discovering: yes           <span style=\"color: #7f7f7f; text-decoration-color: #7f7f7f\">               </span>\n",
       "<span style=\"color: #7fbfbf; text-decoration-color: #7fbfbf\">                    </span>         <span style=\"font-weight: bold\">[</span>\u001b<span style=\"font-weight: bold\">[</span><span style=\"color: #008080; text-decoration-color: #008080; font-weight: bold\">0</span>;92mNEW\u001b<span style=\"font-weight: bold\">[</span>0m<span style=\"font-weight: bold\">]</span> Device <span style=\"color: #00ff00; text-decoration-color: #00ff00; font-weight: bold\">7C:0A:3F:7D:CB:CB</span> <span style=\"font-weight: bold\">[</span>TV<span style=\"font-weight: bold\">]</span> Samsung AU8070 <span style=\"color: #008080; text-decoration-color: #008080; font-weight: bold\">43</span> TV      <span style=\"color: #7f7f7f; text-decoration-color: #7f7f7f\">               </span>\n",
       "<span style=\"color: #7fbfbf; text-decoration-color: #7fbfbf\">                    </span>         <span style=\"font-weight: bold\">[</span>\u001b<span style=\"font-weight: bold\">[</span><span style=\"color: #008080; text-decoration-color: #008080; font-weight: bold\">0</span>;93mCHG\u001b<span style=\"font-weight: bold\">[</span>0m<span style=\"font-weight: bold\">]</span> Device <span style=\"color: #00ff00; text-decoration-color: #00ff00; font-weight: bold\">7C:0A:3F:7D:CB:CB</span> Modalias:                      <span style=\"color: #7f7f7f; text-decoration-color: #7f7f7f\">               </span>\n",
       "<span style=\"color: #7fbfbf; text-decoration-color: #7fbfbf\">                    </span>         bluetooth:v04E8p8080d0001                                              <span style=\"color: #7f7f7f; text-decoration-color: #7f7f7f\">               </span>\n",
       "<span style=\"color: #7fbfbf; text-decoration-color: #7fbfbf\">                    </span>         <span style=\"font-weight: bold\">[</span>\u001b<span style=\"font-weight: bold\">[</span><span style=\"color: #008080; text-decoration-color: #008080; font-weight: bold\">0</span>;93mCHG\u001b<span style=\"font-weight: bold\">[</span>0m<span style=\"font-weight: bold\">]</span> Device <span style=\"color: #00ff00; text-decoration-color: #00ff00; font-weight: bold\">7C:0A:3F:7D:CB:CB</span> UUIDs:                         <span style=\"color: #7f7f7f; text-decoration-color: #7f7f7f\">               </span>\n",
       "<span style=\"color: #7fbfbf; text-decoration-color: #7fbfbf\">                    </span>         <span style=\"color: #ffff00; text-decoration-color: #ffff00\">0000110a-0000-1000-8000-00805f9b34fb</span>                                   <span style=\"color: #7f7f7f; text-decoration-color: #7f7f7f\">               </span>\n",
       "<span style=\"color: #7fbfbf; text-decoration-color: #7fbfbf\">                    </span>         <span style=\"font-weight: bold\">[</span>\u001b<span style=\"font-weight: bold\">[</span><span style=\"color: #008080; text-decoration-color: #008080; font-weight: bold\">0</span>;93mCHG\u001b<span style=\"font-weight: bold\">[</span>0m<span style=\"font-weight: bold\">]</span> Device <span style=\"color: #00ff00; text-decoration-color: #00ff00; font-weight: bold\">7C:0A:3F:7D:CB:CB</span> UUIDs:                         <span style=\"color: #7f7f7f; text-decoration-color: #7f7f7f\">               </span>\n",
       "<span style=\"color: #7fbfbf; text-decoration-color: #7fbfbf\">                    </span>         <span style=\"color: #ffff00; text-decoration-color: #ffff00\">0000110b-0000-1000-8000-00805f9b34fb</span>                                   <span style=\"color: #7f7f7f; text-decoration-color: #7f7f7f\">               </span>\n",
       "<span style=\"color: #7fbfbf; text-decoration-color: #7fbfbf\">                    </span>         <span style=\"font-weight: bold\">[</span>\u001b<span style=\"font-weight: bold\">[</span><span style=\"color: #008080; text-decoration-color: #008080; font-weight: bold\">0</span>;93mCHG\u001b<span style=\"font-weight: bold\">[</span>0m<span style=\"font-weight: bold\">]</span> Device <span style=\"color: #00ff00; text-decoration-color: #00ff00; font-weight: bold\">7C:0A:3F:7D:CB:CB</span> UUIDs:                         <span style=\"color: #7f7f7f; text-decoration-color: #7f7f7f\">               </span>\n",
       "<span style=\"color: #7fbfbf; text-decoration-color: #7fbfbf\">                    </span>         <span style=\"color: #ffff00; text-decoration-color: #ffff00\">0000110c-0000-1000-8000-00805f9b34fb</span>                                   <span style=\"color: #7f7f7f; text-decoration-color: #7f7f7f\">               </span>\n",
       "<span style=\"color: #7fbfbf; text-decoration-color: #7fbfbf\">                    </span>         <span style=\"font-weight: bold\">[</span>\u001b<span style=\"font-weight: bold\">[</span><span style=\"color: #008080; text-decoration-color: #008080; font-weight: bold\">0</span>;93mCHG\u001b<span style=\"font-weight: bold\">[</span>0m<span style=\"font-weight: bold\">]</span> Device <span style=\"color: #00ff00; text-decoration-color: #00ff00; font-weight: bold\">7C:0A:3F:7D:CB:CB</span> UUIDs:                         <span style=\"color: #7f7f7f; text-decoration-color: #7f7f7f\">               </span>\n",
       "<span style=\"color: #7fbfbf; text-decoration-color: #7fbfbf\">                    </span>         <span style=\"color: #ffff00; text-decoration-color: #ffff00\">0000110e-0000-1000-8000-00805f9b34fb</span>                                   <span style=\"color: #7f7f7f; text-decoration-color: #7f7f7f\">               </span>\n",
       "<span style=\"color: #7fbfbf; text-decoration-color: #7fbfbf\">                    </span>         <span style=\"font-weight: bold\">[</span>\u001b<span style=\"font-weight: bold\">[</span><span style=\"color: #008080; text-decoration-color: #008080; font-weight: bold\">0</span>;93mCHG\u001b<span style=\"font-weight: bold\">[</span>0m<span style=\"font-weight: bold\">]</span> Device <span style=\"color: #00ff00; text-decoration-color: #00ff00; font-weight: bold\">7C:0A:3F:7D:CB:CB</span> UUIDs:                         <span style=\"color: #7f7f7f; text-decoration-color: #7f7f7f\">               </span>\n",
       "<span style=\"color: #7fbfbf; text-decoration-color: #7fbfbf\">                    </span>         <span style=\"color: #ffff00; text-decoration-color: #ffff00\">00001112-0000-1000-8000-00805f9b34fb</span>                                   <span style=\"color: #7f7f7f; text-decoration-color: #7f7f7f\">               </span>\n",
       "<span style=\"color: #7fbfbf; text-decoration-color: #7fbfbf\">                    </span>         <span style=\"font-weight: bold\">[</span>\u001b<span style=\"font-weight: bold\">[</span><span style=\"color: #008080; text-decoration-color: #008080; font-weight: bold\">0</span>;93mCHG\u001b<span style=\"font-weight: bold\">[</span>0m<span style=\"font-weight: bold\">]</span> Device <span style=\"color: #00ff00; text-decoration-color: #00ff00; font-weight: bold\">7C:0A:3F:7D:CB:CB</span> UUIDs:                         <span style=\"color: #7f7f7f; text-decoration-color: #7f7f7f\">               </span>\n",
       "<span style=\"color: #7fbfbf; text-decoration-color: #7fbfbf\">                    </span>         <span style=\"color: #ffff00; text-decoration-color: #ffff00\">0000111f-0000-1000-8000-00805f9b34fb</span>                                   <span style=\"color: #7f7f7f; text-decoration-color: #7f7f7f\">               </span>\n",
       "<span style=\"color: #7fbfbf; text-decoration-color: #7fbfbf\">                    </span>         <span style=\"font-weight: bold\">[</span>\u001b<span style=\"font-weight: bold\">[</span><span style=\"color: #008080; text-decoration-color: #008080; font-weight: bold\">0</span>;93mCHG\u001b<span style=\"font-weight: bold\">[</span>0m<span style=\"font-weight: bold\">]</span> Device <span style=\"color: #00ff00; text-decoration-color: #00ff00; font-weight: bold\">7C:0A:3F:7D:CB:CB</span> UUIDs:                         <span style=\"color: #7f7f7f; text-decoration-color: #7f7f7f\">               </span>\n",
       "<span style=\"color: #7fbfbf; text-decoration-color: #7fbfbf\">                    </span>         <span style=\"color: #ffff00; text-decoration-color: #ffff00\">00001200-0000-1000-8000-00805f9b34fb</span>                                   <span style=\"color: #7f7f7f; text-decoration-color: #7f7f7f\">               </span>\n",
       "<span style=\"color: #7fbfbf; text-decoration-color: #7fbfbf\">                    </span>         <span style=\"font-weight: bold\">[</span>\u001b<span style=\"font-weight: bold\">[</span><span style=\"color: #008080; text-decoration-color: #008080; font-weight: bold\">0</span>;93mCHG\u001b<span style=\"font-weight: bold\">[</span>0m<span style=\"font-weight: bold\">]</span> Device <span style=\"color: #00ff00; text-decoration-color: #00ff00; font-weight: bold\">7C:0A:3F:7D:CB:CB</span> ManufacturerData.Key: <span style=\"color: #008080; text-decoration-color: #008080; font-weight: bold\">0xff19</span>   <span style=\"color: #7f7f7f; text-decoration-color: #7f7f7f\">               </span>\n",
       "<span style=\"color: #7fbfbf; text-decoration-color: #7fbfbf\">                    </span>         <span style=\"font-weight: bold\">(</span><span style=\"color: #008080; text-decoration-color: #008080; font-weight: bold\">65305</span><span style=\"font-weight: bold\">)</span>                                                                <span style=\"color: #7f7f7f; text-decoration-color: #7f7f7f\">               </span>\n",
       "<span style=\"color: #7fbfbf; text-decoration-color: #7fbfbf\">                    </span>         <span style=\"font-weight: bold\">[</span>\u001b<span style=\"font-weight: bold\">[</span><span style=\"color: #008080; text-decoration-color: #008080; font-weight: bold\">0</span>;93mCHG\u001b<span style=\"font-weight: bold\">[</span>0m<span style=\"font-weight: bold\">]</span> Device <span style=\"color: #00ff00; text-decoration-color: #00ff00; font-weight: bold\">7C:0A:3F:7D:CB:CB</span> ManufacturerData.Value:        <span style=\"color: #7f7f7f; text-decoration-color: #7f7f7f\">               </span>\n",
       "<span style=\"color: #7fbfbf; text-decoration-color: #7fbfbf\">                    </span>           <span style=\"color: #008080; text-decoration-color: #008080; font-weight: bold\">00</span> <span style=\"color: #008080; text-decoration-color: #008080; font-weight: bold\">75</span> <span style=\"color: #008080; text-decoration-color: #008080; font-weight: bold\">00</span> <span style=\"color: #008080; text-decoration-color: #008080; font-weight: bold\">09</span> <span style=\"color: #008080; text-decoration-color: #008080; font-weight: bold\">01</span> <span style=\"color: #008080; text-decoration-color: #008080; font-weight: bold\">00</span> <span style=\"color: #008080; text-decoration-color: #008080; font-weight: bold\">00</span> <span style=\"color: #008080; text-decoration-color: #008080; font-weight: bold\">00</span> <span style=\"color: #008080; text-decoration-color: #008080; font-weight: bold\">06</span> <span style=\"color: #008080; text-decoration-color: #008080; font-weight: bold\">01</span> <span style=\"color: #008080; text-decoration-color: #008080; font-weight: bold\">00</span> <span style=\"color: #008080; text-decoration-color: #008080; font-weight: bold\">00</span> <span style=\"color: #008080; text-decoration-color: #008080; font-weight: bold\">00</span> <span style=\"color: #008080; text-decoration-color: #008080; font-weight: bold\">00</span> <span style=\"color: #008080; text-decoration-color: #008080; font-weight: bold\">00</span> <span style=\"color: #008080; text-decoration-color: #008080; font-weight: bold\">00</span>  .u<span style=\"color: #808000; text-decoration-color: #808000\">............</span>..    <span style=\"color: #7f7f7f; text-decoration-color: #7f7f7f\">               </span>\n",
       "<span style=\"color: #7fbfbf; text-decoration-color: #7fbfbf\">                    </span>           <span style=\"color: #008080; text-decoration-color: #008080; font-weight: bold\">00</span> <span style=\"color: #008080; text-decoration-color: #008080; font-weight: bold\">00</span> <span style=\"color: #008080; text-decoration-color: #008080; font-weight: bold\">00</span> <span style=\"color: #008080; text-decoration-color: #008080; font-weight: bold\">00</span> <span style=\"color: #008080; text-decoration-color: #008080; font-weight: bold\">00</span> <span style=\"color: #008080; text-decoration-color: #008080; font-weight: bold\">00</span> <span style=\"color: #008080; text-decoration-color: #008080; font-weight: bold\">00</span> <span style=\"color: #008080; text-decoration-color: #008080; font-weight: bold\">00</span>                          <span style=\"color: #808000; text-decoration-color: #808000\">......</span>..            <span style=\"color: #7f7f7f; text-decoration-color: #7f7f7f\">               </span>\n",
       "<span style=\"color: #7fbfbf; text-decoration-color: #7fbfbf\">                    </span>         <span style=\"font-weight: bold\">[</span>\u001b<span style=\"font-weight: bold\">[</span><span style=\"color: #008080; text-decoration-color: #008080; font-weight: bold\">0</span>;92mNEW\u001b<span style=\"font-weight: bold\">[</span>0m<span style=\"font-weight: bold\">]</span> Device <span style=\"color: #00ff00; text-decoration-color: #00ff00; font-weight: bold\">98:D3:31:00:0A:F6</span> Philips TAH4205                <span style=\"color: #7f7f7f; text-decoration-color: #7f7f7f\">               </span>\n",
       "<span style=\"color: #7fbfbf; text-decoration-color: #7fbfbf\">                    </span>         <span style=\"font-weight: bold\">[</span>\u001b<span style=\"font-weight: bold\">[</span><span style=\"color: #008080; text-decoration-color: #008080; font-weight: bold\">0</span>;93mCHG\u001b<span style=\"font-weight: bold\">[</span>0m<span style=\"font-weight: bold\">]</span> Device <span style=\"color: #00ff00; text-decoration-color: #00ff00; font-weight: bold\">98:D3:31:00:0A:F6</span> UUIDs:                         <span style=\"color: #7f7f7f; text-decoration-color: #7f7f7f\">               </span>\n",
       "<span style=\"color: #7fbfbf; text-decoration-color: #7fbfbf\">                    </span>         <span style=\"color: #ffff00; text-decoration-color: #ffff00\">0000111e-0000-1000-8000-00805f9b34fb</span>                                   <span style=\"color: #7f7f7f; text-decoration-color: #7f7f7f\">               </span>\n",
       "<span style=\"color: #7fbfbf; text-decoration-color: #7fbfbf\">                    </span>         <span style=\"font-weight: bold\">[</span>\u001b<span style=\"font-weight: bold\">[</span><span style=\"color: #008080; text-decoration-color: #008080; font-weight: bold\">0</span>;93mCHG\u001b<span style=\"font-weight: bold\">[</span>0m<span style=\"font-weight: bold\">]</span> Device <span style=\"color: #00ff00; text-decoration-color: #00ff00; font-weight: bold\">98:D3:31:00:0A:F6</span> UUIDs:                         <span style=\"color: #7f7f7f; text-decoration-color: #7f7f7f\">               </span>\n",
       "<span style=\"color: #7fbfbf; text-decoration-color: #7fbfbf\">                    </span>         <span style=\"color: #ffff00; text-decoration-color: #ffff00\">00001203-0000-1000-8000-00805f9b34fb</span>                                   <span style=\"color: #7f7f7f; text-decoration-color: #7f7f7f\">               </span>\n",
       "<span style=\"color: #7fbfbf; text-decoration-color: #7fbfbf\">                    </span>         <span style=\"font-weight: bold\">[</span>\u001b<span style=\"font-weight: bold\">[</span><span style=\"color: #008080; text-decoration-color: #008080; font-weight: bold\">0</span>;93mCHG\u001b<span style=\"font-weight: bold\">[</span>0m<span style=\"font-weight: bold\">]</span> Device <span style=\"color: #00ff00; text-decoration-color: #00ff00; font-weight: bold\">98:D3:31:00:0A:F6</span> UUIDs:                         <span style=\"color: #7f7f7f; text-decoration-color: #7f7f7f\">               </span>\n",
       "<span style=\"color: #7fbfbf; text-decoration-color: #7fbfbf\">                    </span>         <span style=\"color: #ffff00; text-decoration-color: #ffff00\">0000110b-0000-1000-8000-00805f9b34fb</span>                                   <span style=\"color: #7f7f7f; text-decoration-color: #7f7f7f\">               </span>\n",
       "<span style=\"color: #7fbfbf; text-decoration-color: #7fbfbf\">                    </span>         <span style=\"font-weight: bold\">[</span>\u001b<span style=\"font-weight: bold\">[</span><span style=\"color: #008080; text-decoration-color: #008080; font-weight: bold\">0</span>;93mCHG\u001b<span style=\"font-weight: bold\">[</span>0m<span style=\"font-weight: bold\">]</span> Device <span style=\"color: #00ff00; text-decoration-color: #00ff00; font-weight: bold\">98:D3:31:00:0A:F6</span> UUIDs:                         <span style=\"color: #7f7f7f; text-decoration-color: #7f7f7f\">               </span>\n",
       "<span style=\"color: #7fbfbf; text-decoration-color: #7fbfbf\">                    </span>         <span style=\"color: #ffff00; text-decoration-color: #ffff00\">0000110e-0000-1000-8000-00805f9b34fb</span>                                   <span style=\"color: #7f7f7f; text-decoration-color: #7f7f7f\">               </span>\n",
       "<span style=\"color: #7fbfbf; text-decoration-color: #7fbfbf\">                    </span>         <span style=\"font-weight: bold\">[</span>\u001b<span style=\"font-weight: bold\">[</span><span style=\"color: #008080; text-decoration-color: #008080; font-weight: bold\">0</span>;93mCHG\u001b<span style=\"font-weight: bold\">[</span>0m<span style=\"font-weight: bold\">]</span> Device <span style=\"color: #00ff00; text-decoration-color: #00ff00; font-weight: bold\">98:D3:31:00:0A:F6</span> UUIDs:                         <span style=\"color: #7f7f7f; text-decoration-color: #7f7f7f\">               </span>\n",
       "<span style=\"color: #7fbfbf; text-decoration-color: #7fbfbf\">                    </span>         <span style=\"color: #ffff00; text-decoration-color: #ffff00\">0000110f-0000-1000-8000-00805f9b34fb</span>                                   <span style=\"color: #7f7f7f; text-decoration-color: #7f7f7f\">               </span>\n",
       "<span style=\"color: #7fbfbf; text-decoration-color: #7fbfbf\">                    </span>         <span style=\"font-weight: bold\">[</span>\u001b<span style=\"font-weight: bold\">[</span><span style=\"color: #008080; text-decoration-color: #008080; font-weight: bold\">0</span>;93mCHG\u001b<span style=\"font-weight: bold\">[</span>0m<span style=\"font-weight: bold\">]</span> Device <span style=\"color: #00ff00; text-decoration-color: #00ff00; font-weight: bold\">98:D3:31:00:0A:F6</span> UUIDs:                         <span style=\"color: #7f7f7f; text-decoration-color: #7f7f7f\">               </span>\n",
       "<span style=\"color: #7fbfbf; text-decoration-color: #7fbfbf\">                    </span>         <span style=\"color: #ffff00; text-decoration-color: #ffff00\">0000110c-0000-1000-8000-00805f9b34fb</span>                                   <span style=\"color: #7f7f7f; text-decoration-color: #7f7f7f\">               </span>\n",
       "<span style=\"color: #7fbfbf; text-decoration-color: #7fbfbf\">                    </span>         \u001b<span style=\"font-weight: bold\">[</span>?2004l                                                                <span style=\"color: #7f7f7f; text-decoration-color: #7f7f7f\">               </span>\n",
       "<span style=\"color: #7fbfbf; text-decoration-color: #7fbfbf\">                    </span>         Attempting to pair with <span style=\"color: #00ff00; text-decoration-color: #00ff00; font-weight: bold\">98:D3:31:00:0A:F6</span>                              <span style=\"color: #7f7f7f; text-decoration-color: #7f7f7f\">               </span>\n",
       "<span style=\"color: #7fbfbf; text-decoration-color: #7fbfbf\">                    </span>         \u001b<span style=\"font-weight: bold\">[</span>?2004h\u001b<span style=\"font-weight: bold\">[</span><span style=\"color: #008080; text-decoration-color: #008080; font-weight: bold\">0</span>;94m<span style=\"font-weight: bold\">[</span>ZX-K22 BT5.<span style=\"color: #008080; text-decoration-color: #008080; font-weight: bold\">1</span><span style=\"font-weight: bold\">]</span>\u001b<span style=\"font-weight: bold\">[</span>0m<span style=\"font-weight: bold\">]</span>                                        <span style=\"color: #7f7f7f; text-decoration-color: #7f7f7f\">               </span>\n",
       "</pre>\n"
      ],
      "text/plain": [
       "\u001b[2;36m                   \u001b[0m\u001b[2;36m \u001b[0m\u001b[32mDEBUG   \u001b[0m \u001b[1;36m2024\u001b[0m-\u001b[1;36m09\u001b[0m-\u001b[1;36m29\u001b[0m \u001b[1;92m17:29:44\u001b[0m,\u001b[1;36m155\u001b[0m - DEBUG - Adding to output:\u001b[1m[\u001b[0m                   \u001b]8;id=415240;file:///tmp/ipykernel_16595/415227010.py\u001b\\\u001b[2m415227010.py\u001b[0m\u001b]8;;\u001b\\\u001b[2m:\u001b[0m\u001b]8;id=511470;file:///tmp/ipykernel_16595/415227010.py#31\u001b\\\u001b[2m31\u001b[0m\u001b]8;;\u001b\\\n",
       "\u001b[2;36m                    \u001b[0m         SetDiscoveryFilter success                                             \u001b[2m               \u001b[0m\n",
       "\u001b[2;36m                    \u001b[0m         Discovery started                                                      \u001b[2m               \u001b[0m\n",
       "\u001b[2;36m                    \u001b[0m         \u001b[1m[\u001b[0m\u001b\u001b[1m[\u001b[0m\u001b[1;36m0\u001b[0m;93mCHG\u001b\u001b[1m[\u001b[0m0m\u001b[1m]\u001b[0m Controller \u001b[1;92m4C:49:6C:0C:6B:4B\u001b[0m Discovering: yes           \u001b[2m               \u001b[0m\n",
       "\u001b[2;36m                    \u001b[0m         \u001b[1m[\u001b[0m\u001b\u001b[1m[\u001b[0m\u001b[1;36m0\u001b[0m;92mNEW\u001b\u001b[1m[\u001b[0m0m\u001b[1m]\u001b[0m Device \u001b[1;92m7C:0A:3F:7D:CB:CB\u001b[0m \u001b[1m[\u001b[0mTV\u001b[1m]\u001b[0m Samsung AU8070 \u001b[1;36m43\u001b[0m TV      \u001b[2m               \u001b[0m\n",
       "\u001b[2;36m                    \u001b[0m         \u001b[1m[\u001b[0m\u001b\u001b[1m[\u001b[0m\u001b[1;36m0\u001b[0m;93mCHG\u001b\u001b[1m[\u001b[0m0m\u001b[1m]\u001b[0m Device \u001b[1;92m7C:0A:3F:7D:CB:CB\u001b[0m Modalias:                      \u001b[2m               \u001b[0m\n",
       "\u001b[2;36m                    \u001b[0m         bluetooth:v04E8p8080d0001                                              \u001b[2m               \u001b[0m\n",
       "\u001b[2;36m                    \u001b[0m         \u001b[1m[\u001b[0m\u001b\u001b[1m[\u001b[0m\u001b[1;36m0\u001b[0m;93mCHG\u001b\u001b[1m[\u001b[0m0m\u001b[1m]\u001b[0m Device \u001b[1;92m7C:0A:3F:7D:CB:CB\u001b[0m UUIDs:                         \u001b[2m               \u001b[0m\n",
       "\u001b[2;36m                    \u001b[0m         \u001b[93m0000110a-0000-1000-8000-00805f9b34fb\u001b[0m                                   \u001b[2m               \u001b[0m\n",
       "\u001b[2;36m                    \u001b[0m         \u001b[1m[\u001b[0m\u001b\u001b[1m[\u001b[0m\u001b[1;36m0\u001b[0m;93mCHG\u001b\u001b[1m[\u001b[0m0m\u001b[1m]\u001b[0m Device \u001b[1;92m7C:0A:3F:7D:CB:CB\u001b[0m UUIDs:                         \u001b[2m               \u001b[0m\n",
       "\u001b[2;36m                    \u001b[0m         \u001b[93m0000110b-0000-1000-8000-00805f9b34fb\u001b[0m                                   \u001b[2m               \u001b[0m\n",
       "\u001b[2;36m                    \u001b[0m         \u001b[1m[\u001b[0m\u001b\u001b[1m[\u001b[0m\u001b[1;36m0\u001b[0m;93mCHG\u001b\u001b[1m[\u001b[0m0m\u001b[1m]\u001b[0m Device \u001b[1;92m7C:0A:3F:7D:CB:CB\u001b[0m UUIDs:                         \u001b[2m               \u001b[0m\n",
       "\u001b[2;36m                    \u001b[0m         \u001b[93m0000110c-0000-1000-8000-00805f9b34fb\u001b[0m                                   \u001b[2m               \u001b[0m\n",
       "\u001b[2;36m                    \u001b[0m         \u001b[1m[\u001b[0m\u001b\u001b[1m[\u001b[0m\u001b[1;36m0\u001b[0m;93mCHG\u001b\u001b[1m[\u001b[0m0m\u001b[1m]\u001b[0m Device \u001b[1;92m7C:0A:3F:7D:CB:CB\u001b[0m UUIDs:                         \u001b[2m               \u001b[0m\n",
       "\u001b[2;36m                    \u001b[0m         \u001b[93m0000110e-0000-1000-8000-00805f9b34fb\u001b[0m                                   \u001b[2m               \u001b[0m\n",
       "\u001b[2;36m                    \u001b[0m         \u001b[1m[\u001b[0m\u001b\u001b[1m[\u001b[0m\u001b[1;36m0\u001b[0m;93mCHG\u001b\u001b[1m[\u001b[0m0m\u001b[1m]\u001b[0m Device \u001b[1;92m7C:0A:3F:7D:CB:CB\u001b[0m UUIDs:                         \u001b[2m               \u001b[0m\n",
       "\u001b[2;36m                    \u001b[0m         \u001b[93m00001112-0000-1000-8000-00805f9b34fb\u001b[0m                                   \u001b[2m               \u001b[0m\n",
       "\u001b[2;36m                    \u001b[0m         \u001b[1m[\u001b[0m\u001b\u001b[1m[\u001b[0m\u001b[1;36m0\u001b[0m;93mCHG\u001b\u001b[1m[\u001b[0m0m\u001b[1m]\u001b[0m Device \u001b[1;92m7C:0A:3F:7D:CB:CB\u001b[0m UUIDs:                         \u001b[2m               \u001b[0m\n",
       "\u001b[2;36m                    \u001b[0m         \u001b[93m0000111f-0000-1000-8000-00805f9b34fb\u001b[0m                                   \u001b[2m               \u001b[0m\n",
       "\u001b[2;36m                    \u001b[0m         \u001b[1m[\u001b[0m\u001b\u001b[1m[\u001b[0m\u001b[1;36m0\u001b[0m;93mCHG\u001b\u001b[1m[\u001b[0m0m\u001b[1m]\u001b[0m Device \u001b[1;92m7C:0A:3F:7D:CB:CB\u001b[0m UUIDs:                         \u001b[2m               \u001b[0m\n",
       "\u001b[2;36m                    \u001b[0m         \u001b[93m00001200-0000-1000-8000-00805f9b34fb\u001b[0m                                   \u001b[2m               \u001b[0m\n",
       "\u001b[2;36m                    \u001b[0m         \u001b[1m[\u001b[0m\u001b\u001b[1m[\u001b[0m\u001b[1;36m0\u001b[0m;93mCHG\u001b\u001b[1m[\u001b[0m0m\u001b[1m]\u001b[0m Device \u001b[1;92m7C:0A:3F:7D:CB:CB\u001b[0m ManufacturerData.Key: \u001b[1;36m0xff19\u001b[0m   \u001b[2m               \u001b[0m\n",
       "\u001b[2;36m                    \u001b[0m         \u001b[1m(\u001b[0m\u001b[1;36m65305\u001b[0m\u001b[1m)\u001b[0m                                                                \u001b[2m               \u001b[0m\n",
       "\u001b[2;36m                    \u001b[0m         \u001b[1m[\u001b[0m\u001b\u001b[1m[\u001b[0m\u001b[1;36m0\u001b[0m;93mCHG\u001b\u001b[1m[\u001b[0m0m\u001b[1m]\u001b[0m Device \u001b[1;92m7C:0A:3F:7D:CB:CB\u001b[0m ManufacturerData.Value:        \u001b[2m               \u001b[0m\n",
       "\u001b[2;36m                    \u001b[0m           \u001b[1;36m00\u001b[0m \u001b[1;36m75\u001b[0m \u001b[1;36m00\u001b[0m \u001b[1;36m09\u001b[0m \u001b[1;36m01\u001b[0m \u001b[1;36m00\u001b[0m \u001b[1;36m00\u001b[0m \u001b[1;36m00\u001b[0m \u001b[1;36m06\u001b[0m \u001b[1;36m01\u001b[0m \u001b[1;36m00\u001b[0m \u001b[1;36m00\u001b[0m \u001b[1;36m00\u001b[0m \u001b[1;36m00\u001b[0m \u001b[1;36m00\u001b[0m \u001b[1;36m00\u001b[0m  .u\u001b[33m...\u001b[0m\u001b[33m...\u001b[0m\u001b[33m...\u001b[0m\u001b[33m...\u001b[0m..    \u001b[2m               \u001b[0m\n",
       "\u001b[2;36m                    \u001b[0m           \u001b[1;36m00\u001b[0m \u001b[1;36m00\u001b[0m \u001b[1;36m00\u001b[0m \u001b[1;36m00\u001b[0m \u001b[1;36m00\u001b[0m \u001b[1;36m00\u001b[0m \u001b[1;36m00\u001b[0m \u001b[1;36m00\u001b[0m                          \u001b[33m...\u001b[0m\u001b[33m...\u001b[0m..            \u001b[2m               \u001b[0m\n",
       "\u001b[2;36m                    \u001b[0m         \u001b[1m[\u001b[0m\u001b\u001b[1m[\u001b[0m\u001b[1;36m0\u001b[0m;92mNEW\u001b\u001b[1m[\u001b[0m0m\u001b[1m]\u001b[0m Device \u001b[1;92m98:D3:31:00:0A:F6\u001b[0m Philips TAH4205                \u001b[2m               \u001b[0m\n",
       "\u001b[2;36m                    \u001b[0m         \u001b[1m[\u001b[0m\u001b\u001b[1m[\u001b[0m\u001b[1;36m0\u001b[0m;93mCHG\u001b\u001b[1m[\u001b[0m0m\u001b[1m]\u001b[0m Device \u001b[1;92m98:D3:31:00:0A:F6\u001b[0m UUIDs:                         \u001b[2m               \u001b[0m\n",
       "\u001b[2;36m                    \u001b[0m         \u001b[93m0000111e-0000-1000-8000-00805f9b34fb\u001b[0m                                   \u001b[2m               \u001b[0m\n",
       "\u001b[2;36m                    \u001b[0m         \u001b[1m[\u001b[0m\u001b\u001b[1m[\u001b[0m\u001b[1;36m0\u001b[0m;93mCHG\u001b\u001b[1m[\u001b[0m0m\u001b[1m]\u001b[0m Device \u001b[1;92m98:D3:31:00:0A:F6\u001b[0m UUIDs:                         \u001b[2m               \u001b[0m\n",
       "\u001b[2;36m                    \u001b[0m         \u001b[93m00001203-0000-1000-8000-00805f9b34fb\u001b[0m                                   \u001b[2m               \u001b[0m\n",
       "\u001b[2;36m                    \u001b[0m         \u001b[1m[\u001b[0m\u001b\u001b[1m[\u001b[0m\u001b[1;36m0\u001b[0m;93mCHG\u001b\u001b[1m[\u001b[0m0m\u001b[1m]\u001b[0m Device \u001b[1;92m98:D3:31:00:0A:F6\u001b[0m UUIDs:                         \u001b[2m               \u001b[0m\n",
       "\u001b[2;36m                    \u001b[0m         \u001b[93m0000110b-0000-1000-8000-00805f9b34fb\u001b[0m                                   \u001b[2m               \u001b[0m\n",
       "\u001b[2;36m                    \u001b[0m         \u001b[1m[\u001b[0m\u001b\u001b[1m[\u001b[0m\u001b[1;36m0\u001b[0m;93mCHG\u001b\u001b[1m[\u001b[0m0m\u001b[1m]\u001b[0m Device \u001b[1;92m98:D3:31:00:0A:F6\u001b[0m UUIDs:                         \u001b[2m               \u001b[0m\n",
       "\u001b[2;36m                    \u001b[0m         \u001b[93m0000110e-0000-1000-8000-00805f9b34fb\u001b[0m                                   \u001b[2m               \u001b[0m\n",
       "\u001b[2;36m                    \u001b[0m         \u001b[1m[\u001b[0m\u001b\u001b[1m[\u001b[0m\u001b[1;36m0\u001b[0m;93mCHG\u001b\u001b[1m[\u001b[0m0m\u001b[1m]\u001b[0m Device \u001b[1;92m98:D3:31:00:0A:F6\u001b[0m UUIDs:                         \u001b[2m               \u001b[0m\n",
       "\u001b[2;36m                    \u001b[0m         \u001b[93m0000110f-0000-1000-8000-00805f9b34fb\u001b[0m                                   \u001b[2m               \u001b[0m\n",
       "\u001b[2;36m                    \u001b[0m         \u001b[1m[\u001b[0m\u001b\u001b[1m[\u001b[0m\u001b[1;36m0\u001b[0m;93mCHG\u001b\u001b[1m[\u001b[0m0m\u001b[1m]\u001b[0m Device \u001b[1;92m98:D3:31:00:0A:F6\u001b[0m UUIDs:                         \u001b[2m               \u001b[0m\n",
       "\u001b[2;36m                    \u001b[0m         \u001b[93m0000110c-0000-1000-8000-00805f9b34fb\u001b[0m                                   \u001b[2m               \u001b[0m\n",
       "\u001b[2;36m                    \u001b[0m         \u001b\u001b[1m[\u001b[0m?2004l                                                                \u001b[2m               \u001b[0m\n",
       "\u001b[2;36m                    \u001b[0m         Attempting to pair with \u001b[1;92m98:D3:31:00:0A:F6\u001b[0m                              \u001b[2m               \u001b[0m\n",
       "\u001b[2;36m                    \u001b[0m         \u001b\u001b[1m[\u001b[0m?2004h\u001b\u001b[1m[\u001b[0m\u001b[1;36m0\u001b[0m;94m\u001b[1m[\u001b[0mZX-K22 BT5.\u001b[1;36m1\u001b[0m\u001b[1m]\u001b[0m\u001b\u001b[1m[\u001b[0m0m\u001b[1m]\u001b[0m                                        \u001b[2m               \u001b[0m\n"
      ]
     },
     "metadata": {},
     "output_type": "display_data"
    },
    {
     "name": "stdout",
     "output_type": "stream",
     "text": [
      " SetDiscoveryFilter success\n",
      "Discovery started\n",
      "[\u001b[0;93mCHG\u001b[0m] Controller 4C:49:6C:0C:6B:4B Discovering: yes\n",
      "[\u001b[0;92mNEW\u001b[0m] Device 7C:0A:3F:7D:CB:CB [TV] Samsung AU8070 43 TV\n",
      "[\u001b[0;93mCHG\u001b[0m] Device 7C:0A:3F:7D:CB:CB Modalias: bluetooth:v04E8p8080d0001\n",
      "[\u001b[0;93mCHG\u001b[0m] Device 7C:0A:3F:7D:CB:CB UUIDs: 0000110a-0000-1000-8000-00805f9b34fb\n",
      "[\u001b[0;93mCHG\u001b[0m] Device 7C:0A:3F:7D:CB:CB UUIDs: 0000110b-0000-1000-8000-00805f9b34fb\n",
      "[\u001b[0;93mCHG\u001b[0m] Device 7C:0A:3F:7D:CB:CB UUIDs: 0000110c-0000-1000-8000-00805f9b34fb\n",
      "[\u001b[0;93mCHG\u001b[0m] Device 7C:0A:3F:7D:CB:CB UUIDs: 0000110e-0000-1000-8000-00805f9b34fb\n",
      "[\u001b[0;93mCHG\u001b[0m] Device 7C:0A:3F:7D:CB:CB UUIDs: 00001112-0000-1000-8000-00805f9b34fb\n",
      "[\u001b[0;93mCHG\u001b[0m] Device 7C:0A:3F:7D:CB:CB UUIDs: 0000111f-0000-1000-8000-00805f9b34fb\n",
      "[\u001b[0;93mCHG\u001b[0m] Device 7C:0A:3F:7D:CB:CB UUIDs: 00001200-0000-1000-8000-00805f9b34fb\n",
      "[\u001b[0;93mCHG\u001b[0m] Device 7C:0A:3F:7D:CB:CB ManufacturerData.Key: 0xff19 (65305)\n",
      "[\u001b[0;93mCHG\u001b[0m] Device 7C:0A:3F:7D:CB:CB ManufacturerData.Value:\n",
      "  00 75 00 09 01 00 00 00 06 01 00 00 00 00 00 00  .u..............\n",
      "  00 00 00 00 00 00 00 00                          ........        \n",
      "[\u001b[0;92mNEW\u001b[0m] Device 98:D3:31:00:0A:F6 Philips TAH4205\n",
      "[\u001b[0;93mCHG\u001b[0m] Device 98:D3:31:00:0A:F6 UUIDs: 0000111e-0000-1000-8000-00805f9b34fb\n",
      "[\u001b[0;93mCHG\u001b[0m] Device 98:D3:31:00:0A:F6 UUIDs: 00001203-0000-1000-8000-00805f9b34fb\n",
      "[\u001b[0;93mCHG\u001b[0m] Device 98:D3:31:00:0A:F6 UUIDs: 0000110b-0000-1000-8000-00805f9b34fb\n",
      "[\u001b[0;93mCHG\u001b[0m] Device 98:D3:31:00:0A:F6 UUIDs: 0000110e-0000-1000-8000-00805f9b34fb\n",
      "[\u001b[0;93mCHG\u001b[0m] Device 98:D3:31:00:0A:F6 UUIDs: 0000110f-0000-1000-8000-00805f9b34fb\n",
      "[\u001b[0;93mCHG\u001b[0m] Device 98:D3:31:00:0A:F6 UUIDs: 0000110c-0000-1000-8000-00805f9b34fb\n",
      "\u001b[?2004l\n",
      "Attempting to pair with 98:D3:31:00:0A:F6\n",
      "\u001b[?2004h\u001b[0;94m[ZX-K22 BT5.1]\u001b[0m\n"
     ]
    }
   ],
   "source": [
    "res=btctl.get_output(f\"pair {dev_mac}\",[\"Pairing successful\"])\n",
    "print(res)"
   ]
  },
  {
   "cell_type": "code",
   "execution_count": 98,
   "id": "92f23f94",
   "metadata": {},
   "outputs": [
    {
     "data": {
      "text/html": [
       "<pre style=\"white-space:pre;overflow-x:auto;line-height:normal;font-family:Menlo,'DejaVu Sans Mono',consolas,'Courier New',monospace\"><span style=\"color: #7fbfbf; text-decoration-color: #7fbfbf\">[09/29/24 17:30:16] </span><span style=\"color: #000080; text-decoration-color: #000080\">INFO    </span> <span style=\"color: #008080; text-decoration-color: #008080; font-weight: bold\">2024</span>-<span style=\"color: #008080; text-decoration-color: #008080; font-weight: bold\">09</span>-<span style=\"color: #008080; text-decoration-color: #008080; font-weight: bold\">29</span> <span style=\"color: #00ff00; text-decoration-color: #00ff00; font-weight: bold\">17:30:16</span>,<span style=\"color: #008080; text-decoration-color: #008080; font-weight: bold\">837</span> - INFO - Sending command <span style=\"font-weight: bold\">[</span>connect              <a href=\"file:///tmp/ipykernel_16595/415227010.py\" target=\"_blank\"><span style=\"color: #7f7f7f; text-decoration-color: #7f7f7f\">415227010.py</span></a><span style=\"color: #7f7f7f; text-decoration-color: #7f7f7f\">:</span><a href=\"file:///tmp/ipykernel_16595/415227010.py#23\" target=\"_blank\"><span style=\"color: #7f7f7f; text-decoration-color: #7f7f7f\">23</span></a>\n",
       "<span style=\"color: #7fbfbf; text-decoration-color: #7fbfbf\">                    </span>         <span style=\"color: #00ff00; text-decoration-color: #00ff00; font-weight: bold\">98:D3:31:00:0A:F6</span><span style=\"font-weight: bold\">]</span> with <span style=\"color: #808000; text-decoration-color: #808000\">expected</span>=<span style=\"font-weight: bold\">[[</span><span style=\"color: #008000; text-decoration-color: #008000\">'Connection successful'</span>, <span style=\"color: #008000; text-decoration-color: #008000\">'#'</span>,       <span style=\"color: #7f7f7f; text-decoration-color: #7f7f7f\">               </span>\n",
       "<span style=\"color: #7fbfbf; text-decoration-color: #7fbfbf\">                    </span>         <span style=\"color: #008000; text-decoration-color: #008000\">'Invalid argument'</span>, <span style=\"color: #008000; text-decoration-color: #008000\">'Invalid command'</span>, <span style=\"font-weight: bold\">&lt;</span><span style=\"color: #ff00ff; text-decoration-color: #ff00ff; font-weight: bold\">class</span><span style=\"color: #000000; text-decoration-color: #000000\"> </span>                         <span style=\"color: #7f7f7f; text-decoration-color: #7f7f7f\">               </span>\n",
       "<span style=\"color: #7fbfbf; text-decoration-color: #7fbfbf\">                    </span>         <span style=\"color: #008000; text-decoration-color: #008000\">'pexpect.exceptions.EOF'</span><span style=\"font-weight: bold\">&gt;]]</span> and <span style=\"color: #808000; text-decoration-color: #808000\">pause</span>=<span style=\"font-weight: bold\">[</span><span style=\"color: #008080; text-decoration-color: #008080; font-weight: bold\">5</span><span style=\"font-weight: bold\">]</span>                              <span style=\"color: #7f7f7f; text-decoration-color: #7f7f7f\">               </span>\n",
       "</pre>\n"
      ],
      "text/plain": [
       "\u001b[2;36m[09/29/24 17:30:16]\u001b[0m\u001b[2;36m \u001b[0m\u001b[34mINFO    \u001b[0m \u001b[1;36m2024\u001b[0m-\u001b[1;36m09\u001b[0m-\u001b[1;36m29\u001b[0m \u001b[1;92m17:30:16\u001b[0m,\u001b[1;36m837\u001b[0m - INFO - Sending command \u001b[1m[\u001b[0mconnect              \u001b]8;id=360212;file:///tmp/ipykernel_16595/415227010.py\u001b\\\u001b[2m415227010.py\u001b[0m\u001b]8;;\u001b\\\u001b[2m:\u001b[0m\u001b]8;id=233703;file:///tmp/ipykernel_16595/415227010.py#23\u001b\\\u001b[2m23\u001b[0m\u001b]8;;\u001b\\\n",
       "\u001b[2;36m                    \u001b[0m         \u001b[1;92m98:D3:31:00:0A:F6\u001b[0m\u001b[1m]\u001b[0m with \u001b[33mexpected\u001b[0m=\u001b[1m[\u001b[0m\u001b[1m[\u001b[0m\u001b[32m'Connection successful'\u001b[0m, \u001b[32m'#'\u001b[0m,       \u001b[2m               \u001b[0m\n",
       "\u001b[2;36m                    \u001b[0m         \u001b[32m'Invalid argument'\u001b[0m, \u001b[32m'Invalid command'\u001b[0m, \u001b[1m<\u001b[0m\u001b[1;95mclass\u001b[0m\u001b[39m \u001b[0m                         \u001b[2m               \u001b[0m\n",
       "\u001b[2;36m                    \u001b[0m         \u001b[32m'pexpect.exceptions.EOF'\u001b[0m\u001b[1m>\u001b[0m\u001b[1m]\u001b[0m\u001b[1m]\u001b[0m and \u001b[33mpause\u001b[0m=\u001b[1m[\u001b[0m\u001b[1;36m5\u001b[0m\u001b[1m]\u001b[0m                              \u001b[2m               \u001b[0m\n"
      ]
     },
     "metadata": {},
     "output_type": "display_data"
    },
    {
     "data": {
      "text/html": [
       "<pre style=\"white-space:pre;overflow-x:auto;line-height:normal;font-family:Menlo,'DejaVu Sans Mono',consolas,'Courier New',monospace\"><span style=\"color: #7fbfbf; text-decoration-color: #7fbfbf\">                    </span><span style=\"color: #008000; text-decoration-color: #008000\">DEBUG   </span> <span style=\"color: #008080; text-decoration-color: #008080; font-weight: bold\">2024</span>-<span style=\"color: #008080; text-decoration-color: #008080; font-weight: bold\">09</span>-<span style=\"color: #008080; text-decoration-color: #008080; font-weight: bold\">29</span> <span style=\"color: #00ff00; text-decoration-color: #00ff00; font-weight: bold\">17:30:16</span>,<span style=\"color: #008080; text-decoration-color: #008080; font-weight: bold\">842</span> - DEBUG - <span style=\"color: #808000; text-decoration-color: #808000\">expected_index</span>=<span style=\"color: #008080; text-decoration-color: #008080; font-weight: bold\">1</span>                     <a href=\"file:///tmp/ipykernel_16595/415227010.py\" target=\"_blank\"><span style=\"color: #7f7f7f; text-decoration-color: #7f7f7f\">415227010.py</span></a><span style=\"color: #7f7f7f; text-decoration-color: #7f7f7f\">:</span><a href=\"file:///tmp/ipykernel_16595/415227010.py#25\" target=\"_blank\"><span style=\"color: #7f7f7f; text-decoration-color: #7f7f7f\">25</span></a>\n",
       "</pre>\n"
      ],
      "text/plain": [
       "\u001b[2;36m                   \u001b[0m\u001b[2;36m \u001b[0m\u001b[32mDEBUG   \u001b[0m \u001b[1;36m2024\u001b[0m-\u001b[1;36m09\u001b[0m-\u001b[1;36m29\u001b[0m \u001b[1;92m17:30:16\u001b[0m,\u001b[1;36m842\u001b[0m - DEBUG - \u001b[33mexpected_index\u001b[0m=\u001b[1;36m1\u001b[0m                     \u001b]8;id=387351;file:///tmp/ipykernel_16595/415227010.py\u001b\\\u001b[2m415227010.py\u001b[0m\u001b]8;;\u001b\\\u001b[2m:\u001b[0m\u001b]8;id=268450;file:///tmp/ipykernel_16595/415227010.py#25\u001b\\\u001b[2m25\u001b[0m\u001b]8;;\u001b\\\n"
      ]
     },
     "metadata": {},
     "output_type": "display_data"
    },
    {
     "data": {
      "text/html": [
       "<pre style=\"white-space:pre;overflow-x:auto;line-height:normal;font-family:Menlo,'DejaVu Sans Mono',consolas,'Courier New',monospace\"><span style=\"color: #7fbfbf; text-decoration-color: #7fbfbf\">                    </span><span style=\"color: #008000; text-decoration-color: #008000\">DEBUG   </span> <span style=\"color: #008080; text-decoration-color: #008080; font-weight: bold\">2024</span>-<span style=\"color: #008080; text-decoration-color: #008080; font-weight: bold\">09</span>-<span style=\"color: #008080; text-decoration-color: #008080; font-weight: bold\">29</span> <span style=\"color: #00ff00; text-decoration-color: #00ff00; font-weight: bold\">17:30:16</span>,<span style=\"color: #008080; text-decoration-color: #008080; font-weight: bold\">846</span> - DEBUG - Adding to output:<span style=\"font-weight: bold\">[</span> <span style=\"font-weight: bold\">[</span>\u001b<span style=\"font-weight: bold\">[</span><span style=\"color: #008080; text-decoration-color: #008080; font-weight: bold\">0</span>;93mCHG\u001b<span style=\"font-weight: bold\">[</span>0m<span style=\"font-weight: bold\">]</span>    <a href=\"file:///tmp/ipykernel_16595/415227010.py\" target=\"_blank\"><span style=\"color: #7f7f7f; text-decoration-color: #7f7f7f\">415227010.py</span></a><span style=\"color: #7f7f7f; text-decoration-color: #7f7f7f\">:</span><a href=\"file:///tmp/ipykernel_16595/415227010.py#31\" target=\"_blank\"><span style=\"color: #7f7f7f; text-decoration-color: #7f7f7f\">31</span></a>\n",
       "<span style=\"color: #7fbfbf; text-decoration-color: #7fbfbf\">                    </span>         Device <span style=\"color: #00ff00; text-decoration-color: #00ff00; font-weight: bold\">98:D3:31:00:0A:F6</span> Connected: yes                                <span style=\"color: #7f7f7f; text-decoration-color: #7f7f7f\">               </span>\n",
       "<span style=\"color: #7fbfbf; text-decoration-color: #7fbfbf\">                    </span>         <span style=\"font-weight: bold\">[</span>\u001b<span style=\"font-weight: bold\">[</span><span style=\"color: #008080; text-decoration-color: #008080; font-weight: bold\">0</span>;93mCHG\u001b<span style=\"font-weight: bold\">[</span>0m<span style=\"font-weight: bold\">]</span> Device <span style=\"color: #00ff00; text-decoration-color: #00ff00; font-weight: bold\">98:D3:31:00:0A:F6</span> Bonded: yes                    <span style=\"color: #7f7f7f; text-decoration-color: #7f7f7f\">               </span>\n",
       "<span style=\"color: #7fbfbf; text-decoration-color: #7fbfbf\">                    </span>         <span style=\"font-weight: bold\">[</span>\u001b<span style=\"font-weight: bold\">[</span><span style=\"color: #008080; text-decoration-color: #008080; font-weight: bold\">0</span>;93mCHG\u001b<span style=\"font-weight: bold\">[</span>0m<span style=\"font-weight: bold\">]</span> Device <span style=\"color: #00ff00; text-decoration-color: #00ff00; font-weight: bold\">98:D3:31:00:0A:F6</span> ServicesResolved: yes          <span style=\"color: #7f7f7f; text-decoration-color: #7f7f7f\">               </span>\n",
       "<span style=\"color: #7fbfbf; text-decoration-color: #7fbfbf\">                    </span>         <span style=\"font-weight: bold\">[</span>\u001b<span style=\"font-weight: bold\">[</span><span style=\"color: #008080; text-decoration-color: #008080; font-weight: bold\">0</span>;93mCHG\u001b<span style=\"font-weight: bold\">[</span>0m<span style=\"font-weight: bold\">]</span> Device <span style=\"color: #00ff00; text-decoration-color: #00ff00; font-weight: bold\">98:D3:31:00:0A:F6</span> Paired: yes                    <span style=\"color: #7f7f7f; text-decoration-color: #7f7f7f\">               </span>\n",
       "<span style=\"color: #7fbfbf; text-decoration-color: #7fbfbf\">                    </span>         Pairing successful                                                     <span style=\"color: #7f7f7f; text-decoration-color: #7f7f7f\">               </span>\n",
       "<span style=\"color: #7fbfbf; text-decoration-color: #7fbfbf\">                    </span>         <span style=\"font-weight: bold\">[</span>\u001b<span style=\"font-weight: bold\">[</span><span style=\"color: #008080; text-decoration-color: #008080; font-weight: bold\">0</span>;93mCHG\u001b<span style=\"font-weight: bold\">[</span>0m<span style=\"font-weight: bold\">]</span> Device <span style=\"color: #00ff00; text-decoration-color: #00ff00; font-weight: bold\">98:D3:31:00:0A:F6</span> ServicesResolved: no           <span style=\"color: #7f7f7f; text-decoration-color: #7f7f7f\">               </span>\n",
       "<span style=\"color: #7fbfbf; text-decoration-color: #7fbfbf\">                    </span>         <span style=\"font-weight: bold\">[</span>\u001b<span style=\"font-weight: bold\">[</span><span style=\"color: #008080; text-decoration-color: #008080; font-weight: bold\">0</span>;93mCHG\u001b<span style=\"font-weight: bold\">[</span>0m<span style=\"font-weight: bold\">]</span> Device <span style=\"color: #00ff00; text-decoration-color: #00ff00; font-weight: bold\">98:D3:31:00:0A:F6</span> Connected: no                  <span style=\"color: #7f7f7f; text-decoration-color: #7f7f7f\">               </span>\n",
       "<span style=\"color: #7fbfbf; text-decoration-color: #7fbfbf\">                    </span>         <span style=\"font-weight: bold\">[</span>\u001b<span style=\"font-weight: bold\">[</span><span style=\"color: #008080; text-decoration-color: #008080; font-weight: bold\">0</span>;93mCHG\u001b<span style=\"font-weight: bold\">[</span>0m<span style=\"font-weight: bold\">]</span> Device <span style=\"color: #00ff00; text-decoration-color: #00ff00; font-weight: bold\">7C:0A:3F:7D:CB:CB</span> AddressType: public            <span style=\"color: #7f7f7f; text-decoration-color: #7f7f7f\">               </span>\n",
       "<span style=\"color: #7fbfbf; text-decoration-color: #7fbfbf\">                    </span>         <span style=\"font-weight: bold\">[</span>\u001b<span style=\"font-weight: bold\">[</span><span style=\"color: #008080; text-decoration-color: #008080; font-weight: bold\">0</span>;93mCHG\u001b<span style=\"font-weight: bold\">[</span>0m<span style=\"font-weight: bold\">]</span> Device <span style=\"color: #00ff00; text-decoration-color: #00ff00; font-weight: bold\">7C:0A:3F:7D:CB:CB</span> RSSI: <span style=\"color: #008080; text-decoration-color: #008080; font-weight: bold\">0xffffffb3</span> <span style=\"font-weight: bold\">(</span><span style=\"color: #008080; text-decoration-color: #008080; font-weight: bold\">-77</span><span style=\"font-weight: bold\">)</span>         <span style=\"color: #7f7f7f; text-decoration-color: #7f7f7f\">               </span>\n",
       "<span style=\"color: #7fbfbf; text-decoration-color: #7fbfbf\">                    </span>         <span style=\"font-weight: bold\">[</span>\u001b<span style=\"font-weight: bold\">[</span><span style=\"color: #008080; text-decoration-color: #008080; font-weight: bold\">0</span>;93mCHG\u001b<span style=\"font-weight: bold\">[</span>0m<span style=\"font-weight: bold\">]</span> Device <span style=\"color: #00ff00; text-decoration-color: #00ff00; font-weight: bold\">7C:0A:3F:7D:CB:CB</span> ManufacturerData.Key: <span style=\"color: #008080; text-decoration-color: #008080; font-weight: bold\">0xff19</span>   <span style=\"color: #7f7f7f; text-decoration-color: #7f7f7f\">               </span>\n",
       "<span style=\"color: #7fbfbf; text-decoration-color: #7fbfbf\">                    </span>         <span style=\"font-weight: bold\">(</span><span style=\"color: #008080; text-decoration-color: #008080; font-weight: bold\">65305</span><span style=\"font-weight: bold\">)</span>                                                                <span style=\"color: #7f7f7f; text-decoration-color: #7f7f7f\">               </span>\n",
       "<span style=\"color: #7fbfbf; text-decoration-color: #7fbfbf\">                    </span>         <span style=\"font-weight: bold\">[</span>\u001b<span style=\"font-weight: bold\">[</span><span style=\"color: #008080; text-decoration-color: #008080; font-weight: bold\">0</span>;93mCHG\u001b<span style=\"font-weight: bold\">[</span>0m<span style=\"font-weight: bold\">]</span> Device <span style=\"color: #00ff00; text-decoration-color: #00ff00; font-weight: bold\">7C:0A:3F:7D:CB:CB</span> ManufacturerData.Value:        <span style=\"color: #7f7f7f; text-decoration-color: #7f7f7f\">               </span>\n",
       "<span style=\"color: #7fbfbf; text-decoration-color: #7fbfbf\">                    </span>           <span style=\"color: #008080; text-decoration-color: #008080; font-weight: bold\">00</span> <span style=\"color: #008080; text-decoration-color: #008080; font-weight: bold\">75</span> <span style=\"color: #008080; text-decoration-color: #008080; font-weight: bold\">00</span> <span style=\"color: #008080; text-decoration-color: #008080; font-weight: bold\">09</span> <span style=\"color: #008080; text-decoration-color: #008080; font-weight: bold\">01</span> <span style=\"color: #008080; text-decoration-color: #008080; font-weight: bold\">00</span> <span style=\"color: #008080; text-decoration-color: #008080; font-weight: bold\">00</span> <span style=\"color: #008080; text-decoration-color: #008080; font-weight: bold\">00</span> <span style=\"color: #008080; text-decoration-color: #008080; font-weight: bold\">06</span> <span style=\"color: #008080; text-decoration-color: #008080; font-weight: bold\">01</span> <span style=\"color: #008080; text-decoration-color: #008080; font-weight: bold\">00</span> <span style=\"color: #008080; text-decoration-color: #008080; font-weight: bold\">00</span> <span style=\"color: #008080; text-decoration-color: #008080; font-weight: bold\">00</span> <span style=\"color: #008080; text-decoration-color: #008080; font-weight: bold\">00</span> <span style=\"color: #008080; text-decoration-color: #008080; font-weight: bold\">00</span> <span style=\"color: #008080; text-decoration-color: #008080; font-weight: bold\">00</span>  .u<span style=\"color: #808000; text-decoration-color: #808000\">............</span>..    <span style=\"color: #7f7f7f; text-decoration-color: #7f7f7f\">               </span>\n",
       "<span style=\"color: #7fbfbf; text-decoration-color: #7fbfbf\">                    </span>           <span style=\"color: #008080; text-decoration-color: #008080; font-weight: bold\">00</span> <span style=\"color: #008080; text-decoration-color: #008080; font-weight: bold\">00</span> <span style=\"color: #008080; text-decoration-color: #008080; font-weight: bold\">00</span> <span style=\"color: #008080; text-decoration-color: #008080; font-weight: bold\">00</span> <span style=\"color: #008080; text-decoration-color: #008080; font-weight: bold\">00</span> <span style=\"color: #008080; text-decoration-color: #008080; font-weight: bold\">00</span> <span style=\"color: #008080; text-decoration-color: #008080; font-weight: bold\">00</span> <span style=\"color: #008080; text-decoration-color: #008080; font-weight: bold\">00</span>                          <span style=\"color: #808000; text-decoration-color: #808000\">......</span>..            <span style=\"color: #7f7f7f; text-decoration-color: #7f7f7f\">               </span>\n",
       "<span style=\"color: #7fbfbf; text-decoration-color: #7fbfbf\">                    </span>         <span style=\"font-weight: bold\">[</span>\u001b<span style=\"font-weight: bold\">[</span><span style=\"color: #008080; text-decoration-color: #008080; font-weight: bold\">0</span>;93mCHG\u001b<span style=\"font-weight: bold\">[</span>0m<span style=\"font-weight: bold\">]</span> Device <span style=\"color: #00ff00; text-decoration-color: #00ff00; font-weight: bold\">7C:0A:3F:7D:CB:CB</span> ManufacturerData.Key: <span style=\"color: #008080; text-decoration-color: #008080; font-weight: bold\">0x0075</span>   <span style=\"color: #7f7f7f; text-decoration-color: #7f7f7f\">               </span>\n",
       "<span style=\"color: #7fbfbf; text-decoration-color: #7fbfbf\">                    </span>         <span style=\"font-weight: bold\">(</span><span style=\"color: #008080; text-decoration-color: #008080; font-weight: bold\">117</span><span style=\"font-weight: bold\">)</span>                                                                  <span style=\"color: #7f7f7f; text-decoration-color: #7f7f7f\">               </span>\n",
       "<span style=\"color: #7fbfbf; text-decoration-color: #7fbfbf\">                    </span>         <span style=\"font-weight: bold\">[</span>\u001b<span style=\"font-weight: bold\">[</span><span style=\"color: #008080; text-decoration-color: #008080; font-weight: bold\">0</span>;93mCHG\u001b<span style=\"font-weight: bold\">[</span>0m<span style=\"font-weight: bold\">]</span> Device <span style=\"color: #00ff00; text-decoration-color: #00ff00; font-weight: bold\">7C:0A:3F:7D:CB:CB</span> ManufacturerData.Value:        <span style=\"color: #7f7f7f; text-decoration-color: #7f7f7f\">               </span>\n",
       "<span style=\"color: #7fbfbf; text-decoration-color: #7fbfbf\">                    </span>           <span style=\"color: #008080; text-decoration-color: #008080; font-weight: bold\">42</span> <span style=\"color: #008080; text-decoration-color: #008080; font-weight: bold\">04</span> <span style=\"color: #008080; text-decoration-color: #008080; font-weight: bold\">01</span> <span style=\"color: #008080; text-decoration-color: #008080; font-weight: bold\">20</span> <span style=\"color: #008080; text-decoration-color: #008080; font-weight: bold\">67</span> <span style=\"color: #008080; text-decoration-color: #008080; font-weight: bold\">21</span> 0d <span style=\"color: #008080; text-decoration-color: #008080; font-weight: bold\">00</span> <span style=\"color: #008080; text-decoration-color: #008080; font-weight: bold\">02</span> <span style=\"color: #008080; text-decoration-color: #008080; font-weight: bold\">01</span> 2b <span style=\"color: #008080; text-decoration-color: #008080; font-weight: bold\">01</span> <span style=\"color: #008080; text-decoration-color: #008080; font-weight: bold\">01</span> <span style=\"color: #008080; text-decoration-color: #008080; font-weight: bold\">00</span> <span style=\"color: #008080; text-decoration-color: #008080; font-weight: bold\">01</span> <span style=\"color: #008080; text-decoration-color: #008080; font-weight: bold\">00</span>  B.. g!<span style=\"color: #808000; text-decoration-color: #808000\">...</span>.+<span style=\"color: #808000; text-decoration-color: #808000\">...</span>..    <span style=\"color: #7f7f7f; text-decoration-color: #7f7f7f\">               </span>\n",
       "<span style=\"color: #7fbfbf; text-decoration-color: #7fbfbf\">                    </span>           <span style=\"color: #008080; text-decoration-color: #008080; font-weight: bold\">00</span> <span style=\"color: #008080; text-decoration-color: #008080; font-weight: bold\">00</span> <span style=\"color: #008080; text-decoration-color: #008080; font-weight: bold\">00</span> <span style=\"color: #008080; text-decoration-color: #008080; font-weight: bold\">00</span> <span style=\"color: #008080; text-decoration-color: #008080; font-weight: bold\">00</span> <span style=\"color: #008080; text-decoration-color: #008080; font-weight: bold\">00</span> <span style=\"color: #008080; text-decoration-color: #008080; font-weight: bold\">00</span> <span style=\"color: #008080; text-decoration-color: #008080; font-weight: bold\">08</span>                          <span style=\"color: #808000; text-decoration-color: #808000\">......</span>..            <span style=\"color: #7f7f7f; text-decoration-color: #7f7f7f\">               </span>\n",
       "<span style=\"color: #7fbfbf; text-decoration-color: #7fbfbf\">                    </span>         \u001b<span style=\"font-weight: bold\">[</span>?2004l                                                                <span style=\"color: #7f7f7f; text-decoration-color: #7f7f7f\">               </span>\n",
       "<span style=\"color: #7fbfbf; text-decoration-color: #7fbfbf\">                    </span>         Attempting to pair with <span style=\"color: #00ff00; text-decoration-color: #00ff00; font-weight: bold\">98:D3:31:00:0A:F6</span>                              <span style=\"color: #7f7f7f; text-decoration-color: #7f7f7f\">               </span>\n",
       "<span style=\"color: #7fbfbf; text-decoration-color: #7fbfbf\">                    </span>         \u001b<span style=\"font-weight: bold\">[</span>?2004h\u001b<span style=\"font-weight: bold\">[</span><span style=\"color: #008080; text-decoration-color: #008080; font-weight: bold\">0</span>;94m<span style=\"font-weight: bold\">[</span>ZX-K22 BT5.<span style=\"color: #008080; text-decoration-color: #008080; font-weight: bold\">1</span><span style=\"font-weight: bold\">]</span>\u001b<span style=\"font-weight: bold\">[</span>0m<span style=\"font-weight: bold\">]</span>                                        <span style=\"color: #7f7f7f; text-decoration-color: #7f7f7f\">               </span>\n",
       "</pre>\n"
      ],
      "text/plain": [
       "\u001b[2;36m                   \u001b[0m\u001b[2;36m \u001b[0m\u001b[32mDEBUG   \u001b[0m \u001b[1;36m2024\u001b[0m-\u001b[1;36m09\u001b[0m-\u001b[1;36m29\u001b[0m \u001b[1;92m17:30:16\u001b[0m,\u001b[1;36m846\u001b[0m - DEBUG - Adding to output:\u001b[1m[\u001b[0m \u001b[1m[\u001b[0m\u001b\u001b[1m[\u001b[0m\u001b[1;36m0\u001b[0m;93mCHG\u001b\u001b[1m[\u001b[0m0m\u001b[1m]\u001b[0m    \u001b]8;id=343488;file:///tmp/ipykernel_16595/415227010.py\u001b\\\u001b[2m415227010.py\u001b[0m\u001b]8;;\u001b\\\u001b[2m:\u001b[0m\u001b]8;id=396328;file:///tmp/ipykernel_16595/415227010.py#31\u001b\\\u001b[2m31\u001b[0m\u001b]8;;\u001b\\\n",
       "\u001b[2;36m                    \u001b[0m         Device \u001b[1;92m98:D3:31:00:0A:F6\u001b[0m Connected: yes                                \u001b[2m               \u001b[0m\n",
       "\u001b[2;36m                    \u001b[0m         \u001b[1m[\u001b[0m\u001b\u001b[1m[\u001b[0m\u001b[1;36m0\u001b[0m;93mCHG\u001b\u001b[1m[\u001b[0m0m\u001b[1m]\u001b[0m Device \u001b[1;92m98:D3:31:00:0A:F6\u001b[0m Bonded: yes                    \u001b[2m               \u001b[0m\n",
       "\u001b[2;36m                    \u001b[0m         \u001b[1m[\u001b[0m\u001b\u001b[1m[\u001b[0m\u001b[1;36m0\u001b[0m;93mCHG\u001b\u001b[1m[\u001b[0m0m\u001b[1m]\u001b[0m Device \u001b[1;92m98:D3:31:00:0A:F6\u001b[0m ServicesResolved: yes          \u001b[2m               \u001b[0m\n",
       "\u001b[2;36m                    \u001b[0m         \u001b[1m[\u001b[0m\u001b\u001b[1m[\u001b[0m\u001b[1;36m0\u001b[0m;93mCHG\u001b\u001b[1m[\u001b[0m0m\u001b[1m]\u001b[0m Device \u001b[1;92m98:D3:31:00:0A:F6\u001b[0m Paired: yes                    \u001b[2m               \u001b[0m\n",
       "\u001b[2;36m                    \u001b[0m         Pairing successful                                                     \u001b[2m               \u001b[0m\n",
       "\u001b[2;36m                    \u001b[0m         \u001b[1m[\u001b[0m\u001b\u001b[1m[\u001b[0m\u001b[1;36m0\u001b[0m;93mCHG\u001b\u001b[1m[\u001b[0m0m\u001b[1m]\u001b[0m Device \u001b[1;92m98:D3:31:00:0A:F6\u001b[0m ServicesResolved: no           \u001b[2m               \u001b[0m\n",
       "\u001b[2;36m                    \u001b[0m         \u001b[1m[\u001b[0m\u001b\u001b[1m[\u001b[0m\u001b[1;36m0\u001b[0m;93mCHG\u001b\u001b[1m[\u001b[0m0m\u001b[1m]\u001b[0m Device \u001b[1;92m98:D3:31:00:0A:F6\u001b[0m Connected: no                  \u001b[2m               \u001b[0m\n",
       "\u001b[2;36m                    \u001b[0m         \u001b[1m[\u001b[0m\u001b\u001b[1m[\u001b[0m\u001b[1;36m0\u001b[0m;93mCHG\u001b\u001b[1m[\u001b[0m0m\u001b[1m]\u001b[0m Device \u001b[1;92m7C:0A:3F:7D:CB:CB\u001b[0m AddressType: public            \u001b[2m               \u001b[0m\n",
       "\u001b[2;36m                    \u001b[0m         \u001b[1m[\u001b[0m\u001b\u001b[1m[\u001b[0m\u001b[1;36m0\u001b[0m;93mCHG\u001b\u001b[1m[\u001b[0m0m\u001b[1m]\u001b[0m Device \u001b[1;92m7C:0A:3F:7D:CB:CB\u001b[0m RSSI: \u001b[1;36m0xffffffb3\u001b[0m \u001b[1m(\u001b[0m\u001b[1;36m-77\u001b[0m\u001b[1m)\u001b[0m         \u001b[2m               \u001b[0m\n",
       "\u001b[2;36m                    \u001b[0m         \u001b[1m[\u001b[0m\u001b\u001b[1m[\u001b[0m\u001b[1;36m0\u001b[0m;93mCHG\u001b\u001b[1m[\u001b[0m0m\u001b[1m]\u001b[0m Device \u001b[1;92m7C:0A:3F:7D:CB:CB\u001b[0m ManufacturerData.Key: \u001b[1;36m0xff19\u001b[0m   \u001b[2m               \u001b[0m\n",
       "\u001b[2;36m                    \u001b[0m         \u001b[1m(\u001b[0m\u001b[1;36m65305\u001b[0m\u001b[1m)\u001b[0m                                                                \u001b[2m               \u001b[0m\n",
       "\u001b[2;36m                    \u001b[0m         \u001b[1m[\u001b[0m\u001b\u001b[1m[\u001b[0m\u001b[1;36m0\u001b[0m;93mCHG\u001b\u001b[1m[\u001b[0m0m\u001b[1m]\u001b[0m Device \u001b[1;92m7C:0A:3F:7D:CB:CB\u001b[0m ManufacturerData.Value:        \u001b[2m               \u001b[0m\n",
       "\u001b[2;36m                    \u001b[0m           \u001b[1;36m00\u001b[0m \u001b[1;36m75\u001b[0m \u001b[1;36m00\u001b[0m \u001b[1;36m09\u001b[0m \u001b[1;36m01\u001b[0m \u001b[1;36m00\u001b[0m \u001b[1;36m00\u001b[0m \u001b[1;36m00\u001b[0m \u001b[1;36m06\u001b[0m \u001b[1;36m01\u001b[0m \u001b[1;36m00\u001b[0m \u001b[1;36m00\u001b[0m \u001b[1;36m00\u001b[0m \u001b[1;36m00\u001b[0m \u001b[1;36m00\u001b[0m \u001b[1;36m00\u001b[0m  .u\u001b[33m...\u001b[0m\u001b[33m...\u001b[0m\u001b[33m...\u001b[0m\u001b[33m...\u001b[0m..    \u001b[2m               \u001b[0m\n",
       "\u001b[2;36m                    \u001b[0m           \u001b[1;36m00\u001b[0m \u001b[1;36m00\u001b[0m \u001b[1;36m00\u001b[0m \u001b[1;36m00\u001b[0m \u001b[1;36m00\u001b[0m \u001b[1;36m00\u001b[0m \u001b[1;36m00\u001b[0m \u001b[1;36m00\u001b[0m                          \u001b[33m...\u001b[0m\u001b[33m...\u001b[0m..            \u001b[2m               \u001b[0m\n",
       "\u001b[2;36m                    \u001b[0m         \u001b[1m[\u001b[0m\u001b\u001b[1m[\u001b[0m\u001b[1;36m0\u001b[0m;93mCHG\u001b\u001b[1m[\u001b[0m0m\u001b[1m]\u001b[0m Device \u001b[1;92m7C:0A:3F:7D:CB:CB\u001b[0m ManufacturerData.Key: \u001b[1;36m0x0075\u001b[0m   \u001b[2m               \u001b[0m\n",
       "\u001b[2;36m                    \u001b[0m         \u001b[1m(\u001b[0m\u001b[1;36m117\u001b[0m\u001b[1m)\u001b[0m                                                                  \u001b[2m               \u001b[0m\n",
       "\u001b[2;36m                    \u001b[0m         \u001b[1m[\u001b[0m\u001b\u001b[1m[\u001b[0m\u001b[1;36m0\u001b[0m;93mCHG\u001b\u001b[1m[\u001b[0m0m\u001b[1m]\u001b[0m Device \u001b[1;92m7C:0A:3F:7D:CB:CB\u001b[0m ManufacturerData.Value:        \u001b[2m               \u001b[0m\n",
       "\u001b[2;36m                    \u001b[0m           \u001b[1;36m42\u001b[0m \u001b[1;36m04\u001b[0m \u001b[1;36m01\u001b[0m \u001b[1;36m20\u001b[0m \u001b[1;36m67\u001b[0m \u001b[1;36m21\u001b[0m 0d \u001b[1;36m00\u001b[0m \u001b[1;36m02\u001b[0m \u001b[1;36m01\u001b[0m 2b \u001b[1;36m01\u001b[0m \u001b[1;36m01\u001b[0m \u001b[1;36m00\u001b[0m \u001b[1;36m01\u001b[0m \u001b[1;36m00\u001b[0m  B.. g!\u001b[33m...\u001b[0m.+\u001b[33m...\u001b[0m..    \u001b[2m               \u001b[0m\n",
       "\u001b[2;36m                    \u001b[0m           \u001b[1;36m00\u001b[0m \u001b[1;36m00\u001b[0m \u001b[1;36m00\u001b[0m \u001b[1;36m00\u001b[0m \u001b[1;36m00\u001b[0m \u001b[1;36m00\u001b[0m \u001b[1;36m00\u001b[0m \u001b[1;36m08\u001b[0m                          \u001b[33m...\u001b[0m\u001b[33m...\u001b[0m..            \u001b[2m               \u001b[0m\n",
       "\u001b[2;36m                    \u001b[0m         \u001b\u001b[1m[\u001b[0m?2004l                                                                \u001b[2m               \u001b[0m\n",
       "\u001b[2;36m                    \u001b[0m         Attempting to pair with \u001b[1;92m98:D3:31:00:0A:F6\u001b[0m                              \u001b[2m               \u001b[0m\n",
       "\u001b[2;36m                    \u001b[0m         \u001b\u001b[1m[\u001b[0m?2004h\u001b\u001b[1m[\u001b[0m\u001b[1;36m0\u001b[0m;94m\u001b[1m[\u001b[0mZX-K22 BT5.\u001b[1;36m1\u001b[0m\u001b[1m]\u001b[0m\u001b\u001b[1m[\u001b[0m0m\u001b[1m]\u001b[0m                                        \u001b[2m               \u001b[0m\n"
      ]
     },
     "metadata": {},
     "output_type": "display_data"
    },
    {
     "name": "stdout",
     "output_type": "stream",
     "text": [
      " [\u001b[0;93mCHG\u001b[0m] Device 98:D3:31:00:0A:F6 Connected: yes\n",
      "[\u001b[0;93mCHG\u001b[0m] Device 98:D3:31:00:0A:F6 Bonded: yes\n",
      "[\u001b[0;93mCHG\u001b[0m] Device 98:D3:31:00:0A:F6 ServicesResolved: yes\n",
      "[\u001b[0;93mCHG\u001b[0m] Device 98:D3:31:00:0A:F6 Paired: yes\n",
      "Pairing successful\n",
      "[\u001b[0;93mCHG\u001b[0m] Device 98:D3:31:00:0A:F6 ServicesResolved: no\n",
      "[\u001b[0;93mCHG\u001b[0m] Device 98:D3:31:00:0A:F6 Connected: no\n",
      "[\u001b[0;93mCHG\u001b[0m] Device 7C:0A:3F:7D:CB:CB AddressType: public\n",
      "[\u001b[0;93mCHG\u001b[0m] Device 7C:0A:3F:7D:CB:CB RSSI: 0xffffffb3 (-77)\n",
      "[\u001b[0;93mCHG\u001b[0m] Device 7C:0A:3F:7D:CB:CB ManufacturerData.Key: 0xff19 (65305)\n",
      "[\u001b[0;93mCHG\u001b[0m] Device 7C:0A:3F:7D:CB:CB ManufacturerData.Value:\n",
      "  00 75 00 09 01 00 00 00 06 01 00 00 00 00 00 00  .u..............\n",
      "  00 00 00 00 00 00 00 00                          ........        \n",
      "[\u001b[0;93mCHG\u001b[0m] Device 7C:0A:3F:7D:CB:CB ManufacturerData.Key: 0x0075 (117)\n",
      "[\u001b[0;93mCHG\u001b[0m] Device 7C:0A:3F:7D:CB:CB ManufacturerData.Value:\n",
      "  42 04 01 20 67 21 0d 00 02 01 2b 01 01 00 01 00  B.. g!....+.....\n",
      "  00 00 00 00 00 00 00 08                          ........        \n",
      "\u001b[?2004l\n",
      "Attempting to pair with 98:D3:31:00:0A:F6\n",
      "\u001b[?2004h\u001b[0;94m[ZX-K22 BT5.1]\u001b[0m\n"
     ]
    }
   ],
   "source": [
    "res=btctl.get_output(f\"connect {dev_mac}\",[\"Connection successful\"],5)\n",
    "print(res)"
   ]
  },
  {
   "cell_type": "code",
   "execution_count": 99,
   "id": "a40e7b21",
   "metadata": {},
   "outputs": [
    {
     "data": {
      "text/html": [
       "<pre style=\"white-space:pre;overflow-x:auto;line-height:normal;font-family:Menlo,'DejaVu Sans Mono',consolas,'Courier New',monospace\"><span style=\"color: #7fbfbf; text-decoration-color: #7fbfbf\">[09/29/24 17:32:00] </span><span style=\"color: #000080; text-decoration-color: #000080\">INFO    </span> <span style=\"color: #008080; text-decoration-color: #008080; font-weight: bold\">2024</span>-<span style=\"color: #008080; text-decoration-color: #008080; font-weight: bold\">09</span>-<span style=\"color: #008080; text-decoration-color: #008080; font-weight: bold\">29</span> <span style=\"color: #00ff00; text-decoration-color: #00ff00; font-weight: bold\">17:32:00</span>,<span style=\"color: #008080; text-decoration-color: #008080; font-weight: bold\">993</span> - INFO - Sending command <span style=\"font-weight: bold\">[</span>scan off<span style=\"font-weight: bold\">]</span> with       <a href=\"file:///tmp/ipykernel_16595/415227010.py\" target=\"_blank\"><span style=\"color: #7f7f7f; text-decoration-color: #7f7f7f\">415227010.py</span></a><span style=\"color: #7f7f7f; text-decoration-color: #7f7f7f\">:</span><a href=\"file:///tmp/ipykernel_16595/415227010.py#23\" target=\"_blank\"><span style=\"color: #7f7f7f; text-decoration-color: #7f7f7f\">23</span></a>\n",
       "<span style=\"color: #7fbfbf; text-decoration-color: #7fbfbf\">                    </span>         <span style=\"color: #808000; text-decoration-color: #808000\">expected</span>=<span style=\"font-weight: bold\">[[</span><span style=\"color: #008000; text-decoration-color: #008000\">'Discovery stopped'</span>, <span style=\"color: #008000; text-decoration-color: #008000\">'Invalid argument'</span>, <span style=\"color: #008000; text-decoration-color: #008000\">'Invalid command'</span>, <span style=\"color: #7f7f7f; text-decoration-color: #7f7f7f\">               </span>\n",
       "<span style=\"color: #7fbfbf; text-decoration-color: #7fbfbf\">                    </span>         <span style=\"color: #008000; text-decoration-color: #008000\">'#'</span>, <span style=\"font-weight: bold\">&lt;</span><span style=\"color: #ff00ff; text-decoration-color: #ff00ff; font-weight: bold\">class</span><span style=\"color: #000000; text-decoration-color: #000000\"> </span><span style=\"color: #008000; text-decoration-color: #008000\">'pexpect.exceptions.EOF'</span><span style=\"font-weight: bold\">&gt;]]</span> and <span style=\"color: #808000; text-decoration-color: #808000\">pause</span>=<span style=\"font-weight: bold\">[</span><span style=\"color: #008080; text-decoration-color: #008080; font-weight: bold\">3</span><span style=\"font-weight: bold\">]</span>                  <span style=\"color: #7f7f7f; text-decoration-color: #7f7f7f\">               </span>\n",
       "</pre>\n"
      ],
      "text/plain": [
       "\u001b[2;36m[09/29/24 17:32:00]\u001b[0m\u001b[2;36m \u001b[0m\u001b[34mINFO    \u001b[0m \u001b[1;36m2024\u001b[0m-\u001b[1;36m09\u001b[0m-\u001b[1;36m29\u001b[0m \u001b[1;92m17:32:00\u001b[0m,\u001b[1;36m993\u001b[0m - INFO - Sending command \u001b[1m[\u001b[0mscan off\u001b[1m]\u001b[0m with       \u001b]8;id=674536;file:///tmp/ipykernel_16595/415227010.py\u001b\\\u001b[2m415227010.py\u001b[0m\u001b]8;;\u001b\\\u001b[2m:\u001b[0m\u001b]8;id=652830;file:///tmp/ipykernel_16595/415227010.py#23\u001b\\\u001b[2m23\u001b[0m\u001b]8;;\u001b\\\n",
       "\u001b[2;36m                    \u001b[0m         \u001b[33mexpected\u001b[0m=\u001b[1m[\u001b[0m\u001b[1m[\u001b[0m\u001b[32m'Discovery stopped'\u001b[0m, \u001b[32m'Invalid argument'\u001b[0m, \u001b[32m'Invalid command'\u001b[0m, \u001b[2m               \u001b[0m\n",
       "\u001b[2;36m                    \u001b[0m         \u001b[32m'#'\u001b[0m, \u001b[1m<\u001b[0m\u001b[1;95mclass\u001b[0m\u001b[39m \u001b[0m\u001b[32m'pexpect.exceptions.EOF'\u001b[0m\u001b[1m>\u001b[0m\u001b[1m]\u001b[0m\u001b[1m]\u001b[0m and \u001b[33mpause\u001b[0m=\u001b[1m[\u001b[0m\u001b[1;36m3\u001b[0m\u001b[1m]\u001b[0m                  \u001b[2m               \u001b[0m\n"
      ]
     },
     "metadata": {},
     "output_type": "display_data"
    },
    {
     "data": {
      "text/html": [
       "<pre style=\"white-space:pre;overflow-x:auto;line-height:normal;font-family:Menlo,'DejaVu Sans Mono',consolas,'Courier New',monospace\"><span style=\"color: #7fbfbf; text-decoration-color: #7fbfbf\">[09/29/24 17:32:01] </span><span style=\"color: #008000; text-decoration-color: #008000\">DEBUG   </span> <span style=\"color: #008080; text-decoration-color: #008080; font-weight: bold\">2024</span>-<span style=\"color: #008080; text-decoration-color: #008080; font-weight: bold\">09</span>-<span style=\"color: #008080; text-decoration-color: #008080; font-weight: bold\">29</span> <span style=\"color: #00ff00; text-decoration-color: #00ff00; font-weight: bold\">17:32:01</span>,<span style=\"color: #008080; text-decoration-color: #008080; font-weight: bold\">001</span> - DEBUG - <span style=\"color: #808000; text-decoration-color: #808000\">expected_index</span>=<span style=\"color: #008080; text-decoration-color: #008080; font-weight: bold\">3</span>                     <a href=\"file:///tmp/ipykernel_16595/415227010.py\" target=\"_blank\"><span style=\"color: #7f7f7f; text-decoration-color: #7f7f7f\">415227010.py</span></a><span style=\"color: #7f7f7f; text-decoration-color: #7f7f7f\">:</span><a href=\"file:///tmp/ipykernel_16595/415227010.py#25\" target=\"_blank\"><span style=\"color: #7f7f7f; text-decoration-color: #7f7f7f\">25</span></a>\n",
       "</pre>\n"
      ],
      "text/plain": [
       "\u001b[2;36m[09/29/24 17:32:01]\u001b[0m\u001b[2;36m \u001b[0m\u001b[32mDEBUG   \u001b[0m \u001b[1;36m2024\u001b[0m-\u001b[1;36m09\u001b[0m-\u001b[1;36m29\u001b[0m \u001b[1;92m17:32:01\u001b[0m,\u001b[1;36m001\u001b[0m - DEBUG - \u001b[33mexpected_index\u001b[0m=\u001b[1;36m3\u001b[0m                     \u001b]8;id=432275;file:///tmp/ipykernel_16595/415227010.py\u001b\\\u001b[2m415227010.py\u001b[0m\u001b]8;;\u001b\\\u001b[2m:\u001b[0m\u001b]8;id=691239;file:///tmp/ipykernel_16595/415227010.py#25\u001b\\\u001b[2m25\u001b[0m\u001b]8;;\u001b\\\n"
      ]
     },
     "metadata": {},
     "output_type": "display_data"
    },
    {
     "data": {
      "text/html": [
       "<pre style=\"white-space:pre;overflow-x:auto;line-height:normal;font-family:Menlo,'DejaVu Sans Mono',consolas,'Courier New',monospace\"><span style=\"color: #7fbfbf; text-decoration-color: #7fbfbf\">                    </span><span style=\"color: #008000; text-decoration-color: #008000\">DEBUG   </span> <span style=\"color: #008080; text-decoration-color: #008080; font-weight: bold\">2024</span>-<span style=\"color: #008080; text-decoration-color: #008080; font-weight: bold\">09</span>-<span style=\"color: #008080; text-decoration-color: #008080; font-weight: bold\">29</span> <span style=\"color: #00ff00; text-decoration-color: #00ff00; font-weight: bold\">17:32:01</span>,<span style=\"color: #008080; text-decoration-color: #008080; font-weight: bold\">005</span> - DEBUG - Adding to output:<span style=\"font-weight: bold\">[</span> Failed to pair:   <a href=\"file:///tmp/ipykernel_16595/415227010.py\" target=\"_blank\"><span style=\"color: #7f7f7f; text-decoration-color: #7f7f7f\">415227010.py</span></a><span style=\"color: #7f7f7f; text-decoration-color: #7f7f7f\">:</span><a href=\"file:///tmp/ipykernel_16595/415227010.py#31\" target=\"_blank\"><span style=\"color: #7f7f7f; text-decoration-color: #7f7f7f\">31</span></a>\n",
       "<span style=\"color: #7fbfbf; text-decoration-color: #7fbfbf\">                    </span>         org.bluez.Error.AlreadyExists                                          <span style=\"color: #7f7f7f; text-decoration-color: #7f7f7f\">               </span>\n",
       "<span style=\"color: #7fbfbf; text-decoration-color: #7fbfbf\">                    </span>         <span style=\"font-weight: bold\">[</span>\u001b<span style=\"font-weight: bold\">[</span><span style=\"color: #008080; text-decoration-color: #008080; font-weight: bold\">0</span>;93mCHG\u001b<span style=\"font-weight: bold\">[</span>0m<span style=\"font-weight: bold\">]</span> Device <span style=\"color: #00ff00; text-decoration-color: #00ff00; font-weight: bold\">7C:0A:3F:7D:CB:CB</span> ManufacturerData.Key: <span style=\"color: #008080; text-decoration-color: #008080; font-weight: bold\">0xff19</span>   <span style=\"color: #7f7f7f; text-decoration-color: #7f7f7f\">               </span>\n",
       "<span style=\"color: #7fbfbf; text-decoration-color: #7fbfbf\">                    </span>         <span style=\"font-weight: bold\">(</span><span style=\"color: #008080; text-decoration-color: #008080; font-weight: bold\">65305</span><span style=\"font-weight: bold\">)</span>                                                                <span style=\"color: #7f7f7f; text-decoration-color: #7f7f7f\">               </span>\n",
       "<span style=\"color: #7fbfbf; text-decoration-color: #7fbfbf\">                    </span>         <span style=\"font-weight: bold\">[</span>\u001b<span style=\"font-weight: bold\">[</span><span style=\"color: #008080; text-decoration-color: #008080; font-weight: bold\">0</span>;93mCHG\u001b<span style=\"font-weight: bold\">[</span>0m<span style=\"font-weight: bold\">]</span> Device <span style=\"color: #00ff00; text-decoration-color: #00ff00; font-weight: bold\">7C:0A:3F:7D:CB:CB</span> ManufacturerData.Value:        <span style=\"color: #7f7f7f; text-decoration-color: #7f7f7f\">               </span>\n",
       "<span style=\"color: #7fbfbf; text-decoration-color: #7fbfbf\">                    </span>           <span style=\"color: #008080; text-decoration-color: #008080; font-weight: bold\">00</span> <span style=\"color: #008080; text-decoration-color: #008080; font-weight: bold\">75</span> <span style=\"color: #008080; text-decoration-color: #008080; font-weight: bold\">00</span> <span style=\"color: #008080; text-decoration-color: #008080; font-weight: bold\">09</span> <span style=\"color: #008080; text-decoration-color: #008080; font-weight: bold\">01</span> <span style=\"color: #008080; text-decoration-color: #008080; font-weight: bold\">00</span> <span style=\"color: #008080; text-decoration-color: #008080; font-weight: bold\">00</span> <span style=\"color: #008080; text-decoration-color: #008080; font-weight: bold\">00</span> <span style=\"color: #008080; text-decoration-color: #008080; font-weight: bold\">06</span> <span style=\"color: #008080; text-decoration-color: #008080; font-weight: bold\">01</span> <span style=\"color: #008080; text-decoration-color: #008080; font-weight: bold\">00</span> <span style=\"color: #008080; text-decoration-color: #008080; font-weight: bold\">00</span> <span style=\"color: #008080; text-decoration-color: #008080; font-weight: bold\">00</span> <span style=\"color: #008080; text-decoration-color: #008080; font-weight: bold\">00</span> <span style=\"color: #008080; text-decoration-color: #008080; font-weight: bold\">00</span> <span style=\"color: #008080; text-decoration-color: #008080; font-weight: bold\">00</span>  .u<span style=\"color: #808000; text-decoration-color: #808000\">............</span>..    <span style=\"color: #7f7f7f; text-decoration-color: #7f7f7f\">               </span>\n",
       "<span style=\"color: #7fbfbf; text-decoration-color: #7fbfbf\">                    </span>           <span style=\"color: #008080; text-decoration-color: #008080; font-weight: bold\">00</span> <span style=\"color: #008080; text-decoration-color: #008080; font-weight: bold\">00</span> <span style=\"color: #008080; text-decoration-color: #008080; font-weight: bold\">00</span> <span style=\"color: #008080; text-decoration-color: #008080; font-weight: bold\">00</span> <span style=\"color: #008080; text-decoration-color: #008080; font-weight: bold\">00</span> <span style=\"color: #008080; text-decoration-color: #008080; font-weight: bold\">00</span> <span style=\"color: #008080; text-decoration-color: #008080; font-weight: bold\">00</span> <span style=\"color: #008080; text-decoration-color: #008080; font-weight: bold\">00</span>                          <span style=\"color: #808000; text-decoration-color: #808000\">......</span>..            <span style=\"color: #7f7f7f; text-decoration-color: #7f7f7f\">               </span>\n",
       "<span style=\"color: #7fbfbf; text-decoration-color: #7fbfbf\">                    </span>         <span style=\"font-weight: bold\">[</span>\u001b<span style=\"font-weight: bold\">[</span><span style=\"color: #008080; text-decoration-color: #008080; font-weight: bold\">0</span>;93mCHG\u001b<span style=\"font-weight: bold\">[</span>0m<span style=\"font-weight: bold\">]</span> Device <span style=\"color: #00ff00; text-decoration-color: #00ff00; font-weight: bold\">7C:0A:3F:7D:CB:CB</span> ManufacturerData.Key: <span style=\"color: #008080; text-decoration-color: #008080; font-weight: bold\">0x0075</span>   <span style=\"color: #7f7f7f; text-decoration-color: #7f7f7f\">               </span>\n",
       "<span style=\"color: #7fbfbf; text-decoration-color: #7fbfbf\">                    </span>         <span style=\"font-weight: bold\">(</span><span style=\"color: #008080; text-decoration-color: #008080; font-weight: bold\">117</span><span style=\"font-weight: bold\">)</span>                                                                  <span style=\"color: #7f7f7f; text-decoration-color: #7f7f7f\">               </span>\n",
       "<span style=\"color: #7fbfbf; text-decoration-color: #7fbfbf\">                    </span>         <span style=\"font-weight: bold\">[</span>\u001b<span style=\"font-weight: bold\">[</span><span style=\"color: #008080; text-decoration-color: #008080; font-weight: bold\">0</span>;93mCHG\u001b<span style=\"font-weight: bold\">[</span>0m<span style=\"font-weight: bold\">]</span> Device <span style=\"color: #00ff00; text-decoration-color: #00ff00; font-weight: bold\">7C:0A:3F:7D:CB:CB</span> ManufacturerData.Value:        <span style=\"color: #7f7f7f; text-decoration-color: #7f7f7f\">               </span>\n",
       "<span style=\"color: #7fbfbf; text-decoration-color: #7fbfbf\">                    </span>           <span style=\"color: #008080; text-decoration-color: #008080; font-weight: bold\">42</span> <span style=\"color: #008080; text-decoration-color: #008080; font-weight: bold\">04</span> <span style=\"color: #008080; text-decoration-color: #008080; font-weight: bold\">01</span> <span style=\"color: #008080; text-decoration-color: #008080; font-weight: bold\">01</span> <span style=\"color: #008080; text-decoration-color: #008080; font-weight: bold\">67</span> 7c 0a 3f 7d cb cb 7e 0a 3f 7d cb  B<span style=\"color: #808000; text-decoration-color: #808000\">...</span>g|.?<span style=\"font-weight: bold\">}</span>..~.?<span style=\"font-weight: bold\">}</span>.    <span style=\"color: #7f7f7f; text-decoration-color: #7f7f7f\">               </span>\n",
       "<span style=\"color: #7fbfbf; text-decoration-color: #7fbfbf\">                    </span>           ca <span style=\"color: #008080; text-decoration-color: #008080; font-weight: bold\">01</span> <span style=\"color: #008080; text-decoration-color: #008080; font-weight: bold\">00</span> <span style=\"color: #008080; text-decoration-color: #008080; font-weight: bold\">00</span> <span style=\"color: #008080; text-decoration-color: #008080; font-weight: bold\">00</span> <span style=\"color: #008080; text-decoration-color: #008080; font-weight: bold\">00</span> <span style=\"color: #008080; text-decoration-color: #008080; font-weight: bold\">00</span> <span style=\"color: #008080; text-decoration-color: #008080; font-weight: bold\">00</span>                          <span style=\"color: #808000; text-decoration-color: #808000\">......</span>..            <span style=\"color: #7f7f7f; text-decoration-color: #7f7f7f\">               </span>\n",
       "<span style=\"color: #7fbfbf; text-decoration-color: #7fbfbf\">                    </span>         \u001b<span style=\"font-weight: bold\">[</span>?2004l                                                                <span style=\"color: #7f7f7f; text-decoration-color: #7f7f7f\">               </span>\n",
       "<span style=\"color: #7fbfbf; text-decoration-color: #7fbfbf\">                    </span>         Attempting to connect to <span style=\"color: #00ff00; text-decoration-color: #00ff00; font-weight: bold\">98:D3:31:00:0A:F6</span>                             <span style=\"color: #7f7f7f; text-decoration-color: #7f7f7f\">               </span>\n",
       "<span style=\"color: #7fbfbf; text-decoration-color: #7fbfbf\">                    </span>         \u001b<span style=\"font-weight: bold\">[</span>?2004h\u001b<span style=\"font-weight: bold\">[</span><span style=\"color: #008080; text-decoration-color: #008080; font-weight: bold\">0</span>;94m<span style=\"font-weight: bold\">[</span>ZX-K22 BT5.<span style=\"color: #008080; text-decoration-color: #008080; font-weight: bold\">1</span><span style=\"font-weight: bold\">]</span>\u001b<span style=\"font-weight: bold\">[</span>0m<span style=\"font-weight: bold\">]</span>                                        <span style=\"color: #7f7f7f; text-decoration-color: #7f7f7f\">               </span>\n",
       "</pre>\n"
      ],
      "text/plain": [
       "\u001b[2;36m                   \u001b[0m\u001b[2;36m \u001b[0m\u001b[32mDEBUG   \u001b[0m \u001b[1;36m2024\u001b[0m-\u001b[1;36m09\u001b[0m-\u001b[1;36m29\u001b[0m \u001b[1;92m17:32:01\u001b[0m,\u001b[1;36m005\u001b[0m - DEBUG - Adding to output:\u001b[1m[\u001b[0m Failed to pair:   \u001b]8;id=73663;file:///tmp/ipykernel_16595/415227010.py\u001b\\\u001b[2m415227010.py\u001b[0m\u001b]8;;\u001b\\\u001b[2m:\u001b[0m\u001b]8;id=991451;file:///tmp/ipykernel_16595/415227010.py#31\u001b\\\u001b[2m31\u001b[0m\u001b]8;;\u001b\\\n",
       "\u001b[2;36m                    \u001b[0m         org.bluez.Error.AlreadyExists                                          \u001b[2m               \u001b[0m\n",
       "\u001b[2;36m                    \u001b[0m         \u001b[1m[\u001b[0m\u001b\u001b[1m[\u001b[0m\u001b[1;36m0\u001b[0m;93mCHG\u001b\u001b[1m[\u001b[0m0m\u001b[1m]\u001b[0m Device \u001b[1;92m7C:0A:3F:7D:CB:CB\u001b[0m ManufacturerData.Key: \u001b[1;36m0xff19\u001b[0m   \u001b[2m               \u001b[0m\n",
       "\u001b[2;36m                    \u001b[0m         \u001b[1m(\u001b[0m\u001b[1;36m65305\u001b[0m\u001b[1m)\u001b[0m                                                                \u001b[2m               \u001b[0m\n",
       "\u001b[2;36m                    \u001b[0m         \u001b[1m[\u001b[0m\u001b\u001b[1m[\u001b[0m\u001b[1;36m0\u001b[0m;93mCHG\u001b\u001b[1m[\u001b[0m0m\u001b[1m]\u001b[0m Device \u001b[1;92m7C:0A:3F:7D:CB:CB\u001b[0m ManufacturerData.Value:        \u001b[2m               \u001b[0m\n",
       "\u001b[2;36m                    \u001b[0m           \u001b[1;36m00\u001b[0m \u001b[1;36m75\u001b[0m \u001b[1;36m00\u001b[0m \u001b[1;36m09\u001b[0m \u001b[1;36m01\u001b[0m \u001b[1;36m00\u001b[0m \u001b[1;36m00\u001b[0m \u001b[1;36m00\u001b[0m \u001b[1;36m06\u001b[0m \u001b[1;36m01\u001b[0m \u001b[1;36m00\u001b[0m \u001b[1;36m00\u001b[0m \u001b[1;36m00\u001b[0m \u001b[1;36m00\u001b[0m \u001b[1;36m00\u001b[0m \u001b[1;36m00\u001b[0m  .u\u001b[33m...\u001b[0m\u001b[33m...\u001b[0m\u001b[33m...\u001b[0m\u001b[33m...\u001b[0m..    \u001b[2m               \u001b[0m\n",
       "\u001b[2;36m                    \u001b[0m           \u001b[1;36m00\u001b[0m \u001b[1;36m00\u001b[0m \u001b[1;36m00\u001b[0m \u001b[1;36m00\u001b[0m \u001b[1;36m00\u001b[0m \u001b[1;36m00\u001b[0m \u001b[1;36m00\u001b[0m \u001b[1;36m00\u001b[0m                          \u001b[33m...\u001b[0m\u001b[33m...\u001b[0m..            \u001b[2m               \u001b[0m\n",
       "\u001b[2;36m                    \u001b[0m         \u001b[1m[\u001b[0m\u001b\u001b[1m[\u001b[0m\u001b[1;36m0\u001b[0m;93mCHG\u001b\u001b[1m[\u001b[0m0m\u001b[1m]\u001b[0m Device \u001b[1;92m7C:0A:3F:7D:CB:CB\u001b[0m ManufacturerData.Key: \u001b[1;36m0x0075\u001b[0m   \u001b[2m               \u001b[0m\n",
       "\u001b[2;36m                    \u001b[0m         \u001b[1m(\u001b[0m\u001b[1;36m117\u001b[0m\u001b[1m)\u001b[0m                                                                  \u001b[2m               \u001b[0m\n",
       "\u001b[2;36m                    \u001b[0m         \u001b[1m[\u001b[0m\u001b\u001b[1m[\u001b[0m\u001b[1;36m0\u001b[0m;93mCHG\u001b\u001b[1m[\u001b[0m0m\u001b[1m]\u001b[0m Device \u001b[1;92m7C:0A:3F:7D:CB:CB\u001b[0m ManufacturerData.Value:        \u001b[2m               \u001b[0m\n",
       "\u001b[2;36m                    \u001b[0m           \u001b[1;36m42\u001b[0m \u001b[1;36m04\u001b[0m \u001b[1;36m01\u001b[0m \u001b[1;36m01\u001b[0m \u001b[1;36m67\u001b[0m 7c 0a 3f 7d cb cb 7e 0a 3f 7d cb  B\u001b[33m...\u001b[0mg|.?\u001b[1m}\u001b[0m..~.?\u001b[1m}\u001b[0m.    \u001b[2m               \u001b[0m\n",
       "\u001b[2;36m                    \u001b[0m           ca \u001b[1;36m01\u001b[0m \u001b[1;36m00\u001b[0m \u001b[1;36m00\u001b[0m \u001b[1;36m00\u001b[0m \u001b[1;36m00\u001b[0m \u001b[1;36m00\u001b[0m \u001b[1;36m00\u001b[0m                          \u001b[33m...\u001b[0m\u001b[33m...\u001b[0m..            \u001b[2m               \u001b[0m\n",
       "\u001b[2;36m                    \u001b[0m         \u001b\u001b[1m[\u001b[0m?2004l                                                                \u001b[2m               \u001b[0m\n",
       "\u001b[2;36m                    \u001b[0m         Attempting to connect to \u001b[1;92m98:D3:31:00:0A:F6\u001b[0m                             \u001b[2m               \u001b[0m\n",
       "\u001b[2;36m                    \u001b[0m         \u001b\u001b[1m[\u001b[0m?2004h\u001b\u001b[1m[\u001b[0m\u001b[1;36m0\u001b[0m;94m\u001b[1m[\u001b[0mZX-K22 BT5.\u001b[1;36m1\u001b[0m\u001b[1m]\u001b[0m\u001b\u001b[1m[\u001b[0m0m\u001b[1m]\u001b[0m                                        \u001b[2m               \u001b[0m\n"
      ]
     },
     "metadata": {},
     "output_type": "display_data"
    },
    {
     "name": "stdout",
     "output_type": "stream",
     "text": [
      " Failed to pair: org.bluez.Error.AlreadyExists\n",
      "[\u001b[0;93mCHG\u001b[0m] Device 7C:0A:3F:7D:CB:CB ManufacturerData.Key: 0xff19 (65305)\n",
      "[\u001b[0;93mCHG\u001b[0m] Device 7C:0A:3F:7D:CB:CB ManufacturerData.Value:\n",
      "  00 75 00 09 01 00 00 00 06 01 00 00 00 00 00 00  .u..............\n",
      "  00 00 00 00 00 00 00 00                          ........        \n",
      "[\u001b[0;93mCHG\u001b[0m] Device 7C:0A:3F:7D:CB:CB ManufacturerData.Key: 0x0075 (117)\n",
      "[\u001b[0;93mCHG\u001b[0m] Device 7C:0A:3F:7D:CB:CB ManufacturerData.Value:\n",
      "  42 04 01 01 67 7c 0a 3f 7d cb cb 7e 0a 3f 7d cb  B...g|.?}..~.?}.\n",
      "  ca 01 00 00 00 00 00 00                          ........        \n",
      "\u001b[?2004l\n",
      "Attempting to connect to 98:D3:31:00:0A:F6\n",
      "\u001b[?2004h\u001b[0;94m[ZX-K22 BT5.1]\u001b[0m\n"
     ]
    }
   ],
   "source": [
    "try:\n",
    "    res=btctl.get_output(\"scan off\",[\"Discovery stopped\"])\n",
    "    print(res)\n",
    "except Exception as e:\n",
    "    print(\"It did not scan\")"
   ]
  },
  {
   "cell_type": "markdown",
   "id": "4bea1c72-ed3a-4241-ad2e-5e441fee3001",
   "metadata": {},
   "source": [
    "Another round on devices to see the situation"
   ]
  },
  {
   "cell_type": "code",
   "execution_count": 105,
   "id": "ca6937cd-3943-47f7-b6be-8429f975964c",
   "metadata": {},
   "outputs": [
    {
     "data": {
      "text/html": [
       "<pre style=\"white-space:pre;overflow-x:auto;line-height:normal;font-family:Menlo,'DejaVu Sans Mono',consolas,'Courier New',monospace\"><span style=\"color: #7fbfbf; text-decoration-color: #7fbfbf\">[09/29/24 17:52:25] </span><span style=\"color: #000080; text-decoration-color: #000080\">INFO    </span> <span style=\"color: #008080; text-decoration-color: #008080; font-weight: bold\">2024</span>-<span style=\"color: #008080; text-decoration-color: #008080; font-weight: bold\">09</span>-<span style=\"color: #008080; text-decoration-color: #008080; font-weight: bold\">29</span> <span style=\"color: #00ff00; text-decoration-color: #00ff00; font-weight: bold\">17:52:25</span>,<span style=\"color: #008080; text-decoration-color: #008080; font-weight: bold\">727</span> - INFO - Sending command <span style=\"font-weight: bold\">[</span>devices Connected<span style=\"font-weight: bold\">]</span>  <a href=\"file:///tmp/ipykernel_16595/1292906133.py\" target=\"_blank\"><span style=\"color: #7f7f7f; text-decoration-color: #7f7f7f\">1292906133.py</span></a><span style=\"color: #7f7f7f; text-decoration-color: #7f7f7f\">:</span><a href=\"file:///tmp/ipykernel_16595/1292906133.py#22\" target=\"_blank\"><span style=\"color: #7f7f7f; text-decoration-color: #7f7f7f\">22</span></a>\n",
       "<span style=\"color: #7fbfbf; text-decoration-color: #7fbfbf\">                    </span>         with <span style=\"color: #808000; text-decoration-color: #808000\">expected</span>=<span style=\"font-weight: bold\">[[</span><span style=\"color: #008000; text-decoration-color: #008000\">'Invalid argument'</span>, <span style=\"color: #008000; text-decoration-color: #008000\">'Invalid command'</span>, <span style=\"color: #008000; text-decoration-color: #008000\">'#'</span>, <span style=\"font-weight: bold\">&lt;</span><span style=\"color: #ff00ff; text-decoration-color: #ff00ff; font-weight: bold\">class</span><span style=\"color: #000000; text-decoration-color: #000000\"> </span>   <span style=\"color: #7f7f7f; text-decoration-color: #7f7f7f\">                </span>\n",
       "<span style=\"color: #7fbfbf; text-decoration-color: #7fbfbf\">                    </span>         <span style=\"color: #008000; text-decoration-color: #008000\">'pexpect.exceptions.EOF'</span><span style=\"font-weight: bold\">&gt;]]</span> and <span style=\"color: #808000; text-decoration-color: #808000\">pause</span>=<span style=\"font-weight: bold\">[</span><span style=\"color: #008080; text-decoration-color: #008080; font-weight: bold\">3</span><span style=\"font-weight: bold\">]</span>                             <span style=\"color: #7f7f7f; text-decoration-color: #7f7f7f\">                </span>\n",
       "</pre>\n"
      ],
      "text/plain": [
       "\u001b[2;36m[09/29/24 17:52:25]\u001b[0m\u001b[2;36m \u001b[0m\u001b[34mINFO    \u001b[0m \u001b[1;36m2024\u001b[0m-\u001b[1;36m09\u001b[0m-\u001b[1;36m29\u001b[0m \u001b[1;92m17:52:25\u001b[0m,\u001b[1;36m727\u001b[0m - INFO - Sending command \u001b[1m[\u001b[0mdevices Connected\u001b[1m]\u001b[0m  \u001b]8;id=345142;file:///tmp/ipykernel_16595/1292906133.py\u001b\\\u001b[2m1292906133.py\u001b[0m\u001b]8;;\u001b\\\u001b[2m:\u001b[0m\u001b]8;id=761251;file:///tmp/ipykernel_16595/1292906133.py#22\u001b\\\u001b[2m22\u001b[0m\u001b]8;;\u001b\\\n",
       "\u001b[2;36m                    \u001b[0m         with \u001b[33mexpected\u001b[0m=\u001b[1m[\u001b[0m\u001b[1m[\u001b[0m\u001b[32m'Invalid argument'\u001b[0m, \u001b[32m'Invalid command'\u001b[0m, \u001b[32m'#'\u001b[0m, \u001b[1m<\u001b[0m\u001b[1;95mclass\u001b[0m\u001b[39m \u001b[0m   \u001b[2m                \u001b[0m\n",
       "\u001b[2;36m                    \u001b[0m         \u001b[32m'pexpect.exceptions.EOF'\u001b[0m\u001b[1m>\u001b[0m\u001b[1m]\u001b[0m\u001b[1m]\u001b[0m and \u001b[33mpause\u001b[0m=\u001b[1m[\u001b[0m\u001b[1;36m3\u001b[0m\u001b[1m]\u001b[0m                             \u001b[2m                \u001b[0m\n"
      ]
     },
     "metadata": {},
     "output_type": "display_data"
    },
    {
     "data": {
      "text/html": [
       "<pre style=\"white-space:pre;overflow-x:auto;line-height:normal;font-family:Menlo,'DejaVu Sans Mono',consolas,'Courier New',monospace\"><span style=\"color: #7fbfbf; text-decoration-color: #7fbfbf\">                    </span><span style=\"color: #008000; text-decoration-color: #008000\">DEBUG   </span> <span style=\"color: #008080; text-decoration-color: #008080; font-weight: bold\">2024</span>-<span style=\"color: #008080; text-decoration-color: #008080; font-weight: bold\">09</span>-<span style=\"color: #008080; text-decoration-color: #008080; font-weight: bold\">29</span> <span style=\"color: #00ff00; text-decoration-color: #00ff00; font-weight: bold\">17:52:25</span>,<span style=\"color: #008080; text-decoration-color: #008080; font-weight: bold\">735</span> - DEBUG - <span style=\"color: #808000; text-decoration-color: #808000\">expected_index</span>=<span style=\"color: #008080; text-decoration-color: #008080; font-weight: bold\">2</span>                    <a href=\"file:///tmp/ipykernel_16595/1292906133.py\" target=\"_blank\"><span style=\"color: #7f7f7f; text-decoration-color: #7f7f7f\">1292906133.py</span></a><span style=\"color: #7f7f7f; text-decoration-color: #7f7f7f\">:</span><a href=\"file:///tmp/ipykernel_16595/1292906133.py#24\" target=\"_blank\"><span style=\"color: #7f7f7f; text-decoration-color: #7f7f7f\">24</span></a>\n",
       "</pre>\n"
      ],
      "text/plain": [
       "\u001b[2;36m                   \u001b[0m\u001b[2;36m \u001b[0m\u001b[32mDEBUG   \u001b[0m \u001b[1;36m2024\u001b[0m-\u001b[1;36m09\u001b[0m-\u001b[1;36m29\u001b[0m \u001b[1;92m17:52:25\u001b[0m,\u001b[1;36m735\u001b[0m - DEBUG - \u001b[33mexpected_index\u001b[0m=\u001b[1;36m2\u001b[0m                    \u001b]8;id=742827;file:///tmp/ipykernel_16595/1292906133.py\u001b\\\u001b[2m1292906133.py\u001b[0m\u001b]8;;\u001b\\\u001b[2m:\u001b[0m\u001b]8;id=544014;file:///tmp/ipykernel_16595/1292906133.py#24\u001b\\\u001b[2m24\u001b[0m\u001b]8;;\u001b\\\n"
      ]
     },
     "metadata": {},
     "output_type": "display_data"
    },
    {
     "data": {
      "text/html": [
       "<pre style=\"white-space:pre;overflow-x:auto;line-height:normal;font-family:Menlo,'DejaVu Sans Mono',consolas,'Courier New',monospace\"><span style=\"color: #7fbfbf; text-decoration-color: #7fbfbf\">                    </span><span style=\"color: #008000; text-decoration-color: #008000\">DEBUG   </span> <span style=\"color: #008080; text-decoration-color: #008080; font-weight: bold\">2024</span>-<span style=\"color: #008080; text-decoration-color: #008080; font-weight: bold\">09</span>-<span style=\"color: #008080; text-decoration-color: #008080; font-weight: bold\">29</span> <span style=\"color: #00ff00; text-decoration-color: #00ff00; font-weight: bold\">17:52:25</span>,<span style=\"color: #008080; text-decoration-color: #008080; font-weight: bold\">738</span> - DEBUG - Adding to output:<span style=\"font-weight: bold\">[</span> \u001b<span style=\"font-weight: bold\">[</span>?2004l          <a href=\"file:///tmp/ipykernel_16595/1292906133.py\" target=\"_blank\"><span style=\"color: #7f7f7f; text-decoration-color: #7f7f7f\">1292906133.py</span></a><span style=\"color: #7f7f7f; text-decoration-color: #7f7f7f\">:</span><a href=\"file:///tmp/ipykernel_16595/1292906133.py#30\" target=\"_blank\"><span style=\"color: #7f7f7f; text-decoration-color: #7f7f7f\">30</span></a>\n",
       "<span style=\"color: #7fbfbf; text-decoration-color: #7fbfbf\">                    </span>         Device <span style=\"color: #00ff00; text-decoration-color: #00ff00; font-weight: bold\">98:D3:31:00:0A:F6</span> Philips TAH4205                              <span style=\"color: #7f7f7f; text-decoration-color: #7f7f7f\">                </span>\n",
       "<span style=\"color: #7fbfbf; text-decoration-color: #7fbfbf\">                    </span>         Device <span style=\"color: #00ff00; text-decoration-color: #00ff00; font-weight: bold\">E4:D7:00:02:73:8C</span> ZX-K22 BT5.<span style=\"color: #008080; text-decoration-color: #008080; font-weight: bold\">1</span>                                 <span style=\"color: #7f7f7f; text-decoration-color: #7f7f7f\">                </span>\n",
       "<span style=\"color: #7fbfbf; text-decoration-color: #7fbfbf\">                    </span>         \u001b<span style=\"font-weight: bold\">[</span>?2004h\u001b<span style=\"font-weight: bold\">[</span><span style=\"color: #008080; text-decoration-color: #008080; font-weight: bold\">0</span>;94m<span style=\"font-weight: bold\">[</span>Philips TAH4205<span style=\"font-weight: bold\">]</span>\u001b<span style=\"font-weight: bold\">[</span>0m<span style=\"font-weight: bold\">]</span>                                    <span style=\"color: #7f7f7f; text-decoration-color: #7f7f7f\">                </span>\n",
       "</pre>\n"
      ],
      "text/plain": [
       "\u001b[2;36m                   \u001b[0m\u001b[2;36m \u001b[0m\u001b[32mDEBUG   \u001b[0m \u001b[1;36m2024\u001b[0m-\u001b[1;36m09\u001b[0m-\u001b[1;36m29\u001b[0m \u001b[1;92m17:52:25\u001b[0m,\u001b[1;36m738\u001b[0m - DEBUG - Adding to output:\u001b[1m[\u001b[0m \u001b\u001b[1m[\u001b[0m?2004l          \u001b]8;id=64188;file:///tmp/ipykernel_16595/1292906133.py\u001b\\\u001b[2m1292906133.py\u001b[0m\u001b]8;;\u001b\\\u001b[2m:\u001b[0m\u001b]8;id=686981;file:///tmp/ipykernel_16595/1292906133.py#30\u001b\\\u001b[2m30\u001b[0m\u001b]8;;\u001b\\\n",
       "\u001b[2;36m                    \u001b[0m         Device \u001b[1;92m98:D3:31:00:0A:F6\u001b[0m Philips TAH4205                              \u001b[2m                \u001b[0m\n",
       "\u001b[2;36m                    \u001b[0m         Device \u001b[1;92mE4:D7:00:02:73:8C\u001b[0m ZX-K22 BT5.\u001b[1;36m1\u001b[0m                                 \u001b[2m                \u001b[0m\n",
       "\u001b[2;36m                    \u001b[0m         \u001b\u001b[1m[\u001b[0m?2004h\u001b\u001b[1m[\u001b[0m\u001b[1;36m0\u001b[0m;94m\u001b[1m[\u001b[0mPhilips TAH4205\u001b[1m]\u001b[0m\u001b\u001b[1m[\u001b[0m0m\u001b[1m]\u001b[0m                                    \u001b[2m                \u001b[0m\n"
      ]
     },
     "metadata": {},
     "output_type": "display_data"
    },
    {
     "name": "stdout",
     "output_type": "stream",
     "text": [
      " \u001b[?2004l\n",
      "Device 98:D3:31:00:0A:F6 Philips TAH4205\n",
      "Device E4:D7:00:02:73:8C ZX-K22 BT5.1\n",
      "\u001b[?2004h\u001b[0;94m[Philips TAH4205]\u001b[0m\n"
     ]
    },
    {
     "data": {
      "text/html": [
       "<pre style=\"white-space:pre;overflow-x:auto;line-height:normal;font-family:Menlo,'DejaVu Sans Mono',consolas,'Courier New',monospace\"><span style=\"color: #7fbfbf; text-decoration-color: #7fbfbf\">[09/29/24 17:52:28] </span><span style=\"color: #000080; text-decoration-color: #000080\">INFO    </span> <span style=\"color: #008080; text-decoration-color: #008080; font-weight: bold\">2024</span>-<span style=\"color: #008080; text-decoration-color: #008080; font-weight: bold\">09</span>-<span style=\"color: #008080; text-decoration-color: #008080; font-weight: bold\">29</span> <span style=\"color: #00ff00; text-decoration-color: #00ff00; font-weight: bold\">17:52:28</span>,<span style=\"color: #008080; text-decoration-color: #008080; font-weight: bold\">793</span> - INFO - Sending command <span style=\"font-weight: bold\">[</span>devices Trusted<span style=\"font-weight: bold\">]</span>    <a href=\"file:///tmp/ipykernel_16595/1292906133.py\" target=\"_blank\"><span style=\"color: #7f7f7f; text-decoration-color: #7f7f7f\">1292906133.py</span></a><span style=\"color: #7f7f7f; text-decoration-color: #7f7f7f\">:</span><a href=\"file:///tmp/ipykernel_16595/1292906133.py#22\" target=\"_blank\"><span style=\"color: #7f7f7f; text-decoration-color: #7f7f7f\">22</span></a>\n",
       "<span style=\"color: #7fbfbf; text-decoration-color: #7fbfbf\">                    </span>         with <span style=\"color: #808000; text-decoration-color: #808000\">expected</span>=<span style=\"font-weight: bold\">[[</span><span style=\"color: #008000; text-decoration-color: #008000\">'Invalid argument'</span>, <span style=\"color: #008000; text-decoration-color: #008000\">'Invalid command'</span>, <span style=\"color: #008000; text-decoration-color: #008000\">'#'</span>, <span style=\"font-weight: bold\">&lt;</span><span style=\"color: #ff00ff; text-decoration-color: #ff00ff; font-weight: bold\">class</span><span style=\"color: #000000; text-decoration-color: #000000\"> </span>   <span style=\"color: #7f7f7f; text-decoration-color: #7f7f7f\">                </span>\n",
       "<span style=\"color: #7fbfbf; text-decoration-color: #7fbfbf\">                    </span>         <span style=\"color: #008000; text-decoration-color: #008000\">'pexpect.exceptions.EOF'</span><span style=\"font-weight: bold\">&gt;]]</span> and <span style=\"color: #808000; text-decoration-color: #808000\">pause</span>=<span style=\"font-weight: bold\">[</span><span style=\"color: #008080; text-decoration-color: #008080; font-weight: bold\">3</span><span style=\"font-weight: bold\">]</span>                             <span style=\"color: #7f7f7f; text-decoration-color: #7f7f7f\">                </span>\n",
       "</pre>\n"
      ],
      "text/plain": [
       "\u001b[2;36m[09/29/24 17:52:28]\u001b[0m\u001b[2;36m \u001b[0m\u001b[34mINFO    \u001b[0m \u001b[1;36m2024\u001b[0m-\u001b[1;36m09\u001b[0m-\u001b[1;36m29\u001b[0m \u001b[1;92m17:52:28\u001b[0m,\u001b[1;36m793\u001b[0m - INFO - Sending command \u001b[1m[\u001b[0mdevices Trusted\u001b[1m]\u001b[0m    \u001b]8;id=121023;file:///tmp/ipykernel_16595/1292906133.py\u001b\\\u001b[2m1292906133.py\u001b[0m\u001b]8;;\u001b\\\u001b[2m:\u001b[0m\u001b]8;id=701895;file:///tmp/ipykernel_16595/1292906133.py#22\u001b\\\u001b[2m22\u001b[0m\u001b]8;;\u001b\\\n",
       "\u001b[2;36m                    \u001b[0m         with \u001b[33mexpected\u001b[0m=\u001b[1m[\u001b[0m\u001b[1m[\u001b[0m\u001b[32m'Invalid argument'\u001b[0m, \u001b[32m'Invalid command'\u001b[0m, \u001b[32m'#'\u001b[0m, \u001b[1m<\u001b[0m\u001b[1;95mclass\u001b[0m\u001b[39m \u001b[0m   \u001b[2m                \u001b[0m\n",
       "\u001b[2;36m                    \u001b[0m         \u001b[32m'pexpect.exceptions.EOF'\u001b[0m\u001b[1m>\u001b[0m\u001b[1m]\u001b[0m\u001b[1m]\u001b[0m and \u001b[33mpause\u001b[0m=\u001b[1m[\u001b[0m\u001b[1;36m3\u001b[0m\u001b[1m]\u001b[0m                             \u001b[2m                \u001b[0m\n"
      ]
     },
     "metadata": {},
     "output_type": "display_data"
    },
    {
     "data": {
      "text/html": [
       "<pre style=\"white-space:pre;overflow-x:auto;line-height:normal;font-family:Menlo,'DejaVu Sans Mono',consolas,'Courier New',monospace\"><span style=\"color: #7fbfbf; text-decoration-color: #7fbfbf\">                    </span><span style=\"color: #008000; text-decoration-color: #008000\">DEBUG   </span> <span style=\"color: #008080; text-decoration-color: #008080; font-weight: bold\">2024</span>-<span style=\"color: #008080; text-decoration-color: #008080; font-weight: bold\">09</span>-<span style=\"color: #008080; text-decoration-color: #008080; font-weight: bold\">29</span> <span style=\"color: #00ff00; text-decoration-color: #00ff00; font-weight: bold\">17:52:28</span>,<span style=\"color: #008080; text-decoration-color: #008080; font-weight: bold\">799</span> - DEBUG - <span style=\"color: #808000; text-decoration-color: #808000\">expected_index</span>=<span style=\"color: #008080; text-decoration-color: #008080; font-weight: bold\">2</span>                    <a href=\"file:///tmp/ipykernel_16595/1292906133.py\" target=\"_blank\"><span style=\"color: #7f7f7f; text-decoration-color: #7f7f7f\">1292906133.py</span></a><span style=\"color: #7f7f7f; text-decoration-color: #7f7f7f\">:</span><a href=\"file:///tmp/ipykernel_16595/1292906133.py#24\" target=\"_blank\"><span style=\"color: #7f7f7f; text-decoration-color: #7f7f7f\">24</span></a>\n",
       "</pre>\n"
      ],
      "text/plain": [
       "\u001b[2;36m                   \u001b[0m\u001b[2;36m \u001b[0m\u001b[32mDEBUG   \u001b[0m \u001b[1;36m2024\u001b[0m-\u001b[1;36m09\u001b[0m-\u001b[1;36m29\u001b[0m \u001b[1;92m17:52:28\u001b[0m,\u001b[1;36m799\u001b[0m - DEBUG - \u001b[33mexpected_index\u001b[0m=\u001b[1;36m2\u001b[0m                    \u001b]8;id=533376;file:///tmp/ipykernel_16595/1292906133.py\u001b\\\u001b[2m1292906133.py\u001b[0m\u001b]8;;\u001b\\\u001b[2m:\u001b[0m\u001b]8;id=553042;file:///tmp/ipykernel_16595/1292906133.py#24\u001b\\\u001b[2m24\u001b[0m\u001b]8;;\u001b\\\n"
      ]
     },
     "metadata": {},
     "output_type": "display_data"
    },
    {
     "data": {
      "text/html": [
       "<pre style=\"white-space:pre;overflow-x:auto;line-height:normal;font-family:Menlo,'DejaVu Sans Mono',consolas,'Courier New',monospace\"><span style=\"color: #7fbfbf; text-decoration-color: #7fbfbf\">                    </span><span style=\"color: #008000; text-decoration-color: #008000\">DEBUG   </span> <span style=\"color: #008080; text-decoration-color: #008080; font-weight: bold\">2024</span>-<span style=\"color: #008080; text-decoration-color: #008080; font-weight: bold\">09</span>-<span style=\"color: #008080; text-decoration-color: #008080; font-weight: bold\">29</span> <span style=\"color: #00ff00; text-decoration-color: #00ff00; font-weight: bold\">17:52:28</span>,<span style=\"color: #008080; text-decoration-color: #008080; font-weight: bold\">800</span> - DEBUG - Adding to output:<span style=\"font-weight: bold\">[</span> \u001b<span style=\"font-weight: bold\">[</span>?2004l          <a href=\"file:///tmp/ipykernel_16595/1292906133.py\" target=\"_blank\"><span style=\"color: #7f7f7f; text-decoration-color: #7f7f7f\">1292906133.py</span></a><span style=\"color: #7f7f7f; text-decoration-color: #7f7f7f\">:</span><a href=\"file:///tmp/ipykernel_16595/1292906133.py#30\" target=\"_blank\"><span style=\"color: #7f7f7f; text-decoration-color: #7f7f7f\">30</span></a>\n",
       "<span style=\"color: #7fbfbf; text-decoration-color: #7fbfbf\">                    </span>         Device <span style=\"color: #00ff00; text-decoration-color: #00ff00; font-weight: bold\">E4:D7:00:02:73:8C</span> ZX-K22 BT5.<span style=\"color: #008080; text-decoration-color: #008080; font-weight: bold\">1</span>                                 <span style=\"color: #7f7f7f; text-decoration-color: #7f7f7f\">                </span>\n",
       "<span style=\"color: #7fbfbf; text-decoration-color: #7fbfbf\">                    </span>         \u001b<span style=\"font-weight: bold\">[</span>?2004h\u001b<span style=\"font-weight: bold\">[</span><span style=\"color: #008080; text-decoration-color: #008080; font-weight: bold\">0</span>;94m<span style=\"font-weight: bold\">[</span>Philips TAH4205<span style=\"font-weight: bold\">]</span>\u001b<span style=\"font-weight: bold\">[</span>0m<span style=\"font-weight: bold\">]</span>                                    <span style=\"color: #7f7f7f; text-decoration-color: #7f7f7f\">                </span>\n",
       "</pre>\n"
      ],
      "text/plain": [
       "\u001b[2;36m                   \u001b[0m\u001b[2;36m \u001b[0m\u001b[32mDEBUG   \u001b[0m \u001b[1;36m2024\u001b[0m-\u001b[1;36m09\u001b[0m-\u001b[1;36m29\u001b[0m \u001b[1;92m17:52:28\u001b[0m,\u001b[1;36m800\u001b[0m - DEBUG - Adding to output:\u001b[1m[\u001b[0m \u001b\u001b[1m[\u001b[0m?2004l          \u001b]8;id=37470;file:///tmp/ipykernel_16595/1292906133.py\u001b\\\u001b[2m1292906133.py\u001b[0m\u001b]8;;\u001b\\\u001b[2m:\u001b[0m\u001b]8;id=684270;file:///tmp/ipykernel_16595/1292906133.py#30\u001b\\\u001b[2m30\u001b[0m\u001b]8;;\u001b\\\n",
       "\u001b[2;36m                    \u001b[0m         Device \u001b[1;92mE4:D7:00:02:73:8C\u001b[0m ZX-K22 BT5.\u001b[1;36m1\u001b[0m                                 \u001b[2m                \u001b[0m\n",
       "\u001b[2;36m                    \u001b[0m         \u001b\u001b[1m[\u001b[0m?2004h\u001b\u001b[1m[\u001b[0m\u001b[1;36m0\u001b[0m;94m\u001b[1m[\u001b[0mPhilips TAH4205\u001b[1m]\u001b[0m\u001b\u001b[1m[\u001b[0m0m\u001b[1m]\u001b[0m                                    \u001b[2m                \u001b[0m\n"
      ]
     },
     "metadata": {},
     "output_type": "display_data"
    },
    {
     "name": "stdout",
     "output_type": "stream",
     "text": [
      " \u001b[?2004l\n",
      "Device E4:D7:00:02:73:8C ZX-K22 BT5.1\n",
      "\u001b[?2004h\u001b[0;94m[Philips TAH4205]\u001b[0m\n"
     ]
    },
    {
     "data": {
      "text/html": [
       "<pre style=\"white-space:pre;overflow-x:auto;line-height:normal;font-family:Menlo,'DejaVu Sans Mono',consolas,'Courier New',monospace\"><span style=\"color: #7fbfbf; text-decoration-color: #7fbfbf\">[09/29/24 17:52:31] </span><span style=\"color: #000080; text-decoration-color: #000080\">INFO    </span> <span style=\"color: #008080; text-decoration-color: #008080; font-weight: bold\">2024</span>-<span style=\"color: #008080; text-decoration-color: #008080; font-weight: bold\">09</span>-<span style=\"color: #008080; text-decoration-color: #008080; font-weight: bold\">29</span> <span style=\"color: #00ff00; text-decoration-color: #00ff00; font-weight: bold\">17:52:31</span>,<span style=\"color: #008080; text-decoration-color: #008080; font-weight: bold\">852</span> - INFO - Sending command <span style=\"font-weight: bold\">[</span>devices Paired<span style=\"font-weight: bold\">]</span>     <a href=\"file:///tmp/ipykernel_16595/1292906133.py\" target=\"_blank\"><span style=\"color: #7f7f7f; text-decoration-color: #7f7f7f\">1292906133.py</span></a><span style=\"color: #7f7f7f; text-decoration-color: #7f7f7f\">:</span><a href=\"file:///tmp/ipykernel_16595/1292906133.py#22\" target=\"_blank\"><span style=\"color: #7f7f7f; text-decoration-color: #7f7f7f\">22</span></a>\n",
       "<span style=\"color: #7fbfbf; text-decoration-color: #7fbfbf\">                    </span>         with <span style=\"color: #808000; text-decoration-color: #808000\">expected</span>=<span style=\"font-weight: bold\">[[</span><span style=\"color: #008000; text-decoration-color: #008000\">'Invalid argument'</span>, <span style=\"color: #008000; text-decoration-color: #008000\">'Invalid command'</span>, <span style=\"color: #008000; text-decoration-color: #008000\">'#'</span>, <span style=\"font-weight: bold\">&lt;</span><span style=\"color: #ff00ff; text-decoration-color: #ff00ff; font-weight: bold\">class</span><span style=\"color: #000000; text-decoration-color: #000000\"> </span>   <span style=\"color: #7f7f7f; text-decoration-color: #7f7f7f\">                </span>\n",
       "<span style=\"color: #7fbfbf; text-decoration-color: #7fbfbf\">                    </span>         <span style=\"color: #008000; text-decoration-color: #008000\">'pexpect.exceptions.EOF'</span><span style=\"font-weight: bold\">&gt;]]</span> and <span style=\"color: #808000; text-decoration-color: #808000\">pause</span>=<span style=\"font-weight: bold\">[</span><span style=\"color: #008080; text-decoration-color: #008080; font-weight: bold\">3</span><span style=\"font-weight: bold\">]</span>                             <span style=\"color: #7f7f7f; text-decoration-color: #7f7f7f\">                </span>\n",
       "</pre>\n"
      ],
      "text/plain": [
       "\u001b[2;36m[09/29/24 17:52:31]\u001b[0m\u001b[2;36m \u001b[0m\u001b[34mINFO    \u001b[0m \u001b[1;36m2024\u001b[0m-\u001b[1;36m09\u001b[0m-\u001b[1;36m29\u001b[0m \u001b[1;92m17:52:31\u001b[0m,\u001b[1;36m852\u001b[0m - INFO - Sending command \u001b[1m[\u001b[0mdevices Paired\u001b[1m]\u001b[0m     \u001b]8;id=914673;file:///tmp/ipykernel_16595/1292906133.py\u001b\\\u001b[2m1292906133.py\u001b[0m\u001b]8;;\u001b\\\u001b[2m:\u001b[0m\u001b]8;id=266848;file:///tmp/ipykernel_16595/1292906133.py#22\u001b\\\u001b[2m22\u001b[0m\u001b]8;;\u001b\\\n",
       "\u001b[2;36m                    \u001b[0m         with \u001b[33mexpected\u001b[0m=\u001b[1m[\u001b[0m\u001b[1m[\u001b[0m\u001b[32m'Invalid argument'\u001b[0m, \u001b[32m'Invalid command'\u001b[0m, \u001b[32m'#'\u001b[0m, \u001b[1m<\u001b[0m\u001b[1;95mclass\u001b[0m\u001b[39m \u001b[0m   \u001b[2m                \u001b[0m\n",
       "\u001b[2;36m                    \u001b[0m         \u001b[32m'pexpect.exceptions.EOF'\u001b[0m\u001b[1m>\u001b[0m\u001b[1m]\u001b[0m\u001b[1m]\u001b[0m and \u001b[33mpause\u001b[0m=\u001b[1m[\u001b[0m\u001b[1;36m3\u001b[0m\u001b[1m]\u001b[0m                             \u001b[2m                \u001b[0m\n"
      ]
     },
     "metadata": {},
     "output_type": "display_data"
    },
    {
     "data": {
      "text/html": [
       "<pre style=\"white-space:pre;overflow-x:auto;line-height:normal;font-family:Menlo,'DejaVu Sans Mono',consolas,'Courier New',monospace\"><span style=\"color: #7fbfbf; text-decoration-color: #7fbfbf\">                    </span><span style=\"color: #008000; text-decoration-color: #008000\">DEBUG   </span> <span style=\"color: #008080; text-decoration-color: #008080; font-weight: bold\">2024</span>-<span style=\"color: #008080; text-decoration-color: #008080; font-weight: bold\">09</span>-<span style=\"color: #008080; text-decoration-color: #008080; font-weight: bold\">29</span> <span style=\"color: #00ff00; text-decoration-color: #00ff00; font-weight: bold\">17:52:31</span>,<span style=\"color: #008080; text-decoration-color: #008080; font-weight: bold\">857</span> - DEBUG - <span style=\"color: #808000; text-decoration-color: #808000\">expected_index</span>=<span style=\"color: #008080; text-decoration-color: #008080; font-weight: bold\">2</span>                    <a href=\"file:///tmp/ipykernel_16595/1292906133.py\" target=\"_blank\"><span style=\"color: #7f7f7f; text-decoration-color: #7f7f7f\">1292906133.py</span></a><span style=\"color: #7f7f7f; text-decoration-color: #7f7f7f\">:</span><a href=\"file:///tmp/ipykernel_16595/1292906133.py#24\" target=\"_blank\"><span style=\"color: #7f7f7f; text-decoration-color: #7f7f7f\">24</span></a>\n",
       "</pre>\n"
      ],
      "text/plain": [
       "\u001b[2;36m                   \u001b[0m\u001b[2;36m \u001b[0m\u001b[32mDEBUG   \u001b[0m \u001b[1;36m2024\u001b[0m-\u001b[1;36m09\u001b[0m-\u001b[1;36m29\u001b[0m \u001b[1;92m17:52:31\u001b[0m,\u001b[1;36m857\u001b[0m - DEBUG - \u001b[33mexpected_index\u001b[0m=\u001b[1;36m2\u001b[0m                    \u001b]8;id=733683;file:///tmp/ipykernel_16595/1292906133.py\u001b\\\u001b[2m1292906133.py\u001b[0m\u001b]8;;\u001b\\\u001b[2m:\u001b[0m\u001b]8;id=732472;file:///tmp/ipykernel_16595/1292906133.py#24\u001b\\\u001b[2m24\u001b[0m\u001b]8;;\u001b\\\n"
      ]
     },
     "metadata": {},
     "output_type": "display_data"
    },
    {
     "data": {
      "text/html": [
       "<pre style=\"white-space:pre;overflow-x:auto;line-height:normal;font-family:Menlo,'DejaVu Sans Mono',consolas,'Courier New',monospace\"><span style=\"color: #7fbfbf; text-decoration-color: #7fbfbf\">                    </span><span style=\"color: #008000; text-decoration-color: #008000\">DEBUG   </span> <span style=\"color: #008080; text-decoration-color: #008080; font-weight: bold\">2024</span>-<span style=\"color: #008080; text-decoration-color: #008080; font-weight: bold\">09</span>-<span style=\"color: #008080; text-decoration-color: #008080; font-weight: bold\">29</span> <span style=\"color: #00ff00; text-decoration-color: #00ff00; font-weight: bold\">17:52:31</span>,<span style=\"color: #008080; text-decoration-color: #008080; font-weight: bold\">859</span> - DEBUG - Adding to output:<span style=\"font-weight: bold\">[</span> \u001b<span style=\"font-weight: bold\">[</span>?2004l          <a href=\"file:///tmp/ipykernel_16595/1292906133.py\" target=\"_blank\"><span style=\"color: #7f7f7f; text-decoration-color: #7f7f7f\">1292906133.py</span></a><span style=\"color: #7f7f7f; text-decoration-color: #7f7f7f\">:</span><a href=\"file:///tmp/ipykernel_16595/1292906133.py#30\" target=\"_blank\"><span style=\"color: #7f7f7f; text-decoration-color: #7f7f7f\">30</span></a>\n",
       "<span style=\"color: #7fbfbf; text-decoration-color: #7fbfbf\">                    </span>         Device <span style=\"color: #00ff00; text-decoration-color: #00ff00; font-weight: bold\">98:D3:31:00:0A:F6</span> Philips TAH4205                              <span style=\"color: #7f7f7f; text-decoration-color: #7f7f7f\">                </span>\n",
       "<span style=\"color: #7fbfbf; text-decoration-color: #7fbfbf\">                    </span>         Device <span style=\"color: #00ff00; text-decoration-color: #00ff00; font-weight: bold\">E5:1C:60:76:25:4B</span> BT5.<span style=\"color: #008080; text-decoration-color: #008080; font-weight: bold\">1</span> Mouse                                  <span style=\"color: #7f7f7f; text-decoration-color: #7f7f7f\">                </span>\n",
       "<span style=\"color: #7fbfbf; text-decoration-color: #7fbfbf\">                    </span>         Device <span style=\"color: #00ff00; text-decoration-color: #00ff00; font-weight: bold\">E4:D7:00:02:73:8C</span> ZX-K22 BT5.<span style=\"color: #008080; text-decoration-color: #008080; font-weight: bold\">1</span>                                 <span style=\"color: #7f7f7f; text-decoration-color: #7f7f7f\">                </span>\n",
       "<span style=\"color: #7fbfbf; text-decoration-color: #7fbfbf\">                    </span>         \u001b<span style=\"font-weight: bold\">[</span>?2004h\u001b<span style=\"font-weight: bold\">[</span><span style=\"color: #008080; text-decoration-color: #008080; font-weight: bold\">0</span>;94m<span style=\"font-weight: bold\">[</span>Philips TAH4205<span style=\"font-weight: bold\">]</span>\u001b<span style=\"font-weight: bold\">[</span>0m<span style=\"font-weight: bold\">]</span>                                    <span style=\"color: #7f7f7f; text-decoration-color: #7f7f7f\">                </span>\n",
       "</pre>\n"
      ],
      "text/plain": [
       "\u001b[2;36m                   \u001b[0m\u001b[2;36m \u001b[0m\u001b[32mDEBUG   \u001b[0m \u001b[1;36m2024\u001b[0m-\u001b[1;36m09\u001b[0m-\u001b[1;36m29\u001b[0m \u001b[1;92m17:52:31\u001b[0m,\u001b[1;36m859\u001b[0m - DEBUG - Adding to output:\u001b[1m[\u001b[0m \u001b\u001b[1m[\u001b[0m?2004l          \u001b]8;id=877457;file:///tmp/ipykernel_16595/1292906133.py\u001b\\\u001b[2m1292906133.py\u001b[0m\u001b]8;;\u001b\\\u001b[2m:\u001b[0m\u001b]8;id=141081;file:///tmp/ipykernel_16595/1292906133.py#30\u001b\\\u001b[2m30\u001b[0m\u001b]8;;\u001b\\\n",
       "\u001b[2;36m                    \u001b[0m         Device \u001b[1;92m98:D3:31:00:0A:F6\u001b[0m Philips TAH4205                              \u001b[2m                \u001b[0m\n",
       "\u001b[2;36m                    \u001b[0m         Device \u001b[1;92mE5:1C:60:76:25:4B\u001b[0m BT5.\u001b[1;36m1\u001b[0m Mouse                                  \u001b[2m                \u001b[0m\n",
       "\u001b[2;36m                    \u001b[0m         Device \u001b[1;92mE4:D7:00:02:73:8C\u001b[0m ZX-K22 BT5.\u001b[1;36m1\u001b[0m                                 \u001b[2m                \u001b[0m\n",
       "\u001b[2;36m                    \u001b[0m         \u001b\u001b[1m[\u001b[0m?2004h\u001b\u001b[1m[\u001b[0m\u001b[1;36m0\u001b[0m;94m\u001b[1m[\u001b[0mPhilips TAH4205\u001b[1m]\u001b[0m\u001b\u001b[1m[\u001b[0m0m\u001b[1m]\u001b[0m                                    \u001b[2m                \u001b[0m\n"
      ]
     },
     "metadata": {},
     "output_type": "display_data"
    },
    {
     "name": "stdout",
     "output_type": "stream",
     "text": [
      " \u001b[?2004l\n",
      "Device 98:D3:31:00:0A:F6 Philips TAH4205\n",
      "Device E5:1C:60:76:25:4B BT5.1 Mouse\n",
      "Device E4:D7:00:02:73:8C ZX-K22 BT5.1\n",
      "\u001b[?2004h\u001b[0;94m[Philips TAH4205]\u001b[0m\n",
      "Device is connected=True,is trusted=False, is paired=True\n"
     ]
    }
   ],
   "source": [
    "dev_connected=False\n",
    "dev_trusted=False\n",
    "dev_paired=False\n",
    "\n",
    "res=btctl.get_output(\"devices Connected\")\n",
    "print(res)\n",
    "if re.search(dev_mac,res):\n",
    "    dev_connected=True\n",
    "\n",
    "res=btctl.get_output(\"devices Trusted\")\n",
    "print(res)\n",
    "if re.search(dev_mac,res):\n",
    "    dev_trusted=True\n",
    "\n",
    "res=btctl.get_output(\"devices Paired\")\n",
    "print(res)\n",
    "if re.search(dev_mac,res):\n",
    "    dev_paired=True\n",
    "print(f\"Device is connected={dev_connected},is trusted={dev_trusted}, is paired={dev_paired}\")"
   ]
  },
  {
   "cell_type": "markdown",
   "id": "c8261ab4-9fe5-4cba-a592-9c2a9c364174",
   "metadata": {},
   "source": [
    "As expected device is paired, connected but not trusted. Do you want trust it?"
   ]
  },
  {
   "cell_type": "code",
   "execution_count": 119,
   "id": "c6fbf70d-40b0-4794-b58b-1cc322c52e91",
   "metadata": {},
   "outputs": [
    {
     "data": {
      "text/html": [
       "<pre style=\"white-space:pre;overflow-x:auto;line-height:normal;font-family:Menlo,'DejaVu Sans Mono',consolas,'Courier New',monospace\"><span style=\"color: #7fbfbf; text-decoration-color: #7fbfbf\">[09/29/24 18:09:55] </span><span style=\"color: #000080; text-decoration-color: #000080\">INFO    </span> <span style=\"color: #008080; text-decoration-color: #008080; font-weight: bold\">2024</span>-<span style=\"color: #008080; text-decoration-color: #008080; font-weight: bold\">09</span>-<span style=\"color: #008080; text-decoration-color: #008080; font-weight: bold\">29</span> <span style=\"color: #00ff00; text-decoration-color: #00ff00; font-weight: bold\">18:09:55</span>,<span style=\"color: #008080; text-decoration-color: #008080; font-weight: bold\">090</span> - INFO - Sending command <span style=\"font-weight: bold\">[</span>trust               <a href=\"file:///tmp/ipykernel_16595/1292906133.py\" target=\"_blank\"><span style=\"color: #7f7f7f; text-decoration-color: #7f7f7f\">1292906133.py</span></a><span style=\"color: #7f7f7f; text-decoration-color: #7f7f7f\">:</span><a href=\"file:///tmp/ipykernel_16595/1292906133.py#22\" target=\"_blank\"><span style=\"color: #7f7f7f; text-decoration-color: #7f7f7f\">22</span></a>\n",
       "<span style=\"color: #7fbfbf; text-decoration-color: #7fbfbf\">                    </span>         <span style=\"color: #00ff00; text-decoration-color: #00ff00; font-weight: bold\">98:D3:31:00:0A:F6</span><span style=\"font-weight: bold\">]</span> with <span style=\"color: #808000; text-decoration-color: #808000\">expected</span>=<span style=\"font-weight: bold\">[[</span><span style=\"color: #008000; text-decoration-color: #008000\">'trust succeeded'</span>, <span style=\"color: #008000; text-decoration-color: #008000\">'Invalid </span>       <span style=\"color: #7f7f7f; text-decoration-color: #7f7f7f\">                </span>\n",
       "<span style=\"color: #7fbfbf; text-decoration-color: #7fbfbf\">                    </span>         <span style=\"color: #008000; text-decoration-color: #008000\">argument'</span>, <span style=\"color: #008000; text-decoration-color: #008000\">'Invalid command'</span>, <span style=\"color: #008000; text-decoration-color: #008000\">'#'</span>, <span style=\"font-weight: bold\">&lt;</span><span style=\"color: #ff00ff; text-decoration-color: #ff00ff; font-weight: bold\">class</span><span style=\"color: #000000; text-decoration-color: #000000\"> </span><span style=\"color: #008000; text-decoration-color: #008000\">'pexpect.exceptions.EOF'</span><span style=\"font-weight: bold\">&gt;]]</span> <span style=\"color: #7f7f7f; text-decoration-color: #7f7f7f\">                </span>\n",
       "<span style=\"color: #7fbfbf; text-decoration-color: #7fbfbf\">                    </span>         and <span style=\"color: #808000; text-decoration-color: #808000\">pause</span>=<span style=\"font-weight: bold\">[</span><span style=\"color: #008080; text-decoration-color: #008080; font-weight: bold\">3</span><span style=\"font-weight: bold\">]</span>                                                         <span style=\"color: #7f7f7f; text-decoration-color: #7f7f7f\">                </span>\n",
       "</pre>\n"
      ],
      "text/plain": [
       "\u001b[2;36m[09/29/24 18:09:55]\u001b[0m\u001b[2;36m \u001b[0m\u001b[34mINFO    \u001b[0m \u001b[1;36m2024\u001b[0m-\u001b[1;36m09\u001b[0m-\u001b[1;36m29\u001b[0m \u001b[1;92m18:09:55\u001b[0m,\u001b[1;36m090\u001b[0m - INFO - Sending command \u001b[1m[\u001b[0mtrust               \u001b]8;id=877488;file:///tmp/ipykernel_16595/1292906133.py\u001b\\\u001b[2m1292906133.py\u001b[0m\u001b]8;;\u001b\\\u001b[2m:\u001b[0m\u001b]8;id=707752;file:///tmp/ipykernel_16595/1292906133.py#22\u001b\\\u001b[2m22\u001b[0m\u001b]8;;\u001b\\\n",
       "\u001b[2;36m                    \u001b[0m         \u001b[1;92m98:D3:31:00:0A:F6\u001b[0m\u001b[1m]\u001b[0m with \u001b[33mexpected\u001b[0m=\u001b[1m[\u001b[0m\u001b[1m[\u001b[0m\u001b[32m'trust succeeded'\u001b[0m, \u001b[32m'Invalid \u001b[0m       \u001b[2m                \u001b[0m\n",
       "\u001b[2;36m                    \u001b[0m         \u001b[32margument'\u001b[0m, \u001b[32m'Invalid command'\u001b[0m, \u001b[32m'#'\u001b[0m, \u001b[1m<\u001b[0m\u001b[1;95mclass\u001b[0m\u001b[39m \u001b[0m\u001b[32m'pexpect.exceptions.EOF'\u001b[0m\u001b[1m>\u001b[0m\u001b[1m]\u001b[0m\u001b[1m]\u001b[0m \u001b[2m                \u001b[0m\n",
       "\u001b[2;36m                    \u001b[0m         and \u001b[33mpause\u001b[0m=\u001b[1m[\u001b[0m\u001b[1;36m3\u001b[0m\u001b[1m]\u001b[0m                                                         \u001b[2m                \u001b[0m\n"
      ]
     },
     "metadata": {},
     "output_type": "display_data"
    },
    {
     "data": {
      "text/html": [
       "<pre style=\"white-space:pre;overflow-x:auto;line-height:normal;font-family:Menlo,'DejaVu Sans Mono',consolas,'Courier New',monospace\"><span style=\"color: #7fbfbf; text-decoration-color: #7fbfbf\">                    </span><span style=\"color: #008000; text-decoration-color: #008000\">DEBUG   </span> <span style=\"color: #008080; text-decoration-color: #008080; font-weight: bold\">2024</span>-<span style=\"color: #008080; text-decoration-color: #008080; font-weight: bold\">09</span>-<span style=\"color: #008080; text-decoration-color: #008080; font-weight: bold\">29</span> <span style=\"color: #00ff00; text-decoration-color: #00ff00; font-weight: bold\">18:09:55</span>,<span style=\"color: #008080; text-decoration-color: #008080; font-weight: bold\">098</span> - DEBUG - <span style=\"color: #808000; text-decoration-color: #808000\">expected_index</span>=<span style=\"color: #008080; text-decoration-color: #008080; font-weight: bold\">0</span>                    <a href=\"file:///tmp/ipykernel_16595/1292906133.py\" target=\"_blank\"><span style=\"color: #7f7f7f; text-decoration-color: #7f7f7f\">1292906133.py</span></a><span style=\"color: #7f7f7f; text-decoration-color: #7f7f7f\">:</span><a href=\"file:///tmp/ipykernel_16595/1292906133.py#24\" target=\"_blank\"><span style=\"color: #7f7f7f; text-decoration-color: #7f7f7f\">24</span></a>\n",
       "</pre>\n"
      ],
      "text/plain": [
       "\u001b[2;36m                   \u001b[0m\u001b[2;36m \u001b[0m\u001b[32mDEBUG   \u001b[0m \u001b[1;36m2024\u001b[0m-\u001b[1;36m09\u001b[0m-\u001b[1;36m29\u001b[0m \u001b[1;92m18:09:55\u001b[0m,\u001b[1;36m098\u001b[0m - DEBUG - \u001b[33mexpected_index\u001b[0m=\u001b[1;36m0\u001b[0m                    \u001b]8;id=704305;file:///tmp/ipykernel_16595/1292906133.py\u001b\\\u001b[2m1292906133.py\u001b[0m\u001b]8;;\u001b\\\u001b[2m:\u001b[0m\u001b]8;id=730599;file:///tmp/ipykernel_16595/1292906133.py#24\u001b\\\u001b[2m24\u001b[0m\u001b]8;;\u001b\\\n"
      ]
     },
     "metadata": {},
     "output_type": "display_data"
    },
    {
     "data": {
      "text/html": [
       "<pre style=\"white-space:pre;overflow-x:auto;line-height:normal;font-family:Menlo,'DejaVu Sans Mono',consolas,'Courier New',monospace\"><span style=\"color: #7fbfbf; text-decoration-color: #7fbfbf\">                    </span><span style=\"color: #008000; text-decoration-color: #008000\">DEBUG   </span> <span style=\"color: #008080; text-decoration-color: #008080; font-weight: bold\">2024</span>-<span style=\"color: #008080; text-decoration-color: #008080; font-weight: bold\">09</span>-<span style=\"color: #008080; text-decoration-color: #008080; font-weight: bold\">29</span> <span style=\"color: #00ff00; text-decoration-color: #00ff00; font-weight: bold\">18:09:55</span>,<span style=\"color: #008080; text-decoration-color: #008080; font-weight: bold\">101</span> - DEBUG - Adding to output:<span style=\"font-weight: bold\">[</span> Changing         <a href=\"file:///tmp/ipykernel_16595/1292906133.py\" target=\"_blank\"><span style=\"color: #7f7f7f; text-decoration-color: #7f7f7f\">1292906133.py</span></a><span style=\"color: #7f7f7f; text-decoration-color: #7f7f7f\">:</span><a href=\"file:///tmp/ipykernel_16595/1292906133.py#30\" target=\"_blank\"><span style=\"color: #7f7f7f; text-decoration-color: #7f7f7f\">30</span></a>\n",
       "<span style=\"color: #7fbfbf; text-decoration-color: #7fbfbf\">                    </span>         <span style=\"color: #00ff00; text-decoration-color: #00ff00; font-weight: bold\">98:D3:31:00:0A:F6</span> <span style=\"font-weight: bold\">]</span>                                                   <span style=\"color: #7f7f7f; text-decoration-color: #7f7f7f\">                </span>\n",
       "</pre>\n"
      ],
      "text/plain": [
       "\u001b[2;36m                   \u001b[0m\u001b[2;36m \u001b[0m\u001b[32mDEBUG   \u001b[0m \u001b[1;36m2024\u001b[0m-\u001b[1;36m09\u001b[0m-\u001b[1;36m29\u001b[0m \u001b[1;92m18:09:55\u001b[0m,\u001b[1;36m101\u001b[0m - DEBUG - Adding to output:\u001b[1m[\u001b[0m Changing         \u001b]8;id=401938;file:///tmp/ipykernel_16595/1292906133.py\u001b\\\u001b[2m1292906133.py\u001b[0m\u001b]8;;\u001b\\\u001b[2m:\u001b[0m\u001b]8;id=474533;file:///tmp/ipykernel_16595/1292906133.py#30\u001b\\\u001b[2m30\u001b[0m\u001b]8;;\u001b\\\n",
       "\u001b[2;36m                    \u001b[0m         \u001b[1;92m98:D3:31:00:0A:F6\u001b[0m \u001b[1m]\u001b[0m                                                   \u001b[2m                \u001b[0m\n"
      ]
     },
     "metadata": {},
     "output_type": "display_data"
    },
    {
     "name": "stdout",
     "output_type": "stream",
     "text": [
      " Changing 98:D3:31:00:0A:F6 \n"
     ]
    }
   ],
   "source": [
    "res=btctl.get_output(\"trust %s\" % dev_mac,[\"trust succeeded\"])\n",
    "print(res)"
   ]
  },
  {
   "cell_type": "code",
   "execution_count": 123,
   "id": "76029715-feaa-45c4-9c2b-2847aac32e23",
   "metadata": {},
   "outputs": [
    {
     "name": "stderr",
     "output_type": "stream",
     "text": [
      "2024-09-29 18:13:01,186 - DEBUG - Process created\n",
      "2024-09-29 18:13:01,186 - DEBUG - Process created\n",
      "2024-09-29 18:13:01,186 - DEBUG - Process created\n",
      "2024-09-29 18:13:01,186 - DEBUG - Process created\n",
      "2024-09-29 18:13:01,186 - DEBUG - Process created\n"
     ]
    },
    {
     "data": {
      "text/html": [
       "<pre style=\"white-space:pre;overflow-x:auto;line-height:normal;font-family:Menlo,'DejaVu Sans Mono',consolas,'Courier New',monospace\"><span style=\"color: #7fbfbf; text-decoration-color: #7fbfbf\">[09/29/24 18:13:01] </span><span style=\"color: #008000; text-decoration-color: #008000\">DEBUG   </span> <span style=\"color: #008080; text-decoration-color: #008080; font-weight: bold\">2024</span>-<span style=\"color: #008080; text-decoration-color: #008080; font-weight: bold\">09</span>-<span style=\"color: #008080; text-decoration-color: #008080; font-weight: bold\">29</span> <span style=\"color: #00ff00; text-decoration-color: #00ff00; font-weight: bold\">18:13:01</span>,<span style=\"color: #008080; text-decoration-color: #008080; font-weight: bold\">186</span> - DEBUG - Process created                      <a href=\"file:///tmp/ipykernel_16595/1292906133.py\" target=\"_blank\"><span style=\"color: #7f7f7f; text-decoration-color: #7f7f7f\">1292906133.py</span></a><span style=\"color: #7f7f7f; text-decoration-color: #7f7f7f\">:</span><a href=\"file:///tmp/ipykernel_16595/1292906133.py#9\" target=\"_blank\"><span style=\"color: #7f7f7f; text-decoration-color: #7f7f7f\">9</span></a>\n",
       "</pre>\n"
      ],
      "text/plain": [
       "\u001b[2;36m[09/29/24 18:13:01]\u001b[0m\u001b[2;36m \u001b[0m\u001b[32mDEBUG   \u001b[0m \u001b[1;36m2024\u001b[0m-\u001b[1;36m09\u001b[0m-\u001b[1;36m29\u001b[0m \u001b[1;92m18:13:01\u001b[0m,\u001b[1;36m186\u001b[0m - DEBUG - Process created                      \u001b]8;id=667802;file:///tmp/ipykernel_16595/1292906133.py\u001b\\\u001b[2m1292906133.py\u001b[0m\u001b]8;;\u001b\\\u001b[2m:\u001b[0m\u001b]8;id=512386;file:///tmp/ipykernel_16595/1292906133.py#9\u001b\\\u001b[2m9\u001b[0m\u001b]8;;\u001b\\\n"
      ]
     },
     "metadata": {},
     "output_type": "display_data"
    },
    {
     "data": {
      "text/html": [
       "<pre style=\"white-space:pre;overflow-x:auto;line-height:normal;font-family:Menlo,'DejaVu Sans Mono',consolas,'Courier New',monospace\"><span style=\"color: #7fbfbf; text-decoration-color: #7fbfbf\">[09/29/24 18:13:04] </span><span style=\"color: #000080; text-decoration-color: #000080\">INFO    </span> <span style=\"color: #008080; text-decoration-color: #008080; font-weight: bold\">2024</span>-<span style=\"color: #008080; text-decoration-color: #008080; font-weight: bold\">09</span>-<span style=\"color: #008080; text-decoration-color: #008080; font-weight: bold\">29</span> <span style=\"color: #00ff00; text-decoration-color: #00ff00; font-weight: bold\">18:13:04</span>,<span style=\"color: #008080; text-decoration-color: #008080; font-weight: bold\">244</span> - INFO - Sending command <span style=\"font-weight: bold\">[</span>devices Connected<span style=\"font-weight: bold\">]</span>  <a href=\"file:///tmp/ipykernel_16595/1292906133.py\" target=\"_blank\"><span style=\"color: #7f7f7f; text-decoration-color: #7f7f7f\">1292906133.py</span></a><span style=\"color: #7f7f7f; text-decoration-color: #7f7f7f\">:</span><a href=\"file:///tmp/ipykernel_16595/1292906133.py#22\" target=\"_blank\"><span style=\"color: #7f7f7f; text-decoration-color: #7f7f7f\">22</span></a>\n",
       "<span style=\"color: #7fbfbf; text-decoration-color: #7fbfbf\">                    </span>         with <span style=\"color: #808000; text-decoration-color: #808000\">expected</span>=<span style=\"font-weight: bold\">[[</span><span style=\"color: #008000; text-decoration-color: #008000\">'Invalid argument'</span>, <span style=\"color: #008000; text-decoration-color: #008000\">'Invalid command'</span>, <span style=\"color: #008000; text-decoration-color: #008000\">'#'</span>, <span style=\"font-weight: bold\">&lt;</span><span style=\"color: #ff00ff; text-decoration-color: #ff00ff; font-weight: bold\">class</span><span style=\"color: #000000; text-decoration-color: #000000\"> </span>   <span style=\"color: #7f7f7f; text-decoration-color: #7f7f7f\">                </span>\n",
       "<span style=\"color: #7fbfbf; text-decoration-color: #7fbfbf\">                    </span>         <span style=\"color: #008000; text-decoration-color: #008000\">'pexpect.exceptions.EOF'</span><span style=\"font-weight: bold\">&gt;]]</span> and <span style=\"color: #808000; text-decoration-color: #808000\">pause</span>=<span style=\"font-weight: bold\">[</span><span style=\"color: #008080; text-decoration-color: #008080; font-weight: bold\">3</span><span style=\"font-weight: bold\">]</span>                             <span style=\"color: #7f7f7f; text-decoration-color: #7f7f7f\">                </span>\n",
       "</pre>\n"
      ],
      "text/plain": [
       "\u001b[2;36m[09/29/24 18:13:04]\u001b[0m\u001b[2;36m \u001b[0m\u001b[34mINFO    \u001b[0m \u001b[1;36m2024\u001b[0m-\u001b[1;36m09\u001b[0m-\u001b[1;36m29\u001b[0m \u001b[1;92m18:13:04\u001b[0m,\u001b[1;36m244\u001b[0m - INFO - Sending command \u001b[1m[\u001b[0mdevices Connected\u001b[1m]\u001b[0m  \u001b]8;id=49615;file:///tmp/ipykernel_16595/1292906133.py\u001b\\\u001b[2m1292906133.py\u001b[0m\u001b]8;;\u001b\\\u001b[2m:\u001b[0m\u001b]8;id=811349;file:///tmp/ipykernel_16595/1292906133.py#22\u001b\\\u001b[2m22\u001b[0m\u001b]8;;\u001b\\\n",
       "\u001b[2;36m                    \u001b[0m         with \u001b[33mexpected\u001b[0m=\u001b[1m[\u001b[0m\u001b[1m[\u001b[0m\u001b[32m'Invalid argument'\u001b[0m, \u001b[32m'Invalid command'\u001b[0m, \u001b[32m'#'\u001b[0m, \u001b[1m<\u001b[0m\u001b[1;95mclass\u001b[0m\u001b[39m \u001b[0m   \u001b[2m                \u001b[0m\n",
       "\u001b[2;36m                    \u001b[0m         \u001b[32m'pexpect.exceptions.EOF'\u001b[0m\u001b[1m>\u001b[0m\u001b[1m]\u001b[0m\u001b[1m]\u001b[0m and \u001b[33mpause\u001b[0m=\u001b[1m[\u001b[0m\u001b[1;36m3\u001b[0m\u001b[1m]\u001b[0m                             \u001b[2m                \u001b[0m\n"
      ]
     },
     "metadata": {},
     "output_type": "display_data"
    },
    {
     "data": {
      "text/html": [
       "<pre style=\"white-space:pre;overflow-x:auto;line-height:normal;font-family:Menlo,'DejaVu Sans Mono',consolas,'Courier New',monospace\"><span style=\"color: #7fbfbf; text-decoration-color: #7fbfbf\">                    </span><span style=\"color: #008000; text-decoration-color: #008000\">DEBUG   </span> <span style=\"color: #008080; text-decoration-color: #008080; font-weight: bold\">2024</span>-<span style=\"color: #008080; text-decoration-color: #008080; font-weight: bold\">09</span>-<span style=\"color: #008080; text-decoration-color: #008080; font-weight: bold\">29</span> <span style=\"color: #00ff00; text-decoration-color: #00ff00; font-weight: bold\">18:13:04</span>,<span style=\"color: #008080; text-decoration-color: #008080; font-weight: bold\">252</span> - DEBUG - <span style=\"color: #808000; text-decoration-color: #808000\">expected_index</span>=<span style=\"color: #008080; text-decoration-color: #008080; font-weight: bold\">2</span>                    <a href=\"file:///tmp/ipykernel_16595/1292906133.py\" target=\"_blank\"><span style=\"color: #7f7f7f; text-decoration-color: #7f7f7f\">1292906133.py</span></a><span style=\"color: #7f7f7f; text-decoration-color: #7f7f7f\">:</span><a href=\"file:///tmp/ipykernel_16595/1292906133.py#24\" target=\"_blank\"><span style=\"color: #7f7f7f; text-decoration-color: #7f7f7f\">24</span></a>\n",
       "</pre>\n"
      ],
      "text/plain": [
       "\u001b[2;36m                   \u001b[0m\u001b[2;36m \u001b[0m\u001b[32mDEBUG   \u001b[0m \u001b[1;36m2024\u001b[0m-\u001b[1;36m09\u001b[0m-\u001b[1;36m29\u001b[0m \u001b[1;92m18:13:04\u001b[0m,\u001b[1;36m252\u001b[0m - DEBUG - \u001b[33mexpected_index\u001b[0m=\u001b[1;36m2\u001b[0m                    \u001b]8;id=956500;file:///tmp/ipykernel_16595/1292906133.py\u001b\\\u001b[2m1292906133.py\u001b[0m\u001b]8;;\u001b\\\u001b[2m:\u001b[0m\u001b]8;id=506472;file:///tmp/ipykernel_16595/1292906133.py#24\u001b\\\u001b[2m24\u001b[0m\u001b]8;;\u001b\\\n"
      ]
     },
     "metadata": {},
     "output_type": "display_data"
    },
    {
     "data": {
      "text/html": [
       "<pre style=\"white-space:pre;overflow-x:auto;line-height:normal;font-family:Menlo,'DejaVu Sans Mono',consolas,'Courier New',monospace\"><span style=\"color: #7fbfbf; text-decoration-color: #7fbfbf\">                    </span><span style=\"color: #008000; text-decoration-color: #008000\">DEBUG   </span> <span style=\"color: #008080; text-decoration-color: #008080; font-weight: bold\">2024</span>-<span style=\"color: #008080; text-decoration-color: #008080; font-weight: bold\">09</span>-<span style=\"color: #008080; text-decoration-color: #008080; font-weight: bold\">29</span> <span style=\"color: #00ff00; text-decoration-color: #00ff00; font-weight: bold\">18:13:04</span>,<span style=\"color: #008080; text-decoration-color: #008080; font-weight: bold\">257</span> - DEBUG - Adding to output:<span style=\"font-weight: bold\">[</span>                  <a href=\"file:///tmp/ipykernel_16595/1292906133.py\" target=\"_blank\"><span style=\"color: #7f7f7f; text-decoration-color: #7f7f7f\">1292906133.py</span></a><span style=\"color: #7f7f7f; text-decoration-color: #7f7f7f\">:</span><a href=\"file:///tmp/ipykernel_16595/1292906133.py#30\" target=\"_blank\"><span style=\"color: #7f7f7f; text-decoration-color: #7f7f7f\">30</span></a>\n",
       "<span style=\"color: #7fbfbf; text-decoration-color: #7fbfbf\">                    </span>         \u001b<span style=\"font-weight: bold\">[</span>?2004l                                                               <span style=\"color: #7f7f7f; text-decoration-color: #7f7f7f\">                </span>\n",
       "<span style=\"color: #7fbfbf; text-decoration-color: #7fbfbf\">                    </span>         Device <span style=\"color: #00ff00; text-decoration-color: #00ff00; font-weight: bold\">98:D3:31:00:0A:F6</span> Philips TAH4205                              <span style=\"color: #7f7f7f; text-decoration-color: #7f7f7f\">                </span>\n",
       "<span style=\"color: #7fbfbf; text-decoration-color: #7fbfbf\">                    </span>         Device <span style=\"color: #00ff00; text-decoration-color: #00ff00; font-weight: bold\">E4:D7:00:02:73:8C</span> ZX-K22 BT5.<span style=\"color: #008080; text-decoration-color: #008080; font-weight: bold\">1</span>                                 <span style=\"color: #7f7f7f; text-decoration-color: #7f7f7f\">                </span>\n",
       "<span style=\"color: #7fbfbf; text-decoration-color: #7fbfbf\">                    </span>         \u001b<span style=\"font-weight: bold\">[</span>?2004h\u001b<span style=\"font-weight: bold\">[</span><span style=\"color: #008080; text-decoration-color: #008080; font-weight: bold\">0</span>;94m<span style=\"font-weight: bold\">[</span>Philips TAH4205<span style=\"font-weight: bold\">]</span>\u001b<span style=\"font-weight: bold\">[</span>0m<span style=\"font-weight: bold\">]</span>                                    <span style=\"color: #7f7f7f; text-decoration-color: #7f7f7f\">                </span>\n",
       "</pre>\n"
      ],
      "text/plain": [
       "\u001b[2;36m                   \u001b[0m\u001b[2;36m \u001b[0m\u001b[32mDEBUG   \u001b[0m \u001b[1;36m2024\u001b[0m-\u001b[1;36m09\u001b[0m-\u001b[1;36m29\u001b[0m \u001b[1;92m18:13:04\u001b[0m,\u001b[1;36m257\u001b[0m - DEBUG - Adding to output:\u001b[1m[\u001b[0m                  \u001b]8;id=938202;file:///tmp/ipykernel_16595/1292906133.py\u001b\\\u001b[2m1292906133.py\u001b[0m\u001b]8;;\u001b\\\u001b[2m:\u001b[0m\u001b]8;id=476691;file:///tmp/ipykernel_16595/1292906133.py#30\u001b\\\u001b[2m30\u001b[0m\u001b]8;;\u001b\\\n",
       "\u001b[2;36m                    \u001b[0m         \u001b\u001b[1m[\u001b[0m?2004l                                                               \u001b[2m                \u001b[0m\n",
       "\u001b[2;36m                    \u001b[0m         Device \u001b[1;92m98:D3:31:00:0A:F6\u001b[0m Philips TAH4205                              \u001b[2m                \u001b[0m\n",
       "\u001b[2;36m                    \u001b[0m         Device \u001b[1;92mE4:D7:00:02:73:8C\u001b[0m ZX-K22 BT5.\u001b[1;36m1\u001b[0m                                 \u001b[2m                \u001b[0m\n",
       "\u001b[2;36m                    \u001b[0m         \u001b\u001b[1m[\u001b[0m?2004h\u001b\u001b[1m[\u001b[0m\u001b[1;36m0\u001b[0m;94m\u001b[1m[\u001b[0mPhilips TAH4205\u001b[1m]\u001b[0m\u001b\u001b[1m[\u001b[0m0m\u001b[1m]\u001b[0m                                    \u001b[2m                \u001b[0m\n"
      ]
     },
     "metadata": {},
     "output_type": "display_data"
    },
    {
     "name": "stdout",
     "output_type": "stream",
     "text": [
      "\n",
      "\u001b[?2004l\n",
      "Device 98:D3:31:00:0A:F6 Philips TAH4205\n",
      "Device E4:D7:00:02:73:8C ZX-K22 BT5.1\n",
      "\u001b[?2004h\u001b[0;94m[Philips TAH4205]\u001b[0m\n"
     ]
    }
   ],
   "source": [
    "btctl=Bluetoothctl()\n",
    "res=btctl.get_output(\"devices Connected\")\n",
    "print(res)"
   ]
  },
  {
   "cell_type": "markdown",
   "id": "ce2aa731-89b1-4ea5-b1cf-ddea751020b4",
   "metadata": {},
   "source": [
    "### Last considerations\n",
    "We can consider to not give back output when expected string is about Command or argument error to avoid misunderstanding with output."
   ]
  },
  {
   "cell_type": "markdown",
   "id": "5e3b26e3-2f55-4453-aac1-0c68da8374d0",
   "metadata": {},
   "source": [
    "## My use case\n",
    "Why I needed it. I use a PC with windows 11 certified installed on bitlocker HD, but I want also to use a linux on that HW. So I run it from USB drive. When I switch to the other OS (from Win to Linux and viceversa) the previous connected bluetooth devices are listed as paired but they cannot be connected so I need to remove then, scan and pir them. Further, these operations does not work using UI (this in linux). In widows I must do the same but it works using UI method. I will try to use my script also on windows on wls."
   ]
  },
  {
   "cell_type": "code",
   "execution_count": null,
   "id": "f53b864a-bbb8-4a00-9064-9473d4e6e580",
   "metadata": {},
   "outputs": [],
   "source": []
  }
 ],
 "metadata": {
  "kernelspec": {
   "display_name": "Python 3 (ipykernel)",
   "language": "python",
   "name": "python3"
  },
  "language_info": {
   "codemirror_mode": {
    "name": "ipython",
    "version": 3
   },
   "file_extension": ".py",
   "mimetype": "text/x-python",
   "name": "python",
   "nbconvert_exporter": "python",
   "pygments_lexer": "ipython3",
   "version": "3.12.3"
  }
 },
 "nbformat": 4,
 "nbformat_minor": 5
}
