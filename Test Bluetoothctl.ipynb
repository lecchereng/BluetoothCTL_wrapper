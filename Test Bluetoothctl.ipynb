{
 "cells": [
  {
   "cell_type": "markdown",
   "id": "658f3fa3-0301-4fb7-9e7b-1ab766c7f442",
   "metadata": {},
   "source": [
    "# Testing Bluetoothctl\n",
    "This notebook is used to test Bluetoothctl"
   ]
  },
  {
   "cell_type": "code",
   "execution_count": 1,
   "id": "28536c45-22f6-4048-8e2b-817d8583f5fc",
   "metadata": {},
   "outputs": [
    {
     "name": "stderr",
     "output_type": "stream",
     "text": [
      "2024-09-30 03:24:27,048 - DEBUG - Process created\n"
     ]
    }
   ],
   "source": [
    "import re\n",
    "import bluetoothctl\n",
    "bt=bluetoothctl.Bluetoothctl()"
   ]
  },
  {
   "cell_type": "code",
   "execution_count": 2,
   "id": "e24d9b5b-4ff8-4f02-898b-e22df99d0471",
   "metadata": {},
   "outputs": [
    {
     "name": "stderr",
     "output_type": "stream",
     "text": [
      "2024-09-30 03:24:31,914 - INFO - Sending command [devices Paired] with expected=[['Invalid argument', 'Invalid command', '#', <class 'pexpect.exceptions.EOF'>]] and pause=[3]\n",
      "2024-09-30 03:24:31,916 - DEBUG - expected_index=2\n",
      "2024-09-30 03:24:31,916 - DEBUG - Adding to output:[\n",
      "\u001b[?2004l\n",
      "Device 98:D3:31:00:0A:F6 Philips TAH4205\n",
      "Device E5:1C:60:76:25:4B BT5.1 Mouse\n",
      "Device E4:D7:00:02:73:8C ZX-K22 BT5.1\n",
      "\u001b[?2004h\u001b[0;94m[Philips TAH4205]\u001b[0m]\n"
     ]
    },
    {
     "name": "stdout",
     "output_type": "stream",
     "text": [
      "Device 98:D3:31:00:0A:F6 Philips TAH4205\n",
      "Device E5:1C:60:76:25:4B BT5.1 Mouse\n",
      "Device E4:D7:00:02:73:8C ZX-K22 BT5.1\n"
     ]
    }
   ],
   "source": [
    "res=bt.command_devices_paired()\n",
    "print(bt.clean_output(res))"
   ]
  },
  {
   "cell_type": "code",
   "execution_count": 3,
   "id": "45f84826-e2a7-4fd9-9aa2-5b6f69ffcfa5",
   "metadata": {},
   "outputs": [
    {
     "name": "stderr",
     "output_type": "stream",
     "text": [
      "2024-09-30 03:25:55,567 - INFO - Sending command [devices Connected] with expected=[['Invalid argument', 'Invalid command', '#', <class 'pexpect.exceptions.EOF'>]] and pause=[3]\n",
      "2024-09-30 03:25:55,570 - DEBUG - expected_index=2\n",
      "2024-09-30 03:25:55,571 - DEBUG - Adding to output:[ \u001b[?2004l\n",
      "Device 98:D3:31:00:0A:F6 Philips TAH4205\n",
      "Device E4:D7:00:02:73:8C ZX-K22 BT5.1\n",
      "\u001b[?2004h\u001b[0;94m[Philips TAH4205]\u001b[0m]\n"
     ]
    },
    {
     "name": "stdout",
     "output_type": "stream",
     "text": [
      "Device 98:D3:31:00:0A:F6 Philips TAH4205\n",
      "Device E4:D7:00:02:73:8C ZX-K22 BT5.1\n"
     ]
    }
   ],
   "source": [
    "res=bt.command_devices_connected()\n",
    "print(bt.clean_output(res))"
   ]
  },
  {
   "cell_type": "code",
   "execution_count": 63,
   "id": "9c8873d0-3af5-4f06-b562-f79f346523d0",
   "metadata": {},
   "outputs": [
    {
     "name": "stdout",
     "output_type": "stream",
     "text": [
      " \u001b[?2004l\n",
      "Device 98:D3:31:00:0A:F6 Philips TAH4205\n",
      "Device E5:1C:60:76:25:4B BT5.1 Mouse\n",
      "Device E4:D7:00:02:73:8C ZX-K22 BT5.1\n",
      "\u001b[?2004h\u001b[0;94m[Philips TAH4205]\u001b[0m\n",
      "b' \\x1b[?2004l\\r\\r\\nDevice 98:D3:31:00:0A:F6 Philips TAH4205\\r\\nDevice E5:1C:60:76:25:4B BT5.1 Mouse\\r\\nDevice E4:D7:00:02:73:8C ZX-K22 BT5.1\\r\\n\\x1b[?2004h\\x1b[0;94m[Philips TAH4205]\\x1b[0m'\n",
      "Device 98:D3:31:00:0A:F6 Philips TAH4205\n",
      "Device E5:1C:60:76:25:4B BT5.1 Mouse\n",
      "Device E4:D7:00:02:73:8C ZX-K22 BT5.1\n",
      "b'Device 98:D3:31:00:0A:F6 Philips TAH4205\\r\\nDevice E5:1C:60:76:25:4B BT5.1 Mouse\\r\\nDevice E4:D7:00:02:73:8C ZX-K22 BT5.1'\n"
     ]
    }
   ],
   "source": [
    "#p=re.compile(\"(\\r+\\n)?\\\\x1b\\\\[\\\\?[0-9a-zA-z;\\\\[]+(\\r+\\n)?\")\n",
    "p_controller=re.compile(\"\\r\\n\\\\x1b\\\\[\\\\?2004h\\\\x1b\\\\[0;94m\\\\[[^\\\\]]+\\\\]\\\\x1b\\\\[0m\")\n",
    "p_unecessary=re.compile(\"\\\\s\\\\x1b\\\\[\\\\??[0-9a-zA-z;]+\\\\s*\")\n",
    "#p=re.compile(\"\\x1b\\\\[\\\\?[0-9a-zA-z;]+\")\n",
    "print(res)\n",
    "print(res.encode(\"raw_unicode_escape\"))\n",
    "rep=p_controller.sub(\"\",res)\n",
    "rep=p_unecessary.sub(\"\",rep)\n",
    "#res=p.sub(\"\",res.encode(\"raw_unicode_escape\"))\n",
    "print(rep)\n",
    "print(rep.encode(\"raw_unicode_escape\"))"
   ]
  },
  {
   "cell_type": "code",
   "execution_count": null,
   "id": "fa637876-4298-4acc-9815-0165476d75b4",
   "metadata": {},
   "outputs": [],
   "source": []
  }
 ],
 "metadata": {
  "kernelspec": {
   "display_name": "Python 3 (ipykernel)",
   "language": "python",
   "name": "python3"
  },
  "language_info": {
   "codemirror_mode": {
    "name": "ipython",
    "version": 3
   },
   "file_extension": ".py",
   "mimetype": "text/x-python",
   "name": "python",
   "nbconvert_exporter": "python",
   "pygments_lexer": "ipython3",
   "version": "3.12.3"
  }
 },
 "nbformat": 4,
 "nbformat_minor": 5
}
